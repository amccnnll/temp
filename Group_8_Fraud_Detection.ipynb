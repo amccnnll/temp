{
  "cells": [
    {
      "cell_type": "markdown",
      "metadata": {
        "id": "SFkC2henSse4"
      },
      "source": [
        "#Practical 2"
      ]
    },
    {
      "cell_type": "markdown",
      "metadata": {
        "id": "p-aYxu5TRGfI"
      },
      "source": [
        "## Data Exploration\n",
        "### Initialisation"
      ]
    },
    {
      "cell_type": "markdown",
      "metadata": {
        "id": "F9ybzbkERGfO"
      },
      "source": [
        "Import relevant packes and data set"
      ]
    },
    {
      "cell_type": "code",
      "execution_count": null,
      "metadata": {
        "colab": {
          "base_uri": "https://localhost:8080/",
          "height": 401
        },
        "id": "yfIJgzS9RGfP",
        "outputId": "767fdb25-9d4a-4b0c-f99e-2c94cce1a6a1",
        "scrolled": true
      },
      "outputs": [
        {
          "ename": "FileNotFoundError",
          "evalue": "ignored",
          "output_type": "error",
          "traceback": [
            "\u001b[0;31m---------------------------------------------------------------------------\u001b[0m",
            "\u001b[0;31mFileNotFoundError\u001b[0m                         Traceback (most recent call last)",
            "\u001b[0;32m<ipython-input-1-e9a9260520e7>\u001b[0m in \u001b[0;36m<module>\u001b[0;34m\u001b[0m\n\u001b[1;32m     10\u001b[0m \u001b[0;34m\u001b[0m\u001b[0m\n\u001b[1;32m     11\u001b[0m \u001b[0;31m# import data\u001b[0m\u001b[0;34m\u001b[0m\u001b[0;34m\u001b[0m\u001b[0m\n\u001b[0;32m---> 12\u001b[0;31m \u001b[0mdf_train\u001b[0m \u001b[0;34m=\u001b[0m \u001b[0mpd\u001b[0m\u001b[0;34m.\u001b[0m\u001b[0mread_csv\u001b[0m\u001b[0;34m(\u001b[0m\u001b[0;34m\"/content/train.csv\"\u001b[0m\u001b[0;34m)\u001b[0m\u001b[0;34m\u001b[0m\u001b[0;34m\u001b[0m\u001b[0m\n\u001b[0m\u001b[1;32m     13\u001b[0m \u001b[0mdf_test\u001b[0m \u001b[0;34m=\u001b[0m \u001b[0mpd\u001b[0m\u001b[0;34m.\u001b[0m\u001b[0mread_csv\u001b[0m\u001b[0;34m(\u001b[0m\u001b[0;34m\"/content/test.csv\"\u001b[0m\u001b[0;34m)\u001b[0m\u001b[0;34m\u001b[0m\u001b[0;34m\u001b[0m\u001b[0m\n\u001b[1;32m     14\u001b[0m \u001b[0mdf_train\u001b[0m\u001b[0;34m\u001b[0m\u001b[0;34m\u001b[0m\u001b[0m\n",
            "\u001b[0;32m/usr/local/lib/python3.9/dist-packages/pandas/util/_decorators.py\u001b[0m in \u001b[0;36mwrapper\u001b[0;34m(*args, **kwargs)\u001b[0m\n\u001b[1;32m    309\u001b[0m                     \u001b[0mstacklevel\u001b[0m\u001b[0;34m=\u001b[0m\u001b[0mstacklevel\u001b[0m\u001b[0;34m,\u001b[0m\u001b[0;34m\u001b[0m\u001b[0;34m\u001b[0m\u001b[0m\n\u001b[1;32m    310\u001b[0m                 )\n\u001b[0;32m--> 311\u001b[0;31m             \u001b[0;32mreturn\u001b[0m \u001b[0mfunc\u001b[0m\u001b[0;34m(\u001b[0m\u001b[0;34m*\u001b[0m\u001b[0margs\u001b[0m\u001b[0;34m,\u001b[0m \u001b[0;34m**\u001b[0m\u001b[0mkwargs\u001b[0m\u001b[0;34m)\u001b[0m\u001b[0;34m\u001b[0m\u001b[0;34m\u001b[0m\u001b[0m\n\u001b[0m\u001b[1;32m    312\u001b[0m \u001b[0;34m\u001b[0m\u001b[0m\n\u001b[1;32m    313\u001b[0m         \u001b[0;32mreturn\u001b[0m \u001b[0mwrapper\u001b[0m\u001b[0;34m\u001b[0m\u001b[0;34m\u001b[0m\u001b[0m\n",
            "\u001b[0;32m/usr/local/lib/python3.9/dist-packages/pandas/io/parsers/readers.py\u001b[0m in \u001b[0;36mread_csv\u001b[0;34m(filepath_or_buffer, sep, delimiter, header, names, index_col, usecols, squeeze, prefix, mangle_dupe_cols, dtype, engine, converters, true_values, false_values, skipinitialspace, skiprows, skipfooter, nrows, na_values, keep_default_na, na_filter, verbose, skip_blank_lines, parse_dates, infer_datetime_format, keep_date_col, date_parser, dayfirst, cache_dates, iterator, chunksize, compression, thousands, decimal, lineterminator, quotechar, quoting, doublequote, escapechar, comment, encoding, encoding_errors, dialect, error_bad_lines, warn_bad_lines, on_bad_lines, delim_whitespace, low_memory, memory_map, float_precision, storage_options)\u001b[0m\n\u001b[1;32m    676\u001b[0m     \u001b[0mkwds\u001b[0m\u001b[0;34m.\u001b[0m\u001b[0mupdate\u001b[0m\u001b[0;34m(\u001b[0m\u001b[0mkwds_defaults\u001b[0m\u001b[0;34m)\u001b[0m\u001b[0;34m\u001b[0m\u001b[0;34m\u001b[0m\u001b[0m\n\u001b[1;32m    677\u001b[0m \u001b[0;34m\u001b[0m\u001b[0m\n\u001b[0;32m--> 678\u001b[0;31m     \u001b[0;32mreturn\u001b[0m \u001b[0m_read\u001b[0m\u001b[0;34m(\u001b[0m\u001b[0mfilepath_or_buffer\u001b[0m\u001b[0;34m,\u001b[0m \u001b[0mkwds\u001b[0m\u001b[0;34m)\u001b[0m\u001b[0;34m\u001b[0m\u001b[0;34m\u001b[0m\u001b[0m\n\u001b[0m\u001b[1;32m    679\u001b[0m \u001b[0;34m\u001b[0m\u001b[0m\n\u001b[1;32m    680\u001b[0m \u001b[0;34m\u001b[0m\u001b[0m\n",
            "\u001b[0;32m/usr/local/lib/python3.9/dist-packages/pandas/io/parsers/readers.py\u001b[0m in \u001b[0;36m_read\u001b[0;34m(filepath_or_buffer, kwds)\u001b[0m\n\u001b[1;32m    573\u001b[0m \u001b[0;34m\u001b[0m\u001b[0m\n\u001b[1;32m    574\u001b[0m     \u001b[0;31m# Create the parser.\u001b[0m\u001b[0;34m\u001b[0m\u001b[0;34m\u001b[0m\u001b[0m\n\u001b[0;32m--> 575\u001b[0;31m     \u001b[0mparser\u001b[0m \u001b[0;34m=\u001b[0m \u001b[0mTextFileReader\u001b[0m\u001b[0;34m(\u001b[0m\u001b[0mfilepath_or_buffer\u001b[0m\u001b[0;34m,\u001b[0m \u001b[0;34m**\u001b[0m\u001b[0mkwds\u001b[0m\u001b[0;34m)\u001b[0m\u001b[0;34m\u001b[0m\u001b[0;34m\u001b[0m\u001b[0m\n\u001b[0m\u001b[1;32m    576\u001b[0m \u001b[0;34m\u001b[0m\u001b[0m\n\u001b[1;32m    577\u001b[0m     \u001b[0;32mif\u001b[0m \u001b[0mchunksize\u001b[0m \u001b[0;32mor\u001b[0m \u001b[0miterator\u001b[0m\u001b[0;34m:\u001b[0m\u001b[0;34m\u001b[0m\u001b[0;34m\u001b[0m\u001b[0m\n",
            "\u001b[0;32m/usr/local/lib/python3.9/dist-packages/pandas/io/parsers/readers.py\u001b[0m in \u001b[0;36m__init__\u001b[0;34m(self, f, engine, **kwds)\u001b[0m\n\u001b[1;32m    930\u001b[0m \u001b[0;34m\u001b[0m\u001b[0m\n\u001b[1;32m    931\u001b[0m         \u001b[0mself\u001b[0m\u001b[0;34m.\u001b[0m\u001b[0mhandles\u001b[0m\u001b[0;34m:\u001b[0m \u001b[0mIOHandles\u001b[0m \u001b[0;34m|\u001b[0m \u001b[0;32mNone\u001b[0m \u001b[0;34m=\u001b[0m \u001b[0;32mNone\u001b[0m\u001b[0;34m\u001b[0m\u001b[0;34m\u001b[0m\u001b[0m\n\u001b[0;32m--> 932\u001b[0;31m         \u001b[0mself\u001b[0m\u001b[0;34m.\u001b[0m\u001b[0m_engine\u001b[0m \u001b[0;34m=\u001b[0m \u001b[0mself\u001b[0m\u001b[0;34m.\u001b[0m\u001b[0m_make_engine\u001b[0m\u001b[0;34m(\u001b[0m\u001b[0mf\u001b[0m\u001b[0;34m,\u001b[0m \u001b[0mself\u001b[0m\u001b[0;34m.\u001b[0m\u001b[0mengine\u001b[0m\u001b[0;34m)\u001b[0m\u001b[0;34m\u001b[0m\u001b[0;34m\u001b[0m\u001b[0m\n\u001b[0m\u001b[1;32m    933\u001b[0m \u001b[0;34m\u001b[0m\u001b[0m\n\u001b[1;32m    934\u001b[0m     \u001b[0;32mdef\u001b[0m \u001b[0mclose\u001b[0m\u001b[0;34m(\u001b[0m\u001b[0mself\u001b[0m\u001b[0;34m)\u001b[0m\u001b[0;34m:\u001b[0m\u001b[0;34m\u001b[0m\u001b[0;34m\u001b[0m\u001b[0m\n",
            "\u001b[0;32m/usr/local/lib/python3.9/dist-packages/pandas/io/parsers/readers.py\u001b[0m in \u001b[0;36m_make_engine\u001b[0;34m(self, f, engine)\u001b[0m\n\u001b[1;32m   1214\u001b[0m             \u001b[0;31m# \"Union[str, PathLike[str], ReadCsvBuffer[bytes], ReadCsvBuffer[str]]\"\u001b[0m\u001b[0;34m\u001b[0m\u001b[0;34m\u001b[0m\u001b[0m\n\u001b[1;32m   1215\u001b[0m             \u001b[0;31m# , \"str\", \"bool\", \"Any\", \"Any\", \"Any\", \"Any\", \"Any\"\u001b[0m\u001b[0;34m\u001b[0m\u001b[0;34m\u001b[0m\u001b[0m\n\u001b[0;32m-> 1216\u001b[0;31m             self.handles = get_handle(  # type: ignore[call-overload]\n\u001b[0m\u001b[1;32m   1217\u001b[0m                 \u001b[0mf\u001b[0m\u001b[0;34m,\u001b[0m\u001b[0;34m\u001b[0m\u001b[0;34m\u001b[0m\u001b[0m\n\u001b[1;32m   1218\u001b[0m                 \u001b[0mmode\u001b[0m\u001b[0;34m,\u001b[0m\u001b[0;34m\u001b[0m\u001b[0;34m\u001b[0m\u001b[0m\n",
            "\u001b[0;32m/usr/local/lib/python3.9/dist-packages/pandas/io/common.py\u001b[0m in \u001b[0;36mget_handle\u001b[0;34m(path_or_buf, mode, encoding, compression, memory_map, is_text, errors, storage_options)\u001b[0m\n\u001b[1;32m    784\u001b[0m         \u001b[0;32mif\u001b[0m \u001b[0mioargs\u001b[0m\u001b[0;34m.\u001b[0m\u001b[0mencoding\u001b[0m \u001b[0;32mand\u001b[0m \u001b[0;34m\"b\"\u001b[0m \u001b[0;32mnot\u001b[0m \u001b[0;32min\u001b[0m \u001b[0mioargs\u001b[0m\u001b[0;34m.\u001b[0m\u001b[0mmode\u001b[0m\u001b[0;34m:\u001b[0m\u001b[0;34m\u001b[0m\u001b[0;34m\u001b[0m\u001b[0m\n\u001b[1;32m    785\u001b[0m             \u001b[0;31m# Encoding\u001b[0m\u001b[0;34m\u001b[0m\u001b[0;34m\u001b[0m\u001b[0m\n\u001b[0;32m--> 786\u001b[0;31m             handle = open(\n\u001b[0m\u001b[1;32m    787\u001b[0m                 \u001b[0mhandle\u001b[0m\u001b[0;34m,\u001b[0m\u001b[0;34m\u001b[0m\u001b[0;34m\u001b[0m\u001b[0m\n\u001b[1;32m    788\u001b[0m                 \u001b[0mioargs\u001b[0m\u001b[0;34m.\u001b[0m\u001b[0mmode\u001b[0m\u001b[0;34m,\u001b[0m\u001b[0;34m\u001b[0m\u001b[0;34m\u001b[0m\u001b[0m\n",
            "\u001b[0;31mFileNotFoundError\u001b[0m: [Errno 2] No such file or directory: '/content/train.csv'"
          ]
        }
      ],
      "source": [
        "# import packages\n",
        "import pandas as pd\n",
        "import numpy as np\n",
        "import matplotlib.pyplot as plt\n",
        "import seaborn as sns\n",
        "from matplotlib.gridspec import GridSpec\n",
        "\n",
        "# ensure all columns shown\n",
        "pd.set_option('display.max_columns', None)\n",
        "\n",
        "# import data\n",
        "df_train = pd.read_csv(\"train.csv\")\n",
        "df_test = pd.read_csv(\"test.csv\")\n",
        "df_train"
      ]
    },
    {
      "cell_type": "markdown",
      "metadata": {
        "id": "QnQ-tTJGRGfR"
      },
      "source": [
        "### Data Exploration"
      ]
    },
    {
      "cell_type": "markdown",
      "metadata": {
        "id": "Nb8oRCc4RGfS"
      },
      "source": [
        "Look at summary of data"
      ]
    },
    {
      "cell_type": "code",
      "execution_count": null,
      "metadata": {
        "id": "Qle9F2e_RGfT"
      },
      "outputs": [],
      "source": [
        "df_train.info()"
      ]
    },
    {
      "cell_type": "markdown",
      "metadata": {
        "id": "NZG-umk2RGfT"
      },
      "source": [
        "Class requires converting to Boolean"
      ]
    },
    {
      "cell_type": "code",
      "execution_count": null,
      "metadata": {
        "id": "rHmRLjMYRGfU"
      },
      "outputs": [],
      "source": [
        "df_train.Class = df_train.Class.replace({1: True, 0: False})"
      ]
    },
    {
      "cell_type": "markdown",
      "metadata": {
        "id": "okHi-29iRGfV"
      },
      "source": [
        "Get summary statistics for data"
      ]
    },
    {
      "cell_type": "code",
      "execution_count": null,
      "metadata": {
        "id": "goxkLB7CRGfW",
        "scrolled": true
      },
      "outputs": [],
      "source": [
        "df_train.describe(include = \"all\")"
      ]
    },
    {
      "cell_type": "markdown",
      "metadata": {
        "id": "R-c4Qe_qRGfX"
      },
      "source": [
        "Initial comments:\n",
        " - Unlabelled predictors have undergone Principal Component Analysis (PCA)\n",
        " - All unlabelled predictors are decimal numbers\n",
        " - All unlabelled predictors include positive and negative values\n",
        " - Time and Amount are decimal numbers\n",
        " - Time and Amount are non-negative values\n",
        " - Class has 218660 0 values (legitimate) and 469 1 values (fraudulent)\n",
        " - id is not a relevant predictor"
      ]
    },
    {
      "cell_type": "markdown",
      "metadata": {
        "id": "hpWhcmSnRGfX"
      },
      "source": [
        "Plot histograms of data"
      ]
    },
    {
      "cell_type": "code",
      "execution_count": null,
      "metadata": {
        "id": "XoiNwAELRGfY",
        "scrolled": true
      },
      "outputs": [],
      "source": [
        "%matplotlib inline\n",
        "df_train.loc[:, ~df_train.columns.isin([\"id\", \"Class\"])].hist(bins = 50, figsize = (20, 15))\n",
        "plt.show()"
      ]
    },
    {
      "cell_type": "markdown",
      "metadata": {
        "id": "ez_ca9vqRGfY"
      },
      "source": [
        "Comments on histograms:\n",
        " - All unlabelled predictors have approximate normal distribution (due to PCA)\n",
        " - Unlabelled predictors are broadly in two categories: higher standard deviation and low standard deviation\n",
        " - The Amount predictor is strongly positively skewed\n",
        " - The Time predictor has no obvious distribution"
      ]
    },
    {
      "cell_type": "markdown",
      "metadata": {
        "id": "LXvvuTmjRGfZ"
      },
      "source": [
        "Look at correlation values"
      ]
    },
    {
      "cell_type": "code",
      "execution_count": null,
      "metadata": {
        "id": "D03uQ4EURGfZ",
        "scrolled": false
      },
      "outputs": [],
      "source": [
        "# create correlation matrix from training data\n",
        "corr_matrix = df_train.corr()\n",
        "\n",
        "\"\"\"sns.heatmap(corr_matrix,\n",
        "            xticklabels = corr_matrix.columns,\n",
        "            yticklabels = corr_matrix.columns)\"\"\"\n",
        "\n",
        "cmap = sns.diverging_palette(5, 250, s = 99, sep = 1, as_cmap = True, center = \"light\")\n",
        "\n",
        "\n",
        "def magnify():\n",
        "    return [dict(selector = \"th\",\n",
        "                props=[(\"font-size\", \"7pt\")]),\n",
        "           dict(selector = \"td\",\n",
        "                props=[(\"padding\", \"0.2em 0.5em\")]),\n",
        "           dict(selector = \"th:hover\",\n",
        "                props=[(\"font-size\", \"12pt\")]),\n",
        "           dict(selector = \"tr:hover td:hover\",\n",
        "                props=[(\"max-width\", \"200px\"),\n",
        "                       (\"font-size\", \"14pt\")])\n",
        "           ]\n",
        "corr_matrix.style.background_gradient(cmap, axis = 1, vmin = -1)\\\n",
        "           .set_properties(**{\"max-width\": \"60px\", \"font-size\": \"6pt\"})\\\n",
        "           .set_caption(\"Hover to magnify\")\\\n",
        "           .set_precision(2)\\\n",
        "           .set_table_styles(magnify())"
      ]
    },
    {
      "cell_type": "markdown",
      "metadata": {
        "id": "aadAS1ibRGfa"
      },
      "source": [
        "Comments on correlation:\n",
        " - Highest correlations (>0.5) between **V2 and Amount**, and **V20 and Amount** \n",
        " - High correlations (>0.3) between **V9 and V10**, **V5 and V6**, **V1 and V2**, **V5 and Amount**, **V12 and V14**, and **V21 and V22**"
      ]
    },
    {
      "cell_type": "markdown",
      "metadata": {
        "id": "knkh6UL_RGfb"
      },
      "source": [
        "Plot potentially correlated variables"
      ]
    },
    {
      "cell_type": "code",
      "execution_count": null,
      "metadata": {
        "id": "epCNOV63RGfb"
      },
      "outputs": [],
      "source": [
        "def corr_plot(pred1, pred2):\n",
        "    plt.scatter(df_train.loc[:, pred1], df_train.loc[:, pred2])\n",
        "    plt.xlabel(pred1)\n",
        "    plt.ylabel(pred2)\n",
        "corr_fig = plt.figure(figsize=(20,5))\n",
        "gs = GridSpec(nrows = 2, ncols = 4)\n",
        "ax0 = corr_fig.add_subplot(gs[0, 0])\n",
        "corr_plot(\"V2\", \"Amount\")\n",
        "ax1 = corr_fig.add_subplot(gs[0, 1])\n",
        "corr_plot(\"V20\", \"Amount\")\n",
        "ax2 = corr_fig.add_subplot(gs[0, 2])\n",
        "corr_plot(\"V9\", \"V10\")\n",
        "ax3 = corr_fig.add_subplot(gs[0, 3])\n",
        "corr_plot(\"V5\", \"V6\")\n",
        "ax4 = corr_fig.add_subplot(gs[1, 0])\n",
        "corr_plot(\"V1\", \"V2\")\n",
        "ax5 = corr_fig.add_subplot(gs[1, 1])\n",
        "corr_plot(\"V5\", \"Amount\")\n",
        "ax6 = corr_fig.add_subplot(gs[1, 2])\n",
        "corr_plot(\"V12\", \"V14\")\n",
        "ax7 = corr_fig.add_subplot(gs[1, 3])\n",
        "corr_plot(\"V21\", \"V22\")"
      ]
    },
    {
      "cell_type": "markdown",
      "metadata": {
        "id": "vQ9oYHJvnZKi"
      },
      "source": [
        "# Forming Models"
      ]
    },
    {
      "cell_type": "markdown",
      "metadata": {
        "id": "5GcdezJadreW"
      },
      "source": [
        "### Modelling LGBM and Logistic Regression\n"
      ]
    },
    {
      "cell_type": "code",
      "execution_count": null,
      "metadata": {
        "colab": {
          "base_uri": "https://localhost:8080/"
        },
        "id": "qbsGcIGMdkaM",
        "outputId": "6ea1c920-8b0b-447b-b784-0bb213ba4922"
      },
      "outputs": [
        {
          "name": "stdout",
          "output_type": "stream",
          "text": [
            "Looking in indexes: https://pypi.org/simple, https://us-python.pkg.dev/colab-wheels/public/simple/\n",
            "Looking in indexes: https://pypi.org/simple, https://us-python.pkg.dev/colab-wheels/public/simple/\n",
            "Requirement already satisfied: lightgbm in /usr/local/lib/python3.9/dist-packages (3.3.5)\n",
            "Requirement already satisfied: wheel in /usr/local/lib/python3.9/dist-packages (from lightgbm) (0.40.0)\n",
            "Requirement already satisfied: numpy in /usr/local/lib/python3.9/dist-packages (from lightgbm) (1.22.4)\n",
            "Requirement already satisfied: scipy in /usr/local/lib/python3.9/dist-packages (from lightgbm) (1.10.1)\n",
            "Requirement already satisfied: scikit-learn!=0.22.0 in /usr/local/lib/python3.9/dist-packages (from lightgbm) (1.2.2)\n",
            "Requirement already satisfied: threadpoolctl>=2.0.0 in /usr/local/lib/python3.9/dist-packages (from scikit-learn!=0.22.0->lightgbm) (3.1.0)\n",
            "Requirement already satisfied: joblib>=1.1.1 in /usr/local/lib/python3.9/dist-packages (from scikit-learn!=0.22.0->lightgbm) (1.1.1)\n",
            "Looking in indexes: https://pypi.org/simple, https://us-python.pkg.dev/colab-wheels/public/simple/\n",
            "Collecting optuna\n",
            "  Downloading optuna-3.1.0-py3-none-any.whl (365 kB)\n",
            "\u001b[2K     \u001b[90m━━━━━━━━━━━━━━━━━━━━━━━━━━━━━━━━━━━━━━━\u001b[0m \u001b[32m365.3/365.3 KB\u001b[0m \u001b[31m7.4 MB/s\u001b[0m eta \u001b[36m0:00:00\u001b[0m\n",
            "\u001b[?25hRequirement already satisfied: sqlalchemy>=1.3.0 in /usr/local/lib/python3.9/dist-packages (from optuna) (1.4.47)\n",
            "Collecting alembic>=1.5.0\n",
            "  Downloading alembic-1.10.2-py3-none-any.whl (212 kB)\n",
            "\u001b[2K     \u001b[90m━━━━━━━━━━━━━━━━━━━━━━━━━━━━━━━━━━━━━━\u001b[0m \u001b[32m212.2/212.2 KB\u001b[0m \u001b[31m13.2 MB/s\u001b[0m eta \u001b[36m0:00:00\u001b[0m\n",
            "\u001b[?25hRequirement already satisfied: packaging>=20.0 in /usr/local/lib/python3.9/dist-packages (from optuna) (23.0)\n",
            "Requirement already satisfied: numpy in /usr/local/lib/python3.9/dist-packages (from optuna) (1.22.4)\n",
            "Collecting colorlog\n",
            "  Downloading colorlog-6.7.0-py2.py3-none-any.whl (11 kB)\n",
            "Requirement already satisfied: PyYAML in /usr/local/lib/python3.9/dist-packages (from optuna) (6.0)\n",
            "Collecting cmaes>=0.9.1\n",
            "  Downloading cmaes-0.9.1-py3-none-any.whl (21 kB)\n",
            "Requirement already satisfied: tqdm in /usr/local/lib/python3.9/dist-packages (from optuna) (4.65.0)\n",
            "Collecting Mako\n",
            "  Downloading Mako-1.2.4-py3-none-any.whl (78 kB)\n",
            "\u001b[2K     \u001b[90m━━━━━━━━━━━━━━━━━━━━━━━━━━━━━━━━━━━━━━━━\u001b[0m \u001b[32m78.7/78.7 KB\u001b[0m \u001b[31m8.1 MB/s\u001b[0m eta \u001b[36m0:00:00\u001b[0m\n",
            "\u001b[?25hRequirement already satisfied: typing-extensions>=4 in /usr/local/lib/python3.9/dist-packages (from alembic>=1.5.0->optuna) (4.5.0)\n",
            "Requirement already satisfied: greenlet!=0.4.17 in /usr/local/lib/python3.9/dist-packages (from sqlalchemy>=1.3.0->optuna) (2.0.2)\n",
            "Requirement already satisfied: MarkupSafe>=0.9.2 in /usr/local/lib/python3.9/dist-packages (from Mako->alembic>=1.5.0->optuna) (2.1.2)\n",
            "Installing collected packages: Mako, colorlog, cmaes, alembic, optuna\n",
            "Successfully installed Mako-1.2.4 alembic-1.10.2 cmaes-0.9.1 colorlog-6.7.0 optuna-3.1.0\n"
          ]
        }
      ],
      "source": [
        "import sys\n",
        "!{sys.executable} -m pip install numpy pandas matplotlib scikit-learn | grep -v 'already satisfied'\n",
        "!pip install lightgbm\n",
        "!pip install optuna\n",
        "import pandas as pd\n",
        "import numpy as np\n",
        "import matplotlib.pyplot as plt\n",
        "\n",
        "import lightgbm as lgbm\n",
        "from sklearn import model_selection\n",
        "from sklearn.metrics import accuracy_score\n",
        "from sklearn.model_selection import StratifiedKFold\n",
        "from sklearn.metrics import log_loss\n",
        "from sklearn.metrics import roc_auc_score\n",
        "from sklearn.preprocessing import StandardScaler, RobustScaler\n",
        "from sklearn.linear_model import LogisticRegression\n",
        "import optuna"
      ]
    },
    {
      "cell_type": "code",
      "execution_count": null,
      "metadata": {
        "colab": {
          "base_uri": "https://localhost:8080/"
        },
        "id": "YRw4SxXI-eQl",
        "outputId": "4eeffdc0-f7cc-42e0-d03d-5578a9681176"
      },
      "outputs": [
        {
          "output_type": "stream",
          "name": "stdout",
          "text": [
            "Mounted at /content/drive\n"
          ]
        }
      ],
      "source": [
        "from google.colab import drive\n",
        "drive.mount('/content/drive')"
      ]
    },
    {
      "cell_type": "code",
      "execution_count": null,
      "metadata": {
        "colab": {
          "base_uri": "https://localhost:8080/",
          "height": 487
        },
        "id": "iNwp4aTAj7vJ",
        "outputId": "00eed3b5-fd22-41d4-b0a4-8243b1f0fc17"
      },
      "outputs": [
        {
          "data": {
            "text/html": [
              "\n",
              "  <div id=\"df-1ba4c0b0-3b6a-4e9d-8ad5-6193d1d6823a\">\n",
              "    <div class=\"colab-df-container\">\n",
              "      <div>\n",
              "<style scoped>\n",
              "    .dataframe tbody tr th:only-of-type {\n",
              "        vertical-align: middle;\n",
              "    }\n",
              "\n",
              "    .dataframe tbody tr th {\n",
              "        vertical-align: top;\n",
              "    }\n",
              "\n",
              "    .dataframe thead th {\n",
              "        text-align: right;\n",
              "    }\n",
              "</style>\n",
              "<table border=\"1\" class=\"dataframe\">\n",
              "  <thead>\n",
              "    <tr style=\"text-align: right;\">\n",
              "      <th></th>\n",
              "      <th>id</th>\n",
              "      <th>Time</th>\n",
              "      <th>V1</th>\n",
              "      <th>V2</th>\n",
              "      <th>V3</th>\n",
              "      <th>V4</th>\n",
              "      <th>V5</th>\n",
              "      <th>V6</th>\n",
              "      <th>V7</th>\n",
              "      <th>V8</th>\n",
              "      <th>V9</th>\n",
              "      <th>V10</th>\n",
              "      <th>V11</th>\n",
              "      <th>V12</th>\n",
              "      <th>V13</th>\n",
              "      <th>V14</th>\n",
              "      <th>V15</th>\n",
              "      <th>V16</th>\n",
              "      <th>V17</th>\n",
              "      <th>V18</th>\n",
              "      <th>V19</th>\n",
              "      <th>V20</th>\n",
              "      <th>V21</th>\n",
              "      <th>V22</th>\n",
              "      <th>V23</th>\n",
              "      <th>V24</th>\n",
              "      <th>V25</th>\n",
              "      <th>V26</th>\n",
              "      <th>V27</th>\n",
              "      <th>V28</th>\n",
              "      <th>Amount</th>\n",
              "      <th>Class</th>\n",
              "    </tr>\n",
              "  </thead>\n",
              "  <tbody>\n",
              "    <tr>\n",
              "      <th>0</th>\n",
              "      <td>0</td>\n",
              "      <td>0.0</td>\n",
              "      <td>2.074329</td>\n",
              "      <td>-0.129425</td>\n",
              "      <td>-1.137418</td>\n",
              "      <td>0.412846</td>\n",
              "      <td>-0.192638</td>\n",
              "      <td>-1.210144</td>\n",
              "      <td>0.110697</td>\n",
              "      <td>-0.263477</td>\n",
              "      <td>0.742144</td>\n",
              "      <td>0.108782</td>\n",
              "      <td>-1.070243</td>\n",
              "      <td>-0.234910</td>\n",
              "      <td>-1.099360</td>\n",
              "      <td>0.502467</td>\n",
              "      <td>0.169318</td>\n",
              "      <td>0.065688</td>\n",
              "      <td>-0.306957</td>\n",
              "      <td>-0.323800</td>\n",
              "      <td>0.103348</td>\n",
              "      <td>-0.292969</td>\n",
              "      <td>-0.334701</td>\n",
              "      <td>-0.887840</td>\n",
              "      <td>0.336701</td>\n",
              "      <td>-0.110835</td>\n",
              "      <td>-0.291459</td>\n",
              "      <td>0.207733</td>\n",
              "      <td>-0.076576</td>\n",
              "      <td>-0.059577</td>\n",
              "      <td>1.98</td>\n",
              "      <td>0</td>\n",
              "    </tr>\n",
              "    <tr>\n",
              "      <th>1</th>\n",
              "      <td>1</td>\n",
              "      <td>0.0</td>\n",
              "      <td>1.998827</td>\n",
              "      <td>-1.250891</td>\n",
              "      <td>-0.520969</td>\n",
              "      <td>-0.894539</td>\n",
              "      <td>-1.122528</td>\n",
              "      <td>-0.270866</td>\n",
              "      <td>-1.029289</td>\n",
              "      <td>0.050198</td>\n",
              "      <td>-0.109948</td>\n",
              "      <td>0.908773</td>\n",
              "      <td>0.836798</td>\n",
              "      <td>-0.056580</td>\n",
              "      <td>-0.120990</td>\n",
              "      <td>-0.144028</td>\n",
              "      <td>-0.039582</td>\n",
              "      <td>1.653057</td>\n",
              "      <td>-0.253599</td>\n",
              "      <td>-0.814354</td>\n",
              "      <td>0.716784</td>\n",
              "      <td>0.065717</td>\n",
              "      <td>0.054848</td>\n",
              "      <td>-0.038367</td>\n",
              "      <td>0.133518</td>\n",
              "      <td>-0.461928</td>\n",
              "      <td>-0.465491</td>\n",
              "      <td>-0.464655</td>\n",
              "      <td>-0.009413</td>\n",
              "      <td>-0.038238</td>\n",
              "      <td>84.00</td>\n",
              "      <td>0</td>\n",
              "    </tr>\n",
              "    <tr>\n",
              "      <th>2</th>\n",
              "      <td>2</td>\n",
              "      <td>0.0</td>\n",
              "      <td>0.091535</td>\n",
              "      <td>1.004517</td>\n",
              "      <td>-0.223445</td>\n",
              "      <td>-0.435249</td>\n",
              "      <td>0.667548</td>\n",
              "      <td>-0.988351</td>\n",
              "      <td>0.948146</td>\n",
              "      <td>-0.084789</td>\n",
              "      <td>-0.042027</td>\n",
              "      <td>-0.818383</td>\n",
              "      <td>-0.376512</td>\n",
              "      <td>-0.226546</td>\n",
              "      <td>-0.552869</td>\n",
              "      <td>-0.886466</td>\n",
              "      <td>-0.180890</td>\n",
              "      <td>0.230286</td>\n",
              "      <td>0.590579</td>\n",
              "      <td>-0.321590</td>\n",
              "      <td>-0.433959</td>\n",
              "      <td>-0.021375</td>\n",
              "      <td>-0.326725</td>\n",
              "      <td>-0.803736</td>\n",
              "      <td>0.154495</td>\n",
              "      <td>0.951233</td>\n",
              "      <td>-0.506919</td>\n",
              "      <td>0.085046</td>\n",
              "      <td>0.224458</td>\n",
              "      <td>0.087356</td>\n",
              "      <td>2.69</td>\n",
              "      <td>0</td>\n",
              "    </tr>\n",
              "    <tr>\n",
              "      <th>3</th>\n",
              "      <td>3</td>\n",
              "      <td>0.0</td>\n",
              "      <td>1.979649</td>\n",
              "      <td>-0.184949</td>\n",
              "      <td>-1.064206</td>\n",
              "      <td>0.120125</td>\n",
              "      <td>-0.215238</td>\n",
              "      <td>-0.648829</td>\n",
              "      <td>-0.087826</td>\n",
              "      <td>-0.035367</td>\n",
              "      <td>0.885838</td>\n",
              "      <td>-0.007527</td>\n",
              "      <td>0.637441</td>\n",
              "      <td>0.676960</td>\n",
              "      <td>-1.504823</td>\n",
              "      <td>0.554039</td>\n",
              "      <td>-0.824356</td>\n",
              "      <td>-0.527267</td>\n",
              "      <td>-0.095838</td>\n",
              "      <td>-0.312519</td>\n",
              "      <td>0.642659</td>\n",
              "      <td>-0.340089</td>\n",
              "      <td>-0.095514</td>\n",
              "      <td>-0.079792</td>\n",
              "      <td>0.167701</td>\n",
              "      <td>-0.042939</td>\n",
              "      <td>0.000799</td>\n",
              "      <td>-0.096148</td>\n",
              "      <td>-0.057780</td>\n",
              "      <td>-0.073839</td>\n",
              "      <td>1.00</td>\n",
              "      <td>0</td>\n",
              "    </tr>\n",
              "    <tr>\n",
              "      <th>4</th>\n",
              "      <td>4</td>\n",
              "      <td>0.0</td>\n",
              "      <td>1.025898</td>\n",
              "      <td>-0.171827</td>\n",
              "      <td>1.203717</td>\n",
              "      <td>1.243900</td>\n",
              "      <td>-0.636572</td>\n",
              "      <td>1.099074</td>\n",
              "      <td>-0.938651</td>\n",
              "      <td>0.569239</td>\n",
              "      <td>0.692665</td>\n",
              "      <td>-0.097495</td>\n",
              "      <td>1.338869</td>\n",
              "      <td>1.391399</td>\n",
              "      <td>-0.128167</td>\n",
              "      <td>-0.081836</td>\n",
              "      <td>0.100548</td>\n",
              "      <td>-0.338937</td>\n",
              "      <td>0.090864</td>\n",
              "      <td>-0.423645</td>\n",
              "      <td>-0.731939</td>\n",
              "      <td>-0.203628</td>\n",
              "      <td>0.099157</td>\n",
              "      <td>0.608908</td>\n",
              "      <td>0.027901</td>\n",
              "      <td>-0.262813</td>\n",
              "      <td>0.257834</td>\n",
              "      <td>-0.252829</td>\n",
              "      <td>0.108338</td>\n",
              "      <td>0.021051</td>\n",
              "      <td>1.00</td>\n",
              "      <td>0</td>\n",
              "    </tr>\n",
              "    <tr>\n",
              "      <th>...</th>\n",
              "      <td>...</td>\n",
              "      <td>...</td>\n",
              "      <td>...</td>\n",
              "      <td>...</td>\n",
              "      <td>...</td>\n",
              "      <td>...</td>\n",
              "      <td>...</td>\n",
              "      <td>...</td>\n",
              "      <td>...</td>\n",
              "      <td>...</td>\n",
              "      <td>...</td>\n",
              "      <td>...</td>\n",
              "      <td>...</td>\n",
              "      <td>...</td>\n",
              "      <td>...</td>\n",
              "      <td>...</td>\n",
              "      <td>...</td>\n",
              "      <td>...</td>\n",
              "      <td>...</td>\n",
              "      <td>...</td>\n",
              "      <td>...</td>\n",
              "      <td>...</td>\n",
              "      <td>...</td>\n",
              "      <td>...</td>\n",
              "      <td>...</td>\n",
              "      <td>...</td>\n",
              "      <td>...</td>\n",
              "      <td>...</td>\n",
              "      <td>...</td>\n",
              "      <td>...</td>\n",
              "      <td>...</td>\n",
              "      <td>...</td>\n",
              "    </tr>\n",
              "    <tr>\n",
              "      <th>219124</th>\n",
              "      <td>219124</td>\n",
              "      <td>120580.0</td>\n",
              "      <td>1.891079</td>\n",
              "      <td>-1.272908</td>\n",
              "      <td>-3.783908</td>\n",
              "      <td>-1.388939</td>\n",
              "      <td>2.012789</td>\n",
              "      <td>2.666080</td>\n",
              "      <td>0.151740</td>\n",
              "      <td>0.401934</td>\n",
              "      <td>-1.102824</td>\n",
              "      <td>0.858158</td>\n",
              "      <td>-0.280639</td>\n",
              "      <td>0.007976</td>\n",
              "      <td>-0.124950</td>\n",
              "      <td>0.914374</td>\n",
              "      <td>-0.073169</td>\n",
              "      <td>-2.309929</td>\n",
              "      <td>-0.041423</td>\n",
              "      <td>1.190526</td>\n",
              "      <td>-0.281848</td>\n",
              "      <td>-0.195703</td>\n",
              "      <td>-0.181369</td>\n",
              "      <td>-0.456538</td>\n",
              "      <td>-0.069571</td>\n",
              "      <td>0.756765</td>\n",
              "      <td>0.244479</td>\n",
              "      <td>-0.147566</td>\n",
              "      <td>-0.054725</td>\n",
              "      <td>-0.044588</td>\n",
              "      <td>198.65</td>\n",
              "      <td>0</td>\n",
              "    </tr>\n",
              "    <tr>\n",
              "      <th>219125</th>\n",
              "      <td>219125</td>\n",
              "      <td>120580.0</td>\n",
              "      <td>0.139724</td>\n",
              "      <td>0.948649</td>\n",
              "      <td>-2.913655</td>\n",
              "      <td>-2.184829</td>\n",
              "      <td>1.883716</td>\n",
              "      <td>-1.056824</td>\n",
              "      <td>1.725624</td>\n",
              "      <td>0.018089</td>\n",
              "      <td>-0.823494</td>\n",
              "      <td>-0.257933</td>\n",
              "      <td>-0.457534</td>\n",
              "      <td>0.516146</td>\n",
              "      <td>-0.071240</td>\n",
              "      <td>1.310799</td>\n",
              "      <td>-1.892909</td>\n",
              "      <td>-0.318780</td>\n",
              "      <td>-0.917395</td>\n",
              "      <td>0.098397</td>\n",
              "      <td>-0.195558</td>\n",
              "      <td>-0.116538</td>\n",
              "      <td>0.491469</td>\n",
              "      <td>1.478823</td>\n",
              "      <td>-0.085398</td>\n",
              "      <td>-0.091409</td>\n",
              "      <td>-1.053488</td>\n",
              "      <td>0.467570</td>\n",
              "      <td>0.358918</td>\n",
              "      <td>0.294735</td>\n",
              "      <td>24.00</td>\n",
              "      <td>0</td>\n",
              "    </tr>\n",
              "    <tr>\n",
              "      <th>219126</th>\n",
              "      <td>219126</td>\n",
              "      <td>120580.0</td>\n",
              "      <td>2.058343</td>\n",
              "      <td>-0.038993</td>\n",
              "      <td>-1.928553</td>\n",
              "      <td>0.330117</td>\n",
              "      <td>0.270127</td>\n",
              "      <td>-0.735664</td>\n",
              "      <td>-0.173878</td>\n",
              "      <td>0.144823</td>\n",
              "      <td>0.849289</td>\n",
              "      <td>-0.136498</td>\n",
              "      <td>0.179926</td>\n",
              "      <td>-1.769641</td>\n",
              "      <td>-3.937694</td>\n",
              "      <td>0.031346</td>\n",
              "      <td>0.028100</td>\n",
              "      <td>0.883566</td>\n",
              "      <td>0.391801</td>\n",
              "      <td>1.007789</td>\n",
              "      <td>0.303376</td>\n",
              "      <td>-0.384830</td>\n",
              "      <td>-0.306640</td>\n",
              "      <td>-0.965783</td>\n",
              "      <td>0.307799</td>\n",
              "      <td>-0.021434</td>\n",
              "      <td>-0.343989</td>\n",
              "      <td>0.181065</td>\n",
              "      <td>-0.098387</td>\n",
              "      <td>-0.044064</td>\n",
              "      <td>1.79</td>\n",
              "      <td>0</td>\n",
              "    </tr>\n",
              "    <tr>\n",
              "      <th>219127</th>\n",
              "      <td>219127</td>\n",
              "      <td>120580.0</td>\n",
              "      <td>2.079227</td>\n",
              "      <td>-2.162389</td>\n",
              "      <td>-1.785833</td>\n",
              "      <td>-2.804889</td>\n",
              "      <td>0.552845</td>\n",
              "      <td>4.038013</td>\n",
              "      <td>-2.155900</td>\n",
              "      <td>1.023785</td>\n",
              "      <td>-0.865242</td>\n",
              "      <td>1.536193</td>\n",
              "      <td>-0.058879</td>\n",
              "      <td>-0.885949</td>\n",
              "      <td>-0.254718</td>\n",
              "      <td>-0.425730</td>\n",
              "      <td>0.665556</td>\n",
              "      <td>-0.336634</td>\n",
              "      <td>0.301966</td>\n",
              "      <td>0.391249</td>\n",
              "      <td>0.037770</td>\n",
              "      <td>-0.190984</td>\n",
              "      <td>0.109909</td>\n",
              "      <td>0.590401</td>\n",
              "      <td>0.286621</td>\n",
              "      <td>0.675660</td>\n",
              "      <td>-0.510736</td>\n",
              "      <td>-0.090044</td>\n",
              "      <td>0.056749</td>\n",
              "      <td>-0.017126</td>\n",
              "      <td>88.00</td>\n",
              "      <td>0</td>\n",
              "    </tr>\n",
              "    <tr>\n",
              "      <th>219128</th>\n",
              "      <td>219128</td>\n",
              "      <td>120580.0</td>\n",
              "      <td>-0.431758</td>\n",
              "      <td>1.299171</td>\n",
              "      <td>-0.571602</td>\n",
              "      <td>-1.161499</td>\n",
              "      <td>1.141765</td>\n",
              "      <td>-1.258871</td>\n",
              "      <td>1.701553</td>\n",
              "      <td>-0.454580</td>\n",
              "      <td>-0.556978</td>\n",
              "      <td>-0.049454</td>\n",
              "      <td>1.374548</td>\n",
              "      <td>1.172926</td>\n",
              "      <td>0.722704</td>\n",
              "      <td>0.525669</td>\n",
              "      <td>-0.926260</td>\n",
              "      <td>-0.379812</td>\n",
              "      <td>-0.640176</td>\n",
              "      <td>-0.161739</td>\n",
              "      <td>0.034470</td>\n",
              "      <td>0.058133</td>\n",
              "      <td>0.225629</td>\n",
              "      <td>0.988442</td>\n",
              "      <td>-0.224609</td>\n",
              "      <td>0.082977</td>\n",
              "      <td>-0.335529</td>\n",
              "      <td>0.042237</td>\n",
              "      <td>0.304965</td>\n",
              "      <td>0.240049</td>\n",
              "      <td>3.78</td>\n",
              "      <td>0</td>\n",
              "    </tr>\n",
              "  </tbody>\n",
              "</table>\n",
              "<p>219129 rows × 32 columns</p>\n",
              "</div>\n",
              "      <button class=\"colab-df-convert\" onclick=\"convertToInteractive('df-1ba4c0b0-3b6a-4e9d-8ad5-6193d1d6823a')\"\n",
              "              title=\"Convert this dataframe to an interactive table.\"\n",
              "              style=\"display:none;\">\n",
              "        \n",
              "  <svg xmlns=\"http://www.w3.org/2000/svg\" height=\"24px\"viewBox=\"0 0 24 24\"\n",
              "       width=\"24px\">\n",
              "    <path d=\"M0 0h24v24H0V0z\" fill=\"none\"/>\n",
              "    <path d=\"M18.56 5.44l.94 2.06.94-2.06 2.06-.94-2.06-.94-.94-2.06-.94 2.06-2.06.94zm-11 1L8.5 8.5l.94-2.06 2.06-.94-2.06-.94L8.5 2.5l-.94 2.06-2.06.94zm10 10l.94 2.06.94-2.06 2.06-.94-2.06-.94-.94-2.06-.94 2.06-2.06.94z\"/><path d=\"M17.41 7.96l-1.37-1.37c-.4-.4-.92-.59-1.43-.59-.52 0-1.04.2-1.43.59L10.3 9.45l-7.72 7.72c-.78.78-.78 2.05 0 2.83L4 21.41c.39.39.9.59 1.41.59.51 0 1.02-.2 1.41-.59l7.78-7.78 2.81-2.81c.8-.78.8-2.07 0-2.86zM5.41 20L4 18.59l7.72-7.72 1.47 1.35L5.41 20z\"/>\n",
              "  </svg>\n",
              "      </button>\n",
              "      \n",
              "  <style>\n",
              "    .colab-df-container {\n",
              "      display:flex;\n",
              "      flex-wrap:wrap;\n",
              "      gap: 12px;\n",
              "    }\n",
              "\n",
              "    .colab-df-convert {\n",
              "      background-color: #E8F0FE;\n",
              "      border: none;\n",
              "      border-radius: 50%;\n",
              "      cursor: pointer;\n",
              "      display: none;\n",
              "      fill: #1967D2;\n",
              "      height: 32px;\n",
              "      padding: 0 0 0 0;\n",
              "      width: 32px;\n",
              "    }\n",
              "\n",
              "    .colab-df-convert:hover {\n",
              "      background-color: #E2EBFA;\n",
              "      box-shadow: 0px 1px 2px rgba(60, 64, 67, 0.3), 0px 1px 3px 1px rgba(60, 64, 67, 0.15);\n",
              "      fill: #174EA6;\n",
              "    }\n",
              "\n",
              "    [theme=dark] .colab-df-convert {\n",
              "      background-color: #3B4455;\n",
              "      fill: #D2E3FC;\n",
              "    }\n",
              "\n",
              "    [theme=dark] .colab-df-convert:hover {\n",
              "      background-color: #434B5C;\n",
              "      box-shadow: 0px 1px 3px 1px rgba(0, 0, 0, 0.15);\n",
              "      filter: drop-shadow(0px 1px 2px rgba(0, 0, 0, 0.3));\n",
              "      fill: #FFFFFF;\n",
              "    }\n",
              "  </style>\n",
              "\n",
              "      <script>\n",
              "        const buttonEl =\n",
              "          document.querySelector('#df-1ba4c0b0-3b6a-4e9d-8ad5-6193d1d6823a button.colab-df-convert');\n",
              "        buttonEl.style.display =\n",
              "          google.colab.kernel.accessAllowed ? 'block' : 'none';\n",
              "\n",
              "        async function convertToInteractive(key) {\n",
              "          const element = document.querySelector('#df-1ba4c0b0-3b6a-4e9d-8ad5-6193d1d6823a');\n",
              "          const dataTable =\n",
              "            await google.colab.kernel.invokeFunction('convertToInteractive',\n",
              "                                                     [key], {});\n",
              "          if (!dataTable) return;\n",
              "\n",
              "          const docLinkHtml = 'Like what you see? Visit the ' +\n",
              "            '<a target=\"_blank\" href=https://colab.research.google.com/notebooks/data_table.ipynb>data table notebook</a>'\n",
              "            + ' to learn more about interactive tables.';\n",
              "          element.innerHTML = '';\n",
              "          dataTable['output_type'] = 'display_data';\n",
              "          await google.colab.output.renderOutput(dataTable, element);\n",
              "          const docLink = document.createElement('div');\n",
              "          docLink.innerHTML = docLinkHtml;\n",
              "          element.appendChild(docLink);\n",
              "        }\n",
              "      </script>\n",
              "    </div>\n",
              "  </div>\n",
              "  "
            ],
            "text/plain": [
              "            id      Time        V1        V2        V3        V4        V5  \\\n",
              "0            0       0.0  2.074329 -0.129425 -1.137418  0.412846 -0.192638   \n",
              "1            1       0.0  1.998827 -1.250891 -0.520969 -0.894539 -1.122528   \n",
              "2            2       0.0  0.091535  1.004517 -0.223445 -0.435249  0.667548   \n",
              "3            3       0.0  1.979649 -0.184949 -1.064206  0.120125 -0.215238   \n",
              "4            4       0.0  1.025898 -0.171827  1.203717  1.243900 -0.636572   \n",
              "...        ...       ...       ...       ...       ...       ...       ...   \n",
              "219124  219124  120580.0  1.891079 -1.272908 -3.783908 -1.388939  2.012789   \n",
              "219125  219125  120580.0  0.139724  0.948649 -2.913655 -2.184829  1.883716   \n",
              "219126  219126  120580.0  2.058343 -0.038993 -1.928553  0.330117  0.270127   \n",
              "219127  219127  120580.0  2.079227 -2.162389 -1.785833 -2.804889  0.552845   \n",
              "219128  219128  120580.0 -0.431758  1.299171 -0.571602 -1.161499  1.141765   \n",
              "\n",
              "              V6        V7        V8        V9       V10       V11       V12  \\\n",
              "0      -1.210144  0.110697 -0.263477  0.742144  0.108782 -1.070243 -0.234910   \n",
              "1      -0.270866 -1.029289  0.050198 -0.109948  0.908773  0.836798 -0.056580   \n",
              "2      -0.988351  0.948146 -0.084789 -0.042027 -0.818383 -0.376512 -0.226546   \n",
              "3      -0.648829 -0.087826 -0.035367  0.885838 -0.007527  0.637441  0.676960   \n",
              "4       1.099074 -0.938651  0.569239  0.692665 -0.097495  1.338869  1.391399   \n",
              "...          ...       ...       ...       ...       ...       ...       ...   \n",
              "219124  2.666080  0.151740  0.401934 -1.102824  0.858158 -0.280639  0.007976   \n",
              "219125 -1.056824  1.725624  0.018089 -0.823494 -0.257933 -0.457534  0.516146   \n",
              "219126 -0.735664 -0.173878  0.144823  0.849289 -0.136498  0.179926 -1.769641   \n",
              "219127  4.038013 -2.155900  1.023785 -0.865242  1.536193 -0.058879 -0.885949   \n",
              "219128 -1.258871  1.701553 -0.454580 -0.556978 -0.049454  1.374548  1.172926   \n",
              "\n",
              "             V13       V14       V15       V16       V17       V18       V19  \\\n",
              "0      -1.099360  0.502467  0.169318  0.065688 -0.306957 -0.323800  0.103348   \n",
              "1      -0.120990 -0.144028 -0.039582  1.653057 -0.253599 -0.814354  0.716784   \n",
              "2      -0.552869 -0.886466 -0.180890  0.230286  0.590579 -0.321590 -0.433959   \n",
              "3      -1.504823  0.554039 -0.824356 -0.527267 -0.095838 -0.312519  0.642659   \n",
              "4      -0.128167 -0.081836  0.100548 -0.338937  0.090864 -0.423645 -0.731939   \n",
              "...          ...       ...       ...       ...       ...       ...       ...   \n",
              "219124 -0.124950  0.914374 -0.073169 -2.309929 -0.041423  1.190526 -0.281848   \n",
              "219125 -0.071240  1.310799 -1.892909 -0.318780 -0.917395  0.098397 -0.195558   \n",
              "219126 -3.937694  0.031346  0.028100  0.883566  0.391801  1.007789  0.303376   \n",
              "219127 -0.254718 -0.425730  0.665556 -0.336634  0.301966  0.391249  0.037770   \n",
              "219128  0.722704  0.525669 -0.926260 -0.379812 -0.640176 -0.161739  0.034470   \n",
              "\n",
              "             V20       V21       V22       V23       V24       V25       V26  \\\n",
              "0      -0.292969 -0.334701 -0.887840  0.336701 -0.110835 -0.291459  0.207733   \n",
              "1       0.065717  0.054848 -0.038367  0.133518 -0.461928 -0.465491 -0.464655   \n",
              "2      -0.021375 -0.326725 -0.803736  0.154495  0.951233 -0.506919  0.085046   \n",
              "3      -0.340089 -0.095514 -0.079792  0.167701 -0.042939  0.000799 -0.096148   \n",
              "4      -0.203628  0.099157  0.608908  0.027901 -0.262813  0.257834 -0.252829   \n",
              "...          ...       ...       ...       ...       ...       ...       ...   \n",
              "219124 -0.195703 -0.181369 -0.456538 -0.069571  0.756765  0.244479 -0.147566   \n",
              "219125 -0.116538  0.491469  1.478823 -0.085398 -0.091409 -1.053488  0.467570   \n",
              "219126 -0.384830 -0.306640 -0.965783  0.307799 -0.021434 -0.343989  0.181065   \n",
              "219127 -0.190984  0.109909  0.590401  0.286621  0.675660 -0.510736 -0.090044   \n",
              "219128  0.058133  0.225629  0.988442 -0.224609  0.082977 -0.335529  0.042237   \n",
              "\n",
              "             V27       V28  Amount  Class  \n",
              "0      -0.076576 -0.059577    1.98      0  \n",
              "1      -0.009413 -0.038238   84.00      0  \n",
              "2       0.224458  0.087356    2.69      0  \n",
              "3      -0.057780 -0.073839    1.00      0  \n",
              "4       0.108338  0.021051    1.00      0  \n",
              "...          ...       ...     ...    ...  \n",
              "219124 -0.054725 -0.044588  198.65      0  \n",
              "219125  0.358918  0.294735   24.00      0  \n",
              "219126 -0.098387 -0.044064    1.79      0  \n",
              "219127  0.056749 -0.017126   88.00      0  \n",
              "219128  0.304965  0.240049    3.78      0  \n",
              "\n",
              "[219129 rows x 32 columns]"
            ]
          },
          "metadata": {},
          "output_type": "display_data"
        }
      ],
      "source": [
        "#read file in as cv\n",
        "train = pd.read_csv(\"train.csv\")\n",
        "test = pd.read_csv(\"test.csv\")\n",
        "\n",
        "# Clear the maximum number of columns to be displayed, so that all will be visible.\n",
        "pd.set_option('display.max_columns', None)\n",
        "\n",
        "display(train)"
      ]
    },
    {
      "cell_type": "markdown",
      "metadata": {
        "id": "QtxAMDN7qYfr"
      },
      "source": [
        "Firstly, we will look at the LGBM model. \n",
        "\\\n",
        "The code was inspired by https://towardsdatascience.com/kagglers-guide-to-lightgbm-hyperparameter-tuning-with-optuna-in-2021-ed048d9838b5 and https://www.kaggle.com/code/soupmonster/simple-lgbm-baseline-optuna#Optuna. \n",
        "\\\n",
        "We have used Optuna in order to recognise the best combination of hyperparameters."
      ]
    },
    {
      "cell_type": "code",
      "execution_count": null,
      "metadata": {
        "id": "dNFmx1pAkXmE"
      },
      "outputs": [],
      "source": [
        "target = 'Class'\n",
        "X = train.reset_index(drop = True)\n",
        "test = test\n",
        "features = [c for c in train.columns if c not in [ target]]"
      ]
    },
    {
      "cell_type": "code",
      "execution_count": null,
      "metadata": {
        "id": "UWEub-3Mka0b"
      },
      "outputs": [],
      "source": [
        "kf = StratifiedKFold(n_splits=10, shuffle=True, random_state=71)"
      ]
    },
    {
      "cell_type": "code",
      "execution_count": null,
      "metadata": {
        "id": "echJX8ZNkdgF"
      },
      "outputs": [],
      "source": [
        "def objective(trial):\n",
        "    param_grid = {\n",
        "        'objective': 'binary',\n",
        "        \"n_estimators\": trial.suggest_categorical(\"n_estimators\", [10000]),\n",
        "        \"learning_rate\": trial.suggest_float(\"learning_rate\", 0.01, 0.3),\n",
        "        \"num_leaves\": trial.suggest_int(\"num_leaves\", 20, 3000, step=298),\n",
        "        \"max_depth\": trial.suggest_int(\"max_depth\", 6, 12),\n",
        "        \"min_data_in_leaf\": trial.suggest_int(\"min_data_in_leaf\", 90, 105),\n",
        "        \"lambda_l1\": trial.suggest_int(\"lambda_l1\", 0, 100, step=20),\n",
        "        \"lambda_l2\": trial.suggest_int(\"lambda_l2\", 0, 100, step=20),\n",
        "        \"bagging_fraction\": trial.suggest_float(\"bagging_fraction\", 0.5, 0.65),\n",
        "        \"bagging_freq\": trial.suggest_categorical(\"bagging_freq\", [1]),\n",
        "        \"feature_fraction\": trial.suggest_float(\"feature_fraction\", 0.65, 0.85)\n",
        "    }\n",
        "\n",
        "    cv = StratifiedKFold(n_splits=5, shuffle=True, random_state=42)\n",
        "\n",
        "    cv_scores = np.empty(5)\n",
        "    for idx, (train_idx, val_idx) in enumerate(cv.split(X[features], X[target])):\n",
        "        X_train, y_train = X.loc[train_idx, features], X.loc[train_idx, target]\n",
        "        X_val, y_val = X.loc[val_idx, features], X.loc[val_idx, target]\n",
        "\n",
        "        model = lgbm.LGBMClassifier(**param_grid)\n",
        "        model.fit(\n",
        "            X_train,\n",
        "            y_train,\n",
        "            eval_set=[(X_val, y_val)],\n",
        "            early_stopping_rounds=50,\n",
        "            verbose = 500)\n",
        "        \n",
        "        \n",
        "        preds = model.predict_proba(X_val)[:,1]\n",
        "        cv_scores[idx] = roc_auc_score(y_val, preds)\n",
        "\n",
        "    return np.mean(cv_scores)"
      ]
    },
    {
      "cell_type": "code",
      "execution_count": null,
      "metadata": {
        "colab": {
          "background_save": true,
          "base_uri": "https://localhost:8080/"
        },
        "id": "3T9Erq3NkgwJ",
        "outputId": "ac80a587-b721-42e5-b52a-af2354a9a3c8"
      },
      "outputs": [
        {
          "name": "stderr",
          "output_type": "stream",
          "text": [
            "\u001b[32m[I 2023-03-30 12:32:06,710]\u001b[0m A new study created in memory with name: no-name-763aa0cb-96db-49f5-bf19-2428b718bc31\u001b[0m\n",
            "/usr/local/lib/python3.9/dist-packages/lightgbm/sklearn.py:726: UserWarning: 'early_stopping_rounds' argument is deprecated and will be removed in a future release of LightGBM. Pass 'early_stopping()' callback via 'callbacks' argument instead.\n",
            "  _log_warning(\"'early_stopping_rounds' argument is deprecated and will be removed in a future release of LightGBM. \"\n",
            "/usr/local/lib/python3.9/dist-packages/lightgbm/sklearn.py:736: UserWarning: 'verbose' argument is deprecated and will be removed in a future release of LightGBM. Pass 'log_evaluation()' callback via 'callbacks' argument instead.\n",
            "  _log_warning(\"'verbose' argument is deprecated and will be removed in a future release of LightGBM. \"\n"
          ]
        },
        {
          "name": "stdout",
          "output_type": "stream",
          "text": [
            "[LightGBM] [Warning] lambda_l1 is set=0, reg_alpha=0.0 will be ignored. Current value: lambda_l1=0\n",
            "[LightGBM] [Warning] bagging_fraction is set=0.5428338644472678, subsample=1.0 will be ignored. Current value: bagging_fraction=0.5428338644472678\n",
            "[LightGBM] [Warning] lambda_l2 is set=60, reg_lambda=0.0 will be ignored. Current value: lambda_l2=60\n",
            "[LightGBM] [Warning] feature_fraction is set=0.760429929531937, colsample_bytree=1.0 will be ignored. Current value: feature_fraction=0.760429929531937\n",
            "[LightGBM] [Warning] min_data_in_leaf is set=103, min_child_samples=20 will be ignored. Current value: min_data_in_leaf=103\n",
            "[LightGBM] [Warning] bagging_freq is set=1, subsample_freq=0 will be ignored. Current value: bagging_freq=1\n"
          ]
        },
        {
          "name": "stderr",
          "output_type": "stream",
          "text": [
            "/usr/local/lib/python3.9/dist-packages/lightgbm/sklearn.py:726: UserWarning: 'early_stopping_rounds' argument is deprecated and will be removed in a future release of LightGBM. Pass 'early_stopping()' callback via 'callbacks' argument instead.\n",
            "  _log_warning(\"'early_stopping_rounds' argument is deprecated and will be removed in a future release of LightGBM. \"\n",
            "/usr/local/lib/python3.9/dist-packages/lightgbm/sklearn.py:736: UserWarning: 'verbose' argument is deprecated and will be removed in a future release of LightGBM. Pass 'log_evaluation()' callback via 'callbacks' argument instead.\n",
            "  _log_warning(\"'verbose' argument is deprecated and will be removed in a future release of LightGBM. \"\n"
          ]
        },
        {
          "name": "stdout",
          "output_type": "stream",
          "text": [
            "[LightGBM] [Warning] lambda_l1 is set=0, reg_alpha=0.0 will be ignored. Current value: lambda_l1=0\n",
            "[LightGBM] [Warning] bagging_fraction is set=0.5428338644472678, subsample=1.0 will be ignored. Current value: bagging_fraction=0.5428338644472678\n",
            "[LightGBM] [Warning] lambda_l2 is set=60, reg_lambda=0.0 will be ignored. Current value: lambda_l2=60\n",
            "[LightGBM] [Warning] feature_fraction is set=0.760429929531937, colsample_bytree=1.0 will be ignored. Current value: feature_fraction=0.760429929531937\n",
            "[LightGBM] [Warning] min_data_in_leaf is set=103, min_child_samples=20 will be ignored. Current value: min_data_in_leaf=103\n",
            "[LightGBM] [Warning] bagging_freq is set=1, subsample_freq=0 will be ignored. Current value: bagging_freq=1\n"
          ]
        },
        {
          "name": "stderr",
          "output_type": "stream",
          "text": [
            "/usr/local/lib/python3.9/dist-packages/lightgbm/sklearn.py:726: UserWarning: 'early_stopping_rounds' argument is deprecated and will be removed in a future release of LightGBM. Pass 'early_stopping()' callback via 'callbacks' argument instead.\n",
            "  _log_warning(\"'early_stopping_rounds' argument is deprecated and will be removed in a future release of LightGBM. \"\n",
            "/usr/local/lib/python3.9/dist-packages/lightgbm/sklearn.py:736: UserWarning: 'verbose' argument is deprecated and will be removed in a future release of LightGBM. Pass 'log_evaluation()' callback via 'callbacks' argument instead.\n",
            "  _log_warning(\"'verbose' argument is deprecated and will be removed in a future release of LightGBM. \"\n"
          ]
        },
        {
          "name": "stdout",
          "output_type": "stream",
          "text": [
            "[LightGBM] [Warning] lambda_l1 is set=0, reg_alpha=0.0 will be ignored. Current value: lambda_l1=0\n",
            "[LightGBM] [Warning] bagging_fraction is set=0.5428338644472678, subsample=1.0 will be ignored. Current value: bagging_fraction=0.5428338644472678\n",
            "[LightGBM] [Warning] lambda_l2 is set=60, reg_lambda=0.0 will be ignored. Current value: lambda_l2=60\n",
            "[LightGBM] [Warning] feature_fraction is set=0.760429929531937, colsample_bytree=1.0 will be ignored. Current value: feature_fraction=0.760429929531937\n",
            "[LightGBM] [Warning] min_data_in_leaf is set=103, min_child_samples=20 will be ignored. Current value: min_data_in_leaf=103\n",
            "[LightGBM] [Warning] bagging_freq is set=1, subsample_freq=0 will be ignored. Current value: bagging_freq=1\n"
          ]
        },
        {
          "name": "stderr",
          "output_type": "stream",
          "text": [
            "/usr/local/lib/python3.9/dist-packages/lightgbm/sklearn.py:726: UserWarning: 'early_stopping_rounds' argument is deprecated and will be removed in a future release of LightGBM. Pass 'early_stopping()' callback via 'callbacks' argument instead.\n",
            "  _log_warning(\"'early_stopping_rounds' argument is deprecated and will be removed in a future release of LightGBM. \"\n",
            "/usr/local/lib/python3.9/dist-packages/lightgbm/sklearn.py:736: UserWarning: 'verbose' argument is deprecated and will be removed in a future release of LightGBM. Pass 'log_evaluation()' callback via 'callbacks' argument instead.\n",
            "  _log_warning(\"'verbose' argument is deprecated and will be removed in a future release of LightGBM. \"\n"
          ]
        },
        {
          "name": "stdout",
          "output_type": "stream",
          "text": [
            "[LightGBM] [Warning] lambda_l1 is set=0, reg_alpha=0.0 will be ignored. Current value: lambda_l1=0\n",
            "[LightGBM] [Warning] bagging_fraction is set=0.5428338644472678, subsample=1.0 will be ignored. Current value: bagging_fraction=0.5428338644472678\n",
            "[LightGBM] [Warning] lambda_l2 is set=60, reg_lambda=0.0 will be ignored. Current value: lambda_l2=60\n",
            "[LightGBM] [Warning] feature_fraction is set=0.760429929531937, colsample_bytree=1.0 will be ignored. Current value: feature_fraction=0.760429929531937\n",
            "[LightGBM] [Warning] min_data_in_leaf is set=103, min_child_samples=20 will be ignored. Current value: min_data_in_leaf=103\n",
            "[LightGBM] [Warning] bagging_freq is set=1, subsample_freq=0 will be ignored. Current value: bagging_freq=1\n"
          ]
        },
        {
          "name": "stderr",
          "output_type": "stream",
          "text": [
            "/usr/local/lib/python3.9/dist-packages/lightgbm/sklearn.py:726: UserWarning: 'early_stopping_rounds' argument is deprecated and will be removed in a future release of LightGBM. Pass 'early_stopping()' callback via 'callbacks' argument instead.\n",
            "  _log_warning(\"'early_stopping_rounds' argument is deprecated and will be removed in a future release of LightGBM. \"\n",
            "/usr/local/lib/python3.9/dist-packages/lightgbm/sklearn.py:736: UserWarning: 'verbose' argument is deprecated and will be removed in a future release of LightGBM. Pass 'log_evaluation()' callback via 'callbacks' argument instead.\n",
            "  _log_warning(\"'verbose' argument is deprecated and will be removed in a future release of LightGBM. \"\n"
          ]
        },
        {
          "name": "stdout",
          "output_type": "stream",
          "text": [
            "[LightGBM] [Warning] lambda_l1 is set=0, reg_alpha=0.0 will be ignored. Current value: lambda_l1=0\n",
            "[LightGBM] [Warning] bagging_fraction is set=0.5428338644472678, subsample=1.0 will be ignored. Current value: bagging_fraction=0.5428338644472678\n",
            "[LightGBM] [Warning] lambda_l2 is set=60, reg_lambda=0.0 will be ignored. Current value: lambda_l2=60\n",
            "[LightGBM] [Warning] feature_fraction is set=0.760429929531937, colsample_bytree=1.0 will be ignored. Current value: feature_fraction=0.760429929531937\n",
            "[LightGBM] [Warning] min_data_in_leaf is set=103, min_child_samples=20 will be ignored. Current value: min_data_in_leaf=103\n",
            "[LightGBM] [Warning] bagging_freq is set=1, subsample_freq=0 will be ignored. Current value: bagging_freq=1\n"
          ]
        },
        {
          "name": "stderr",
          "output_type": "stream",
          "text": [
            "\u001b[32m[I 2023-03-30 12:33:03,207]\u001b[0m Trial 0 finished with value: 0.814872989519597 and parameters: {'n_estimators': 10000, 'learning_rate': 0.1383380978084117, 'num_leaves': 1808, 'max_depth': 12, 'min_data_in_leaf': 103, 'lambda_l1': 0, 'lambda_l2': 60, 'bagging_fraction': 0.5428338644472678, 'bagging_freq': 1, 'feature_fraction': 0.760429929531937}. Best is trial 0 with value: 0.814872989519597.\u001b[0m\n",
            "/usr/local/lib/python3.9/dist-packages/lightgbm/sklearn.py:726: UserWarning: 'early_stopping_rounds' argument is deprecated and will be removed in a future release of LightGBM. Pass 'early_stopping()' callback via 'callbacks' argument instead.\n",
            "  _log_warning(\"'early_stopping_rounds' argument is deprecated and will be removed in a future release of LightGBM. \"\n",
            "/usr/local/lib/python3.9/dist-packages/lightgbm/sklearn.py:736: UserWarning: 'verbose' argument is deprecated and will be removed in a future release of LightGBM. Pass 'log_evaluation()' callback via 'callbacks' argument instead.\n",
            "  _log_warning(\"'verbose' argument is deprecated and will be removed in a future release of LightGBM. \"\n"
          ]
        },
        {
          "name": "stdout",
          "output_type": "stream",
          "text": [
            "[LightGBM] [Warning] lambda_l1 is set=80, reg_alpha=0.0 will be ignored. Current value: lambda_l1=80\n",
            "[LightGBM] [Warning] bagging_fraction is set=0.6499731796858974, subsample=1.0 will be ignored. Current value: bagging_fraction=0.6499731796858974\n",
            "[LightGBM] [Warning] lambda_l2 is set=100, reg_lambda=0.0 will be ignored. Current value: lambda_l2=100\n",
            "[LightGBM] [Warning] feature_fraction is set=0.7760328603894042, colsample_bytree=1.0 will be ignored. Current value: feature_fraction=0.7760328603894042\n",
            "[LightGBM] [Warning] min_data_in_leaf is set=105, min_child_samples=20 will be ignored. Current value: min_data_in_leaf=105\n",
            "[LightGBM] [Warning] bagging_freq is set=1, subsample_freq=0 will be ignored. Current value: bagging_freq=1\n"
          ]
        },
        {
          "name": "stderr",
          "output_type": "stream",
          "text": [
            "/usr/local/lib/python3.9/dist-packages/lightgbm/sklearn.py:726: UserWarning: 'early_stopping_rounds' argument is deprecated and will be removed in a future release of LightGBM. Pass 'early_stopping()' callback via 'callbacks' argument instead.\n",
            "  _log_warning(\"'early_stopping_rounds' argument is deprecated and will be removed in a future release of LightGBM. \"\n",
            "/usr/local/lib/python3.9/dist-packages/lightgbm/sklearn.py:736: UserWarning: 'verbose' argument is deprecated and will be removed in a future release of LightGBM. Pass 'log_evaluation()' callback via 'callbacks' argument instead.\n",
            "  _log_warning(\"'verbose' argument is deprecated and will be removed in a future release of LightGBM. \"\n"
          ]
        },
        {
          "name": "stdout",
          "output_type": "stream",
          "text": [
            "[LightGBM] [Warning] lambda_l1 is set=80, reg_alpha=0.0 will be ignored. Current value: lambda_l1=80\n",
            "[LightGBM] [Warning] bagging_fraction is set=0.6499731796858974, subsample=1.0 will be ignored. Current value: bagging_fraction=0.6499731796858974\n",
            "[LightGBM] [Warning] lambda_l2 is set=100, reg_lambda=0.0 will be ignored. Current value: lambda_l2=100\n",
            "[LightGBM] [Warning] feature_fraction is set=0.7760328603894042, colsample_bytree=1.0 will be ignored. Current value: feature_fraction=0.7760328603894042\n",
            "[LightGBM] [Warning] min_data_in_leaf is set=105, min_child_samples=20 will be ignored. Current value: min_data_in_leaf=105\n",
            "[LightGBM] [Warning] bagging_freq is set=1, subsample_freq=0 will be ignored. Current value: bagging_freq=1\n"
          ]
        },
        {
          "name": "stderr",
          "output_type": "stream",
          "text": [
            "/usr/local/lib/python3.9/dist-packages/lightgbm/sklearn.py:726: UserWarning: 'early_stopping_rounds' argument is deprecated and will be removed in a future release of LightGBM. Pass 'early_stopping()' callback via 'callbacks' argument instead.\n",
            "  _log_warning(\"'early_stopping_rounds' argument is deprecated and will be removed in a future release of LightGBM. \"\n",
            "/usr/local/lib/python3.9/dist-packages/lightgbm/sklearn.py:736: UserWarning: 'verbose' argument is deprecated and will be removed in a future release of LightGBM. Pass 'log_evaluation()' callback via 'callbacks' argument instead.\n",
            "  _log_warning(\"'verbose' argument is deprecated and will be removed in a future release of LightGBM. \"\n"
          ]
        },
        {
          "name": "stdout",
          "output_type": "stream",
          "text": [
            "[LightGBM] [Warning] lambda_l1 is set=80, reg_alpha=0.0 will be ignored. Current value: lambda_l1=80\n",
            "[LightGBM] [Warning] bagging_fraction is set=0.6499731796858974, subsample=1.0 will be ignored. Current value: bagging_fraction=0.6499731796858974\n",
            "[LightGBM] [Warning] lambda_l2 is set=100, reg_lambda=0.0 will be ignored. Current value: lambda_l2=100\n",
            "[LightGBM] [Warning] feature_fraction is set=0.7760328603894042, colsample_bytree=1.0 will be ignored. Current value: feature_fraction=0.7760328603894042\n",
            "[LightGBM] [Warning] min_data_in_leaf is set=105, min_child_samples=20 will be ignored. Current value: min_data_in_leaf=105\n",
            "[LightGBM] [Warning] bagging_freq is set=1, subsample_freq=0 will be ignored. Current value: bagging_freq=1\n"
          ]
        },
        {
          "name": "stderr",
          "output_type": "stream",
          "text": [
            "/usr/local/lib/python3.9/dist-packages/lightgbm/sklearn.py:726: UserWarning: 'early_stopping_rounds' argument is deprecated and will be removed in a future release of LightGBM. Pass 'early_stopping()' callback via 'callbacks' argument instead.\n",
            "  _log_warning(\"'early_stopping_rounds' argument is deprecated and will be removed in a future release of LightGBM. \"\n",
            "/usr/local/lib/python3.9/dist-packages/lightgbm/sklearn.py:736: UserWarning: 'verbose' argument is deprecated and will be removed in a future release of LightGBM. Pass 'log_evaluation()' callback via 'callbacks' argument instead.\n",
            "  _log_warning(\"'verbose' argument is deprecated and will be removed in a future release of LightGBM. \"\n"
          ]
        },
        {
          "name": "stdout",
          "output_type": "stream",
          "text": [
            "[LightGBM] [Warning] lambda_l1 is set=80, reg_alpha=0.0 will be ignored. Current value: lambda_l1=80\n",
            "[LightGBM] [Warning] bagging_fraction is set=0.6499731796858974, subsample=1.0 will be ignored. Current value: bagging_fraction=0.6499731796858974\n",
            "[LightGBM] [Warning] lambda_l2 is set=100, reg_lambda=0.0 will be ignored. Current value: lambda_l2=100\n",
            "[LightGBM] [Warning] feature_fraction is set=0.7760328603894042, colsample_bytree=1.0 will be ignored. Current value: feature_fraction=0.7760328603894042\n",
            "[LightGBM] [Warning] min_data_in_leaf is set=105, min_child_samples=20 will be ignored. Current value: min_data_in_leaf=105\n",
            "[LightGBM] [Warning] bagging_freq is set=1, subsample_freq=0 will be ignored. Current value: bagging_freq=1\n"
          ]
        },
        {
          "name": "stderr",
          "output_type": "stream",
          "text": [
            "/usr/local/lib/python3.9/dist-packages/lightgbm/sklearn.py:726: UserWarning: 'early_stopping_rounds' argument is deprecated and will be removed in a future release of LightGBM. Pass 'early_stopping()' callback via 'callbacks' argument instead.\n",
            "  _log_warning(\"'early_stopping_rounds' argument is deprecated and will be removed in a future release of LightGBM. \"\n",
            "/usr/local/lib/python3.9/dist-packages/lightgbm/sklearn.py:736: UserWarning: 'verbose' argument is deprecated and will be removed in a future release of LightGBM. Pass 'log_evaluation()' callback via 'callbacks' argument instead.\n",
            "  _log_warning(\"'verbose' argument is deprecated and will be removed in a future release of LightGBM. \"\n"
          ]
        },
        {
          "name": "stdout",
          "output_type": "stream",
          "text": [
            "[LightGBM] [Warning] lambda_l1 is set=80, reg_alpha=0.0 will be ignored. Current value: lambda_l1=80\n",
            "[LightGBM] [Warning] bagging_fraction is set=0.6499731796858974, subsample=1.0 will be ignored. Current value: bagging_fraction=0.6499731796858974\n",
            "[LightGBM] [Warning] lambda_l2 is set=100, reg_lambda=0.0 will be ignored. Current value: lambda_l2=100\n",
            "[LightGBM] [Warning] feature_fraction is set=0.7760328603894042, colsample_bytree=1.0 will be ignored. Current value: feature_fraction=0.7760328603894042\n",
            "[LightGBM] [Warning] min_data_in_leaf is set=105, min_child_samples=20 will be ignored. Current value: min_data_in_leaf=105\n",
            "[LightGBM] [Warning] bagging_freq is set=1, subsample_freq=0 will be ignored. Current value: bagging_freq=1\n"
          ]
        },
        {
          "name": "stderr",
          "output_type": "stream",
          "text": [
            "\u001b[32m[I 2023-03-30 12:33:41,457]\u001b[0m Trial 1 finished with value: 0.6981651688160386 and parameters: {'n_estimators': 10000, 'learning_rate': 0.28946567849159766, 'num_leaves': 1808, 'max_depth': 10, 'min_data_in_leaf': 105, 'lambda_l1': 80, 'lambda_l2': 100, 'bagging_fraction': 0.6499731796858974, 'bagging_freq': 1, 'feature_fraction': 0.7760328603894042}. Best is trial 0 with value: 0.814872989519597.\u001b[0m\n",
            "/usr/local/lib/python3.9/dist-packages/lightgbm/sklearn.py:726: UserWarning: 'early_stopping_rounds' argument is deprecated and will be removed in a future release of LightGBM. Pass 'early_stopping()' callback via 'callbacks' argument instead.\n",
            "  _log_warning(\"'early_stopping_rounds' argument is deprecated and will be removed in a future release of LightGBM. \"\n",
            "/usr/local/lib/python3.9/dist-packages/lightgbm/sklearn.py:736: UserWarning: 'verbose' argument is deprecated and will be removed in a future release of LightGBM. Pass 'log_evaluation()' callback via 'callbacks' argument instead.\n",
            "  _log_warning(\"'verbose' argument is deprecated and will be removed in a future release of LightGBM. \"\n"
          ]
        },
        {
          "name": "stdout",
          "output_type": "stream",
          "text": [
            "[LightGBM] [Warning] lambda_l1 is set=80, reg_alpha=0.0 will be ignored. Current value: lambda_l1=80\n",
            "[LightGBM] [Warning] bagging_fraction is set=0.5460965771258647, subsample=1.0 will be ignored. Current value: bagging_fraction=0.5460965771258647\n",
            "[LightGBM] [Warning] lambda_l2 is set=20, reg_lambda=0.0 will be ignored. Current value: lambda_l2=20\n",
            "[LightGBM] [Warning] feature_fraction is set=0.7152575269456586, colsample_bytree=1.0 will be ignored. Current value: feature_fraction=0.7152575269456586\n",
            "[LightGBM] [Warning] min_data_in_leaf is set=94, min_child_samples=20 will be ignored. Current value: min_data_in_leaf=94\n",
            "[LightGBM] [Warning] bagging_freq is set=1, subsample_freq=0 will be ignored. Current value: bagging_freq=1\n"
          ]
        },
        {
          "name": "stderr",
          "output_type": "stream",
          "text": [
            "/usr/local/lib/python3.9/dist-packages/lightgbm/sklearn.py:726: UserWarning: 'early_stopping_rounds' argument is deprecated and will be removed in a future release of LightGBM. Pass 'early_stopping()' callback via 'callbacks' argument instead.\n",
            "  _log_warning(\"'early_stopping_rounds' argument is deprecated and will be removed in a future release of LightGBM. \"\n",
            "/usr/local/lib/python3.9/dist-packages/lightgbm/sklearn.py:736: UserWarning: 'verbose' argument is deprecated and will be removed in a future release of LightGBM. Pass 'log_evaluation()' callback via 'callbacks' argument instead.\n",
            "  _log_warning(\"'verbose' argument is deprecated and will be removed in a future release of LightGBM. \"\n"
          ]
        },
        {
          "name": "stdout",
          "output_type": "stream",
          "text": [
            "[LightGBM] [Warning] lambda_l1 is set=80, reg_alpha=0.0 will be ignored. Current value: lambda_l1=80\n",
            "[LightGBM] [Warning] bagging_fraction is set=0.5460965771258647, subsample=1.0 will be ignored. Current value: bagging_fraction=0.5460965771258647\n",
            "[LightGBM] [Warning] lambda_l2 is set=20, reg_lambda=0.0 will be ignored. Current value: lambda_l2=20\n",
            "[LightGBM] [Warning] feature_fraction is set=0.7152575269456586, colsample_bytree=1.0 will be ignored. Current value: feature_fraction=0.7152575269456586\n",
            "[LightGBM] [Warning] min_data_in_leaf is set=94, min_child_samples=20 will be ignored. Current value: min_data_in_leaf=94\n",
            "[LightGBM] [Warning] bagging_freq is set=1, subsample_freq=0 will be ignored. Current value: bagging_freq=1\n"
          ]
        },
        {
          "name": "stderr",
          "output_type": "stream",
          "text": [
            "/usr/local/lib/python3.9/dist-packages/lightgbm/sklearn.py:726: UserWarning: 'early_stopping_rounds' argument is deprecated and will be removed in a future release of LightGBM. Pass 'early_stopping()' callback via 'callbacks' argument instead.\n",
            "  _log_warning(\"'early_stopping_rounds' argument is deprecated and will be removed in a future release of LightGBM. \"\n",
            "/usr/local/lib/python3.9/dist-packages/lightgbm/sklearn.py:736: UserWarning: 'verbose' argument is deprecated and will be removed in a future release of LightGBM. Pass 'log_evaluation()' callback via 'callbacks' argument instead.\n",
            "  _log_warning(\"'verbose' argument is deprecated and will be removed in a future release of LightGBM. \"\n"
          ]
        },
        {
          "name": "stdout",
          "output_type": "stream",
          "text": [
            "[LightGBM] [Warning] lambda_l1 is set=80, reg_alpha=0.0 will be ignored. Current value: lambda_l1=80\n",
            "[LightGBM] [Warning] bagging_fraction is set=0.5460965771258647, subsample=1.0 will be ignored. Current value: bagging_fraction=0.5460965771258647\n",
            "[LightGBM] [Warning] lambda_l2 is set=20, reg_lambda=0.0 will be ignored. Current value: lambda_l2=20\n",
            "[LightGBM] [Warning] feature_fraction is set=0.7152575269456586, colsample_bytree=1.0 will be ignored. Current value: feature_fraction=0.7152575269456586\n",
            "[LightGBM] [Warning] min_data_in_leaf is set=94, min_child_samples=20 will be ignored. Current value: min_data_in_leaf=94\n",
            "[LightGBM] [Warning] bagging_freq is set=1, subsample_freq=0 will be ignored. Current value: bagging_freq=1\n"
          ]
        },
        {
          "name": "stderr",
          "output_type": "stream",
          "text": [
            "/usr/local/lib/python3.9/dist-packages/lightgbm/sklearn.py:726: UserWarning: 'early_stopping_rounds' argument is deprecated and will be removed in a future release of LightGBM. Pass 'early_stopping()' callback via 'callbacks' argument instead.\n",
            "  _log_warning(\"'early_stopping_rounds' argument is deprecated and will be removed in a future release of LightGBM. \"\n",
            "/usr/local/lib/python3.9/dist-packages/lightgbm/sklearn.py:736: UserWarning: 'verbose' argument is deprecated and will be removed in a future release of LightGBM. Pass 'log_evaluation()' callback via 'callbacks' argument instead.\n",
            "  _log_warning(\"'verbose' argument is deprecated and will be removed in a future release of LightGBM. \"\n"
          ]
        },
        {
          "name": "stdout",
          "output_type": "stream",
          "text": [
            "[LightGBM] [Warning] lambda_l1 is set=80, reg_alpha=0.0 will be ignored. Current value: lambda_l1=80\n",
            "[LightGBM] [Warning] bagging_fraction is set=0.5460965771258647, subsample=1.0 will be ignored. Current value: bagging_fraction=0.5460965771258647\n",
            "[LightGBM] [Warning] lambda_l2 is set=20, reg_lambda=0.0 will be ignored. Current value: lambda_l2=20\n",
            "[LightGBM] [Warning] feature_fraction is set=0.7152575269456586, colsample_bytree=1.0 will be ignored. Current value: feature_fraction=0.7152575269456586\n",
            "[LightGBM] [Warning] min_data_in_leaf is set=94, min_child_samples=20 will be ignored. Current value: min_data_in_leaf=94\n",
            "[LightGBM] [Warning] bagging_freq is set=1, subsample_freq=0 will be ignored. Current value: bagging_freq=1\n"
          ]
        },
        {
          "name": "stderr",
          "output_type": "stream",
          "text": [
            "/usr/local/lib/python3.9/dist-packages/lightgbm/sklearn.py:726: UserWarning: 'early_stopping_rounds' argument is deprecated and will be removed in a future release of LightGBM. Pass 'early_stopping()' callback via 'callbacks' argument instead.\n",
            "  _log_warning(\"'early_stopping_rounds' argument is deprecated and will be removed in a future release of LightGBM. \"\n",
            "/usr/local/lib/python3.9/dist-packages/lightgbm/sklearn.py:736: UserWarning: 'verbose' argument is deprecated and will be removed in a future release of LightGBM. Pass 'log_evaluation()' callback via 'callbacks' argument instead.\n",
            "  _log_warning(\"'verbose' argument is deprecated and will be removed in a future release of LightGBM. \"\n"
          ]
        },
        {
          "name": "stdout",
          "output_type": "stream",
          "text": [
            "[LightGBM] [Warning] lambda_l1 is set=80, reg_alpha=0.0 will be ignored. Current value: lambda_l1=80\n",
            "[LightGBM] [Warning] bagging_fraction is set=0.5460965771258647, subsample=1.0 will be ignored. Current value: bagging_fraction=0.5460965771258647\n",
            "[LightGBM] [Warning] lambda_l2 is set=20, reg_lambda=0.0 will be ignored. Current value: lambda_l2=20\n",
            "[LightGBM] [Warning] feature_fraction is set=0.7152575269456586, colsample_bytree=1.0 will be ignored. Current value: feature_fraction=0.7152575269456586\n",
            "[LightGBM] [Warning] min_data_in_leaf is set=94, min_child_samples=20 will be ignored. Current value: min_data_in_leaf=94\n",
            "[LightGBM] [Warning] bagging_freq is set=1, subsample_freq=0 will be ignored. Current value: bagging_freq=1\n"
          ]
        },
        {
          "name": "stderr",
          "output_type": "stream",
          "text": [
            "\u001b[32m[I 2023-03-30 12:34:15,759]\u001b[0m Trial 2 finished with value: 0.6620655080696481 and parameters: {'n_estimators': 10000, 'learning_rate': 0.2064741093786654, 'num_leaves': 2404, 'max_depth': 6, 'min_data_in_leaf': 94, 'lambda_l1': 80, 'lambda_l2': 20, 'bagging_fraction': 0.5460965771258647, 'bagging_freq': 1, 'feature_fraction': 0.7152575269456586}. Best is trial 0 with value: 0.814872989519597.\u001b[0m\n",
            "/usr/local/lib/python3.9/dist-packages/lightgbm/sklearn.py:726: UserWarning: 'early_stopping_rounds' argument is deprecated and will be removed in a future release of LightGBM. Pass 'early_stopping()' callback via 'callbacks' argument instead.\n",
            "  _log_warning(\"'early_stopping_rounds' argument is deprecated and will be removed in a future release of LightGBM. \"\n",
            "/usr/local/lib/python3.9/dist-packages/lightgbm/sklearn.py:736: UserWarning: 'verbose' argument is deprecated and will be removed in a future release of LightGBM. Pass 'log_evaluation()' callback via 'callbacks' argument instead.\n",
            "  _log_warning(\"'verbose' argument is deprecated and will be removed in a future release of LightGBM. \"\n"
          ]
        },
        {
          "name": "stdout",
          "output_type": "stream",
          "text": [
            "[LightGBM] [Warning] lambda_l1 is set=20, reg_alpha=0.0 will be ignored. Current value: lambda_l1=20\n",
            "[LightGBM] [Warning] bagging_fraction is set=0.5581805282718164, subsample=1.0 will be ignored. Current value: bagging_fraction=0.5581805282718164\n",
            "[LightGBM] [Warning] lambda_l2 is set=40, reg_lambda=0.0 will be ignored. Current value: lambda_l2=40\n",
            "[LightGBM] [Warning] feature_fraction is set=0.7488347423195976, colsample_bytree=1.0 will be ignored. Current value: feature_fraction=0.7488347423195976\n",
            "[LightGBM] [Warning] min_data_in_leaf is set=103, min_child_samples=20 will be ignored. Current value: min_data_in_leaf=103\n",
            "[LightGBM] [Warning] bagging_freq is set=1, subsample_freq=0 will be ignored. Current value: bagging_freq=1\n",
            "[500]\tvalid_0's binary_logloss: 0.0132137\n"
          ]
        },
        {
          "name": "stderr",
          "output_type": "stream",
          "text": [
            "/usr/local/lib/python3.9/dist-packages/lightgbm/sklearn.py:726: UserWarning: 'early_stopping_rounds' argument is deprecated and will be removed in a future release of LightGBM. Pass 'early_stopping()' callback via 'callbacks' argument instead.\n",
            "  _log_warning(\"'early_stopping_rounds' argument is deprecated and will be removed in a future release of LightGBM. \"\n",
            "/usr/local/lib/python3.9/dist-packages/lightgbm/sklearn.py:736: UserWarning: 'verbose' argument is deprecated and will be removed in a future release of LightGBM. Pass 'log_evaluation()' callback via 'callbacks' argument instead.\n",
            "  _log_warning(\"'verbose' argument is deprecated and will be removed in a future release of LightGBM. \"\n"
          ]
        },
        {
          "name": "stdout",
          "output_type": "stream",
          "text": [
            "[LightGBM] [Warning] lambda_l1 is set=20, reg_alpha=0.0 will be ignored. Current value: lambda_l1=20\n",
            "[LightGBM] [Warning] bagging_fraction is set=0.5581805282718164, subsample=1.0 will be ignored. Current value: bagging_fraction=0.5581805282718164\n",
            "[LightGBM] [Warning] lambda_l2 is set=40, reg_lambda=0.0 will be ignored. Current value: lambda_l2=40\n",
            "[LightGBM] [Warning] feature_fraction is set=0.7488347423195976, colsample_bytree=1.0 will be ignored. Current value: feature_fraction=0.7488347423195976\n",
            "[LightGBM] [Warning] min_data_in_leaf is set=103, min_child_samples=20 will be ignored. Current value: min_data_in_leaf=103\n",
            "[LightGBM] [Warning] bagging_freq is set=1, subsample_freq=0 will be ignored. Current value: bagging_freq=1\n",
            "[500]\tvalid_0's binary_logloss: 0.0129331\n",
            "[1000]\tvalid_0's binary_logloss: 0.0128035\n",
            "[1500]\tvalid_0's binary_logloss: 0.0127504\n"
          ]
        },
        {
          "name": "stderr",
          "output_type": "stream",
          "text": [
            "/usr/local/lib/python3.9/dist-packages/lightgbm/sklearn.py:726: UserWarning: 'early_stopping_rounds' argument is deprecated and will be removed in a future release of LightGBM. Pass 'early_stopping()' callback via 'callbacks' argument instead.\n",
            "  _log_warning(\"'early_stopping_rounds' argument is deprecated and will be removed in a future release of LightGBM. \"\n",
            "/usr/local/lib/python3.9/dist-packages/lightgbm/sklearn.py:736: UserWarning: 'verbose' argument is deprecated and will be removed in a future release of LightGBM. Pass 'log_evaluation()' callback via 'callbacks' argument instead.\n",
            "  _log_warning(\"'verbose' argument is deprecated and will be removed in a future release of LightGBM. \"\n"
          ]
        },
        {
          "name": "stdout",
          "output_type": "stream",
          "text": [
            "[LightGBM] [Warning] lambda_l1 is set=20, reg_alpha=0.0 will be ignored. Current value: lambda_l1=20\n",
            "[LightGBM] [Warning] bagging_fraction is set=0.5581805282718164, subsample=1.0 will be ignored. Current value: bagging_fraction=0.5581805282718164\n",
            "[LightGBM] [Warning] lambda_l2 is set=40, reg_lambda=0.0 will be ignored. Current value: lambda_l2=40\n",
            "[LightGBM] [Warning] feature_fraction is set=0.7488347423195976, colsample_bytree=1.0 will be ignored. Current value: feature_fraction=0.7488347423195976\n",
            "[LightGBM] [Warning] min_data_in_leaf is set=103, min_child_samples=20 will be ignored. Current value: min_data_in_leaf=103\n",
            "[LightGBM] [Warning] bagging_freq is set=1, subsample_freq=0 will be ignored. Current value: bagging_freq=1\n",
            "[500]\tvalid_0's binary_logloss: 0.0135808\n",
            "[1000]\tvalid_0's binary_logloss: 0.0134549\n",
            "[1500]\tvalid_0's binary_logloss: 0.0133978\n"
          ]
        },
        {
          "name": "stderr",
          "output_type": "stream",
          "text": [
            "/usr/local/lib/python3.9/dist-packages/lightgbm/sklearn.py:726: UserWarning: 'early_stopping_rounds' argument is deprecated and will be removed in a future release of LightGBM. Pass 'early_stopping()' callback via 'callbacks' argument instead.\n",
            "  _log_warning(\"'early_stopping_rounds' argument is deprecated and will be removed in a future release of LightGBM. \"\n",
            "/usr/local/lib/python3.9/dist-packages/lightgbm/sklearn.py:736: UserWarning: 'verbose' argument is deprecated and will be removed in a future release of LightGBM. Pass 'log_evaluation()' callback via 'callbacks' argument instead.\n",
            "  _log_warning(\"'verbose' argument is deprecated and will be removed in a future release of LightGBM. \"\n"
          ]
        },
        {
          "name": "stdout",
          "output_type": "stream",
          "text": [
            "[LightGBM] [Warning] lambda_l1 is set=20, reg_alpha=0.0 will be ignored. Current value: lambda_l1=20\n",
            "[LightGBM] [Warning] bagging_fraction is set=0.5581805282718164, subsample=1.0 will be ignored. Current value: bagging_fraction=0.5581805282718164\n",
            "[LightGBM] [Warning] lambda_l2 is set=40, reg_lambda=0.0 will be ignored. Current value: lambda_l2=40\n",
            "[LightGBM] [Warning] feature_fraction is set=0.7488347423195976, colsample_bytree=1.0 will be ignored. Current value: feature_fraction=0.7488347423195976\n",
            "[LightGBM] [Warning] min_data_in_leaf is set=103, min_child_samples=20 will be ignored. Current value: min_data_in_leaf=103\n",
            "[LightGBM] [Warning] bagging_freq is set=1, subsample_freq=0 will be ignored. Current value: bagging_freq=1\n",
            "[500]\tvalid_0's binary_logloss: 0.0131749\n",
            "[1000]\tvalid_0's binary_logloss: 0.0130416\n"
          ]
        },
        {
          "name": "stderr",
          "output_type": "stream",
          "text": [
            "/usr/local/lib/python3.9/dist-packages/lightgbm/sklearn.py:726: UserWarning: 'early_stopping_rounds' argument is deprecated and will be removed in a future release of LightGBM. Pass 'early_stopping()' callback via 'callbacks' argument instead.\n",
            "  _log_warning(\"'early_stopping_rounds' argument is deprecated and will be removed in a future release of LightGBM. \"\n",
            "/usr/local/lib/python3.9/dist-packages/lightgbm/sklearn.py:736: UserWarning: 'verbose' argument is deprecated and will be removed in a future release of LightGBM. Pass 'log_evaluation()' callback via 'callbacks' argument instead.\n",
            "  _log_warning(\"'verbose' argument is deprecated and will be removed in a future release of LightGBM. \"\n"
          ]
        },
        {
          "name": "stdout",
          "output_type": "stream",
          "text": [
            "[LightGBM] [Warning] lambda_l1 is set=20, reg_alpha=0.0 will be ignored. Current value: lambda_l1=20\n",
            "[LightGBM] [Warning] bagging_fraction is set=0.5581805282718164, subsample=1.0 will be ignored. Current value: bagging_fraction=0.5581805282718164\n",
            "[LightGBM] [Warning] lambda_l2 is set=40, reg_lambda=0.0 will be ignored. Current value: lambda_l2=40\n",
            "[LightGBM] [Warning] feature_fraction is set=0.7488347423195976, colsample_bytree=1.0 will be ignored. Current value: feature_fraction=0.7488347423195976\n",
            "[LightGBM] [Warning] min_data_in_leaf is set=103, min_child_samples=20 will be ignored. Current value: min_data_in_leaf=103\n",
            "[LightGBM] [Warning] bagging_freq is set=1, subsample_freq=0 will be ignored. Current value: bagging_freq=1\n",
            "[500]\tvalid_0's binary_logloss: 0.0132273\n",
            "[1000]\tvalid_0's binary_logloss: 0.0131846\n"
          ]
        },
        {
          "name": "stderr",
          "output_type": "stream",
          "text": [
            "\u001b[32m[I 2023-03-30 12:37:00,745]\u001b[0m Trial 3 finished with value: 0.8166278908347622 and parameters: {'n_estimators': 10000, 'learning_rate': 0.03311839160739361, 'num_leaves': 2702, 'max_depth': 8, 'min_data_in_leaf': 103, 'lambda_l1': 20, 'lambda_l2': 40, 'bagging_fraction': 0.5581805282718164, 'bagging_freq': 1, 'feature_fraction': 0.7488347423195976}. Best is trial 3 with value: 0.8166278908347622.\u001b[0m\n",
            "/usr/local/lib/python3.9/dist-packages/lightgbm/sklearn.py:726: UserWarning: 'early_stopping_rounds' argument is deprecated and will be removed in a future release of LightGBM. Pass 'early_stopping()' callback via 'callbacks' argument instead.\n",
            "  _log_warning(\"'early_stopping_rounds' argument is deprecated and will be removed in a future release of LightGBM. \"\n",
            "/usr/local/lib/python3.9/dist-packages/lightgbm/sklearn.py:736: UserWarning: 'verbose' argument is deprecated and will be removed in a future release of LightGBM. Pass 'log_evaluation()' callback via 'callbacks' argument instead.\n",
            "  _log_warning(\"'verbose' argument is deprecated and will be removed in a future release of LightGBM. \"\n"
          ]
        },
        {
          "name": "stdout",
          "output_type": "stream",
          "text": [
            "[LightGBM] [Warning] lambda_l1 is set=60, reg_alpha=0.0 will be ignored. Current value: lambda_l1=60\n",
            "[LightGBM] [Warning] bagging_fraction is set=0.6081469530242185, subsample=1.0 will be ignored. Current value: bagging_fraction=0.6081469530242185\n",
            "[LightGBM] [Warning] lambda_l2 is set=0, reg_lambda=0.0 will be ignored. Current value: lambda_l2=0\n",
            "[LightGBM] [Warning] feature_fraction is set=0.702873455234831, colsample_bytree=1.0 will be ignored. Current value: feature_fraction=0.702873455234831\n",
            "[LightGBM] [Warning] min_data_in_leaf is set=98, min_child_samples=20 will be ignored. Current value: min_data_in_leaf=98\n",
            "[LightGBM] [Warning] bagging_freq is set=1, subsample_freq=0 will be ignored. Current value: bagging_freq=1\n",
            "[500]\tvalid_0's binary_logloss: 0.0145958\n"
          ]
        },
        {
          "name": "stderr",
          "output_type": "stream",
          "text": [
            "/usr/local/lib/python3.9/dist-packages/lightgbm/sklearn.py:726: UserWarning: 'early_stopping_rounds' argument is deprecated and will be removed in a future release of LightGBM. Pass 'early_stopping()' callback via 'callbacks' argument instead.\n",
            "  _log_warning(\"'early_stopping_rounds' argument is deprecated and will be removed in a future release of LightGBM. \"\n",
            "/usr/local/lib/python3.9/dist-packages/lightgbm/sklearn.py:736: UserWarning: 'verbose' argument is deprecated and will be removed in a future release of LightGBM. Pass 'log_evaluation()' callback via 'callbacks' argument instead.\n",
            "  _log_warning(\"'verbose' argument is deprecated and will be removed in a future release of LightGBM. \"\n"
          ]
        },
        {
          "name": "stdout",
          "output_type": "stream",
          "text": [
            "[LightGBM] [Warning] lambda_l1 is set=60, reg_alpha=0.0 will be ignored. Current value: lambda_l1=60\n",
            "[LightGBM] [Warning] bagging_fraction is set=0.6081469530242185, subsample=1.0 will be ignored. Current value: bagging_fraction=0.6081469530242185\n",
            "[LightGBM] [Warning] lambda_l2 is set=0, reg_lambda=0.0 will be ignored. Current value: lambda_l2=0\n",
            "[LightGBM] [Warning] feature_fraction is set=0.702873455234831, colsample_bytree=1.0 will be ignored. Current value: feature_fraction=0.702873455234831\n",
            "[LightGBM] [Warning] min_data_in_leaf is set=98, min_child_samples=20 will be ignored. Current value: min_data_in_leaf=98\n",
            "[LightGBM] [Warning] bagging_freq is set=1, subsample_freq=0 will be ignored. Current value: bagging_freq=1\n",
            "[500]\tvalid_0's binary_logloss: 0.01445\n"
          ]
        },
        {
          "name": "stderr",
          "output_type": "stream",
          "text": [
            "/usr/local/lib/python3.9/dist-packages/lightgbm/sklearn.py:726: UserWarning: 'early_stopping_rounds' argument is deprecated and will be removed in a future release of LightGBM. Pass 'early_stopping()' callback via 'callbacks' argument instead.\n",
            "  _log_warning(\"'early_stopping_rounds' argument is deprecated and will be removed in a future release of LightGBM. \"\n",
            "/usr/local/lib/python3.9/dist-packages/lightgbm/sklearn.py:736: UserWarning: 'verbose' argument is deprecated and will be removed in a future release of LightGBM. Pass 'log_evaluation()' callback via 'callbacks' argument instead.\n",
            "  _log_warning(\"'verbose' argument is deprecated and will be removed in a future release of LightGBM. \"\n"
          ]
        },
        {
          "name": "stdout",
          "output_type": "stream",
          "text": [
            "[LightGBM] [Warning] lambda_l1 is set=60, reg_alpha=0.0 will be ignored. Current value: lambda_l1=60\n",
            "[LightGBM] [Warning] bagging_fraction is set=0.6081469530242185, subsample=1.0 will be ignored. Current value: bagging_fraction=0.6081469530242185\n",
            "[LightGBM] [Warning] lambda_l2 is set=0, reg_lambda=0.0 will be ignored. Current value: lambda_l2=0\n",
            "[LightGBM] [Warning] feature_fraction is set=0.702873455234831, colsample_bytree=1.0 will be ignored. Current value: feature_fraction=0.702873455234831\n",
            "[LightGBM] [Warning] min_data_in_leaf is set=98, min_child_samples=20 will be ignored. Current value: min_data_in_leaf=98\n",
            "[LightGBM] [Warning] bagging_freq is set=1, subsample_freq=0 will be ignored. Current value: bagging_freq=1\n",
            "[500]\tvalid_0's binary_logloss: 0.0145797\n"
          ]
        },
        {
          "name": "stderr",
          "output_type": "stream",
          "text": [
            "/usr/local/lib/python3.9/dist-packages/lightgbm/sklearn.py:726: UserWarning: 'early_stopping_rounds' argument is deprecated and will be removed in a future release of LightGBM. Pass 'early_stopping()' callback via 'callbacks' argument instead.\n",
            "  _log_warning(\"'early_stopping_rounds' argument is deprecated and will be removed in a future release of LightGBM. \"\n",
            "/usr/local/lib/python3.9/dist-packages/lightgbm/sklearn.py:736: UserWarning: 'verbose' argument is deprecated and will be removed in a future release of LightGBM. Pass 'log_evaluation()' callback via 'callbacks' argument instead.\n",
            "  _log_warning(\"'verbose' argument is deprecated and will be removed in a future release of LightGBM. \"\n"
          ]
        },
        {
          "name": "stdout",
          "output_type": "stream",
          "text": [
            "[LightGBM] [Warning] lambda_l1 is set=60, reg_alpha=0.0 will be ignored. Current value: lambda_l1=60\n",
            "[LightGBM] [Warning] bagging_fraction is set=0.6081469530242185, subsample=1.0 will be ignored. Current value: bagging_fraction=0.6081469530242185\n",
            "[LightGBM] [Warning] lambda_l2 is set=0, reg_lambda=0.0 will be ignored. Current value: lambda_l2=0\n",
            "[LightGBM] [Warning] feature_fraction is set=0.702873455234831, colsample_bytree=1.0 will be ignored. Current value: feature_fraction=0.702873455234831\n",
            "[LightGBM] [Warning] min_data_in_leaf is set=98, min_child_samples=20 will be ignored. Current value: min_data_in_leaf=98\n",
            "[LightGBM] [Warning] bagging_freq is set=1, subsample_freq=0 will be ignored. Current value: bagging_freq=1\n"
          ]
        },
        {
          "name": "stderr",
          "output_type": "stream",
          "text": [
            "/usr/local/lib/python3.9/dist-packages/lightgbm/sklearn.py:726: UserWarning: 'early_stopping_rounds' argument is deprecated and will be removed in a future release of LightGBM. Pass 'early_stopping()' callback via 'callbacks' argument instead.\n",
            "  _log_warning(\"'early_stopping_rounds' argument is deprecated and will be removed in a future release of LightGBM. \"\n",
            "/usr/local/lib/python3.9/dist-packages/lightgbm/sklearn.py:736: UserWarning: 'verbose' argument is deprecated and will be removed in a future release of LightGBM. Pass 'log_evaluation()' callback via 'callbacks' argument instead.\n",
            "  _log_warning(\"'verbose' argument is deprecated and will be removed in a future release of LightGBM. \"\n"
          ]
        },
        {
          "name": "stdout",
          "output_type": "stream",
          "text": [
            "[LightGBM] [Warning] lambda_l1 is set=60, reg_alpha=0.0 will be ignored. Current value: lambda_l1=60\n",
            "[LightGBM] [Warning] bagging_fraction is set=0.6081469530242185, subsample=1.0 will be ignored. Current value: bagging_fraction=0.6081469530242185\n",
            "[LightGBM] [Warning] lambda_l2 is set=0, reg_lambda=0.0 will be ignored. Current value: lambda_l2=0\n",
            "[LightGBM] [Warning] feature_fraction is set=0.702873455234831, colsample_bytree=1.0 will be ignored. Current value: feature_fraction=0.702873455234831\n",
            "[LightGBM] [Warning] min_data_in_leaf is set=98, min_child_samples=20 will be ignored. Current value: min_data_in_leaf=98\n",
            "[LightGBM] [Warning] bagging_freq is set=1, subsample_freq=0 will be ignored. Current value: bagging_freq=1\n",
            "[500]\tvalid_0's binary_logloss: 0.0142366\n"
          ]
        },
        {
          "name": "stderr",
          "output_type": "stream",
          "text": [
            "\u001b[32m[I 2023-03-30 12:37:56,630]\u001b[0m Trial 4 finished with value: 0.7634280890031656 and parameters: {'n_estimators': 10000, 'learning_rate': 0.13748241032348263, 'num_leaves': 318, 'max_depth': 6, 'min_data_in_leaf': 98, 'lambda_l1': 60, 'lambda_l2': 0, 'bagging_fraction': 0.6081469530242185, 'bagging_freq': 1, 'feature_fraction': 0.702873455234831}. Best is trial 3 with value: 0.8166278908347622.\u001b[0m\n",
            "/usr/local/lib/python3.9/dist-packages/lightgbm/sklearn.py:726: UserWarning: 'early_stopping_rounds' argument is deprecated and will be removed in a future release of LightGBM. Pass 'early_stopping()' callback via 'callbacks' argument instead.\n",
            "  _log_warning(\"'early_stopping_rounds' argument is deprecated and will be removed in a future release of LightGBM. \"\n",
            "/usr/local/lib/python3.9/dist-packages/lightgbm/sklearn.py:736: UserWarning: 'verbose' argument is deprecated and will be removed in a future release of LightGBM. Pass 'log_evaluation()' callback via 'callbacks' argument instead.\n",
            "  _log_warning(\"'verbose' argument is deprecated and will be removed in a future release of LightGBM. \"\n"
          ]
        },
        {
          "name": "stdout",
          "output_type": "stream",
          "text": [
            "[LightGBM] [Warning] lambda_l1 is set=100, reg_alpha=0.0 will be ignored. Current value: lambda_l1=100\n",
            "[LightGBM] [Warning] bagging_fraction is set=0.5749104242247253, subsample=1.0 will be ignored. Current value: bagging_fraction=0.5749104242247253\n",
            "[LightGBM] [Warning] lambda_l2 is set=100, reg_lambda=0.0 will be ignored. Current value: lambda_l2=100\n",
            "[LightGBM] [Warning] feature_fraction is set=0.711465571218884, colsample_bytree=1.0 will be ignored. Current value: feature_fraction=0.711465571218884\n",
            "[LightGBM] [Warning] min_data_in_leaf is set=103, min_child_samples=20 will be ignored. Current value: min_data_in_leaf=103\n",
            "[LightGBM] [Warning] bagging_freq is set=1, subsample_freq=0 will be ignored. Current value: bagging_freq=1\n",
            "[500]\tvalid_0's binary_logloss: 0.0154818\n"
          ]
        },
        {
          "name": "stderr",
          "output_type": "stream",
          "text": [
            "/usr/local/lib/python3.9/dist-packages/lightgbm/sklearn.py:726: UserWarning: 'early_stopping_rounds' argument is deprecated and will be removed in a future release of LightGBM. Pass 'early_stopping()' callback via 'callbacks' argument instead.\n",
            "  _log_warning(\"'early_stopping_rounds' argument is deprecated and will be removed in a future release of LightGBM. \"\n",
            "/usr/local/lib/python3.9/dist-packages/lightgbm/sklearn.py:736: UserWarning: 'verbose' argument is deprecated and will be removed in a future release of LightGBM. Pass 'log_evaluation()' callback via 'callbacks' argument instead.\n",
            "  _log_warning(\"'verbose' argument is deprecated and will be removed in a future release of LightGBM. \"\n"
          ]
        },
        {
          "name": "stdout",
          "output_type": "stream",
          "text": [
            "[LightGBM] [Warning] lambda_l1 is set=100, reg_alpha=0.0 will be ignored. Current value: lambda_l1=100\n",
            "[LightGBM] [Warning] bagging_fraction is set=0.5749104242247253, subsample=1.0 will be ignored. Current value: bagging_fraction=0.5749104242247253\n",
            "[LightGBM] [Warning] lambda_l2 is set=100, reg_lambda=0.0 will be ignored. Current value: lambda_l2=100\n",
            "[LightGBM] [Warning] feature_fraction is set=0.711465571218884, colsample_bytree=1.0 will be ignored. Current value: feature_fraction=0.711465571218884\n",
            "[LightGBM] [Warning] min_data_in_leaf is set=103, min_child_samples=20 will be ignored. Current value: min_data_in_leaf=103\n",
            "[LightGBM] [Warning] bagging_freq is set=1, subsample_freq=0 will be ignored. Current value: bagging_freq=1\n"
          ]
        },
        {
          "name": "stderr",
          "output_type": "stream",
          "text": [
            "/usr/local/lib/python3.9/dist-packages/lightgbm/sklearn.py:726: UserWarning: 'early_stopping_rounds' argument is deprecated and will be removed in a future release of LightGBM. Pass 'early_stopping()' callback via 'callbacks' argument instead.\n",
            "  _log_warning(\"'early_stopping_rounds' argument is deprecated and will be removed in a future release of LightGBM. \"\n",
            "/usr/local/lib/python3.9/dist-packages/lightgbm/sklearn.py:736: UserWarning: 'verbose' argument is deprecated and will be removed in a future release of LightGBM. Pass 'log_evaluation()' callback via 'callbacks' argument instead.\n",
            "  _log_warning(\"'verbose' argument is deprecated and will be removed in a future release of LightGBM. \"\n"
          ]
        },
        {
          "name": "stdout",
          "output_type": "stream",
          "text": [
            "[LightGBM] [Warning] lambda_l1 is set=100, reg_alpha=0.0 will be ignored. Current value: lambda_l1=100\n",
            "[LightGBM] [Warning] bagging_fraction is set=0.5749104242247253, subsample=1.0 will be ignored. Current value: bagging_fraction=0.5749104242247253\n",
            "[LightGBM] [Warning] lambda_l2 is set=100, reg_lambda=0.0 will be ignored. Current value: lambda_l2=100\n",
            "[LightGBM] [Warning] feature_fraction is set=0.711465571218884, colsample_bytree=1.0 will be ignored. Current value: feature_fraction=0.711465571218884\n",
            "[LightGBM] [Warning] min_data_in_leaf is set=103, min_child_samples=20 will be ignored. Current value: min_data_in_leaf=103\n",
            "[LightGBM] [Warning] bagging_freq is set=1, subsample_freq=0 will be ignored. Current value: bagging_freq=1\n"
          ]
        },
        {
          "name": "stderr",
          "output_type": "stream",
          "text": [
            "/usr/local/lib/python3.9/dist-packages/lightgbm/sklearn.py:726: UserWarning: 'early_stopping_rounds' argument is deprecated and will be removed in a future release of LightGBM. Pass 'early_stopping()' callback via 'callbacks' argument instead.\n",
            "  _log_warning(\"'early_stopping_rounds' argument is deprecated and will be removed in a future release of LightGBM. \"\n",
            "/usr/local/lib/python3.9/dist-packages/lightgbm/sklearn.py:736: UserWarning: 'verbose' argument is deprecated and will be removed in a future release of LightGBM. Pass 'log_evaluation()' callback via 'callbacks' argument instead.\n",
            "  _log_warning(\"'verbose' argument is deprecated and will be removed in a future release of LightGBM. \"\n"
          ]
        },
        {
          "name": "stdout",
          "output_type": "stream",
          "text": [
            "[LightGBM] [Warning] lambda_l1 is set=100, reg_alpha=0.0 will be ignored. Current value: lambda_l1=100\n",
            "[LightGBM] [Warning] bagging_fraction is set=0.5749104242247253, subsample=1.0 will be ignored. Current value: bagging_fraction=0.5749104242247253\n",
            "[LightGBM] [Warning] lambda_l2 is set=100, reg_lambda=0.0 will be ignored. Current value: lambda_l2=100\n",
            "[LightGBM] [Warning] feature_fraction is set=0.711465571218884, colsample_bytree=1.0 will be ignored. Current value: feature_fraction=0.711465571218884\n",
            "[LightGBM] [Warning] min_data_in_leaf is set=103, min_child_samples=20 will be ignored. Current value: min_data_in_leaf=103\n",
            "[LightGBM] [Warning] bagging_freq is set=1, subsample_freq=0 will be ignored. Current value: bagging_freq=1\n"
          ]
        },
        {
          "name": "stderr",
          "output_type": "stream",
          "text": [
            "/usr/local/lib/python3.9/dist-packages/lightgbm/sklearn.py:726: UserWarning: 'early_stopping_rounds' argument is deprecated and will be removed in a future release of LightGBM. Pass 'early_stopping()' callback via 'callbacks' argument instead.\n",
            "  _log_warning(\"'early_stopping_rounds' argument is deprecated and will be removed in a future release of LightGBM. \"\n",
            "/usr/local/lib/python3.9/dist-packages/lightgbm/sklearn.py:736: UserWarning: 'verbose' argument is deprecated and will be removed in a future release of LightGBM. Pass 'log_evaluation()' callback via 'callbacks' argument instead.\n",
            "  _log_warning(\"'verbose' argument is deprecated and will be removed in a future release of LightGBM. \"\n"
          ]
        },
        {
          "name": "stdout",
          "output_type": "stream",
          "text": [
            "[LightGBM] [Warning] lambda_l1 is set=100, reg_alpha=0.0 will be ignored. Current value: lambda_l1=100\n",
            "[LightGBM] [Warning] bagging_fraction is set=0.5749104242247253, subsample=1.0 will be ignored. Current value: bagging_fraction=0.5749104242247253\n",
            "[LightGBM] [Warning] lambda_l2 is set=100, reg_lambda=0.0 will be ignored. Current value: lambda_l2=100\n",
            "[LightGBM] [Warning] feature_fraction is set=0.711465571218884, colsample_bytree=1.0 will be ignored. Current value: feature_fraction=0.711465571218884\n",
            "[LightGBM] [Warning] min_data_in_leaf is set=103, min_child_samples=20 will be ignored. Current value: min_data_in_leaf=103\n",
            "[LightGBM] [Warning] bagging_freq is set=1, subsample_freq=0 will be ignored. Current value: bagging_freq=1\n",
            "[500]\tvalid_0's binary_logloss: 0.0153582\n"
          ]
        },
        {
          "name": "stderr",
          "output_type": "stream",
          "text": [
            "\u001b[32m[I 2023-03-30 12:38:36,815]\u001b[0m Trial 5 finished with value: 0.6119639619601874 and parameters: {'n_estimators': 10000, 'learning_rate': 0.2153270945117389, 'num_leaves': 1212, 'max_depth': 12, 'min_data_in_leaf': 103, 'lambda_l1': 100, 'lambda_l2': 100, 'bagging_fraction': 0.5749104242247253, 'bagging_freq': 1, 'feature_fraction': 0.711465571218884}. Best is trial 3 with value: 0.8166278908347622.\u001b[0m\n",
            "/usr/local/lib/python3.9/dist-packages/lightgbm/sklearn.py:726: UserWarning: 'early_stopping_rounds' argument is deprecated and will be removed in a future release of LightGBM. Pass 'early_stopping()' callback via 'callbacks' argument instead.\n",
            "  _log_warning(\"'early_stopping_rounds' argument is deprecated and will be removed in a future release of LightGBM. \"\n",
            "/usr/local/lib/python3.9/dist-packages/lightgbm/sklearn.py:736: UserWarning: 'verbose' argument is deprecated and will be removed in a future release of LightGBM. Pass 'log_evaluation()' callback via 'callbacks' argument instead.\n",
            "  _log_warning(\"'verbose' argument is deprecated and will be removed in a future release of LightGBM. \"\n"
          ]
        },
        {
          "name": "stdout",
          "output_type": "stream",
          "text": [
            "[LightGBM] [Warning] lambda_l1 is set=80, reg_alpha=0.0 will be ignored. Current value: lambda_l1=80\n",
            "[LightGBM] [Warning] bagging_fraction is set=0.5435101617635315, subsample=1.0 will be ignored. Current value: bagging_fraction=0.5435101617635315\n",
            "[LightGBM] [Warning] lambda_l2 is set=20, reg_lambda=0.0 will be ignored. Current value: lambda_l2=20\n",
            "[LightGBM] [Warning] feature_fraction is set=0.8388100179701828, colsample_bytree=1.0 will be ignored. Current value: feature_fraction=0.8388100179701828\n",
            "[LightGBM] [Warning] min_data_in_leaf is set=90, min_child_samples=20 will be ignored. Current value: min_data_in_leaf=90\n",
            "[LightGBM] [Warning] bagging_freq is set=1, subsample_freq=0 will be ignored. Current value: bagging_freq=1\n"
          ]
        },
        {
          "name": "stderr",
          "output_type": "stream",
          "text": [
            "/usr/local/lib/python3.9/dist-packages/lightgbm/sklearn.py:726: UserWarning: 'early_stopping_rounds' argument is deprecated and will be removed in a future release of LightGBM. Pass 'early_stopping()' callback via 'callbacks' argument instead.\n",
            "  _log_warning(\"'early_stopping_rounds' argument is deprecated and will be removed in a future release of LightGBM. \"\n",
            "/usr/local/lib/python3.9/dist-packages/lightgbm/sklearn.py:736: UserWarning: 'verbose' argument is deprecated and will be removed in a future release of LightGBM. Pass 'log_evaluation()' callback via 'callbacks' argument instead.\n",
            "  _log_warning(\"'verbose' argument is deprecated and will be removed in a future release of LightGBM. \"\n"
          ]
        },
        {
          "name": "stdout",
          "output_type": "stream",
          "text": [
            "[LightGBM] [Warning] lambda_l1 is set=80, reg_alpha=0.0 will be ignored. Current value: lambda_l1=80\n",
            "[LightGBM] [Warning] bagging_fraction is set=0.5435101617635315, subsample=1.0 will be ignored. Current value: bagging_fraction=0.5435101617635315\n",
            "[LightGBM] [Warning] lambda_l2 is set=20, reg_lambda=0.0 will be ignored. Current value: lambda_l2=20\n",
            "[LightGBM] [Warning] feature_fraction is set=0.8388100179701828, colsample_bytree=1.0 will be ignored. Current value: feature_fraction=0.8388100179701828\n",
            "[LightGBM] [Warning] min_data_in_leaf is set=90, min_child_samples=20 will be ignored. Current value: min_data_in_leaf=90\n",
            "[LightGBM] [Warning] bagging_freq is set=1, subsample_freq=0 will be ignored. Current value: bagging_freq=1\n"
          ]
        },
        {
          "name": "stderr",
          "output_type": "stream",
          "text": [
            "/usr/local/lib/python3.9/dist-packages/lightgbm/sklearn.py:726: UserWarning: 'early_stopping_rounds' argument is deprecated and will be removed in a future release of LightGBM. Pass 'early_stopping()' callback via 'callbacks' argument instead.\n",
            "  _log_warning(\"'early_stopping_rounds' argument is deprecated and will be removed in a future release of LightGBM. \"\n",
            "/usr/local/lib/python3.9/dist-packages/lightgbm/sklearn.py:736: UserWarning: 'verbose' argument is deprecated and will be removed in a future release of LightGBM. Pass 'log_evaluation()' callback via 'callbacks' argument instead.\n",
            "  _log_warning(\"'verbose' argument is deprecated and will be removed in a future release of LightGBM. \"\n"
          ]
        },
        {
          "name": "stdout",
          "output_type": "stream",
          "text": [
            "[LightGBM] [Warning] lambda_l1 is set=80, reg_alpha=0.0 will be ignored. Current value: lambda_l1=80\n",
            "[LightGBM] [Warning] bagging_fraction is set=0.5435101617635315, subsample=1.0 will be ignored. Current value: bagging_fraction=0.5435101617635315\n",
            "[LightGBM] [Warning] lambda_l2 is set=20, reg_lambda=0.0 will be ignored. Current value: lambda_l2=20\n",
            "[LightGBM] [Warning] feature_fraction is set=0.8388100179701828, colsample_bytree=1.0 will be ignored. Current value: feature_fraction=0.8388100179701828\n",
            "[LightGBM] [Warning] min_data_in_leaf is set=90, min_child_samples=20 will be ignored. Current value: min_data_in_leaf=90\n",
            "[LightGBM] [Warning] bagging_freq is set=1, subsample_freq=0 will be ignored. Current value: bagging_freq=1\n"
          ]
        },
        {
          "name": "stderr",
          "output_type": "stream",
          "text": [
            "/usr/local/lib/python3.9/dist-packages/lightgbm/sklearn.py:726: UserWarning: 'early_stopping_rounds' argument is deprecated and will be removed in a future release of LightGBM. Pass 'early_stopping()' callback via 'callbacks' argument instead.\n",
            "  _log_warning(\"'early_stopping_rounds' argument is deprecated and will be removed in a future release of LightGBM. \"\n",
            "/usr/local/lib/python3.9/dist-packages/lightgbm/sklearn.py:736: UserWarning: 'verbose' argument is deprecated and will be removed in a future release of LightGBM. Pass 'log_evaluation()' callback via 'callbacks' argument instead.\n",
            "  _log_warning(\"'verbose' argument is deprecated and will be removed in a future release of LightGBM. \"\n"
          ]
        },
        {
          "name": "stdout",
          "output_type": "stream",
          "text": [
            "[LightGBM] [Warning] lambda_l1 is set=80, reg_alpha=0.0 will be ignored. Current value: lambda_l1=80\n",
            "[LightGBM] [Warning] bagging_fraction is set=0.5435101617635315, subsample=1.0 will be ignored. Current value: bagging_fraction=0.5435101617635315\n",
            "[LightGBM] [Warning] lambda_l2 is set=20, reg_lambda=0.0 will be ignored. Current value: lambda_l2=20\n",
            "[LightGBM] [Warning] feature_fraction is set=0.8388100179701828, colsample_bytree=1.0 will be ignored. Current value: feature_fraction=0.8388100179701828\n",
            "[LightGBM] [Warning] min_data_in_leaf is set=90, min_child_samples=20 will be ignored. Current value: min_data_in_leaf=90\n",
            "[LightGBM] [Warning] bagging_freq is set=1, subsample_freq=0 will be ignored. Current value: bagging_freq=1\n"
          ]
        },
        {
          "name": "stderr",
          "output_type": "stream",
          "text": [
            "/usr/local/lib/python3.9/dist-packages/lightgbm/sklearn.py:726: UserWarning: 'early_stopping_rounds' argument is deprecated and will be removed in a future release of LightGBM. Pass 'early_stopping()' callback via 'callbacks' argument instead.\n",
            "  _log_warning(\"'early_stopping_rounds' argument is deprecated and will be removed in a future release of LightGBM. \"\n",
            "/usr/local/lib/python3.9/dist-packages/lightgbm/sklearn.py:736: UserWarning: 'verbose' argument is deprecated and will be removed in a future release of LightGBM. Pass 'log_evaluation()' callback via 'callbacks' argument instead.\n",
            "  _log_warning(\"'verbose' argument is deprecated and will be removed in a future release of LightGBM. \"\n"
          ]
        },
        {
          "name": "stdout",
          "output_type": "stream",
          "text": [
            "[LightGBM] [Warning] lambda_l1 is set=80, reg_alpha=0.0 will be ignored. Current value: lambda_l1=80\n",
            "[LightGBM] [Warning] bagging_fraction is set=0.5435101617635315, subsample=1.0 will be ignored. Current value: bagging_fraction=0.5435101617635315\n",
            "[LightGBM] [Warning] lambda_l2 is set=20, reg_lambda=0.0 will be ignored. Current value: lambda_l2=20\n",
            "[LightGBM] [Warning] feature_fraction is set=0.8388100179701828, colsample_bytree=1.0 will be ignored. Current value: feature_fraction=0.8388100179701828\n",
            "[LightGBM] [Warning] min_data_in_leaf is set=90, min_child_samples=20 will be ignored. Current value: min_data_in_leaf=90\n",
            "[LightGBM] [Warning] bagging_freq is set=1, subsample_freq=0 will be ignored. Current value: bagging_freq=1\n"
          ]
        },
        {
          "name": "stderr",
          "output_type": "stream",
          "text": [
            "\u001b[32m[I 2023-03-30 12:39:09,004]\u001b[0m Trial 6 finished with value: 0.6600183776235038 and parameters: {'n_estimators': 10000, 'learning_rate': 0.2650935574868244, 'num_leaves': 1510, 'max_depth': 8, 'min_data_in_leaf': 90, 'lambda_l1': 80, 'lambda_l2': 20, 'bagging_fraction': 0.5435101617635315, 'bagging_freq': 1, 'feature_fraction': 0.8388100179701828}. Best is trial 3 with value: 0.8166278908347622.\u001b[0m\n",
            "/usr/local/lib/python3.9/dist-packages/lightgbm/sklearn.py:726: UserWarning: 'early_stopping_rounds' argument is deprecated and will be removed in a future release of LightGBM. Pass 'early_stopping()' callback via 'callbacks' argument instead.\n",
            "  _log_warning(\"'early_stopping_rounds' argument is deprecated and will be removed in a future release of LightGBM. \"\n",
            "/usr/local/lib/python3.9/dist-packages/lightgbm/sklearn.py:736: UserWarning: 'verbose' argument is deprecated and will be removed in a future release of LightGBM. Pass 'log_evaluation()' callback via 'callbacks' argument instead.\n",
            "  _log_warning(\"'verbose' argument is deprecated and will be removed in a future release of LightGBM. \"\n"
          ]
        },
        {
          "name": "stdout",
          "output_type": "stream",
          "text": [
            "[LightGBM] [Warning] lambda_l1 is set=20, reg_alpha=0.0 will be ignored. Current value: lambda_l1=20\n",
            "[LightGBM] [Warning] bagging_fraction is set=0.5243575556705113, subsample=1.0 will be ignored. Current value: bagging_fraction=0.5243575556705113\n",
            "[LightGBM] [Warning] lambda_l2 is set=60, reg_lambda=0.0 will be ignored. Current value: lambda_l2=60\n",
            "[LightGBM] [Warning] feature_fraction is set=0.8239497432793628, colsample_bytree=1.0 will be ignored. Current value: feature_fraction=0.8239497432793628\n",
            "[LightGBM] [Warning] min_data_in_leaf is set=100, min_child_samples=20 will be ignored. Current value: min_data_in_leaf=100\n",
            "[LightGBM] [Warning] bagging_freq is set=1, subsample_freq=0 will be ignored. Current value: bagging_freq=1\n"
          ]
        },
        {
          "name": "stderr",
          "output_type": "stream",
          "text": [
            "/usr/local/lib/python3.9/dist-packages/lightgbm/sklearn.py:726: UserWarning: 'early_stopping_rounds' argument is deprecated and will be removed in a future release of LightGBM. Pass 'early_stopping()' callback via 'callbacks' argument instead.\n",
            "  _log_warning(\"'early_stopping_rounds' argument is deprecated and will be removed in a future release of LightGBM. \"\n",
            "/usr/local/lib/python3.9/dist-packages/lightgbm/sklearn.py:736: UserWarning: 'verbose' argument is deprecated and will be removed in a future release of LightGBM. Pass 'log_evaluation()' callback via 'callbacks' argument instead.\n",
            "  _log_warning(\"'verbose' argument is deprecated and will be removed in a future release of LightGBM. \"\n"
          ]
        },
        {
          "name": "stdout",
          "output_type": "stream",
          "text": [
            "[LightGBM] [Warning] lambda_l1 is set=20, reg_alpha=0.0 will be ignored. Current value: lambda_l1=20\n",
            "[LightGBM] [Warning] bagging_fraction is set=0.5243575556705113, subsample=1.0 will be ignored. Current value: bagging_fraction=0.5243575556705113\n",
            "[LightGBM] [Warning] lambda_l2 is set=60, reg_lambda=0.0 will be ignored. Current value: lambda_l2=60\n",
            "[LightGBM] [Warning] feature_fraction is set=0.8239497432793628, colsample_bytree=1.0 will be ignored. Current value: feature_fraction=0.8239497432793628\n",
            "[LightGBM] [Warning] min_data_in_leaf is set=100, min_child_samples=20 will be ignored. Current value: min_data_in_leaf=100\n",
            "[LightGBM] [Warning] bagging_freq is set=1, subsample_freq=0 will be ignored. Current value: bagging_freq=1\n",
            "[500]\tvalid_0's binary_logloss: 0.0127158\n"
          ]
        },
        {
          "name": "stderr",
          "output_type": "stream",
          "text": [
            "/usr/local/lib/python3.9/dist-packages/lightgbm/sklearn.py:726: UserWarning: 'early_stopping_rounds' argument is deprecated and will be removed in a future release of LightGBM. Pass 'early_stopping()' callback via 'callbacks' argument instead.\n",
            "  _log_warning(\"'early_stopping_rounds' argument is deprecated and will be removed in a future release of LightGBM. \"\n",
            "/usr/local/lib/python3.9/dist-packages/lightgbm/sklearn.py:736: UserWarning: 'verbose' argument is deprecated and will be removed in a future release of LightGBM. Pass 'log_evaluation()' callback via 'callbacks' argument instead.\n",
            "  _log_warning(\"'verbose' argument is deprecated and will be removed in a future release of LightGBM. \"\n"
          ]
        },
        {
          "name": "stdout",
          "output_type": "stream",
          "text": [
            "[LightGBM] [Warning] lambda_l1 is set=20, reg_alpha=0.0 will be ignored. Current value: lambda_l1=20\n",
            "[LightGBM] [Warning] bagging_fraction is set=0.5243575556705113, subsample=1.0 will be ignored. Current value: bagging_fraction=0.5243575556705113\n",
            "[LightGBM] [Warning] lambda_l2 is set=60, reg_lambda=0.0 will be ignored. Current value: lambda_l2=60\n",
            "[LightGBM] [Warning] feature_fraction is set=0.8239497432793628, colsample_bytree=1.0 will be ignored. Current value: feature_fraction=0.8239497432793628\n",
            "[LightGBM] [Warning] min_data_in_leaf is set=100, min_child_samples=20 will be ignored. Current value: min_data_in_leaf=100\n",
            "[LightGBM] [Warning] bagging_freq is set=1, subsample_freq=0 will be ignored. Current value: bagging_freq=1\n",
            "[500]\tvalid_0's binary_logloss: 0.0133614\n"
          ]
        },
        {
          "name": "stderr",
          "output_type": "stream",
          "text": [
            "/usr/local/lib/python3.9/dist-packages/lightgbm/sklearn.py:726: UserWarning: 'early_stopping_rounds' argument is deprecated and will be removed in a future release of LightGBM. Pass 'early_stopping()' callback via 'callbacks' argument instead.\n",
            "  _log_warning(\"'early_stopping_rounds' argument is deprecated and will be removed in a future release of LightGBM. \"\n",
            "/usr/local/lib/python3.9/dist-packages/lightgbm/sklearn.py:736: UserWarning: 'verbose' argument is deprecated and will be removed in a future release of LightGBM. Pass 'log_evaluation()' callback via 'callbacks' argument instead.\n",
            "  _log_warning(\"'verbose' argument is deprecated and will be removed in a future release of LightGBM. \"\n"
          ]
        },
        {
          "name": "stdout",
          "output_type": "stream",
          "text": [
            "[LightGBM] [Warning] lambda_l1 is set=20, reg_alpha=0.0 will be ignored. Current value: lambda_l1=20\n",
            "[LightGBM] [Warning] bagging_fraction is set=0.5243575556705113, subsample=1.0 will be ignored. Current value: bagging_fraction=0.5243575556705113\n",
            "[LightGBM] [Warning] lambda_l2 is set=60, reg_lambda=0.0 will be ignored. Current value: lambda_l2=60\n",
            "[LightGBM] [Warning] feature_fraction is set=0.8239497432793628, colsample_bytree=1.0 will be ignored. Current value: feature_fraction=0.8239497432793628\n",
            "[LightGBM] [Warning] min_data_in_leaf is set=100, min_child_samples=20 will be ignored. Current value: min_data_in_leaf=100\n",
            "[LightGBM] [Warning] bagging_freq is set=1, subsample_freq=0 will be ignored. Current value: bagging_freq=1\n"
          ]
        },
        {
          "name": "stderr",
          "output_type": "stream",
          "text": [
            "/usr/local/lib/python3.9/dist-packages/lightgbm/sklearn.py:726: UserWarning: 'early_stopping_rounds' argument is deprecated and will be removed in a future release of LightGBM. Pass 'early_stopping()' callback via 'callbacks' argument instead.\n",
            "  _log_warning(\"'early_stopping_rounds' argument is deprecated and will be removed in a future release of LightGBM. \"\n",
            "/usr/local/lib/python3.9/dist-packages/lightgbm/sklearn.py:736: UserWarning: 'verbose' argument is deprecated and will be removed in a future release of LightGBM. Pass 'log_evaluation()' callback via 'callbacks' argument instead.\n",
            "  _log_warning(\"'verbose' argument is deprecated and will be removed in a future release of LightGBM. \"\n"
          ]
        },
        {
          "name": "stdout",
          "output_type": "stream",
          "text": [
            "[LightGBM] [Warning] lambda_l1 is set=20, reg_alpha=0.0 will be ignored. Current value: lambda_l1=20\n",
            "[LightGBM] [Warning] bagging_fraction is set=0.5243575556705113, subsample=1.0 will be ignored. Current value: bagging_fraction=0.5243575556705113\n",
            "[LightGBM] [Warning] lambda_l2 is set=60, reg_lambda=0.0 will be ignored. Current value: lambda_l2=60\n",
            "[LightGBM] [Warning] feature_fraction is set=0.8239497432793628, colsample_bytree=1.0 will be ignored. Current value: feature_fraction=0.8239497432793628\n",
            "[LightGBM] [Warning] min_data_in_leaf is set=100, min_child_samples=20 will be ignored. Current value: min_data_in_leaf=100\n",
            "[LightGBM] [Warning] bagging_freq is set=1, subsample_freq=0 will be ignored. Current value: bagging_freq=1\n"
          ]
        },
        {
          "name": "stderr",
          "output_type": "stream",
          "text": [
            "\u001b[32m[I 2023-03-30 12:40:11,433]\u001b[0m Trial 7 finished with value: 0.8158648323078802 and parameters: {'n_estimators': 10000, 'learning_rate': 0.16496043137826977, 'num_leaves': 2106, 'max_depth': 10, 'min_data_in_leaf': 100, 'lambda_l1': 20, 'lambda_l2': 60, 'bagging_fraction': 0.5243575556705113, 'bagging_freq': 1, 'feature_fraction': 0.8239497432793628}. Best is trial 3 with value: 0.8166278908347622.\u001b[0m\n",
            "/usr/local/lib/python3.9/dist-packages/lightgbm/sklearn.py:726: UserWarning: 'early_stopping_rounds' argument is deprecated and will be removed in a future release of LightGBM. Pass 'early_stopping()' callback via 'callbacks' argument instead.\n",
            "  _log_warning(\"'early_stopping_rounds' argument is deprecated and will be removed in a future release of LightGBM. \"\n",
            "/usr/local/lib/python3.9/dist-packages/lightgbm/sklearn.py:736: UserWarning: 'verbose' argument is deprecated and will be removed in a future release of LightGBM. Pass 'log_evaluation()' callback via 'callbacks' argument instead.\n",
            "  _log_warning(\"'verbose' argument is deprecated and will be removed in a future release of LightGBM. \"\n"
          ]
        },
        {
          "name": "stdout",
          "output_type": "stream",
          "text": [
            "[LightGBM] [Warning] lambda_l1 is set=40, reg_alpha=0.0 will be ignored. Current value: lambda_l1=40\n",
            "[LightGBM] [Warning] bagging_fraction is set=0.5018163820350472, subsample=1.0 will be ignored. Current value: bagging_fraction=0.5018163820350472\n",
            "[LightGBM] [Warning] lambda_l2 is set=100, reg_lambda=0.0 will be ignored. Current value: lambda_l2=100\n",
            "[LightGBM] [Warning] feature_fraction is set=0.7063174248634279, colsample_bytree=1.0 will be ignored. Current value: feature_fraction=0.7063174248634279\n",
            "[LightGBM] [Warning] min_data_in_leaf is set=103, min_child_samples=20 will be ignored. Current value: min_data_in_leaf=103\n",
            "[LightGBM] [Warning] bagging_freq is set=1, subsample_freq=0 will be ignored. Current value: bagging_freq=1\n",
            "[500]\tvalid_0's binary_logloss: 0.0143464\n",
            "[1000]\tvalid_0's binary_logloss: 0.0141905\n",
            "[1500]\tvalid_0's binary_logloss: 0.0140982\n",
            "[2000]\tvalid_0's binary_logloss: 0.0140417\n",
            "[2500]\tvalid_0's binary_logloss: 0.0140026\n",
            "[3000]\tvalid_0's binary_logloss: 0.0139647\n",
            "[3500]\tvalid_0's binary_logloss: 0.0139382\n",
            "[4000]\tvalid_0's binary_logloss: 0.0139186\n",
            "[4500]\tvalid_0's binary_logloss: 0.0138964\n",
            "[5000]\tvalid_0's binary_logloss: 0.0138839\n"
          ]
        },
        {
          "name": "stderr",
          "output_type": "stream",
          "text": [
            "/usr/local/lib/python3.9/dist-packages/lightgbm/sklearn.py:726: UserWarning: 'early_stopping_rounds' argument is deprecated and will be removed in a future release of LightGBM. Pass 'early_stopping()' callback via 'callbacks' argument instead.\n",
            "  _log_warning(\"'early_stopping_rounds' argument is deprecated and will be removed in a future release of LightGBM. \"\n",
            "/usr/local/lib/python3.9/dist-packages/lightgbm/sklearn.py:736: UserWarning: 'verbose' argument is deprecated and will be removed in a future release of LightGBM. Pass 'log_evaluation()' callback via 'callbacks' argument instead.\n",
            "  _log_warning(\"'verbose' argument is deprecated and will be removed in a future release of LightGBM. \"\n"
          ]
        },
        {
          "name": "stdout",
          "output_type": "stream",
          "text": [
            "[LightGBM] [Warning] lambda_l1 is set=40, reg_alpha=0.0 will be ignored. Current value: lambda_l1=40\n",
            "[LightGBM] [Warning] bagging_fraction is set=0.5018163820350472, subsample=1.0 will be ignored. Current value: bagging_fraction=0.5018163820350472\n",
            "[LightGBM] [Warning] lambda_l2 is set=100, reg_lambda=0.0 will be ignored. Current value: lambda_l2=100\n",
            "[LightGBM] [Warning] feature_fraction is set=0.7063174248634279, colsample_bytree=1.0 will be ignored. Current value: feature_fraction=0.7063174248634279\n",
            "[LightGBM] [Warning] min_data_in_leaf is set=103, min_child_samples=20 will be ignored. Current value: min_data_in_leaf=103\n",
            "[LightGBM] [Warning] bagging_freq is set=1, subsample_freq=0 will be ignored. Current value: bagging_freq=1\n",
            "[500]\tvalid_0's binary_logloss: 0.0141298\n",
            "[1000]\tvalid_0's binary_logloss: 0.0139031\n",
            "[1500]\tvalid_0's binary_logloss: 0.0138073\n",
            "[2000]\tvalid_0's binary_logloss: 0.0137502\n",
            "[2500]\tvalid_0's binary_logloss: 0.0136976\n",
            "[3000]\tvalid_0's binary_logloss: 0.013661\n",
            "[3500]\tvalid_0's binary_logloss: 0.0136269\n",
            "[4000]\tvalid_0's binary_logloss: 0.0135977\n",
            "[4500]\tvalid_0's binary_logloss: 0.0135801\n",
            "[5000]\tvalid_0's binary_logloss: 0.0135625\n",
            "[5500]\tvalid_0's binary_logloss: 0.0135462\n"
          ]
        },
        {
          "name": "stderr",
          "output_type": "stream",
          "text": [
            "/usr/local/lib/python3.9/dist-packages/lightgbm/sklearn.py:726: UserWarning: 'early_stopping_rounds' argument is deprecated and will be removed in a future release of LightGBM. Pass 'early_stopping()' callback via 'callbacks' argument instead.\n",
            "  _log_warning(\"'early_stopping_rounds' argument is deprecated and will be removed in a future release of LightGBM. \"\n",
            "/usr/local/lib/python3.9/dist-packages/lightgbm/sklearn.py:736: UserWarning: 'verbose' argument is deprecated and will be removed in a future release of LightGBM. Pass 'log_evaluation()' callback via 'callbacks' argument instead.\n",
            "  _log_warning(\"'verbose' argument is deprecated and will be removed in a future release of LightGBM. \"\n"
          ]
        },
        {
          "name": "stdout",
          "output_type": "stream",
          "text": [
            "[LightGBM] [Warning] lambda_l1 is set=40, reg_alpha=0.0 will be ignored. Current value: lambda_l1=40\n",
            "[LightGBM] [Warning] bagging_fraction is set=0.5018163820350472, subsample=1.0 will be ignored. Current value: bagging_fraction=0.5018163820350472\n",
            "[LightGBM] [Warning] lambda_l2 is set=100, reg_lambda=0.0 will be ignored. Current value: lambda_l2=100\n",
            "[LightGBM] [Warning] feature_fraction is set=0.7063174248634279, colsample_bytree=1.0 will be ignored. Current value: feature_fraction=0.7063174248634279\n",
            "[LightGBM] [Warning] min_data_in_leaf is set=103, min_child_samples=20 will be ignored. Current value: min_data_in_leaf=103\n",
            "[LightGBM] [Warning] bagging_freq is set=1, subsample_freq=0 will be ignored. Current value: bagging_freq=1\n",
            "[500]\tvalid_0's binary_logloss: 0.0143958\n",
            "[1000]\tvalid_0's binary_logloss: 0.0142362\n",
            "[1500]\tvalid_0's binary_logloss: 0.0141765\n",
            "[2000]\tvalid_0's binary_logloss: 0.0141448\n",
            "[2500]\tvalid_0's binary_logloss: 0.0141155\n",
            "[3000]\tvalid_0's binary_logloss: 0.0140958\n",
            "[3500]\tvalid_0's binary_logloss: 0.014073\n",
            "[4000]\tvalid_0's binary_logloss: 0.014062\n",
            "[4500]\tvalid_0's binary_logloss: 0.0140503\n",
            "[5000]\tvalid_0's binary_logloss: 0.0140426\n",
            "[5500]\tvalid_0's binary_logloss: 0.014033\n",
            "[6000]\tvalid_0's binary_logloss: 0.0140219\n",
            "[6500]\tvalid_0's binary_logloss: 0.0140078\n"
          ]
        },
        {
          "name": "stderr",
          "output_type": "stream",
          "text": [
            "/usr/local/lib/python3.9/dist-packages/lightgbm/sklearn.py:726: UserWarning: 'early_stopping_rounds' argument is deprecated and will be removed in a future release of LightGBM. Pass 'early_stopping()' callback via 'callbacks' argument instead.\n",
            "  _log_warning(\"'early_stopping_rounds' argument is deprecated and will be removed in a future release of LightGBM. \"\n",
            "/usr/local/lib/python3.9/dist-packages/lightgbm/sklearn.py:736: UserWarning: 'verbose' argument is deprecated and will be removed in a future release of LightGBM. Pass 'log_evaluation()' callback via 'callbacks' argument instead.\n",
            "  _log_warning(\"'verbose' argument is deprecated and will be removed in a future release of LightGBM. \"\n"
          ]
        },
        {
          "name": "stdout",
          "output_type": "stream",
          "text": [
            "[LightGBM] [Warning] lambda_l1 is set=40, reg_alpha=0.0 will be ignored. Current value: lambda_l1=40\n",
            "[LightGBM] [Warning] bagging_fraction is set=0.5018163820350472, subsample=1.0 will be ignored. Current value: bagging_fraction=0.5018163820350472\n",
            "[LightGBM] [Warning] lambda_l2 is set=100, reg_lambda=0.0 will be ignored. Current value: lambda_l2=100\n",
            "[LightGBM] [Warning] feature_fraction is set=0.7063174248634279, colsample_bytree=1.0 will be ignored. Current value: feature_fraction=0.7063174248634279\n",
            "[LightGBM] [Warning] min_data_in_leaf is set=103, min_child_samples=20 will be ignored. Current value: min_data_in_leaf=103\n",
            "[LightGBM] [Warning] bagging_freq is set=1, subsample_freq=0 will be ignored. Current value: bagging_freq=1\n",
            "[500]\tvalid_0's binary_logloss: 0.0142631\n",
            "[1000]\tvalid_0's binary_logloss: 0.0140868\n",
            "[1500]\tvalid_0's binary_logloss: 0.0140101\n",
            "[2000]\tvalid_0's binary_logloss: 0.0139599\n",
            "[2500]\tvalid_0's binary_logloss: 0.0139236\n",
            "[3000]\tvalid_0's binary_logloss: 0.013894\n",
            "[3500]\tvalid_0's binary_logloss: 0.013864\n",
            "[4000]\tvalid_0's binary_logloss: 0.0138447\n",
            "[4500]\tvalid_0's binary_logloss: 0.0138282\n",
            "[5000]\tvalid_0's binary_logloss: 0.0138114\n",
            "[5500]\tvalid_0's binary_logloss: 0.0138003\n"
          ]
        },
        {
          "name": "stderr",
          "output_type": "stream",
          "text": [
            "/usr/local/lib/python3.9/dist-packages/lightgbm/sklearn.py:726: UserWarning: 'early_stopping_rounds' argument is deprecated and will be removed in a future release of LightGBM. Pass 'early_stopping()' callback via 'callbacks' argument instead.\n",
            "  _log_warning(\"'early_stopping_rounds' argument is deprecated and will be removed in a future release of LightGBM. \"\n",
            "/usr/local/lib/python3.9/dist-packages/lightgbm/sklearn.py:736: UserWarning: 'verbose' argument is deprecated and will be removed in a future release of LightGBM. Pass 'log_evaluation()' callback via 'callbacks' argument instead.\n",
            "  _log_warning(\"'verbose' argument is deprecated and will be removed in a future release of LightGBM. \"\n"
          ]
        },
        {
          "name": "stdout",
          "output_type": "stream",
          "text": [
            "[LightGBM] [Warning] lambda_l1 is set=40, reg_alpha=0.0 will be ignored. Current value: lambda_l1=40\n",
            "[LightGBM] [Warning] bagging_fraction is set=0.5018163820350472, subsample=1.0 will be ignored. Current value: bagging_fraction=0.5018163820350472\n",
            "[LightGBM] [Warning] lambda_l2 is set=100, reg_lambda=0.0 will be ignored. Current value: lambda_l2=100\n",
            "[LightGBM] [Warning] feature_fraction is set=0.7063174248634279, colsample_bytree=1.0 will be ignored. Current value: feature_fraction=0.7063174248634279\n",
            "[LightGBM] [Warning] min_data_in_leaf is set=103, min_child_samples=20 will be ignored. Current value: min_data_in_leaf=103\n",
            "[LightGBM] [Warning] bagging_freq is set=1, subsample_freq=0 will be ignored. Current value: bagging_freq=1\n",
            "[500]\tvalid_0's binary_logloss: 0.0139992\n",
            "[1000]\tvalid_0's binary_logloss: 0.0137942\n",
            "[1500]\tvalid_0's binary_logloss: 0.0136972\n",
            "[2000]\tvalid_0's binary_logloss: 0.0136498\n",
            "[2500]\tvalid_0's binary_logloss: 0.0136089\n",
            "[3000]\tvalid_0's binary_logloss: 0.0135721\n",
            "[3500]\tvalid_0's binary_logloss: 0.0135406\n",
            "[4000]\tvalid_0's binary_logloss: 0.0135296\n",
            "[4500]\tvalid_0's binary_logloss: 0.013514\n",
            "[5000]\tvalid_0's binary_logloss: 0.0135002\n",
            "[5500]\tvalid_0's binary_logloss: 0.0134914\n",
            "[6000]\tvalid_0's binary_logloss: 0.0134764\n",
            "[6500]\tvalid_0's binary_logloss: 0.0134668\n",
            "[7000]\tvalid_0's binary_logloss: 0.0134557\n",
            "[7500]\tvalid_0's binary_logloss: 0.0134452\n",
            "[8000]\tvalid_0's binary_logloss: 0.0134373\n"
          ]
        },
        {
          "name": "stderr",
          "output_type": "stream",
          "text": [
            "\u001b[32m[I 2023-03-30 12:48:06,665]\u001b[0m Trial 8 finished with value: 0.7941802637633356 and parameters: {'n_estimators': 10000, 'learning_rate': 0.039732498639240374, 'num_leaves': 2404, 'max_depth': 9, 'min_data_in_leaf': 103, 'lambda_l1': 40, 'lambda_l2': 100, 'bagging_fraction': 0.5018163820350472, 'bagging_freq': 1, 'feature_fraction': 0.7063174248634279}. Best is trial 3 with value: 0.8166278908347622.\u001b[0m\n",
            "/usr/local/lib/python3.9/dist-packages/lightgbm/sklearn.py:726: UserWarning: 'early_stopping_rounds' argument is deprecated and will be removed in a future release of LightGBM. Pass 'early_stopping()' callback via 'callbacks' argument instead.\n",
            "  _log_warning(\"'early_stopping_rounds' argument is deprecated and will be removed in a future release of LightGBM. \"\n",
            "/usr/local/lib/python3.9/dist-packages/lightgbm/sklearn.py:736: UserWarning: 'verbose' argument is deprecated and will be removed in a future release of LightGBM. Pass 'log_evaluation()' callback via 'callbacks' argument instead.\n",
            "  _log_warning(\"'verbose' argument is deprecated and will be removed in a future release of LightGBM. \"\n"
          ]
        },
        {
          "name": "stdout",
          "output_type": "stream",
          "text": [
            "[LightGBM] [Warning] lambda_l1 is set=60, reg_alpha=0.0 will be ignored. Current value: lambda_l1=60\n",
            "[LightGBM] [Warning] bagging_fraction is set=0.5262034636312622, subsample=1.0 will be ignored. Current value: bagging_fraction=0.5262034636312622\n",
            "[LightGBM] [Warning] lambda_l2 is set=0, reg_lambda=0.0 will be ignored. Current value: lambda_l2=0\n",
            "[LightGBM] [Warning] feature_fraction is set=0.7473947390786714, colsample_bytree=1.0 will be ignored. Current value: feature_fraction=0.7473947390786714\n",
            "[LightGBM] [Warning] min_data_in_leaf is set=103, min_child_samples=20 will be ignored. Current value: min_data_in_leaf=103\n",
            "[LightGBM] [Warning] bagging_freq is set=1, subsample_freq=0 will be ignored. Current value: bagging_freq=1\n"
          ]
        },
        {
          "name": "stderr",
          "output_type": "stream",
          "text": [
            "/usr/local/lib/python3.9/dist-packages/lightgbm/sklearn.py:726: UserWarning: 'early_stopping_rounds' argument is deprecated and will be removed in a future release of LightGBM. Pass 'early_stopping()' callback via 'callbacks' argument instead.\n",
            "  _log_warning(\"'early_stopping_rounds' argument is deprecated and will be removed in a future release of LightGBM. \"\n",
            "/usr/local/lib/python3.9/dist-packages/lightgbm/sklearn.py:736: UserWarning: 'verbose' argument is deprecated and will be removed in a future release of LightGBM. Pass 'log_evaluation()' callback via 'callbacks' argument instead.\n",
            "  _log_warning(\"'verbose' argument is deprecated and will be removed in a future release of LightGBM. \"\n"
          ]
        },
        {
          "name": "stdout",
          "output_type": "stream",
          "text": [
            "[LightGBM] [Warning] lambda_l1 is set=60, reg_alpha=0.0 will be ignored. Current value: lambda_l1=60\n",
            "[LightGBM] [Warning] bagging_fraction is set=0.5262034636312622, subsample=1.0 will be ignored. Current value: bagging_fraction=0.5262034636312622\n",
            "[LightGBM] [Warning] lambda_l2 is set=0, reg_lambda=0.0 will be ignored. Current value: lambda_l2=0\n",
            "[LightGBM] [Warning] feature_fraction is set=0.7473947390786714, colsample_bytree=1.0 will be ignored. Current value: feature_fraction=0.7473947390786714\n",
            "[LightGBM] [Warning] min_data_in_leaf is set=103, min_child_samples=20 will be ignored. Current value: min_data_in_leaf=103\n",
            "[LightGBM] [Warning] bagging_freq is set=1, subsample_freq=0 will be ignored. Current value: bagging_freq=1\n"
          ]
        },
        {
          "name": "stderr",
          "output_type": "stream",
          "text": [
            "/usr/local/lib/python3.9/dist-packages/lightgbm/sklearn.py:726: UserWarning: 'early_stopping_rounds' argument is deprecated and will be removed in a future release of LightGBM. Pass 'early_stopping()' callback via 'callbacks' argument instead.\n",
            "  _log_warning(\"'early_stopping_rounds' argument is deprecated and will be removed in a future release of LightGBM. \"\n",
            "/usr/local/lib/python3.9/dist-packages/lightgbm/sklearn.py:736: UserWarning: 'verbose' argument is deprecated and will be removed in a future release of LightGBM. Pass 'log_evaluation()' callback via 'callbacks' argument instead.\n",
            "  _log_warning(\"'verbose' argument is deprecated and will be removed in a future release of LightGBM. \"\n"
          ]
        },
        {
          "name": "stdout",
          "output_type": "stream",
          "text": [
            "[LightGBM] [Warning] lambda_l1 is set=60, reg_alpha=0.0 will be ignored. Current value: lambda_l1=60\n",
            "[LightGBM] [Warning] bagging_fraction is set=0.5262034636312622, subsample=1.0 will be ignored. Current value: bagging_fraction=0.5262034636312622\n",
            "[LightGBM] [Warning] lambda_l2 is set=0, reg_lambda=0.0 will be ignored. Current value: lambda_l2=0\n",
            "[LightGBM] [Warning] feature_fraction is set=0.7473947390786714, colsample_bytree=1.0 will be ignored. Current value: feature_fraction=0.7473947390786714\n",
            "[LightGBM] [Warning] min_data_in_leaf is set=103, min_child_samples=20 will be ignored. Current value: min_data_in_leaf=103\n",
            "[LightGBM] [Warning] bagging_freq is set=1, subsample_freq=0 will be ignored. Current value: bagging_freq=1\n"
          ]
        },
        {
          "name": "stderr",
          "output_type": "stream",
          "text": [
            "/usr/local/lib/python3.9/dist-packages/lightgbm/sklearn.py:726: UserWarning: 'early_stopping_rounds' argument is deprecated and will be removed in a future release of LightGBM. Pass 'early_stopping()' callback via 'callbacks' argument instead.\n",
            "  _log_warning(\"'early_stopping_rounds' argument is deprecated and will be removed in a future release of LightGBM. \"\n",
            "/usr/local/lib/python3.9/dist-packages/lightgbm/sklearn.py:736: UserWarning: 'verbose' argument is deprecated and will be removed in a future release of LightGBM. Pass 'log_evaluation()' callback via 'callbacks' argument instead.\n",
            "  _log_warning(\"'verbose' argument is deprecated and will be removed in a future release of LightGBM. \"\n"
          ]
        },
        {
          "name": "stdout",
          "output_type": "stream",
          "text": [
            "[LightGBM] [Warning] lambda_l1 is set=60, reg_alpha=0.0 will be ignored. Current value: lambda_l1=60\n",
            "[LightGBM] [Warning] bagging_fraction is set=0.5262034636312622, subsample=1.0 will be ignored. Current value: bagging_fraction=0.5262034636312622\n",
            "[LightGBM] [Warning] lambda_l2 is set=0, reg_lambda=0.0 will be ignored. Current value: lambda_l2=0\n",
            "[LightGBM] [Warning] feature_fraction is set=0.7473947390786714, colsample_bytree=1.0 will be ignored. Current value: feature_fraction=0.7473947390786714\n",
            "[LightGBM] [Warning] min_data_in_leaf is set=103, min_child_samples=20 will be ignored. Current value: min_data_in_leaf=103\n",
            "[LightGBM] [Warning] bagging_freq is set=1, subsample_freq=0 will be ignored. Current value: bagging_freq=1\n"
          ]
        },
        {
          "name": "stderr",
          "output_type": "stream",
          "text": [
            "/usr/local/lib/python3.9/dist-packages/lightgbm/sklearn.py:726: UserWarning: 'early_stopping_rounds' argument is deprecated and will be removed in a future release of LightGBM. Pass 'early_stopping()' callback via 'callbacks' argument instead.\n",
            "  _log_warning(\"'early_stopping_rounds' argument is deprecated and will be removed in a future release of LightGBM. \"\n",
            "/usr/local/lib/python3.9/dist-packages/lightgbm/sklearn.py:736: UserWarning: 'verbose' argument is deprecated and will be removed in a future release of LightGBM. Pass 'log_evaluation()' callback via 'callbacks' argument instead.\n",
            "  _log_warning(\"'verbose' argument is deprecated and will be removed in a future release of LightGBM. \"\n"
          ]
        },
        {
          "name": "stdout",
          "output_type": "stream",
          "text": [
            "[LightGBM] [Warning] lambda_l1 is set=60, reg_alpha=0.0 will be ignored. Current value: lambda_l1=60\n",
            "[LightGBM] [Warning] bagging_fraction is set=0.5262034636312622, subsample=1.0 will be ignored. Current value: bagging_fraction=0.5262034636312622\n",
            "[LightGBM] [Warning] lambda_l2 is set=0, reg_lambda=0.0 will be ignored. Current value: lambda_l2=0\n",
            "[LightGBM] [Warning] feature_fraction is set=0.7473947390786714, colsample_bytree=1.0 will be ignored. Current value: feature_fraction=0.7473947390786714\n",
            "[LightGBM] [Warning] min_data_in_leaf is set=103, min_child_samples=20 will be ignored. Current value: min_data_in_leaf=103\n",
            "[LightGBM] [Warning] bagging_freq is set=1, subsample_freq=0 will be ignored. Current value: bagging_freq=1\n"
          ]
        },
        {
          "name": "stderr",
          "output_type": "stream",
          "text": [
            "\u001b[32m[I 2023-03-30 12:48:39,785]\u001b[0m Trial 9 finished with value: 0.7468497564866666 and parameters: {'n_estimators': 10000, 'learning_rate': 0.2725573225064304, 'num_leaves': 1808, 'max_depth': 10, 'min_data_in_leaf': 103, 'lambda_l1': 60, 'lambda_l2': 0, 'bagging_fraction': 0.5262034636312622, 'bagging_freq': 1, 'feature_fraction': 0.7473947390786714}. Best is trial 3 with value: 0.8166278908347622.\u001b[0m\n",
            "/usr/local/lib/python3.9/dist-packages/lightgbm/sklearn.py:726: UserWarning: 'early_stopping_rounds' argument is deprecated and will be removed in a future release of LightGBM. Pass 'early_stopping()' callback via 'callbacks' argument instead.\n",
            "  _log_warning(\"'early_stopping_rounds' argument is deprecated and will be removed in a future release of LightGBM. \"\n",
            "/usr/local/lib/python3.9/dist-packages/lightgbm/sklearn.py:736: UserWarning: 'verbose' argument is deprecated and will be removed in a future release of LightGBM. Pass 'log_evaluation()' callback via 'callbacks' argument instead.\n",
            "  _log_warning(\"'verbose' argument is deprecated and will be removed in a future release of LightGBM. \"\n"
          ]
        },
        {
          "name": "stdout",
          "output_type": "stream",
          "text": [
            "[LightGBM] [Warning] lambda_l1 is set=0, reg_alpha=0.0 will be ignored. Current value: lambda_l1=0\n",
            "[LightGBM] [Warning] bagging_fraction is set=0.5820535774206446, subsample=1.0 will be ignored. Current value: bagging_fraction=0.5820535774206446\n",
            "[LightGBM] [Warning] lambda_l2 is set=40, reg_lambda=0.0 will be ignored. Current value: lambda_l2=40\n",
            "[LightGBM] [Warning] feature_fraction is set=0.653646186077556, colsample_bytree=1.0 will be ignored. Current value: feature_fraction=0.653646186077556\n",
            "[LightGBM] [Warning] min_data_in_leaf is set=95, min_child_samples=20 will be ignored. Current value: min_data_in_leaf=95\n",
            "[LightGBM] [Warning] bagging_freq is set=1, subsample_freq=0 will be ignored. Current value: bagging_freq=1\n",
            "[500]\tvalid_0's binary_logloss: 0.0132032\n"
          ]
        },
        {
          "name": "stderr",
          "output_type": "stream",
          "text": [
            "/usr/local/lib/python3.9/dist-packages/lightgbm/sklearn.py:726: UserWarning: 'early_stopping_rounds' argument is deprecated and will be removed in a future release of LightGBM. Pass 'early_stopping()' callback via 'callbacks' argument instead.\n",
            "  _log_warning(\"'early_stopping_rounds' argument is deprecated and will be removed in a future release of LightGBM. \"\n",
            "/usr/local/lib/python3.9/dist-packages/lightgbm/sklearn.py:736: UserWarning: 'verbose' argument is deprecated and will be removed in a future release of LightGBM. Pass 'log_evaluation()' callback via 'callbacks' argument instead.\n",
            "  _log_warning(\"'verbose' argument is deprecated and will be removed in a future release of LightGBM. \"\n"
          ]
        },
        {
          "name": "stdout",
          "output_type": "stream",
          "text": [
            "[LightGBM] [Warning] lambda_l1 is set=0, reg_alpha=0.0 will be ignored. Current value: lambda_l1=0\n",
            "[LightGBM] [Warning] bagging_fraction is set=0.5820535774206446, subsample=1.0 will be ignored. Current value: bagging_fraction=0.5820535774206446\n",
            "[LightGBM] [Warning] lambda_l2 is set=40, reg_lambda=0.0 will be ignored. Current value: lambda_l2=40\n",
            "[LightGBM] [Warning] feature_fraction is set=0.653646186077556, colsample_bytree=1.0 will be ignored. Current value: feature_fraction=0.653646186077556\n",
            "[LightGBM] [Warning] min_data_in_leaf is set=95, min_child_samples=20 will be ignored. Current value: min_data_in_leaf=95\n",
            "[LightGBM] [Warning] bagging_freq is set=1, subsample_freq=0 will be ignored. Current value: bagging_freq=1\n",
            "[500]\tvalid_0's binary_logloss: 0.0129276\n"
          ]
        },
        {
          "name": "stderr",
          "output_type": "stream",
          "text": [
            "/usr/local/lib/python3.9/dist-packages/lightgbm/sklearn.py:726: UserWarning: 'early_stopping_rounds' argument is deprecated and will be removed in a future release of LightGBM. Pass 'early_stopping()' callback via 'callbacks' argument instead.\n",
            "  _log_warning(\"'early_stopping_rounds' argument is deprecated and will be removed in a future release of LightGBM. \"\n",
            "/usr/local/lib/python3.9/dist-packages/lightgbm/sklearn.py:736: UserWarning: 'verbose' argument is deprecated and will be removed in a future release of LightGBM. Pass 'log_evaluation()' callback via 'callbacks' argument instead.\n",
            "  _log_warning(\"'verbose' argument is deprecated and will be removed in a future release of LightGBM. \"\n"
          ]
        },
        {
          "name": "stdout",
          "output_type": "stream",
          "text": [
            "[LightGBM] [Warning] lambda_l1 is set=0, reg_alpha=0.0 will be ignored. Current value: lambda_l1=0\n",
            "[LightGBM] [Warning] bagging_fraction is set=0.5820535774206446, subsample=1.0 will be ignored. Current value: bagging_fraction=0.5820535774206446\n",
            "[LightGBM] [Warning] lambda_l2 is set=40, reg_lambda=0.0 will be ignored. Current value: lambda_l2=40\n",
            "[LightGBM] [Warning] feature_fraction is set=0.653646186077556, colsample_bytree=1.0 will be ignored. Current value: feature_fraction=0.653646186077556\n",
            "[LightGBM] [Warning] min_data_in_leaf is set=95, min_child_samples=20 will be ignored. Current value: min_data_in_leaf=95\n",
            "[LightGBM] [Warning] bagging_freq is set=1, subsample_freq=0 will be ignored. Current value: bagging_freq=1\n",
            "[500]\tvalid_0's binary_logloss: 0.0135694\n"
          ]
        },
        {
          "name": "stderr",
          "output_type": "stream",
          "text": [
            "/usr/local/lib/python3.9/dist-packages/lightgbm/sklearn.py:726: UserWarning: 'early_stopping_rounds' argument is deprecated and will be removed in a future release of LightGBM. Pass 'early_stopping()' callback via 'callbacks' argument instead.\n",
            "  _log_warning(\"'early_stopping_rounds' argument is deprecated and will be removed in a future release of LightGBM. \"\n",
            "/usr/local/lib/python3.9/dist-packages/lightgbm/sklearn.py:736: UserWarning: 'verbose' argument is deprecated and will be removed in a future release of LightGBM. Pass 'log_evaluation()' callback via 'callbacks' argument instead.\n",
            "  _log_warning(\"'verbose' argument is deprecated and will be removed in a future release of LightGBM. \"\n"
          ]
        },
        {
          "name": "stdout",
          "output_type": "stream",
          "text": [
            "[LightGBM] [Warning] lambda_l1 is set=0, reg_alpha=0.0 will be ignored. Current value: lambda_l1=0\n",
            "[LightGBM] [Warning] bagging_fraction is set=0.5820535774206446, subsample=1.0 will be ignored. Current value: bagging_fraction=0.5820535774206446\n",
            "[LightGBM] [Warning] lambda_l2 is set=40, reg_lambda=0.0 will be ignored. Current value: lambda_l2=40\n",
            "[LightGBM] [Warning] feature_fraction is set=0.653646186077556, colsample_bytree=1.0 will be ignored. Current value: feature_fraction=0.653646186077556\n",
            "[LightGBM] [Warning] min_data_in_leaf is set=95, min_child_samples=20 will be ignored. Current value: min_data_in_leaf=95\n",
            "[LightGBM] [Warning] bagging_freq is set=1, subsample_freq=0 will be ignored. Current value: bagging_freq=1\n",
            "[500]\tvalid_0's binary_logloss: 0.0131843\n"
          ]
        },
        {
          "name": "stderr",
          "output_type": "stream",
          "text": [
            "/usr/local/lib/python3.9/dist-packages/lightgbm/sklearn.py:726: UserWarning: 'early_stopping_rounds' argument is deprecated and will be removed in a future release of LightGBM. Pass 'early_stopping()' callback via 'callbacks' argument instead.\n",
            "  _log_warning(\"'early_stopping_rounds' argument is deprecated and will be removed in a future release of LightGBM. \"\n",
            "/usr/local/lib/python3.9/dist-packages/lightgbm/sklearn.py:736: UserWarning: 'verbose' argument is deprecated and will be removed in a future release of LightGBM. Pass 'log_evaluation()' callback via 'callbacks' argument instead.\n",
            "  _log_warning(\"'verbose' argument is deprecated and will be removed in a future release of LightGBM. \"\n"
          ]
        },
        {
          "name": "stdout",
          "output_type": "stream",
          "text": [
            "[LightGBM] [Warning] lambda_l1 is set=0, reg_alpha=0.0 will be ignored. Current value: lambda_l1=0\n",
            "[LightGBM] [Warning] bagging_fraction is set=0.5820535774206446, subsample=1.0 will be ignored. Current value: bagging_fraction=0.5820535774206446\n",
            "[LightGBM] [Warning] lambda_l2 is set=40, reg_lambda=0.0 will be ignored. Current value: lambda_l2=40\n",
            "[LightGBM] [Warning] feature_fraction is set=0.653646186077556, colsample_bytree=1.0 will be ignored. Current value: feature_fraction=0.653646186077556\n",
            "[LightGBM] [Warning] min_data_in_leaf is set=95, min_child_samples=20 will be ignored. Current value: min_data_in_leaf=95\n",
            "[LightGBM] [Warning] bagging_freq is set=1, subsample_freq=0 will be ignored. Current value: bagging_freq=1\n",
            "[500]\tvalid_0's binary_logloss: 0.0132726\n"
          ]
        },
        {
          "name": "stderr",
          "output_type": "stream",
          "text": [
            "\u001b[32m[I 2023-03-30 12:51:57,323]\u001b[0m Trial 10 finished with value: 0.8162284554559903 and parameters: {'n_estimators': 10000, 'learning_rate': 0.013153754794134095, 'num_leaves': 3000, 'max_depth': 8, 'min_data_in_leaf': 95, 'lambda_l1': 0, 'lambda_l2': 40, 'bagging_fraction': 0.5820535774206446, 'bagging_freq': 1, 'feature_fraction': 0.653646186077556}. Best is trial 3 with value: 0.8166278908347622.\u001b[0m\n",
            "/usr/local/lib/python3.9/dist-packages/lightgbm/sklearn.py:726: UserWarning: 'early_stopping_rounds' argument is deprecated and will be removed in a future release of LightGBM. Pass 'early_stopping()' callback via 'callbacks' argument instead.\n",
            "  _log_warning(\"'early_stopping_rounds' argument is deprecated and will be removed in a future release of LightGBM. \"\n",
            "/usr/local/lib/python3.9/dist-packages/lightgbm/sklearn.py:736: UserWarning: 'verbose' argument is deprecated and will be removed in a future release of LightGBM. Pass 'log_evaluation()' callback via 'callbacks' argument instead.\n",
            "  _log_warning(\"'verbose' argument is deprecated and will be removed in a future release of LightGBM. \"\n"
          ]
        },
        {
          "name": "stdout",
          "output_type": "stream",
          "text": [
            "[LightGBM] [Warning] lambda_l1 is set=0, reg_alpha=0.0 will be ignored. Current value: lambda_l1=0\n",
            "[LightGBM] [Warning] bagging_fraction is set=0.5798303698076422, subsample=1.0 will be ignored. Current value: bagging_fraction=0.5798303698076422\n",
            "[LightGBM] [Warning] lambda_l2 is set=40, reg_lambda=0.0 will be ignored. Current value: lambda_l2=40\n",
            "[LightGBM] [Warning] feature_fraction is set=0.6527539689690641, colsample_bytree=1.0 will be ignored. Current value: feature_fraction=0.6527539689690641\n",
            "[LightGBM] [Warning] min_data_in_leaf is set=94, min_child_samples=20 will be ignored. Current value: min_data_in_leaf=94\n",
            "[LightGBM] [Warning] bagging_freq is set=1, subsample_freq=0 will be ignored. Current value: bagging_freq=1\n",
            "[500]\tvalid_0's binary_logloss: 0.0130527\n"
          ]
        },
        {
          "name": "stderr",
          "output_type": "stream",
          "text": [
            "/usr/local/lib/python3.9/dist-packages/lightgbm/sklearn.py:726: UserWarning: 'early_stopping_rounds' argument is deprecated and will be removed in a future release of LightGBM. Pass 'early_stopping()' callback via 'callbacks' argument instead.\n",
            "  _log_warning(\"'early_stopping_rounds' argument is deprecated and will be removed in a future release of LightGBM. \"\n",
            "/usr/local/lib/python3.9/dist-packages/lightgbm/sklearn.py:736: UserWarning: 'verbose' argument is deprecated and will be removed in a future release of LightGBM. Pass 'log_evaluation()' callback via 'callbacks' argument instead.\n",
            "  _log_warning(\"'verbose' argument is deprecated and will be removed in a future release of LightGBM. \"\n"
          ]
        },
        {
          "name": "stdout",
          "output_type": "stream",
          "text": [
            "[LightGBM] [Warning] lambda_l1 is set=0, reg_alpha=0.0 will be ignored. Current value: lambda_l1=0\n",
            "[LightGBM] [Warning] bagging_fraction is set=0.5798303698076422, subsample=1.0 will be ignored. Current value: bagging_fraction=0.5798303698076422\n",
            "[LightGBM] [Warning] lambda_l2 is set=40, reg_lambda=0.0 will be ignored. Current value: lambda_l2=40\n",
            "[LightGBM] [Warning] feature_fraction is set=0.6527539689690641, colsample_bytree=1.0 will be ignored. Current value: feature_fraction=0.6527539689690641\n",
            "[LightGBM] [Warning] min_data_in_leaf is set=94, min_child_samples=20 will be ignored. Current value: min_data_in_leaf=94\n",
            "[LightGBM] [Warning] bagging_freq is set=1, subsample_freq=0 will be ignored. Current value: bagging_freq=1\n",
            "[500]\tvalid_0's binary_logloss: 0.0128061\n"
          ]
        },
        {
          "name": "stderr",
          "output_type": "stream",
          "text": [
            "/usr/local/lib/python3.9/dist-packages/lightgbm/sklearn.py:726: UserWarning: 'early_stopping_rounds' argument is deprecated and will be removed in a future release of LightGBM. Pass 'early_stopping()' callback via 'callbacks' argument instead.\n",
            "  _log_warning(\"'early_stopping_rounds' argument is deprecated and will be removed in a future release of LightGBM. \"\n",
            "/usr/local/lib/python3.9/dist-packages/lightgbm/sklearn.py:736: UserWarning: 'verbose' argument is deprecated and will be removed in a future release of LightGBM. Pass 'log_evaluation()' callback via 'callbacks' argument instead.\n",
            "  _log_warning(\"'verbose' argument is deprecated and will be removed in a future release of LightGBM. \"\n"
          ]
        },
        {
          "name": "stdout",
          "output_type": "stream",
          "text": [
            "[LightGBM] [Warning] lambda_l1 is set=0, reg_alpha=0.0 will be ignored. Current value: lambda_l1=0\n",
            "[LightGBM] [Warning] bagging_fraction is set=0.5798303698076422, subsample=1.0 will be ignored. Current value: bagging_fraction=0.5798303698076422\n",
            "[LightGBM] [Warning] lambda_l2 is set=40, reg_lambda=0.0 will be ignored. Current value: lambda_l2=40\n",
            "[LightGBM] [Warning] feature_fraction is set=0.6527539689690641, colsample_bytree=1.0 will be ignored. Current value: feature_fraction=0.6527539689690641\n",
            "[LightGBM] [Warning] min_data_in_leaf is set=94, min_child_samples=20 will be ignored. Current value: min_data_in_leaf=94\n",
            "[LightGBM] [Warning] bagging_freq is set=1, subsample_freq=0 will be ignored. Current value: bagging_freq=1\n",
            "[500]\tvalid_0's binary_logloss: 0.0133791\n"
          ]
        },
        {
          "name": "stderr",
          "output_type": "stream",
          "text": [
            "/usr/local/lib/python3.9/dist-packages/lightgbm/sklearn.py:726: UserWarning: 'early_stopping_rounds' argument is deprecated and will be removed in a future release of LightGBM. Pass 'early_stopping()' callback via 'callbacks' argument instead.\n",
            "  _log_warning(\"'early_stopping_rounds' argument is deprecated and will be removed in a future release of LightGBM. \"\n",
            "/usr/local/lib/python3.9/dist-packages/lightgbm/sklearn.py:736: UserWarning: 'verbose' argument is deprecated and will be removed in a future release of LightGBM. Pass 'log_evaluation()' callback via 'callbacks' argument instead.\n",
            "  _log_warning(\"'verbose' argument is deprecated and will be removed in a future release of LightGBM. \"\n"
          ]
        },
        {
          "name": "stdout",
          "output_type": "stream",
          "text": [
            "[LightGBM] [Warning] lambda_l1 is set=0, reg_alpha=0.0 will be ignored. Current value: lambda_l1=0\n",
            "[LightGBM] [Warning] bagging_fraction is set=0.5798303698076422, subsample=1.0 will be ignored. Current value: bagging_fraction=0.5798303698076422\n",
            "[LightGBM] [Warning] lambda_l2 is set=40, reg_lambda=0.0 will be ignored. Current value: lambda_l2=40\n",
            "[LightGBM] [Warning] feature_fraction is set=0.6527539689690641, colsample_bytree=1.0 will be ignored. Current value: feature_fraction=0.6527539689690641\n",
            "[LightGBM] [Warning] min_data_in_leaf is set=94, min_child_samples=20 will be ignored. Current value: min_data_in_leaf=94\n",
            "[LightGBM] [Warning] bagging_freq is set=1, subsample_freq=0 will be ignored. Current value: bagging_freq=1\n"
          ]
        },
        {
          "name": "stderr",
          "output_type": "stream",
          "text": [
            "/usr/local/lib/python3.9/dist-packages/lightgbm/sklearn.py:726: UserWarning: 'early_stopping_rounds' argument is deprecated and will be removed in a future release of LightGBM. Pass 'early_stopping()' callback via 'callbacks' argument instead.\n",
            "  _log_warning(\"'early_stopping_rounds' argument is deprecated and will be removed in a future release of LightGBM. \"\n",
            "/usr/local/lib/python3.9/dist-packages/lightgbm/sklearn.py:736: UserWarning: 'verbose' argument is deprecated and will be removed in a future release of LightGBM. Pass 'log_evaluation()' callback via 'callbacks' argument instead.\n",
            "  _log_warning(\"'verbose' argument is deprecated and will be removed in a future release of LightGBM. \"\n"
          ]
        },
        {
          "name": "stdout",
          "output_type": "stream",
          "text": [
            "[LightGBM] [Warning] lambda_l1 is set=0, reg_alpha=0.0 will be ignored. Current value: lambda_l1=0\n",
            "[LightGBM] [Warning] bagging_fraction is set=0.5798303698076422, subsample=1.0 will be ignored. Current value: bagging_fraction=0.5798303698076422\n",
            "[LightGBM] [Warning] lambda_l2 is set=40, reg_lambda=0.0 will be ignored. Current value: lambda_l2=40\n",
            "[LightGBM] [Warning] feature_fraction is set=0.6527539689690641, colsample_bytree=1.0 will be ignored. Current value: feature_fraction=0.6527539689690641\n",
            "[LightGBM] [Warning] min_data_in_leaf is set=94, min_child_samples=20 will be ignored. Current value: min_data_in_leaf=94\n",
            "[LightGBM] [Warning] bagging_freq is set=1, subsample_freq=0 will be ignored. Current value: bagging_freq=1\n"
          ]
        },
        {
          "name": "stderr",
          "output_type": "stream",
          "text": [
            "\u001b[32m[I 2023-03-30 12:53:58,167]\u001b[0m Trial 11 finished with value: 0.817162845708401 and parameters: {'n_estimators': 10000, 'learning_rate': 0.02413061504030213, 'num_leaves': 3000, 'max_depth': 8, 'min_data_in_leaf': 94, 'lambda_l1': 0, 'lambda_l2': 40, 'bagging_fraction': 0.5798303698076422, 'bagging_freq': 1, 'feature_fraction': 0.6527539689690641}. Best is trial 11 with value: 0.817162845708401.\u001b[0m\n",
            "/usr/local/lib/python3.9/dist-packages/lightgbm/sklearn.py:726: UserWarning: 'early_stopping_rounds' argument is deprecated and will be removed in a future release of LightGBM. Pass 'early_stopping()' callback via 'callbacks' argument instead.\n",
            "  _log_warning(\"'early_stopping_rounds' argument is deprecated and will be removed in a future release of LightGBM. \"\n",
            "/usr/local/lib/python3.9/dist-packages/lightgbm/sklearn.py:736: UserWarning: 'verbose' argument is deprecated and will be removed in a future release of LightGBM. Pass 'log_evaluation()' callback via 'callbacks' argument instead.\n",
            "  _log_warning(\"'verbose' argument is deprecated and will be removed in a future release of LightGBM. \"\n"
          ]
        },
        {
          "name": "stdout",
          "output_type": "stream",
          "text": [
            "[LightGBM] [Warning] lambda_l1 is set=20, reg_alpha=0.0 will be ignored. Current value: lambda_l1=20\n",
            "[LightGBM] [Warning] bagging_fraction is set=0.5772390229990488, subsample=1.0 will be ignored. Current value: bagging_fraction=0.5772390229990488\n",
            "[LightGBM] [Warning] lambda_l2 is set=40, reg_lambda=0.0 will be ignored. Current value: lambda_l2=40\n",
            "[LightGBM] [Warning] feature_fraction is set=0.6575366937469832, colsample_bytree=1.0 will be ignored. Current value: feature_fraction=0.6575366937469832\n",
            "[LightGBM] [Warning] min_data_in_leaf is set=93, min_child_samples=20 will be ignored. Current value: min_data_in_leaf=93\n",
            "[LightGBM] [Warning] bagging_freq is set=1, subsample_freq=0 will be ignored. Current value: bagging_freq=1\n",
            "[500]\tvalid_0's binary_logloss: 0.0130234\n"
          ]
        },
        {
          "name": "stderr",
          "output_type": "stream",
          "text": [
            "/usr/local/lib/python3.9/dist-packages/lightgbm/sklearn.py:726: UserWarning: 'early_stopping_rounds' argument is deprecated and will be removed in a future release of LightGBM. Pass 'early_stopping()' callback via 'callbacks' argument instead.\n",
            "  _log_warning(\"'early_stopping_rounds' argument is deprecated and will be removed in a future release of LightGBM. \"\n",
            "/usr/local/lib/python3.9/dist-packages/lightgbm/sklearn.py:736: UserWarning: 'verbose' argument is deprecated and will be removed in a future release of LightGBM. Pass 'log_evaluation()' callback via 'callbacks' argument instead.\n",
            "  _log_warning(\"'verbose' argument is deprecated and will be removed in a future release of LightGBM. \"\n"
          ]
        },
        {
          "name": "stdout",
          "output_type": "stream",
          "text": [
            "[LightGBM] [Warning] lambda_l1 is set=20, reg_alpha=0.0 will be ignored. Current value: lambda_l1=20\n",
            "[LightGBM] [Warning] bagging_fraction is set=0.5772390229990488, subsample=1.0 will be ignored. Current value: bagging_fraction=0.5772390229990488\n",
            "[LightGBM] [Warning] lambda_l2 is set=40, reg_lambda=0.0 will be ignored. Current value: lambda_l2=40\n",
            "[LightGBM] [Warning] feature_fraction is set=0.6575366937469832, colsample_bytree=1.0 will be ignored. Current value: feature_fraction=0.6575366937469832\n",
            "[LightGBM] [Warning] min_data_in_leaf is set=93, min_child_samples=20 will be ignored. Current value: min_data_in_leaf=93\n",
            "[LightGBM] [Warning] bagging_freq is set=1, subsample_freq=0 will be ignored. Current value: bagging_freq=1\n",
            "[500]\tvalid_0's binary_logloss: 0.012813\n",
            "[1000]\tvalid_0's binary_logloss: 0.0127241\n"
          ]
        },
        {
          "name": "stderr",
          "output_type": "stream",
          "text": [
            "/usr/local/lib/python3.9/dist-packages/lightgbm/sklearn.py:726: UserWarning: 'early_stopping_rounds' argument is deprecated and will be removed in a future release of LightGBM. Pass 'early_stopping()' callback via 'callbacks' argument instead.\n",
            "  _log_warning(\"'early_stopping_rounds' argument is deprecated and will be removed in a future release of LightGBM. \"\n",
            "/usr/local/lib/python3.9/dist-packages/lightgbm/sklearn.py:736: UserWarning: 'verbose' argument is deprecated and will be removed in a future release of LightGBM. Pass 'log_evaluation()' callback via 'callbacks' argument instead.\n",
            "  _log_warning(\"'verbose' argument is deprecated and will be removed in a future release of LightGBM. \"\n"
          ]
        },
        {
          "name": "stdout",
          "output_type": "stream",
          "text": [
            "[LightGBM] [Warning] lambda_l1 is set=20, reg_alpha=0.0 will be ignored. Current value: lambda_l1=20\n",
            "[LightGBM] [Warning] bagging_fraction is set=0.5772390229990488, subsample=1.0 will be ignored. Current value: bagging_fraction=0.5772390229990488\n",
            "[LightGBM] [Warning] lambda_l2 is set=40, reg_lambda=0.0 will be ignored. Current value: lambda_l2=40\n",
            "[LightGBM] [Warning] feature_fraction is set=0.6575366937469832, colsample_bytree=1.0 will be ignored. Current value: feature_fraction=0.6575366937469832\n",
            "[LightGBM] [Warning] min_data_in_leaf is set=93, min_child_samples=20 will be ignored. Current value: min_data_in_leaf=93\n",
            "[LightGBM] [Warning] bagging_freq is set=1, subsample_freq=0 will be ignored. Current value: bagging_freq=1\n",
            "[500]\tvalid_0's binary_logloss: 0.0135025\n"
          ]
        },
        {
          "name": "stderr",
          "output_type": "stream",
          "text": [
            "/usr/local/lib/python3.9/dist-packages/lightgbm/sklearn.py:726: UserWarning: 'early_stopping_rounds' argument is deprecated and will be removed in a future release of LightGBM. Pass 'early_stopping()' callback via 'callbacks' argument instead.\n",
            "  _log_warning(\"'early_stopping_rounds' argument is deprecated and will be removed in a future release of LightGBM. \"\n",
            "/usr/local/lib/python3.9/dist-packages/lightgbm/sklearn.py:736: UserWarning: 'verbose' argument is deprecated and will be removed in a future release of LightGBM. Pass 'log_evaluation()' callback via 'callbacks' argument instead.\n",
            "  _log_warning(\"'verbose' argument is deprecated and will be removed in a future release of LightGBM. \"\n"
          ]
        },
        {
          "name": "stdout",
          "output_type": "stream",
          "text": [
            "[LightGBM] [Warning] lambda_l1 is set=20, reg_alpha=0.0 will be ignored. Current value: lambda_l1=20\n",
            "[LightGBM] [Warning] bagging_fraction is set=0.5772390229990488, subsample=1.0 will be ignored. Current value: bagging_fraction=0.5772390229990488\n",
            "[LightGBM] [Warning] lambda_l2 is set=40, reg_lambda=0.0 will be ignored. Current value: lambda_l2=40\n",
            "[LightGBM] [Warning] feature_fraction is set=0.6575366937469832, colsample_bytree=1.0 will be ignored. Current value: feature_fraction=0.6575366937469832\n",
            "[LightGBM] [Warning] min_data_in_leaf is set=93, min_child_samples=20 will be ignored. Current value: min_data_in_leaf=93\n",
            "[LightGBM] [Warning] bagging_freq is set=1, subsample_freq=0 will be ignored. Current value: bagging_freq=1\n",
            "[500]\tvalid_0's binary_logloss: 0.0130471\n"
          ]
        },
        {
          "name": "stderr",
          "output_type": "stream",
          "text": [
            "/usr/local/lib/python3.9/dist-packages/lightgbm/sklearn.py:726: UserWarning: 'early_stopping_rounds' argument is deprecated and will be removed in a future release of LightGBM. Pass 'early_stopping()' callback via 'callbacks' argument instead.\n",
            "  _log_warning(\"'early_stopping_rounds' argument is deprecated and will be removed in a future release of LightGBM. \"\n",
            "/usr/local/lib/python3.9/dist-packages/lightgbm/sklearn.py:736: UserWarning: 'verbose' argument is deprecated and will be removed in a future release of LightGBM. Pass 'log_evaluation()' callback via 'callbacks' argument instead.\n",
            "  _log_warning(\"'verbose' argument is deprecated and will be removed in a future release of LightGBM. \"\n"
          ]
        },
        {
          "name": "stdout",
          "output_type": "stream",
          "text": [
            "[LightGBM] [Warning] lambda_l1 is set=20, reg_alpha=0.0 will be ignored. Current value: lambda_l1=20\n",
            "[LightGBM] [Warning] bagging_fraction is set=0.5772390229990488, subsample=1.0 will be ignored. Current value: bagging_fraction=0.5772390229990488\n",
            "[LightGBM] [Warning] lambda_l2 is set=40, reg_lambda=0.0 will be ignored. Current value: lambda_l2=40\n",
            "[LightGBM] [Warning] feature_fraction is set=0.6575366937469832, colsample_bytree=1.0 will be ignored. Current value: feature_fraction=0.6575366937469832\n",
            "[LightGBM] [Warning] min_data_in_leaf is set=93, min_child_samples=20 will be ignored. Current value: min_data_in_leaf=93\n",
            "[LightGBM] [Warning] bagging_freq is set=1, subsample_freq=0 will be ignored. Current value: bagging_freq=1\n",
            "[500]\tvalid_0's binary_logloss: 0.0131602\n"
          ]
        },
        {
          "name": "stderr",
          "output_type": "stream",
          "text": [
            "\u001b[32m[I 2023-03-30 12:55:36,923]\u001b[0m Trial 12 finished with value: 0.8161852758120357 and parameters: {'n_estimators': 10000, 'learning_rate': 0.05984096428079046, 'num_leaves': 3000, 'max_depth': 7, 'min_data_in_leaf': 93, 'lambda_l1': 20, 'lambda_l2': 40, 'bagging_fraction': 0.5772390229990488, 'bagging_freq': 1, 'feature_fraction': 0.6575366937469832}. Best is trial 11 with value: 0.817162845708401.\u001b[0m\n",
            "/usr/local/lib/python3.9/dist-packages/lightgbm/sklearn.py:726: UserWarning: 'early_stopping_rounds' argument is deprecated and will be removed in a future release of LightGBM. Pass 'early_stopping()' callback via 'callbacks' argument instead.\n",
            "  _log_warning(\"'early_stopping_rounds' argument is deprecated and will be removed in a future release of LightGBM. \"\n",
            "/usr/local/lib/python3.9/dist-packages/lightgbm/sklearn.py:736: UserWarning: 'verbose' argument is deprecated and will be removed in a future release of LightGBM. Pass 'log_evaluation()' callback via 'callbacks' argument instead.\n",
            "  _log_warning(\"'verbose' argument is deprecated and will be removed in a future release of LightGBM. \"\n"
          ]
        },
        {
          "name": "stdout",
          "output_type": "stream",
          "text": [
            "[LightGBM] [Warning] lambda_l1 is set=20, reg_alpha=0.0 will be ignored. Current value: lambda_l1=20\n",
            "[LightGBM] [Warning] bagging_fraction is set=0.5892625473812552, subsample=1.0 will be ignored. Current value: bagging_fraction=0.5892625473812552\n",
            "[LightGBM] [Warning] lambda_l2 is set=60, reg_lambda=0.0 will be ignored. Current value: lambda_l2=60\n",
            "[LightGBM] [Warning] feature_fraction is set=0.8001449118798184, colsample_bytree=1.0 will be ignored. Current value: feature_fraction=0.8001449118798184\n",
            "[LightGBM] [Warning] min_data_in_leaf is set=97, min_child_samples=20 will be ignored. Current value: min_data_in_leaf=97\n",
            "[LightGBM] [Warning] bagging_freq is set=1, subsample_freq=0 will be ignored. Current value: bagging_freq=1\n",
            "[500]\tvalid_0's binary_logloss: 0.0130479\n"
          ]
        },
        {
          "name": "stderr",
          "output_type": "stream",
          "text": [
            "/usr/local/lib/python3.9/dist-packages/lightgbm/sklearn.py:726: UserWarning: 'early_stopping_rounds' argument is deprecated and will be removed in a future release of LightGBM. Pass 'early_stopping()' callback via 'callbacks' argument instead.\n",
            "  _log_warning(\"'early_stopping_rounds' argument is deprecated and will be removed in a future release of LightGBM. \"\n",
            "/usr/local/lib/python3.9/dist-packages/lightgbm/sklearn.py:736: UserWarning: 'verbose' argument is deprecated and will be removed in a future release of LightGBM. Pass 'log_evaluation()' callback via 'callbacks' argument instead.\n",
            "  _log_warning(\"'verbose' argument is deprecated and will be removed in a future release of LightGBM. \"\n"
          ]
        },
        {
          "name": "stdout",
          "output_type": "stream",
          "text": [
            "[LightGBM] [Warning] lambda_l1 is set=20, reg_alpha=0.0 will be ignored. Current value: lambda_l1=20\n",
            "[LightGBM] [Warning] bagging_fraction is set=0.5892625473812552, subsample=1.0 will be ignored. Current value: bagging_fraction=0.5892625473812552\n",
            "[LightGBM] [Warning] lambda_l2 is set=60, reg_lambda=0.0 will be ignored. Current value: lambda_l2=60\n",
            "[LightGBM] [Warning] feature_fraction is set=0.8001449118798184, colsample_bytree=1.0 will be ignored. Current value: feature_fraction=0.8001449118798184\n",
            "[LightGBM] [Warning] min_data_in_leaf is set=97, min_child_samples=20 will be ignored. Current value: min_data_in_leaf=97\n",
            "[LightGBM] [Warning] bagging_freq is set=1, subsample_freq=0 will be ignored. Current value: bagging_freq=1\n",
            "[500]\tvalid_0's binary_logloss: 0.0127927\n",
            "[1000]\tvalid_0's binary_logloss: 0.0127127\n"
          ]
        },
        {
          "name": "stderr",
          "output_type": "stream",
          "text": [
            "/usr/local/lib/python3.9/dist-packages/lightgbm/sklearn.py:726: UserWarning: 'early_stopping_rounds' argument is deprecated and will be removed in a future release of LightGBM. Pass 'early_stopping()' callback via 'callbacks' argument instead.\n",
            "  _log_warning(\"'early_stopping_rounds' argument is deprecated and will be removed in a future release of LightGBM. \"\n",
            "/usr/local/lib/python3.9/dist-packages/lightgbm/sklearn.py:736: UserWarning: 'verbose' argument is deprecated and will be removed in a future release of LightGBM. Pass 'log_evaluation()' callback via 'callbacks' argument instead.\n",
            "  _log_warning(\"'verbose' argument is deprecated and will be removed in a future release of LightGBM. \"\n"
          ]
        },
        {
          "name": "stdout",
          "output_type": "stream",
          "text": [
            "[LightGBM] [Warning] lambda_l1 is set=20, reg_alpha=0.0 will be ignored. Current value: lambda_l1=20\n",
            "[LightGBM] [Warning] bagging_fraction is set=0.5892625473812552, subsample=1.0 will be ignored. Current value: bagging_fraction=0.5892625473812552\n",
            "[LightGBM] [Warning] lambda_l2 is set=60, reg_lambda=0.0 will be ignored. Current value: lambda_l2=60\n",
            "[LightGBM] [Warning] feature_fraction is set=0.8001449118798184, colsample_bytree=1.0 will be ignored. Current value: feature_fraction=0.8001449118798184\n",
            "[LightGBM] [Warning] min_data_in_leaf is set=97, min_child_samples=20 will be ignored. Current value: min_data_in_leaf=97\n",
            "[LightGBM] [Warning] bagging_freq is set=1, subsample_freq=0 will be ignored. Current value: bagging_freq=1\n",
            "[500]\tvalid_0's binary_logloss: 0.0134815\n"
          ]
        },
        {
          "name": "stderr",
          "output_type": "stream",
          "text": [
            "/usr/local/lib/python3.9/dist-packages/lightgbm/sklearn.py:726: UserWarning: 'early_stopping_rounds' argument is deprecated and will be removed in a future release of LightGBM. Pass 'early_stopping()' callback via 'callbacks' argument instead.\n",
            "  _log_warning(\"'early_stopping_rounds' argument is deprecated and will be removed in a future release of LightGBM. \"\n",
            "/usr/local/lib/python3.9/dist-packages/lightgbm/sklearn.py:736: UserWarning: 'verbose' argument is deprecated and will be removed in a future release of LightGBM. Pass 'log_evaluation()' callback via 'callbacks' argument instead.\n",
            "  _log_warning(\"'verbose' argument is deprecated and will be removed in a future release of LightGBM. \"\n"
          ]
        },
        {
          "name": "stdout",
          "output_type": "stream",
          "text": [
            "[LightGBM] [Warning] lambda_l1 is set=20, reg_alpha=0.0 will be ignored. Current value: lambda_l1=20\n",
            "[LightGBM] [Warning] bagging_fraction is set=0.5892625473812552, subsample=1.0 will be ignored. Current value: bagging_fraction=0.5892625473812552\n",
            "[LightGBM] [Warning] lambda_l2 is set=60, reg_lambda=0.0 will be ignored. Current value: lambda_l2=60\n",
            "[LightGBM] [Warning] feature_fraction is set=0.8001449118798184, colsample_bytree=1.0 will be ignored. Current value: feature_fraction=0.8001449118798184\n",
            "[LightGBM] [Warning] min_data_in_leaf is set=97, min_child_samples=20 will be ignored. Current value: min_data_in_leaf=97\n",
            "[LightGBM] [Warning] bagging_freq is set=1, subsample_freq=0 will be ignored. Current value: bagging_freq=1\n",
            "[500]\tvalid_0's binary_logloss: 0.0130496\n"
          ]
        },
        {
          "name": "stderr",
          "output_type": "stream",
          "text": [
            "/usr/local/lib/python3.9/dist-packages/lightgbm/sklearn.py:726: UserWarning: 'early_stopping_rounds' argument is deprecated and will be removed in a future release of LightGBM. Pass 'early_stopping()' callback via 'callbacks' argument instead.\n",
            "  _log_warning(\"'early_stopping_rounds' argument is deprecated and will be removed in a future release of LightGBM. \"\n",
            "/usr/local/lib/python3.9/dist-packages/lightgbm/sklearn.py:736: UserWarning: 'verbose' argument is deprecated and will be removed in a future release of LightGBM. Pass 'log_evaluation()' callback via 'callbacks' argument instead.\n",
            "  _log_warning(\"'verbose' argument is deprecated and will be removed in a future release of LightGBM. \"\n"
          ]
        },
        {
          "name": "stdout",
          "output_type": "stream",
          "text": [
            "[LightGBM] [Warning] lambda_l1 is set=20, reg_alpha=0.0 will be ignored. Current value: lambda_l1=20\n",
            "[LightGBM] [Warning] bagging_fraction is set=0.5892625473812552, subsample=1.0 will be ignored. Current value: bagging_fraction=0.5892625473812552\n",
            "[LightGBM] [Warning] lambda_l2 is set=60, reg_lambda=0.0 will be ignored. Current value: lambda_l2=60\n",
            "[LightGBM] [Warning] feature_fraction is set=0.8001449118798184, colsample_bytree=1.0 will be ignored. Current value: feature_fraction=0.8001449118798184\n",
            "[LightGBM] [Warning] min_data_in_leaf is set=97, min_child_samples=20 will be ignored. Current value: min_data_in_leaf=97\n",
            "[LightGBM] [Warning] bagging_freq is set=1, subsample_freq=0 will be ignored. Current value: bagging_freq=1\n"
          ]
        },
        {
          "name": "stderr",
          "output_type": "stream",
          "text": [
            "\u001b[32m[I 2023-03-30 12:57:17,796]\u001b[0m Trial 13 finished with value: 0.8150958539025048 and parameters: {'n_estimators': 10000, 'learning_rate': 0.08054717952715812, 'num_leaves': 3000, 'max_depth': 8, 'min_data_in_leaf': 97, 'lambda_l1': 20, 'lambda_l2': 60, 'bagging_fraction': 0.5892625473812552, 'bagging_freq': 1, 'feature_fraction': 0.8001449118798184}. Best is trial 11 with value: 0.817162845708401.\u001b[0m\n",
            "/usr/local/lib/python3.9/dist-packages/lightgbm/sklearn.py:726: UserWarning: 'early_stopping_rounds' argument is deprecated and will be removed in a future release of LightGBM. Pass 'early_stopping()' callback via 'callbacks' argument instead.\n",
            "  _log_warning(\"'early_stopping_rounds' argument is deprecated and will be removed in a future release of LightGBM. \"\n",
            "/usr/local/lib/python3.9/dist-packages/lightgbm/sklearn.py:736: UserWarning: 'verbose' argument is deprecated and will be removed in a future release of LightGBM. Pass 'log_evaluation()' callback via 'callbacks' argument instead.\n",
            "  _log_warning(\"'verbose' argument is deprecated and will be removed in a future release of LightGBM. \"\n"
          ]
        },
        {
          "name": "stdout",
          "output_type": "stream",
          "text": [
            "[LightGBM] [Warning] lambda_l1 is set=0, reg_alpha=0.0 will be ignored. Current value: lambda_l1=0\n",
            "[LightGBM] [Warning] bagging_fraction is set=0.560370610228302, subsample=1.0 will be ignored. Current value: bagging_fraction=0.560370610228302\n",
            "[LightGBM] [Warning] lambda_l2 is set=80, reg_lambda=0.0 will be ignored. Current value: lambda_l2=80\n",
            "[LightGBM] [Warning] feature_fraction is set=0.7381997588438164, colsample_bytree=1.0 will be ignored. Current value: feature_fraction=0.7381997588438164\n",
            "[LightGBM] [Warning] min_data_in_leaf is set=91, min_child_samples=20 will be ignored. Current value: min_data_in_leaf=91\n",
            "[LightGBM] [Warning] bagging_freq is set=1, subsample_freq=0 will be ignored. Current value: bagging_freq=1\n"
          ]
        },
        {
          "name": "stderr",
          "output_type": "stream",
          "text": [
            "/usr/local/lib/python3.9/dist-packages/lightgbm/sklearn.py:726: UserWarning: 'early_stopping_rounds' argument is deprecated and will be removed in a future release of LightGBM. Pass 'early_stopping()' callback via 'callbacks' argument instead.\n",
            "  _log_warning(\"'early_stopping_rounds' argument is deprecated and will be removed in a future release of LightGBM. \"\n",
            "/usr/local/lib/python3.9/dist-packages/lightgbm/sklearn.py:736: UserWarning: 'verbose' argument is deprecated and will be removed in a future release of LightGBM. Pass 'log_evaluation()' callback via 'callbacks' argument instead.\n",
            "  _log_warning(\"'verbose' argument is deprecated and will be removed in a future release of LightGBM. \"\n"
          ]
        },
        {
          "name": "stdout",
          "output_type": "stream",
          "text": [
            "[LightGBM] [Warning] lambda_l1 is set=0, reg_alpha=0.0 will be ignored. Current value: lambda_l1=0\n",
            "[LightGBM] [Warning] bagging_fraction is set=0.560370610228302, subsample=1.0 will be ignored. Current value: bagging_fraction=0.560370610228302\n",
            "[LightGBM] [Warning] lambda_l2 is set=80, reg_lambda=0.0 will be ignored. Current value: lambda_l2=80\n",
            "[LightGBM] [Warning] feature_fraction is set=0.7381997588438164, colsample_bytree=1.0 will be ignored. Current value: feature_fraction=0.7381997588438164\n",
            "[LightGBM] [Warning] min_data_in_leaf is set=91, min_child_samples=20 will be ignored. Current value: min_data_in_leaf=91\n",
            "[LightGBM] [Warning] bagging_freq is set=1, subsample_freq=0 will be ignored. Current value: bagging_freq=1\n"
          ]
        },
        {
          "name": "stderr",
          "output_type": "stream",
          "text": [
            "/usr/local/lib/python3.9/dist-packages/lightgbm/sklearn.py:726: UserWarning: 'early_stopping_rounds' argument is deprecated and will be removed in a future release of LightGBM. Pass 'early_stopping()' callback via 'callbacks' argument instead.\n",
            "  _log_warning(\"'early_stopping_rounds' argument is deprecated and will be removed in a future release of LightGBM. \"\n",
            "/usr/local/lib/python3.9/dist-packages/lightgbm/sklearn.py:736: UserWarning: 'verbose' argument is deprecated and will be removed in a future release of LightGBM. Pass 'log_evaluation()' callback via 'callbacks' argument instead.\n",
            "  _log_warning(\"'verbose' argument is deprecated and will be removed in a future release of LightGBM. \"\n"
          ]
        },
        {
          "name": "stdout",
          "output_type": "stream",
          "text": [
            "[LightGBM] [Warning] lambda_l1 is set=0, reg_alpha=0.0 will be ignored. Current value: lambda_l1=0\n",
            "[LightGBM] [Warning] bagging_fraction is set=0.560370610228302, subsample=1.0 will be ignored. Current value: bagging_fraction=0.560370610228302\n",
            "[LightGBM] [Warning] lambda_l2 is set=80, reg_lambda=0.0 will be ignored. Current value: lambda_l2=80\n",
            "[LightGBM] [Warning] feature_fraction is set=0.7381997588438164, colsample_bytree=1.0 will be ignored. Current value: feature_fraction=0.7381997588438164\n",
            "[LightGBM] [Warning] min_data_in_leaf is set=91, min_child_samples=20 will be ignored. Current value: min_data_in_leaf=91\n",
            "[LightGBM] [Warning] bagging_freq is set=1, subsample_freq=0 will be ignored. Current value: bagging_freq=1\n"
          ]
        },
        {
          "name": "stderr",
          "output_type": "stream",
          "text": [
            "/usr/local/lib/python3.9/dist-packages/lightgbm/sklearn.py:726: UserWarning: 'early_stopping_rounds' argument is deprecated and will be removed in a future release of LightGBM. Pass 'early_stopping()' callback via 'callbacks' argument instead.\n",
            "  _log_warning(\"'early_stopping_rounds' argument is deprecated and will be removed in a future release of LightGBM. \"\n",
            "/usr/local/lib/python3.9/dist-packages/lightgbm/sklearn.py:736: UserWarning: 'verbose' argument is deprecated and will be removed in a future release of LightGBM. Pass 'log_evaluation()' callback via 'callbacks' argument instead.\n",
            "  _log_warning(\"'verbose' argument is deprecated and will be removed in a future release of LightGBM. \"\n"
          ]
        },
        {
          "name": "stdout",
          "output_type": "stream",
          "text": [
            "[LightGBM] [Warning] lambda_l1 is set=0, reg_alpha=0.0 will be ignored. Current value: lambda_l1=0\n",
            "[LightGBM] [Warning] bagging_fraction is set=0.560370610228302, subsample=1.0 will be ignored. Current value: bagging_fraction=0.560370610228302\n",
            "[LightGBM] [Warning] lambda_l2 is set=80, reg_lambda=0.0 will be ignored. Current value: lambda_l2=80\n",
            "[LightGBM] [Warning] feature_fraction is set=0.7381997588438164, colsample_bytree=1.0 will be ignored. Current value: feature_fraction=0.7381997588438164\n",
            "[LightGBM] [Warning] min_data_in_leaf is set=91, min_child_samples=20 will be ignored. Current value: min_data_in_leaf=91\n",
            "[LightGBM] [Warning] bagging_freq is set=1, subsample_freq=0 will be ignored. Current value: bagging_freq=1\n"
          ]
        },
        {
          "name": "stderr",
          "output_type": "stream",
          "text": [
            "/usr/local/lib/python3.9/dist-packages/lightgbm/sklearn.py:726: UserWarning: 'early_stopping_rounds' argument is deprecated and will be removed in a future release of LightGBM. Pass 'early_stopping()' callback via 'callbacks' argument instead.\n",
            "  _log_warning(\"'early_stopping_rounds' argument is deprecated and will be removed in a future release of LightGBM. \"\n",
            "/usr/local/lib/python3.9/dist-packages/lightgbm/sklearn.py:736: UserWarning: 'verbose' argument is deprecated and will be removed in a future release of LightGBM. Pass 'log_evaluation()' callback via 'callbacks' argument instead.\n",
            "  _log_warning(\"'verbose' argument is deprecated and will be removed in a future release of LightGBM. \"\n"
          ]
        },
        {
          "name": "stdout",
          "output_type": "stream",
          "text": [
            "[LightGBM] [Warning] lambda_l1 is set=0, reg_alpha=0.0 will be ignored. Current value: lambda_l1=0\n",
            "[LightGBM] [Warning] bagging_fraction is set=0.560370610228302, subsample=1.0 will be ignored. Current value: bagging_fraction=0.560370610228302\n",
            "[LightGBM] [Warning] lambda_l2 is set=80, reg_lambda=0.0 will be ignored. Current value: lambda_l2=80\n",
            "[LightGBM] [Warning] feature_fraction is set=0.7381997588438164, colsample_bytree=1.0 will be ignored. Current value: feature_fraction=0.7381997588438164\n",
            "[LightGBM] [Warning] min_data_in_leaf is set=91, min_child_samples=20 will be ignored. Current value: min_data_in_leaf=91\n",
            "[LightGBM] [Warning] bagging_freq is set=1, subsample_freq=0 will be ignored. Current value: bagging_freq=1\n"
          ]
        },
        {
          "name": "stderr",
          "output_type": "stream",
          "text": [
            "\u001b[32m[I 2023-03-30 12:58:19,659]\u001b[0m Trial 14 finished with value: 0.8175410504023979 and parameters: {'n_estimators': 10000, 'learning_rate': 0.08687867411393084, 'num_leaves': 914, 'max_depth': 7, 'min_data_in_leaf': 91, 'lambda_l1': 0, 'lambda_l2': 80, 'bagging_fraction': 0.560370610228302, 'bagging_freq': 1, 'feature_fraction': 0.7381997588438164}. Best is trial 14 with value: 0.8175410504023979.\u001b[0m\n",
            "/usr/local/lib/python3.9/dist-packages/lightgbm/sklearn.py:726: UserWarning: 'early_stopping_rounds' argument is deprecated and will be removed in a future release of LightGBM. Pass 'early_stopping()' callback via 'callbacks' argument instead.\n",
            "  _log_warning(\"'early_stopping_rounds' argument is deprecated and will be removed in a future release of LightGBM. \"\n",
            "/usr/local/lib/python3.9/dist-packages/lightgbm/sklearn.py:736: UserWarning: 'verbose' argument is deprecated and will be removed in a future release of LightGBM. Pass 'log_evaluation()' callback via 'callbacks' argument instead.\n",
            "  _log_warning(\"'verbose' argument is deprecated and will be removed in a future release of LightGBM. \"\n"
          ]
        },
        {
          "name": "stdout",
          "output_type": "stream",
          "text": [
            "[LightGBM] [Warning] lambda_l1 is set=0, reg_alpha=0.0 will be ignored. Current value: lambda_l1=0\n",
            "[LightGBM] [Warning] bagging_fraction is set=0.6022924967750453, subsample=1.0 will be ignored. Current value: bagging_fraction=0.6022924967750453\n",
            "[LightGBM] [Warning] lambda_l2 is set=80, reg_lambda=0.0 will be ignored. Current value: lambda_l2=80\n",
            "[LightGBM] [Warning] feature_fraction is set=0.6773984790032574, colsample_bytree=1.0 will be ignored. Current value: feature_fraction=0.6773984790032574\n",
            "[LightGBM] [Warning] min_data_in_leaf is set=90, min_child_samples=20 will be ignored. Current value: min_data_in_leaf=90\n",
            "[LightGBM] [Warning] bagging_freq is set=1, subsample_freq=0 will be ignored. Current value: bagging_freq=1\n"
          ]
        },
        {
          "name": "stderr",
          "output_type": "stream",
          "text": [
            "/usr/local/lib/python3.9/dist-packages/lightgbm/sklearn.py:726: UserWarning: 'early_stopping_rounds' argument is deprecated and will be removed in a future release of LightGBM. Pass 'early_stopping()' callback via 'callbacks' argument instead.\n",
            "  _log_warning(\"'early_stopping_rounds' argument is deprecated and will be removed in a future release of LightGBM. \"\n",
            "/usr/local/lib/python3.9/dist-packages/lightgbm/sklearn.py:736: UserWarning: 'verbose' argument is deprecated and will be removed in a future release of LightGBM. Pass 'log_evaluation()' callback via 'callbacks' argument instead.\n",
            "  _log_warning(\"'verbose' argument is deprecated and will be removed in a future release of LightGBM. \"\n"
          ]
        },
        {
          "name": "stdout",
          "output_type": "stream",
          "text": [
            "[LightGBM] [Warning] lambda_l1 is set=0, reg_alpha=0.0 will be ignored. Current value: lambda_l1=0\n",
            "[LightGBM] [Warning] bagging_fraction is set=0.6022924967750453, subsample=1.0 will be ignored. Current value: bagging_fraction=0.6022924967750453\n",
            "[LightGBM] [Warning] lambda_l2 is set=80, reg_lambda=0.0 will be ignored. Current value: lambda_l2=80\n",
            "[LightGBM] [Warning] feature_fraction is set=0.6773984790032574, colsample_bytree=1.0 will be ignored. Current value: feature_fraction=0.6773984790032574\n",
            "[LightGBM] [Warning] min_data_in_leaf is set=90, min_child_samples=20 will be ignored. Current value: min_data_in_leaf=90\n",
            "[LightGBM] [Warning] bagging_freq is set=1, subsample_freq=0 will be ignored. Current value: bagging_freq=1\n"
          ]
        },
        {
          "name": "stderr",
          "output_type": "stream",
          "text": [
            "/usr/local/lib/python3.9/dist-packages/lightgbm/sklearn.py:726: UserWarning: 'early_stopping_rounds' argument is deprecated and will be removed in a future release of LightGBM. Pass 'early_stopping()' callback via 'callbacks' argument instead.\n",
            "  _log_warning(\"'early_stopping_rounds' argument is deprecated and will be removed in a future release of LightGBM. \"\n",
            "/usr/local/lib/python3.9/dist-packages/lightgbm/sklearn.py:736: UserWarning: 'verbose' argument is deprecated and will be removed in a future release of LightGBM. Pass 'log_evaluation()' callback via 'callbacks' argument instead.\n",
            "  _log_warning(\"'verbose' argument is deprecated and will be removed in a future release of LightGBM. \"\n"
          ]
        },
        {
          "name": "stdout",
          "output_type": "stream",
          "text": [
            "[LightGBM] [Warning] lambda_l1 is set=0, reg_alpha=0.0 will be ignored. Current value: lambda_l1=0\n",
            "[LightGBM] [Warning] bagging_fraction is set=0.6022924967750453, subsample=1.0 will be ignored. Current value: bagging_fraction=0.6022924967750453\n",
            "[LightGBM] [Warning] lambda_l2 is set=80, reg_lambda=0.0 will be ignored. Current value: lambda_l2=80\n",
            "[LightGBM] [Warning] feature_fraction is set=0.6773984790032574, colsample_bytree=1.0 will be ignored. Current value: feature_fraction=0.6773984790032574\n",
            "[LightGBM] [Warning] min_data_in_leaf is set=90, min_child_samples=20 will be ignored. Current value: min_data_in_leaf=90\n",
            "[LightGBM] [Warning] bagging_freq is set=1, subsample_freq=0 will be ignored. Current value: bagging_freq=1\n"
          ]
        },
        {
          "name": "stderr",
          "output_type": "stream",
          "text": [
            "/usr/local/lib/python3.9/dist-packages/lightgbm/sklearn.py:726: UserWarning: 'early_stopping_rounds' argument is deprecated and will be removed in a future release of LightGBM. Pass 'early_stopping()' callback via 'callbacks' argument instead.\n",
            "  _log_warning(\"'early_stopping_rounds' argument is deprecated and will be removed in a future release of LightGBM. \"\n",
            "/usr/local/lib/python3.9/dist-packages/lightgbm/sklearn.py:736: UserWarning: 'verbose' argument is deprecated and will be removed in a future release of LightGBM. Pass 'log_evaluation()' callback via 'callbacks' argument instead.\n",
            "  _log_warning(\"'verbose' argument is deprecated and will be removed in a future release of LightGBM. \"\n"
          ]
        },
        {
          "name": "stdout",
          "output_type": "stream",
          "text": [
            "[LightGBM] [Warning] lambda_l1 is set=0, reg_alpha=0.0 will be ignored. Current value: lambda_l1=0\n",
            "[LightGBM] [Warning] bagging_fraction is set=0.6022924967750453, subsample=1.0 will be ignored. Current value: bagging_fraction=0.6022924967750453\n",
            "[LightGBM] [Warning] lambda_l2 is set=80, reg_lambda=0.0 will be ignored. Current value: lambda_l2=80\n",
            "[LightGBM] [Warning] feature_fraction is set=0.6773984790032574, colsample_bytree=1.0 will be ignored. Current value: feature_fraction=0.6773984790032574\n",
            "[LightGBM] [Warning] min_data_in_leaf is set=90, min_child_samples=20 will be ignored. Current value: min_data_in_leaf=90\n",
            "[LightGBM] [Warning] bagging_freq is set=1, subsample_freq=0 will be ignored. Current value: bagging_freq=1\n"
          ]
        },
        {
          "name": "stderr",
          "output_type": "stream",
          "text": [
            "/usr/local/lib/python3.9/dist-packages/lightgbm/sklearn.py:726: UserWarning: 'early_stopping_rounds' argument is deprecated and will be removed in a future release of LightGBM. Pass 'early_stopping()' callback via 'callbacks' argument instead.\n",
            "  _log_warning(\"'early_stopping_rounds' argument is deprecated and will be removed in a future release of LightGBM. \"\n",
            "/usr/local/lib/python3.9/dist-packages/lightgbm/sklearn.py:736: UserWarning: 'verbose' argument is deprecated and will be removed in a future release of LightGBM. Pass 'log_evaluation()' callback via 'callbacks' argument instead.\n",
            "  _log_warning(\"'verbose' argument is deprecated and will be removed in a future release of LightGBM. \"\n"
          ]
        },
        {
          "name": "stdout",
          "output_type": "stream",
          "text": [
            "[LightGBM] [Warning] lambda_l1 is set=0, reg_alpha=0.0 will be ignored. Current value: lambda_l1=0\n",
            "[LightGBM] [Warning] bagging_fraction is set=0.6022924967750453, subsample=1.0 will be ignored. Current value: bagging_fraction=0.6022924967750453\n",
            "[LightGBM] [Warning] lambda_l2 is set=80, reg_lambda=0.0 will be ignored. Current value: lambda_l2=80\n",
            "[LightGBM] [Warning] feature_fraction is set=0.6773984790032574, colsample_bytree=1.0 will be ignored. Current value: feature_fraction=0.6773984790032574\n",
            "[LightGBM] [Warning] min_data_in_leaf is set=90, min_child_samples=20 will be ignored. Current value: min_data_in_leaf=90\n",
            "[LightGBM] [Warning] bagging_freq is set=1, subsample_freq=0 will be ignored. Current value: bagging_freq=1\n"
          ]
        },
        {
          "name": "stderr",
          "output_type": "stream",
          "text": [
            "\u001b[32m[I 2023-03-30 12:59:20,485]\u001b[0m Trial 15 finished with value: 0.8190608316795235 and parameters: {'n_estimators': 10000, 'learning_rate': 0.08714129165865309, 'num_leaves': 616, 'max_depth': 7, 'min_data_in_leaf': 90, 'lambda_l1': 0, 'lambda_l2': 80, 'bagging_fraction': 0.6022924967750453, 'bagging_freq': 1, 'feature_fraction': 0.6773984790032574}. Best is trial 15 with value: 0.8190608316795235.\u001b[0m\n",
            "/usr/local/lib/python3.9/dist-packages/lightgbm/sklearn.py:726: UserWarning: 'early_stopping_rounds' argument is deprecated and will be removed in a future release of LightGBM. Pass 'early_stopping()' callback via 'callbacks' argument instead.\n",
            "  _log_warning(\"'early_stopping_rounds' argument is deprecated and will be removed in a future release of LightGBM. \"\n",
            "/usr/local/lib/python3.9/dist-packages/lightgbm/sklearn.py:736: UserWarning: 'verbose' argument is deprecated and will be removed in a future release of LightGBM. Pass 'log_evaluation()' callback via 'callbacks' argument instead.\n",
            "  _log_warning(\"'verbose' argument is deprecated and will be removed in a future release of LightGBM. \"\n"
          ]
        },
        {
          "name": "stdout",
          "output_type": "stream",
          "text": [
            "[LightGBM] [Warning] lambda_l1 is set=40, reg_alpha=0.0 will be ignored. Current value: lambda_l1=40\n",
            "[LightGBM] [Warning] bagging_fraction is set=0.60980354696533, subsample=1.0 will be ignored. Current value: bagging_fraction=0.60980354696533\n",
            "[LightGBM] [Warning] lambda_l2 is set=80, reg_lambda=0.0 will be ignored. Current value: lambda_l2=80\n",
            "[LightGBM] [Warning] feature_fraction is set=0.6929084725923613, colsample_bytree=1.0 will be ignored. Current value: feature_fraction=0.6929084725923613\n",
            "[LightGBM] [Warning] min_data_in_leaf is set=90, min_child_samples=20 will be ignored. Current value: min_data_in_leaf=90\n",
            "[LightGBM] [Warning] bagging_freq is set=1, subsample_freq=0 will be ignored. Current value: bagging_freq=1\n",
            "[500]\tvalid_0's binary_logloss: 0.0138354\n",
            "[1000]\tvalid_0's binary_logloss: 0.0137411\n"
          ]
        },
        {
          "name": "stderr",
          "output_type": "stream",
          "text": [
            "/usr/local/lib/python3.9/dist-packages/lightgbm/sklearn.py:726: UserWarning: 'early_stopping_rounds' argument is deprecated and will be removed in a future release of LightGBM. Pass 'early_stopping()' callback via 'callbacks' argument instead.\n",
            "  _log_warning(\"'early_stopping_rounds' argument is deprecated and will be removed in a future release of LightGBM. \"\n",
            "/usr/local/lib/python3.9/dist-packages/lightgbm/sklearn.py:736: UserWarning: 'verbose' argument is deprecated and will be removed in a future release of LightGBM. Pass 'log_evaluation()' callback via 'callbacks' argument instead.\n",
            "  _log_warning(\"'verbose' argument is deprecated and will be removed in a future release of LightGBM. \"\n"
          ]
        },
        {
          "name": "stdout",
          "output_type": "stream",
          "text": [
            "[LightGBM] [Warning] lambda_l1 is set=40, reg_alpha=0.0 will be ignored. Current value: lambda_l1=40\n",
            "[LightGBM] [Warning] bagging_fraction is set=0.60980354696533, subsample=1.0 will be ignored. Current value: bagging_fraction=0.60980354696533\n",
            "[LightGBM] [Warning] lambda_l2 is set=80, reg_lambda=0.0 will be ignored. Current value: lambda_l2=80\n",
            "[LightGBM] [Warning] feature_fraction is set=0.6929084725923613, colsample_bytree=1.0 will be ignored. Current value: feature_fraction=0.6929084725923613\n",
            "[LightGBM] [Warning] min_data_in_leaf is set=90, min_child_samples=20 will be ignored. Current value: min_data_in_leaf=90\n",
            "[LightGBM] [Warning] bagging_freq is set=1, subsample_freq=0 will be ignored. Current value: bagging_freq=1\n",
            "[500]\tvalid_0's binary_logloss: 0.013504\n",
            "[1000]\tvalid_0's binary_logloss: 0.0133818\n",
            "[1500]\tvalid_0's binary_logloss: 0.0133381\n",
            "[2000]\tvalid_0's binary_logloss: 0.0133011\n",
            "[2500]\tvalid_0's binary_logloss: 0.0132643\n",
            "[3000]\tvalid_0's binary_logloss: 0.0132515\n"
          ]
        },
        {
          "name": "stderr",
          "output_type": "stream",
          "text": [
            "/usr/local/lib/python3.9/dist-packages/lightgbm/sklearn.py:726: UserWarning: 'early_stopping_rounds' argument is deprecated and will be removed in a future release of LightGBM. Pass 'early_stopping()' callback via 'callbacks' argument instead.\n",
            "  _log_warning(\"'early_stopping_rounds' argument is deprecated and will be removed in a future release of LightGBM. \"\n",
            "/usr/local/lib/python3.9/dist-packages/lightgbm/sklearn.py:736: UserWarning: 'verbose' argument is deprecated and will be removed in a future release of LightGBM. Pass 'log_evaluation()' callback via 'callbacks' argument instead.\n",
            "  _log_warning(\"'verbose' argument is deprecated and will be removed in a future release of LightGBM. \"\n"
          ]
        },
        {
          "name": "stdout",
          "output_type": "stream",
          "text": [
            "[LightGBM] [Warning] lambda_l1 is set=40, reg_alpha=0.0 will be ignored. Current value: lambda_l1=40\n",
            "[LightGBM] [Warning] bagging_fraction is set=0.60980354696533, subsample=1.0 will be ignored. Current value: bagging_fraction=0.60980354696533\n",
            "[LightGBM] [Warning] lambda_l2 is set=80, reg_lambda=0.0 will be ignored. Current value: lambda_l2=80\n",
            "[LightGBM] [Warning] feature_fraction is set=0.6929084725923613, colsample_bytree=1.0 will be ignored. Current value: feature_fraction=0.6929084725923613\n",
            "[LightGBM] [Warning] min_data_in_leaf is set=90, min_child_samples=20 will be ignored. Current value: min_data_in_leaf=90\n",
            "[LightGBM] [Warning] bagging_freq is set=1, subsample_freq=0 will be ignored. Current value: bagging_freq=1\n",
            "[500]\tvalid_0's binary_logloss: 0.0140232\n",
            "[1000]\tvalid_0's binary_logloss: 0.0139444\n",
            "[1500]\tvalid_0's binary_logloss: 0.013904\n",
            "[2000]\tvalid_0's binary_logloss: 0.0138746\n"
          ]
        },
        {
          "name": "stderr",
          "output_type": "stream",
          "text": [
            "/usr/local/lib/python3.9/dist-packages/lightgbm/sklearn.py:726: UserWarning: 'early_stopping_rounds' argument is deprecated and will be removed in a future release of LightGBM. Pass 'early_stopping()' callback via 'callbacks' argument instead.\n",
            "  _log_warning(\"'early_stopping_rounds' argument is deprecated and will be removed in a future release of LightGBM. \"\n",
            "/usr/local/lib/python3.9/dist-packages/lightgbm/sklearn.py:736: UserWarning: 'verbose' argument is deprecated and will be removed in a future release of LightGBM. Pass 'log_evaluation()' callback via 'callbacks' argument instead.\n",
            "  _log_warning(\"'verbose' argument is deprecated and will be removed in a future release of LightGBM. \"\n"
          ]
        },
        {
          "name": "stdout",
          "output_type": "stream",
          "text": [
            "[LightGBM] [Warning] lambda_l1 is set=40, reg_alpha=0.0 will be ignored. Current value: lambda_l1=40\n",
            "[LightGBM] [Warning] bagging_fraction is set=0.60980354696533, subsample=1.0 will be ignored. Current value: bagging_fraction=0.60980354696533\n",
            "[LightGBM] [Warning] lambda_l2 is set=80, reg_lambda=0.0 will be ignored. Current value: lambda_l2=80\n",
            "[LightGBM] [Warning] feature_fraction is set=0.6929084725923613, colsample_bytree=1.0 will be ignored. Current value: feature_fraction=0.6929084725923613\n",
            "[LightGBM] [Warning] min_data_in_leaf is set=90, min_child_samples=20 will be ignored. Current value: min_data_in_leaf=90\n",
            "[LightGBM] [Warning] bagging_freq is set=1, subsample_freq=0 will be ignored. Current value: bagging_freq=1\n",
            "[500]\tvalid_0's binary_logloss: 0.0137414\n",
            "[1000]\tvalid_0's binary_logloss: 0.0136484\n",
            "[1500]\tvalid_0's binary_logloss: 0.0136009\n",
            "[2000]\tvalid_0's binary_logloss: 0.0135702\n"
          ]
        },
        {
          "name": "stderr",
          "output_type": "stream",
          "text": [
            "/usr/local/lib/python3.9/dist-packages/lightgbm/sklearn.py:726: UserWarning: 'early_stopping_rounds' argument is deprecated and will be removed in a future release of LightGBM. Pass 'early_stopping()' callback via 'callbacks' argument instead.\n",
            "  _log_warning(\"'early_stopping_rounds' argument is deprecated and will be removed in a future release of LightGBM. \"\n",
            "/usr/local/lib/python3.9/dist-packages/lightgbm/sklearn.py:736: UserWarning: 'verbose' argument is deprecated and will be removed in a future release of LightGBM. Pass 'log_evaluation()' callback via 'callbacks' argument instead.\n",
            "  _log_warning(\"'verbose' argument is deprecated and will be removed in a future release of LightGBM. \"\n"
          ]
        },
        {
          "name": "stdout",
          "output_type": "stream",
          "text": [
            "[LightGBM] [Warning] lambda_l1 is set=40, reg_alpha=0.0 will be ignored. Current value: lambda_l1=40\n",
            "[LightGBM] [Warning] bagging_fraction is set=0.60980354696533, subsample=1.0 will be ignored. Current value: bagging_fraction=0.60980354696533\n",
            "[LightGBM] [Warning] lambda_l2 is set=80, reg_lambda=0.0 will be ignored. Current value: lambda_l2=80\n",
            "[LightGBM] [Warning] feature_fraction is set=0.6929084725923613, colsample_bytree=1.0 will be ignored. Current value: feature_fraction=0.6929084725923613\n",
            "[LightGBM] [Warning] min_data_in_leaf is set=90, min_child_samples=20 will be ignored. Current value: min_data_in_leaf=90\n",
            "[LightGBM] [Warning] bagging_freq is set=1, subsample_freq=0 will be ignored. Current value: bagging_freq=1\n",
            "[500]\tvalid_0's binary_logloss: 0.0134649\n",
            "[1000]\tvalid_0's binary_logloss: 0.0133837\n",
            "[1500]\tvalid_0's binary_logloss: 0.0133355\n",
            "[2000]\tvalid_0's binary_logloss: 0.013313\n",
            "[2500]\tvalid_0's binary_logloss: 0.01329\n",
            "[3000]\tvalid_0's binary_logloss: 0.0132655\n"
          ]
        },
        {
          "name": "stderr",
          "output_type": "stream",
          "text": [
            "\u001b[32m[I 2023-03-30 13:02:35,358]\u001b[0m Trial 16 finished with value: 0.7999892483790383 and parameters: {'n_estimators': 10000, 'learning_rate': 0.09336475962655091, 'num_leaves': 616, 'max_depth': 7, 'min_data_in_leaf': 90, 'lambda_l1': 40, 'lambda_l2': 80, 'bagging_fraction': 0.60980354696533, 'bagging_freq': 1, 'feature_fraction': 0.6929084725923613}. Best is trial 15 with value: 0.8190608316795235.\u001b[0m\n",
            "/usr/local/lib/python3.9/dist-packages/lightgbm/sklearn.py:726: UserWarning: 'early_stopping_rounds' argument is deprecated and will be removed in a future release of LightGBM. Pass 'early_stopping()' callback via 'callbacks' argument instead.\n",
            "  _log_warning(\"'early_stopping_rounds' argument is deprecated and will be removed in a future release of LightGBM. \"\n",
            "/usr/local/lib/python3.9/dist-packages/lightgbm/sklearn.py:736: UserWarning: 'verbose' argument is deprecated and will be removed in a future release of LightGBM. Pass 'log_evaluation()' callback via 'callbacks' argument instead.\n",
            "  _log_warning(\"'verbose' argument is deprecated and will be removed in a future release of LightGBM. \"\n"
          ]
        },
        {
          "name": "stdout",
          "output_type": "stream",
          "text": [
            "[LightGBM] [Warning] lambda_l1 is set=0, reg_alpha=0.0 will be ignored. Current value: lambda_l1=0\n",
            "[LightGBM] [Warning] bagging_fraction is set=0.6061089605427359, subsample=1.0 will be ignored. Current value: bagging_fraction=0.6061089605427359\n",
            "[LightGBM] [Warning] lambda_l2 is set=80, reg_lambda=0.0 will be ignored. Current value: lambda_l2=80\n",
            "[LightGBM] [Warning] feature_fraction is set=0.6843017900177504, colsample_bytree=1.0 will be ignored. Current value: feature_fraction=0.6843017900177504\n",
            "[LightGBM] [Warning] min_data_in_leaf is set=92, min_child_samples=20 will be ignored. Current value: min_data_in_leaf=92\n",
            "[LightGBM] [Warning] bagging_freq is set=1, subsample_freq=0 will be ignored. Current value: bagging_freq=1\n"
          ]
        },
        {
          "name": "stderr",
          "output_type": "stream",
          "text": [
            "/usr/local/lib/python3.9/dist-packages/lightgbm/sklearn.py:726: UserWarning: 'early_stopping_rounds' argument is deprecated and will be removed in a future release of LightGBM. Pass 'early_stopping()' callback via 'callbacks' argument instead.\n",
            "  _log_warning(\"'early_stopping_rounds' argument is deprecated and will be removed in a future release of LightGBM. \"\n",
            "/usr/local/lib/python3.9/dist-packages/lightgbm/sklearn.py:736: UserWarning: 'verbose' argument is deprecated and will be removed in a future release of LightGBM. Pass 'log_evaluation()' callback via 'callbacks' argument instead.\n",
            "  _log_warning(\"'verbose' argument is deprecated and will be removed in a future release of LightGBM. \"\n"
          ]
        },
        {
          "name": "stdout",
          "output_type": "stream",
          "text": [
            "[LightGBM] [Warning] lambda_l1 is set=0, reg_alpha=0.0 will be ignored. Current value: lambda_l1=0\n",
            "[LightGBM] [Warning] bagging_fraction is set=0.6061089605427359, subsample=1.0 will be ignored. Current value: bagging_fraction=0.6061089605427359\n",
            "[LightGBM] [Warning] lambda_l2 is set=80, reg_lambda=0.0 will be ignored. Current value: lambda_l2=80\n",
            "[LightGBM] [Warning] feature_fraction is set=0.6843017900177504, colsample_bytree=1.0 will be ignored. Current value: feature_fraction=0.6843017900177504\n",
            "[LightGBM] [Warning] min_data_in_leaf is set=92, min_child_samples=20 will be ignored. Current value: min_data_in_leaf=92\n",
            "[LightGBM] [Warning] bagging_freq is set=1, subsample_freq=0 will be ignored. Current value: bagging_freq=1\n"
          ]
        },
        {
          "name": "stderr",
          "output_type": "stream",
          "text": [
            "/usr/local/lib/python3.9/dist-packages/lightgbm/sklearn.py:726: UserWarning: 'early_stopping_rounds' argument is deprecated and will be removed in a future release of LightGBM. Pass 'early_stopping()' callback via 'callbacks' argument instead.\n",
            "  _log_warning(\"'early_stopping_rounds' argument is deprecated and will be removed in a future release of LightGBM. \"\n",
            "/usr/local/lib/python3.9/dist-packages/lightgbm/sklearn.py:736: UserWarning: 'verbose' argument is deprecated and will be removed in a future release of LightGBM. Pass 'log_evaluation()' callback via 'callbacks' argument instead.\n",
            "  _log_warning(\"'verbose' argument is deprecated and will be removed in a future release of LightGBM. \"\n"
          ]
        },
        {
          "name": "stdout",
          "output_type": "stream",
          "text": [
            "[LightGBM] [Warning] lambda_l1 is set=0, reg_alpha=0.0 will be ignored. Current value: lambda_l1=0\n",
            "[LightGBM] [Warning] bagging_fraction is set=0.6061089605427359, subsample=1.0 will be ignored. Current value: bagging_fraction=0.6061089605427359\n",
            "[LightGBM] [Warning] lambda_l2 is set=80, reg_lambda=0.0 will be ignored. Current value: lambda_l2=80\n",
            "[LightGBM] [Warning] feature_fraction is set=0.6843017900177504, colsample_bytree=1.0 will be ignored. Current value: feature_fraction=0.6843017900177504\n",
            "[LightGBM] [Warning] min_data_in_leaf is set=92, min_child_samples=20 will be ignored. Current value: min_data_in_leaf=92\n",
            "[LightGBM] [Warning] bagging_freq is set=1, subsample_freq=0 will be ignored. Current value: bagging_freq=1\n"
          ]
        },
        {
          "name": "stderr",
          "output_type": "stream",
          "text": [
            "/usr/local/lib/python3.9/dist-packages/lightgbm/sklearn.py:726: UserWarning: 'early_stopping_rounds' argument is deprecated and will be removed in a future release of LightGBM. Pass 'early_stopping()' callback via 'callbacks' argument instead.\n",
            "  _log_warning(\"'early_stopping_rounds' argument is deprecated and will be removed in a future release of LightGBM. \"\n",
            "/usr/local/lib/python3.9/dist-packages/lightgbm/sklearn.py:736: UserWarning: 'verbose' argument is deprecated and will be removed in a future release of LightGBM. Pass 'log_evaluation()' callback via 'callbacks' argument instead.\n",
            "  _log_warning(\"'verbose' argument is deprecated and will be removed in a future release of LightGBM. \"\n"
          ]
        },
        {
          "name": "stdout",
          "output_type": "stream",
          "text": [
            "[LightGBM] [Warning] lambda_l1 is set=0, reg_alpha=0.0 will be ignored. Current value: lambda_l1=0\n",
            "[LightGBM] [Warning] bagging_fraction is set=0.6061089605427359, subsample=1.0 will be ignored. Current value: bagging_fraction=0.6061089605427359\n",
            "[LightGBM] [Warning] lambda_l2 is set=80, reg_lambda=0.0 will be ignored. Current value: lambda_l2=80\n",
            "[LightGBM] [Warning] feature_fraction is set=0.6843017900177504, colsample_bytree=1.0 will be ignored. Current value: feature_fraction=0.6843017900177504\n",
            "[LightGBM] [Warning] min_data_in_leaf is set=92, min_child_samples=20 will be ignored. Current value: min_data_in_leaf=92\n",
            "[LightGBM] [Warning] bagging_freq is set=1, subsample_freq=0 will be ignored. Current value: bagging_freq=1\n"
          ]
        },
        {
          "name": "stderr",
          "output_type": "stream",
          "text": [
            "/usr/local/lib/python3.9/dist-packages/lightgbm/sklearn.py:726: UserWarning: 'early_stopping_rounds' argument is deprecated and will be removed in a future release of LightGBM. Pass 'early_stopping()' callback via 'callbacks' argument instead.\n",
            "  _log_warning(\"'early_stopping_rounds' argument is deprecated and will be removed in a future release of LightGBM. \"\n",
            "/usr/local/lib/python3.9/dist-packages/lightgbm/sklearn.py:736: UserWarning: 'verbose' argument is deprecated and will be removed in a future release of LightGBM. Pass 'log_evaluation()' callback via 'callbacks' argument instead.\n",
            "  _log_warning(\"'verbose' argument is deprecated and will be removed in a future release of LightGBM. \"\n"
          ]
        },
        {
          "name": "stdout",
          "output_type": "stream",
          "text": [
            "[LightGBM] [Warning] lambda_l1 is set=0, reg_alpha=0.0 will be ignored. Current value: lambda_l1=0\n",
            "[LightGBM] [Warning] bagging_fraction is set=0.6061089605427359, subsample=1.0 will be ignored. Current value: bagging_fraction=0.6061089605427359\n",
            "[LightGBM] [Warning] lambda_l2 is set=80, reg_lambda=0.0 will be ignored. Current value: lambda_l2=80\n",
            "[LightGBM] [Warning] feature_fraction is set=0.6843017900177504, colsample_bytree=1.0 will be ignored. Current value: feature_fraction=0.6843017900177504\n",
            "[LightGBM] [Warning] min_data_in_leaf is set=92, min_child_samples=20 will be ignored. Current value: min_data_in_leaf=92\n",
            "[LightGBM] [Warning] bagging_freq is set=1, subsample_freq=0 will be ignored. Current value: bagging_freq=1\n"
          ]
        },
        {
          "name": "stderr",
          "output_type": "stream",
          "text": [
            "\u001b[32m[I 2023-03-30 13:03:36,894]\u001b[0m Trial 17 finished with value: 0.8174401111380284 and parameters: {'n_estimators': 10000, 'learning_rate': 0.09026167355446713, 'num_leaves': 914, 'max_depth': 7, 'min_data_in_leaf': 92, 'lambda_l1': 0, 'lambda_l2': 80, 'bagging_fraction': 0.6061089605427359, 'bagging_freq': 1, 'feature_fraction': 0.6843017900177504}. Best is trial 15 with value: 0.8190608316795235.\u001b[0m\n",
            "/usr/local/lib/python3.9/dist-packages/lightgbm/sklearn.py:726: UserWarning: 'early_stopping_rounds' argument is deprecated and will be removed in a future release of LightGBM. Pass 'early_stopping()' callback via 'callbacks' argument instead.\n",
            "  _log_warning(\"'early_stopping_rounds' argument is deprecated and will be removed in a future release of LightGBM. \"\n",
            "/usr/local/lib/python3.9/dist-packages/lightgbm/sklearn.py:736: UserWarning: 'verbose' argument is deprecated and will be removed in a future release of LightGBM. Pass 'log_evaluation()' callback via 'callbacks' argument instead.\n",
            "  _log_warning(\"'verbose' argument is deprecated and will be removed in a future release of LightGBM. \"\n"
          ]
        },
        {
          "name": "stdout",
          "output_type": "stream",
          "text": [
            "[LightGBM] [Warning] lambda_l1 is set=40, reg_alpha=0.0 will be ignored. Current value: lambda_l1=40\n",
            "[LightGBM] [Warning] bagging_fraction is set=0.5623591492476309, subsample=1.0 will be ignored. Current value: bagging_fraction=0.5623591492476309\n",
            "[LightGBM] [Warning] lambda_l2 is set=80, reg_lambda=0.0 will be ignored. Current value: lambda_l2=80\n",
            "[LightGBM] [Warning] feature_fraction is set=0.7300013022845665, colsample_bytree=1.0 will be ignored. Current value: feature_fraction=0.7300013022845665\n",
            "[LightGBM] [Warning] min_data_in_leaf is set=91, min_child_samples=20 will be ignored. Current value: min_data_in_leaf=91\n",
            "[LightGBM] [Warning] bagging_freq is set=1, subsample_freq=0 will be ignored. Current value: bagging_freq=1\n",
            "[500]\tvalid_0's binary_logloss: 0.0138874\n",
            "[1000]\tvalid_0's binary_logloss: 0.0137903\n",
            "[1500]\tvalid_0's binary_logloss: 0.013721\n"
          ]
        },
        {
          "name": "stderr",
          "output_type": "stream",
          "text": [
            "/usr/local/lib/python3.9/dist-packages/lightgbm/sklearn.py:726: UserWarning: 'early_stopping_rounds' argument is deprecated and will be removed in a future release of LightGBM. Pass 'early_stopping()' callback via 'callbacks' argument instead.\n",
            "  _log_warning(\"'early_stopping_rounds' argument is deprecated and will be removed in a future release of LightGBM. \"\n",
            "/usr/local/lib/python3.9/dist-packages/lightgbm/sklearn.py:736: UserWarning: 'verbose' argument is deprecated and will be removed in a future release of LightGBM. Pass 'log_evaluation()' callback via 'callbacks' argument instead.\n",
            "  _log_warning(\"'verbose' argument is deprecated and will be removed in a future release of LightGBM. \"\n"
          ]
        },
        {
          "name": "stdout",
          "output_type": "stream",
          "text": [
            "[LightGBM] [Warning] lambda_l1 is set=40, reg_alpha=0.0 will be ignored. Current value: lambda_l1=40\n",
            "[LightGBM] [Warning] bagging_fraction is set=0.5623591492476309, subsample=1.0 will be ignored. Current value: bagging_fraction=0.5623591492476309\n",
            "[LightGBM] [Warning] lambda_l2 is set=80, reg_lambda=0.0 will be ignored. Current value: lambda_l2=80\n",
            "[LightGBM] [Warning] feature_fraction is set=0.7300013022845665, colsample_bytree=1.0 will be ignored. Current value: feature_fraction=0.7300013022845665\n",
            "[LightGBM] [Warning] min_data_in_leaf is set=91, min_child_samples=20 will be ignored. Current value: min_data_in_leaf=91\n",
            "[LightGBM] [Warning] bagging_freq is set=1, subsample_freq=0 will be ignored. Current value: bagging_freq=1\n",
            "[500]\tvalid_0's binary_logloss: 0.0136209\n",
            "[1000]\tvalid_0's binary_logloss: 0.0134812\n",
            "[1500]\tvalid_0's binary_logloss: 0.0134251\n",
            "[2000]\tvalid_0's binary_logloss: 0.0133838\n",
            "[2500]\tvalid_0's binary_logloss: 0.013358\n",
            "[3000]\tvalid_0's binary_logloss: 0.0133383\n",
            "[3500]\tvalid_0's binary_logloss: 0.0133092\n",
            "[4000]\tvalid_0's binary_logloss: 0.0132881\n"
          ]
        },
        {
          "name": "stderr",
          "output_type": "stream",
          "text": [
            "/usr/local/lib/python3.9/dist-packages/lightgbm/sklearn.py:726: UserWarning: 'early_stopping_rounds' argument is deprecated and will be removed in a future release of LightGBM. Pass 'early_stopping()' callback via 'callbacks' argument instead.\n",
            "  _log_warning(\"'early_stopping_rounds' argument is deprecated and will be removed in a future release of LightGBM. \"\n",
            "/usr/local/lib/python3.9/dist-packages/lightgbm/sklearn.py:736: UserWarning: 'verbose' argument is deprecated and will be removed in a future release of LightGBM. Pass 'log_evaluation()' callback via 'callbacks' argument instead.\n",
            "  _log_warning(\"'verbose' argument is deprecated and will be removed in a future release of LightGBM. \"\n"
          ]
        },
        {
          "name": "stdout",
          "output_type": "stream",
          "text": [
            "[LightGBM] [Warning] lambda_l1 is set=40, reg_alpha=0.0 will be ignored. Current value: lambda_l1=40\n",
            "[LightGBM] [Warning] bagging_fraction is set=0.5623591492476309, subsample=1.0 will be ignored. Current value: bagging_fraction=0.5623591492476309\n",
            "[LightGBM] [Warning] lambda_l2 is set=80, reg_lambda=0.0 will be ignored. Current value: lambda_l2=80\n",
            "[LightGBM] [Warning] feature_fraction is set=0.7300013022845665, colsample_bytree=1.0 will be ignored. Current value: feature_fraction=0.7300013022845665\n",
            "[LightGBM] [Warning] min_data_in_leaf is set=91, min_child_samples=20 will be ignored. Current value: min_data_in_leaf=91\n",
            "[LightGBM] [Warning] bagging_freq is set=1, subsample_freq=0 will be ignored. Current value: bagging_freq=1\n",
            "[500]\tvalid_0's binary_logloss: 0.014063\n",
            "[1000]\tvalid_0's binary_logloss: 0.01398\n",
            "[1500]\tvalid_0's binary_logloss: 0.01394\n",
            "[2000]\tvalid_0's binary_logloss: 0.0139025\n"
          ]
        },
        {
          "name": "stderr",
          "output_type": "stream",
          "text": [
            "/usr/local/lib/python3.9/dist-packages/lightgbm/sklearn.py:726: UserWarning: 'early_stopping_rounds' argument is deprecated and will be removed in a future release of LightGBM. Pass 'early_stopping()' callback via 'callbacks' argument instead.\n",
            "  _log_warning(\"'early_stopping_rounds' argument is deprecated and will be removed in a future release of LightGBM. \"\n",
            "/usr/local/lib/python3.9/dist-packages/lightgbm/sklearn.py:736: UserWarning: 'verbose' argument is deprecated and will be removed in a future release of LightGBM. Pass 'log_evaluation()' callback via 'callbacks' argument instead.\n",
            "  _log_warning(\"'verbose' argument is deprecated and will be removed in a future release of LightGBM. \"\n"
          ]
        },
        {
          "name": "stdout",
          "output_type": "stream",
          "text": [
            "[LightGBM] [Warning] lambda_l1 is set=40, reg_alpha=0.0 will be ignored. Current value: lambda_l1=40\n",
            "[LightGBM] [Warning] bagging_fraction is set=0.5623591492476309, subsample=1.0 will be ignored. Current value: bagging_fraction=0.5623591492476309\n",
            "[LightGBM] [Warning] lambda_l2 is set=80, reg_lambda=0.0 will be ignored. Current value: lambda_l2=80\n",
            "[LightGBM] [Warning] feature_fraction is set=0.7300013022845665, colsample_bytree=1.0 will be ignored. Current value: feature_fraction=0.7300013022845665\n",
            "[LightGBM] [Warning] min_data_in_leaf is set=91, min_child_samples=20 will be ignored. Current value: min_data_in_leaf=91\n",
            "[LightGBM] [Warning] bagging_freq is set=1, subsample_freq=0 will be ignored. Current value: bagging_freq=1\n",
            "[500]\tvalid_0's binary_logloss: 0.01385\n",
            "[1000]\tvalid_0's binary_logloss: 0.0137317\n",
            "[1500]\tvalid_0's binary_logloss: 0.013675\n"
          ]
        },
        {
          "name": "stderr",
          "output_type": "stream",
          "text": [
            "/usr/local/lib/python3.9/dist-packages/lightgbm/sklearn.py:726: UserWarning: 'early_stopping_rounds' argument is deprecated and will be removed in a future release of LightGBM. Pass 'early_stopping()' callback via 'callbacks' argument instead.\n",
            "  _log_warning(\"'early_stopping_rounds' argument is deprecated and will be removed in a future release of LightGBM. \"\n",
            "/usr/local/lib/python3.9/dist-packages/lightgbm/sklearn.py:736: UserWarning: 'verbose' argument is deprecated and will be removed in a future release of LightGBM. Pass 'log_evaluation()' callback via 'callbacks' argument instead.\n",
            "  _log_warning(\"'verbose' argument is deprecated and will be removed in a future release of LightGBM. \"\n"
          ]
        },
        {
          "name": "stdout",
          "output_type": "stream",
          "text": [
            "[LightGBM] [Warning] lambda_l1 is set=40, reg_alpha=0.0 will be ignored. Current value: lambda_l1=40\n",
            "[LightGBM] [Warning] bagging_fraction is set=0.5623591492476309, subsample=1.0 will be ignored. Current value: bagging_fraction=0.5623591492476309\n",
            "[LightGBM] [Warning] lambda_l2 is set=80, reg_lambda=0.0 will be ignored. Current value: lambda_l2=80\n",
            "[LightGBM] [Warning] feature_fraction is set=0.7300013022845665, colsample_bytree=1.0 will be ignored. Current value: feature_fraction=0.7300013022845665\n",
            "[LightGBM] [Warning] min_data_in_leaf is set=91, min_child_samples=20 will be ignored. Current value: min_data_in_leaf=91\n",
            "[LightGBM] [Warning] bagging_freq is set=1, subsample_freq=0 will be ignored. Current value: bagging_freq=1\n",
            "[500]\tvalid_0's binary_logloss: 0.0135386\n",
            "[1000]\tvalid_0's binary_logloss: 0.0134429\n",
            "[1500]\tvalid_0's binary_logloss: 0.0133926\n",
            "[2000]\tvalid_0's binary_logloss: 0.0133673\n",
            "[2500]\tvalid_0's binary_logloss: 0.0133354\n",
            "[3000]\tvalid_0's binary_logloss: 0.0133048\n",
            "[3500]\tvalid_0's binary_logloss: 0.0132853\n"
          ]
        },
        {
          "name": "stderr",
          "output_type": "stream",
          "text": [
            "\u001b[32m[I 2023-03-30 13:07:03,232]\u001b[0m Trial 18 finished with value: 0.7980259067610139 and parameters: {'n_estimators': 10000, 'learning_rate': 0.11193164276984491, 'num_leaves': 20, 'max_depth': 6, 'min_data_in_leaf': 91, 'lambda_l1': 40, 'lambda_l2': 80, 'bagging_fraction': 0.5623591492476309, 'bagging_freq': 1, 'feature_fraction': 0.7300013022845665}. Best is trial 15 with value: 0.8190608316795235.\u001b[0m\n",
            "/usr/local/lib/python3.9/dist-packages/lightgbm/sklearn.py:726: UserWarning: 'early_stopping_rounds' argument is deprecated and will be removed in a future release of LightGBM. Pass 'early_stopping()' callback via 'callbacks' argument instead.\n",
            "  _log_warning(\"'early_stopping_rounds' argument is deprecated and will be removed in a future release of LightGBM. \"\n",
            "/usr/local/lib/python3.9/dist-packages/lightgbm/sklearn.py:736: UserWarning: 'verbose' argument is deprecated and will be removed in a future release of LightGBM. Pass 'log_evaluation()' callback via 'callbacks' argument instead.\n",
            "  _log_warning(\"'verbose' argument is deprecated and will be removed in a future release of LightGBM. \"\n"
          ]
        },
        {
          "name": "stdout",
          "output_type": "stream",
          "text": [
            "[LightGBM] [Warning] lambda_l1 is set=0, reg_alpha=0.0 will be ignored. Current value: lambda_l1=0\n",
            "[LightGBM] [Warning] bagging_fraction is set=0.6309027973564789, subsample=1.0 will be ignored. Current value: bagging_fraction=0.6309027973564789\n",
            "[LightGBM] [Warning] lambda_l2 is set=80, reg_lambda=0.0 will be ignored. Current value: lambda_l2=80\n",
            "[LightGBM] [Warning] feature_fraction is set=0.67679384953785, colsample_bytree=1.0 will be ignored. Current value: feature_fraction=0.67679384953785\n",
            "[LightGBM] [Warning] min_data_in_leaf is set=96, min_child_samples=20 will be ignored. Current value: min_data_in_leaf=96\n",
            "[LightGBM] [Warning] bagging_freq is set=1, subsample_freq=0 will be ignored. Current value: bagging_freq=1\n"
          ]
        },
        {
          "name": "stderr",
          "output_type": "stream",
          "text": [
            "/usr/local/lib/python3.9/dist-packages/lightgbm/sklearn.py:726: UserWarning: 'early_stopping_rounds' argument is deprecated and will be removed in a future release of LightGBM. Pass 'early_stopping()' callback via 'callbacks' argument instead.\n",
            "  _log_warning(\"'early_stopping_rounds' argument is deprecated and will be removed in a future release of LightGBM. \"\n",
            "/usr/local/lib/python3.9/dist-packages/lightgbm/sklearn.py:736: UserWarning: 'verbose' argument is deprecated and will be removed in a future release of LightGBM. Pass 'log_evaluation()' callback via 'callbacks' argument instead.\n",
            "  _log_warning(\"'verbose' argument is deprecated and will be removed in a future release of LightGBM. \"\n"
          ]
        },
        {
          "name": "stdout",
          "output_type": "stream",
          "text": [
            "[LightGBM] [Warning] lambda_l1 is set=0, reg_alpha=0.0 will be ignored. Current value: lambda_l1=0\n",
            "[LightGBM] [Warning] bagging_fraction is set=0.6309027973564789, subsample=1.0 will be ignored. Current value: bagging_fraction=0.6309027973564789\n",
            "[LightGBM] [Warning] lambda_l2 is set=80, reg_lambda=0.0 will be ignored. Current value: lambda_l2=80\n",
            "[LightGBM] [Warning] feature_fraction is set=0.67679384953785, colsample_bytree=1.0 will be ignored. Current value: feature_fraction=0.67679384953785\n",
            "[LightGBM] [Warning] min_data_in_leaf is set=96, min_child_samples=20 will be ignored. Current value: min_data_in_leaf=96\n",
            "[LightGBM] [Warning] bagging_freq is set=1, subsample_freq=0 will be ignored. Current value: bagging_freq=1\n"
          ]
        },
        {
          "name": "stderr",
          "output_type": "stream",
          "text": [
            "/usr/local/lib/python3.9/dist-packages/lightgbm/sklearn.py:726: UserWarning: 'early_stopping_rounds' argument is deprecated and will be removed in a future release of LightGBM. Pass 'early_stopping()' callback via 'callbacks' argument instead.\n",
            "  _log_warning(\"'early_stopping_rounds' argument is deprecated and will be removed in a future release of LightGBM. \"\n",
            "/usr/local/lib/python3.9/dist-packages/lightgbm/sklearn.py:736: UserWarning: 'verbose' argument is deprecated and will be removed in a future release of LightGBM. Pass 'log_evaluation()' callback via 'callbacks' argument instead.\n",
            "  _log_warning(\"'verbose' argument is deprecated and will be removed in a future release of LightGBM. \"\n"
          ]
        },
        {
          "name": "stdout",
          "output_type": "stream",
          "text": [
            "[LightGBM] [Warning] lambda_l1 is set=0, reg_alpha=0.0 will be ignored. Current value: lambda_l1=0\n",
            "[LightGBM] [Warning] bagging_fraction is set=0.6309027973564789, subsample=1.0 will be ignored. Current value: bagging_fraction=0.6309027973564789\n",
            "[LightGBM] [Warning] lambda_l2 is set=80, reg_lambda=0.0 will be ignored. Current value: lambda_l2=80\n",
            "[LightGBM] [Warning] feature_fraction is set=0.67679384953785, colsample_bytree=1.0 will be ignored. Current value: feature_fraction=0.67679384953785\n",
            "[LightGBM] [Warning] min_data_in_leaf is set=96, min_child_samples=20 will be ignored. Current value: min_data_in_leaf=96\n",
            "[LightGBM] [Warning] bagging_freq is set=1, subsample_freq=0 will be ignored. Current value: bagging_freq=1\n"
          ]
        },
        {
          "name": "stderr",
          "output_type": "stream",
          "text": [
            "/usr/local/lib/python3.9/dist-packages/lightgbm/sklearn.py:726: UserWarning: 'early_stopping_rounds' argument is deprecated and will be removed in a future release of LightGBM. Pass 'early_stopping()' callback via 'callbacks' argument instead.\n",
            "  _log_warning(\"'early_stopping_rounds' argument is deprecated and will be removed in a future release of LightGBM. \"\n",
            "/usr/local/lib/python3.9/dist-packages/lightgbm/sklearn.py:736: UserWarning: 'verbose' argument is deprecated and will be removed in a future release of LightGBM. Pass 'log_evaluation()' callback via 'callbacks' argument instead.\n",
            "  _log_warning(\"'verbose' argument is deprecated and will be removed in a future release of LightGBM. \"\n"
          ]
        },
        {
          "name": "stdout",
          "output_type": "stream",
          "text": [
            "[LightGBM] [Warning] lambda_l1 is set=0, reg_alpha=0.0 will be ignored. Current value: lambda_l1=0\n",
            "[LightGBM] [Warning] bagging_fraction is set=0.6309027973564789, subsample=1.0 will be ignored. Current value: bagging_fraction=0.6309027973564789\n",
            "[LightGBM] [Warning] lambda_l2 is set=80, reg_lambda=0.0 will be ignored. Current value: lambda_l2=80\n",
            "[LightGBM] [Warning] feature_fraction is set=0.67679384953785, colsample_bytree=1.0 will be ignored. Current value: feature_fraction=0.67679384953785\n",
            "[LightGBM] [Warning] min_data_in_leaf is set=96, min_child_samples=20 will be ignored. Current value: min_data_in_leaf=96\n",
            "[LightGBM] [Warning] bagging_freq is set=1, subsample_freq=0 will be ignored. Current value: bagging_freq=1\n"
          ]
        },
        {
          "name": "stderr",
          "output_type": "stream",
          "text": [
            "/usr/local/lib/python3.9/dist-packages/lightgbm/sklearn.py:726: UserWarning: 'early_stopping_rounds' argument is deprecated and will be removed in a future release of LightGBM. Pass 'early_stopping()' callback via 'callbacks' argument instead.\n",
            "  _log_warning(\"'early_stopping_rounds' argument is deprecated and will be removed in a future release of LightGBM. \"\n",
            "/usr/local/lib/python3.9/dist-packages/lightgbm/sklearn.py:736: UserWarning: 'verbose' argument is deprecated and will be removed in a future release of LightGBM. Pass 'log_evaluation()' callback via 'callbacks' argument instead.\n",
            "  _log_warning(\"'verbose' argument is deprecated and will be removed in a future release of LightGBM. \"\n"
          ]
        },
        {
          "name": "stdout",
          "output_type": "stream",
          "text": [
            "[LightGBM] [Warning] lambda_l1 is set=0, reg_alpha=0.0 will be ignored. Current value: lambda_l1=0\n",
            "[LightGBM] [Warning] bagging_fraction is set=0.6309027973564789, subsample=1.0 will be ignored. Current value: bagging_fraction=0.6309027973564789\n",
            "[LightGBM] [Warning] lambda_l2 is set=80, reg_lambda=0.0 will be ignored. Current value: lambda_l2=80\n",
            "[LightGBM] [Warning] feature_fraction is set=0.67679384953785, colsample_bytree=1.0 will be ignored. Current value: feature_fraction=0.67679384953785\n",
            "[LightGBM] [Warning] min_data_in_leaf is set=96, min_child_samples=20 will be ignored. Current value: min_data_in_leaf=96\n",
            "[LightGBM] [Warning] bagging_freq is set=1, subsample_freq=0 will be ignored. Current value: bagging_freq=1\n"
          ]
        },
        {
          "name": "stderr",
          "output_type": "stream",
          "text": [
            "\u001b[32m[I 2023-03-30 13:08:18,816]\u001b[0m Trial 19 finished with value: 0.8196486370060455 and parameters: {'n_estimators': 10000, 'learning_rate': 0.06349713638392787, 'num_leaves': 914, 'max_depth': 9, 'min_data_in_leaf': 96, 'lambda_l1': 0, 'lambda_l2': 80, 'bagging_fraction': 0.6309027973564789, 'bagging_freq': 1, 'feature_fraction': 0.67679384953785}. Best is trial 19 with value: 0.8196486370060455.\u001b[0m\n"
          ]
        },
        {
          "data": {
            "text/plain": [
              "{'n_estimators': 10000,\n",
              " 'learning_rate': 0.06349713638392787,\n",
              " 'num_leaves': 914,\n",
              " 'max_depth': 9,\n",
              " 'min_data_in_leaf': 96,\n",
              " 'lambda_l1': 0,\n",
              " 'lambda_l2': 80,\n",
              " 'bagging_fraction': 0.6309027973564789,\n",
              " 'bagging_freq': 1,\n",
              " 'feature_fraction': 0.67679384953785}"
            ]
          },
          "execution_count": 9,
          "metadata": {},
          "output_type": "execute_result"
        }
      ],
      "source": [
        "from optuna.samplers import TPESampler\n",
        "study = optuna.create_study(direction=\"maximize\")\n",
        "study.optimize(objective, n_trials=20)\n",
        "study.best_params"
      ]
    },
    {
      "cell_type": "code",
      "execution_count": null,
      "metadata": {
        "colab": {
          "base_uri": "https://localhost:8080/"
        },
        "id": "3uLFr1-QkmCl",
        "outputId": "f8328f75-845f-4f78-b890-e08ea13c2b02"
      },
      "outputs": [
        {
          "name": "stdout",
          "output_type": "stream",
          "text": [
            "\tBest value (rmse): 0.81815\n",
            "\tBest params:\n",
            "\t\tn_estimators: 10000\n",
            "\t\tlearning_rate: 0.012657044319814941\n",
            "\t\tnum_leaves: 914\n",
            "\t\tmax_depth: 12\n",
            "\t\tmin_data_in_leaf: 96\n",
            "\t\tlambda_l1: 20\n",
            "\t\tlambda_l2: 60\n",
            "\t\tbagging_fraction: 0.5005025736365822\n",
            "\t\tbagging_freq: 1\n",
            "\t\tfeature_fraction: 0.7454149740785743\n"
          ]
        }
      ],
      "source": [
        "print(f\"\\tBest value (rmse): {study.best_value:.5f}\")\n",
        "print(f\"\\tBest params:\")\n",
        "\n",
        "for key, value in study.best_params.items():\n",
        "    print(f\"\\t\\t{key}: {value}\")"
      ]
    },
    {
      "cell_type": "markdown",
      "metadata": {
        "id": "ncdS7nQrr9X6"
      },
      "source": [
        "We have opted to analyse our model with the ROC AUC metric. This is because, in heavily imbalanced datasets, accuracy can easily be a high value by just stating 'non-fraud' for all data.\n",
        "\\\n",
        "We use our best hyperparameters in our final model below."
      ]
    },
    {
      "cell_type": "code",
      "execution_count": null,
      "metadata": {
        "colab": {
          "base_uri": "https://localhost:8080/",
          "height": 238
        },
        "id": "czNGO5isks5m",
        "outputId": "aebf30e8-e7c5-4325-e3b8-8705e5f9f872"
      },
      "outputs": [
        {
          "ename": "NameError",
          "evalue": "ignored",
          "output_type": "error",
          "traceback": [
            "\u001b[0;31m---------------------------------------------------------------------------\u001b[0m",
            "\u001b[0;31mNameError\u001b[0m                                 Traceback (most recent call last)",
            "\u001b[0;32m<ipython-input-1-639c159dd5f5>\u001b[0m in \u001b[0;36m<cell line: 2>\u001b[0;34m()\u001b[0m\n\u001b[1;32m      1\u001b[0m \u001b[0mn\u001b[0m\u001b[0;34m=\u001b[0m\u001b[0;36m10\u001b[0m\u001b[0;34m\u001b[0m\u001b[0;34m\u001b[0m\u001b[0m\n\u001b[0;32m----> 2\u001b[0;31m \u001b[0mcv\u001b[0m \u001b[0;34m=\u001b[0m \u001b[0mStratifiedKFold\u001b[0m\u001b[0;34m(\u001b[0m\u001b[0mn\u001b[0m\u001b[0;34m,\u001b[0m\u001b[0mshuffle\u001b[0m\u001b[0;34m=\u001b[0m\u001b[0;32mTrue\u001b[0m\u001b[0;34m,\u001b[0m \u001b[0mrandom_state\u001b[0m\u001b[0;34m=\u001b[0m\u001b[0;36m42\u001b[0m\u001b[0;34m)\u001b[0m\u001b[0;34m\u001b[0m\u001b[0;34m\u001b[0m\u001b[0m\n\u001b[0m\u001b[1;32m      3\u001b[0m \u001b[0mtest_preds\u001b[0m \u001b[0;34m=\u001b[0m \u001b[0;34m[\u001b[0m\u001b[0;34m]\u001b[0m\u001b[0;34m\u001b[0m\u001b[0;34m\u001b[0m\u001b[0m\n\u001b[1;32m      4\u001b[0m \u001b[0;34m\u001b[0m\u001b[0m\n\u001b[1;32m      5\u001b[0m \u001b[0mall_scores\u001b[0m \u001b[0;34m=\u001b[0m \u001b[0;34m[\u001b[0m\u001b[0;34m]\u001b[0m\u001b[0;34m\u001b[0m\u001b[0;34m\u001b[0m\u001b[0m\n",
            "\u001b[0;31mNameError\u001b[0m: name 'StratifiedKFold' is not defined"
          ]
        }
      ],
      "source": [
        "\n",
        "n=10\n",
        "cv = StratifiedKFold(n,shuffle=True, random_state=42)\n",
        "test_preds = []\n",
        "\n",
        "all_scores = []\n",
        "for i,(train_idx,val_idx) in enumerate(cv.split(train[features],train[target])):\n",
        "    X_train, y_train = train.loc[train_idx, features],train.loc[train_idx, target]\n",
        "    X_val, y_val = train.loc[val_idx, features],train.loc[val_idx, target] \n",
        "    params = study.best_params  \n",
        "    # params={'objective': 'binary',\n",
        "    #          'metric': 'auc',\n",
        "    #          'lambda_l1': 0, \n",
        "    #          'lambda_l2': 80,\n",
        "    #          'num_leaves': 318,\n",
        "    #          'feature_fraction': 0.7436227064576392,\n",
        "    #          'bagging_fraction': 0.5217811575714206,\n",
        "    #          'bagging_freq': 1,\n",
        "    #          'min_data_in_leaf': 101,\n",
        "    #          'max_depth': 10,\n",
        "    #          'num_iterations': 10000,\n",
        "    #          'learning_rate':0.012748151486204224}\n",
        "    \n",
        "    model = lgbm.LGBMClassifier(**params)\n",
        "    model.fit(X_train,\n",
        "              y_train,\n",
        "              eval_set = [(X_val,y_val)],\n",
        "              early_stopping_rounds=50,\n",
        "              verbose=500)\n",
        "    \n",
        "    y_pred = model.predict_proba(X_val)[:,1]\n",
        "    score = roc_auc_score(y_val,y_pred)\n",
        "    all_scores.append(score)\n",
        "    \n",
        "    test_pred = model.predict_proba(test[features])[:,1]\n",
        "    test_preds.append(test_pred)\n",
        "    print(f'=== Fold {i} ROC AUC Score {score} ===')\n",
        "print(f'=== Average ROC AUC Score {np.mean(all_scores)} ===')"
      ]
    },
    {
      "cell_type": "markdown",
      "metadata": {
        "id": "ZKFTar1Ur2Am"
      },
      "source": [
        "The LGBM model gave an average ROC AUC Score 0.8052436998950719. 0.82 in a previous run through.\n",
        "\\\n",
        "LGBM_preds gives the average value for each transaction from across all 10 folds."
      ]
    },
    {
      "cell_type": "code",
      "execution_count": null,
      "metadata": {
        "colab": {
          "base_uri": "https://localhost:8080/"
        },
        "id": "oS-qSDxkkwN5",
        "outputId": "8b7565f4-ae35-4883-91aa-23d4e25e680a"
      },
      "outputs": [
        {
          "data": {
            "text/plain": [
              "array([0.00184607, 0.00174901, 0.00153905, ..., 0.00173669, 0.00152854,\n",
              "       0.0017735 ])"
            ]
          },
          "execution_count": 13,
          "metadata": {},
          "output_type": "execute_result"
        }
      ],
      "source": [
        "LGBM_preds = np.array(test_preds).mean(axis =0)\n",
        "LGBM_preds"
      ]
    },
    {
      "cell_type": "markdown",
      "metadata": {
        "id": "emweZ2nmlBE6"
      },
      "source": [
        "Submission code to Kaggle:\n",
        "\\\n",
        "submission1 = pd.read_csv('C:content/sample_submission.csv')\n",
        "\\\n",
        "sub_preds = np.vstack(LGBM_preds)\n",
        "\\\n",
        "submission1['Class'] = sub_preds\n",
        "\\\n",
        "submission1.to_csv(\"submission.csv\", index=False)"
      ]
    },
    {
      "cell_type": "code",
      "execution_count": null,
      "metadata": {
        "colab": {
          "base_uri": "https://localhost:8080/",
          "height": 1000
        },
        "id": "oodU0ofvPlRn",
        "outputId": "712f4431-349b-406d-bcab-14b7353c849e"
      },
      "outputs": [
        {
          "name": "stderr",
          "output_type": "stream",
          "text": [
            "/usr/local/lib/python3.9/dist-packages/lightgbm/sklearn.py:726: UserWarning: 'early_stopping_rounds' argument is deprecated and will be removed in a future release of LightGBM. Pass 'early_stopping()' callback via 'callbacks' argument instead.\n",
            "  _log_warning(\"'early_stopping_rounds' argument is deprecated and will be removed in a future release of LightGBM. \"\n",
            "/usr/local/lib/python3.9/dist-packages/lightgbm/sklearn.py:736: UserWarning: 'verbose' argument is deprecated and will be removed in a future release of LightGBM. Pass 'log_evaluation()' callback via 'callbacks' argument instead.\n",
            "  _log_warning(\"'verbose' argument is deprecated and will be removed in a future release of LightGBM. \"\n"
          ]
        },
        {
          "name": "stdout",
          "output_type": "stream",
          "text": [
            "[LightGBM] [Warning] Unknown parameter: tol\n",
            "[LightGBM] [Warning] Unknown parameter: solver\n",
            "[LightGBM] [Warning] Unknown parameter: C\n",
            "[LightGBM] [Warning] Unknown parameter: fit_intercept\n"
          ]
        },
        {
          "name": "stderr",
          "output_type": "stream",
          "text": [
            "/usr/local/lib/python3.9/dist-packages/lightgbm/sklearn.py:726: UserWarning: 'early_stopping_rounds' argument is deprecated and will be removed in a future release of LightGBM. Pass 'early_stopping()' callback via 'callbacks' argument instead.\n",
            "  _log_warning(\"'early_stopping_rounds' argument is deprecated and will be removed in a future release of LightGBM. \"\n",
            "/usr/local/lib/python3.9/dist-packages/lightgbm/sklearn.py:736: UserWarning: 'verbose' argument is deprecated and will be removed in a future release of LightGBM. Pass 'log_evaluation()' callback via 'callbacks' argument instead.\n",
            "  _log_warning(\"'verbose' argument is deprecated and will be removed in a future release of LightGBM. \"\n"
          ]
        },
        {
          "name": "stdout",
          "output_type": "stream",
          "text": [
            "[LightGBM] [Warning] Unknown parameter: tol\n",
            "[LightGBM] [Warning] Unknown parameter: solver\n",
            "[LightGBM] [Warning] Unknown parameter: C\n",
            "[LightGBM] [Warning] Unknown parameter: fit_intercept\n"
          ]
        },
        {
          "name": "stderr",
          "output_type": "stream",
          "text": [
            "/usr/local/lib/python3.9/dist-packages/lightgbm/sklearn.py:726: UserWarning: 'early_stopping_rounds' argument is deprecated and will be removed in a future release of LightGBM. Pass 'early_stopping()' callback via 'callbacks' argument instead.\n",
            "  _log_warning(\"'early_stopping_rounds' argument is deprecated and will be removed in a future release of LightGBM. \"\n",
            "/usr/local/lib/python3.9/dist-packages/lightgbm/sklearn.py:736: UserWarning: 'verbose' argument is deprecated and will be removed in a future release of LightGBM. Pass 'log_evaluation()' callback via 'callbacks' argument instead.\n",
            "  _log_warning(\"'verbose' argument is deprecated and will be removed in a future release of LightGBM. \"\n"
          ]
        },
        {
          "name": "stdout",
          "output_type": "stream",
          "text": [
            "[LightGBM] [Warning] Unknown parameter: tol\n",
            "[LightGBM] [Warning] Unknown parameter: solver\n",
            "[LightGBM] [Warning] Unknown parameter: C\n",
            "[LightGBM] [Warning] Unknown parameter: fit_intercept\n"
          ]
        },
        {
          "name": "stderr",
          "output_type": "stream",
          "text": [
            "/usr/local/lib/python3.9/dist-packages/lightgbm/sklearn.py:726: UserWarning: 'early_stopping_rounds' argument is deprecated and will be removed in a future release of LightGBM. Pass 'early_stopping()' callback via 'callbacks' argument instead.\n",
            "  _log_warning(\"'early_stopping_rounds' argument is deprecated and will be removed in a future release of LightGBM. \"\n",
            "/usr/local/lib/python3.9/dist-packages/lightgbm/sklearn.py:736: UserWarning: 'verbose' argument is deprecated and will be removed in a future release of LightGBM. Pass 'log_evaluation()' callback via 'callbacks' argument instead.\n",
            "  _log_warning(\"'verbose' argument is deprecated and will be removed in a future release of LightGBM. \"\n"
          ]
        },
        {
          "name": "stdout",
          "output_type": "stream",
          "text": [
            "[LightGBM] [Warning] Unknown parameter: tol\n",
            "[LightGBM] [Warning] Unknown parameter: solver\n",
            "[LightGBM] [Warning] Unknown parameter: C\n",
            "[LightGBM] [Warning] Unknown parameter: fit_intercept\n"
          ]
        },
        {
          "name": "stderr",
          "output_type": "stream",
          "text": [
            "/usr/local/lib/python3.9/dist-packages/lightgbm/sklearn.py:726: UserWarning: 'early_stopping_rounds' argument is deprecated and will be removed in a future release of LightGBM. Pass 'early_stopping()' callback via 'callbacks' argument instead.\n",
            "  _log_warning(\"'early_stopping_rounds' argument is deprecated and will be removed in a future release of LightGBM. \"\n",
            "/usr/local/lib/python3.9/dist-packages/lightgbm/sklearn.py:736: UserWarning: 'verbose' argument is deprecated and will be removed in a future release of LightGBM. Pass 'log_evaluation()' callback via 'callbacks' argument instead.\n",
            "  _log_warning(\"'verbose' argument is deprecated and will be removed in a future release of LightGBM. \"\n"
          ]
        },
        {
          "name": "stdout",
          "output_type": "stream",
          "text": [
            "[LightGBM] [Warning] Unknown parameter: tol\n",
            "[LightGBM] [Warning] Unknown parameter: solver\n",
            "[LightGBM] [Warning] Unknown parameter: C\n",
            "[LightGBM] [Warning] Unknown parameter: fit_intercept\n"
          ]
        },
        {
          "name": "stderr",
          "output_type": "stream",
          "text": [
            "/usr/local/lib/python3.9/dist-packages/lightgbm/sklearn.py:726: UserWarning: 'early_stopping_rounds' argument is deprecated and will be removed in a future release of LightGBM. Pass 'early_stopping()' callback via 'callbacks' argument instead.\n",
            "  _log_warning(\"'early_stopping_rounds' argument is deprecated and will be removed in a future release of LightGBM. \"\n",
            "/usr/local/lib/python3.9/dist-packages/lightgbm/sklearn.py:736: UserWarning: 'verbose' argument is deprecated and will be removed in a future release of LightGBM. Pass 'log_evaluation()' callback via 'callbacks' argument instead.\n",
            "  _log_warning(\"'verbose' argument is deprecated and will be removed in a future release of LightGBM. \"\n"
          ]
        },
        {
          "name": "stdout",
          "output_type": "stream",
          "text": [
            "[LightGBM] [Warning] Unknown parameter: tol\n",
            "[LightGBM] [Warning] Unknown parameter: solver\n",
            "[LightGBM] [Warning] Unknown parameter: C\n",
            "[LightGBM] [Warning] Unknown parameter: fit_intercept\n"
          ]
        },
        {
          "name": "stderr",
          "output_type": "stream",
          "text": [
            "/usr/local/lib/python3.9/dist-packages/lightgbm/sklearn.py:726: UserWarning: 'early_stopping_rounds' argument is deprecated and will be removed in a future release of LightGBM. Pass 'early_stopping()' callback via 'callbacks' argument instead.\n",
            "  _log_warning(\"'early_stopping_rounds' argument is deprecated and will be removed in a future release of LightGBM. \"\n",
            "/usr/local/lib/python3.9/dist-packages/lightgbm/sklearn.py:736: UserWarning: 'verbose' argument is deprecated and will be removed in a future release of LightGBM. Pass 'log_evaluation()' callback via 'callbacks' argument instead.\n",
            "  _log_warning(\"'verbose' argument is deprecated and will be removed in a future release of LightGBM. \"\n"
          ]
        },
        {
          "name": "stdout",
          "output_type": "stream",
          "text": [
            "[LightGBM] [Warning] Unknown parameter: tol\n",
            "[LightGBM] [Warning] Unknown parameter: solver\n",
            "[LightGBM] [Warning] Unknown parameter: C\n",
            "[LightGBM] [Warning] Unknown parameter: fit_intercept\n"
          ]
        },
        {
          "name": "stderr",
          "output_type": "stream",
          "text": [
            "/usr/local/lib/python3.9/dist-packages/lightgbm/sklearn.py:726: UserWarning: 'early_stopping_rounds' argument is deprecated and will be removed in a future release of LightGBM. Pass 'early_stopping()' callback via 'callbacks' argument instead.\n",
            "  _log_warning(\"'early_stopping_rounds' argument is deprecated and will be removed in a future release of LightGBM. \"\n",
            "/usr/local/lib/python3.9/dist-packages/lightgbm/sklearn.py:736: UserWarning: 'verbose' argument is deprecated and will be removed in a future release of LightGBM. Pass 'log_evaluation()' callback via 'callbacks' argument instead.\n",
            "  _log_warning(\"'verbose' argument is deprecated and will be removed in a future release of LightGBM. \"\n"
          ]
        },
        {
          "name": "stdout",
          "output_type": "stream",
          "text": [
            "[LightGBM] [Warning] Unknown parameter: tol\n",
            "[LightGBM] [Warning] Unknown parameter: solver\n",
            "[LightGBM] [Warning] Unknown parameter: C\n",
            "[LightGBM] [Warning] Unknown parameter: fit_intercept\n"
          ]
        },
        {
          "name": "stderr",
          "output_type": "stream",
          "text": [
            "/usr/local/lib/python3.9/dist-packages/lightgbm/sklearn.py:726: UserWarning: 'early_stopping_rounds' argument is deprecated and will be removed in a future release of LightGBM. Pass 'early_stopping()' callback via 'callbacks' argument instead.\n",
            "  _log_warning(\"'early_stopping_rounds' argument is deprecated and will be removed in a future release of LightGBM. \"\n",
            "/usr/local/lib/python3.9/dist-packages/lightgbm/sklearn.py:736: UserWarning: 'verbose' argument is deprecated and will be removed in a future release of LightGBM. Pass 'log_evaluation()' callback via 'callbacks' argument instead.\n",
            "  _log_warning(\"'verbose' argument is deprecated and will be removed in a future release of LightGBM. \"\n"
          ]
        },
        {
          "name": "stdout",
          "output_type": "stream",
          "text": [
            "[LightGBM] [Warning] Unknown parameter: tol\n",
            "[LightGBM] [Warning] Unknown parameter: solver\n",
            "[LightGBM] [Warning] Unknown parameter: C\n",
            "[LightGBM] [Warning] Unknown parameter: fit_intercept\n"
          ]
        },
        {
          "name": "stderr",
          "output_type": "stream",
          "text": [
            "/usr/local/lib/python3.9/dist-packages/lightgbm/sklearn.py:726: UserWarning: 'early_stopping_rounds' argument is deprecated and will be removed in a future release of LightGBM. Pass 'early_stopping()' callback via 'callbacks' argument instead.\n",
            "  _log_warning(\"'early_stopping_rounds' argument is deprecated and will be removed in a future release of LightGBM. \"\n",
            "/usr/local/lib/python3.9/dist-packages/lightgbm/sklearn.py:736: UserWarning: 'verbose' argument is deprecated and will be removed in a future release of LightGBM. Pass 'log_evaluation()' callback via 'callbacks' argument instead.\n",
            "  _log_warning(\"'verbose' argument is deprecated and will be removed in a future release of LightGBM. \"\n"
          ]
        },
        {
          "name": "stdout",
          "output_type": "stream",
          "text": [
            "[LightGBM] [Warning] Unknown parameter: tol\n",
            "[LightGBM] [Warning] Unknown parameter: solver\n",
            "[LightGBM] [Warning] Unknown parameter: C\n",
            "[LightGBM] [Warning] Unknown parameter: fit_intercept\n"
          ]
        },
        {
          "data": {
            "image/png": "[encoded data removed]",
            "text/plain": [
              "<Figure size 1440x432 with 4 Axes>"
            ]
          },
          "metadata": {},
          "output_type": "display_data"
        }
      ],
      "source": [
        "\n",
        "# Initialize lists to store scores and curves for each fold\n",
        "accuracy_scores = []\n",
        "precision_scores = []\n",
        "recall_scores = []\n",
        "f1_scores = []\n",
        "roc_auc_scores = []\n",
        "tprs = []\n",
        "precisions = []\n",
        "recalls = []\n",
        "mean_fpr = np.linspace(0, 1, 100)\n",
        "sum_conf_mat = np.zeros((2, 2))\n",
        "recall_grid = np.linspace(0, 1, 100)\n",
        "mean_precision = np.zeros_like(recall_grid)\n",
        "\n",
        "# LGBM model's parameters\n",
        "params = study.best_params\n",
        "# params={'objective': 'binary',\n",
        "#           'metric': 'auc',\n",
        "#           'lambda_l1': 0, \n",
        "#           'lambda_l2': 80,\n",
        "#           'num_leaves': 318,\n",
        "#           'feature_fraction': 0.7436227064576392,\n",
        "#           'bagging_fraction': 0.5217811575714206,\n",
        "#           'bagging_freq': 1,\n",
        "#           'min_data_in_leaf': 101,\n",
        "#           'max_depth': 10,\n",
        "#           'num_iterations': 10000,\n",
        "#           'learning_rate':0.012748151486204224}\n",
        "\n",
        "model = lgbm.LGBMClassifier(**params)\n",
        "\n",
        "fig, (ax1, ax2, ax3) = plt.subplots(1, 3, figsize=(20, 6))\n",
        "\n",
        "# ROC curve and Precision-Recall curve\n",
        "for i, (train_idx, val_idx) in enumerate(cv.split(train[features], train[target])):\n",
        "    X_train, y_train = train.loc[train_idx, features], train.loc[train_idx, target]\n",
        "    X_val, y_val = train.loc[val_idx, features], train.loc[val_idx, target]\n",
        "\n",
        "    model.fit(X_train, y_train, early_stopping_rounds=50, eval_set=[(X_val, y_val)], verbose=500)\n",
        "    \n",
        "    y_pred = model.predict(X_val)\n",
        "    y_pred_proba = model.predict_proba(X_val)[:, 1]\n",
        "\n",
        "    # Calculate metrics for each fold\n",
        "    accuracy_scores.append(accuracy_score(y_val, y_pred))\n",
        "    precision_scores.append(precision_score(y_val, y_pred))\n",
        "    recall_scores.append(recall_score(y_val, y_pred))\n",
        "    f1_scores.append(f1_score(y_val, y_pred))\n",
        "    roc_auc_scores.append(roc_auc_score(y_val, y_pred_proba))\n",
        "\n",
        "    # Compute ROC curve and area under the curve\n",
        "    fpr, tpr, _ = roc_curve(y_val, y_pred_proba)\n",
        "    tprs.append(np.interp(mean_fpr, fpr, tpr))\n",
        "    ax1.plot(fpr, tpr, lw=1, alpha=0.3)\n",
        "\n",
        "\n",
        "    # Compute Precision-Recall curve\n",
        "    precision, recall, _ = precision_recall_curve(y_val, y_pred_proba)\n",
        "    precisions.append(precision)\n",
        "    recalls.append(recall)\n",
        "    # Interpolate precision values for the current fold\n",
        "    f_interp = interp1d(recall, precision, bounds_error=False, fill_value=0)\n",
        "    mean_precision += f_interp(recall_grid)\n",
        "    # Compute confusion matrix\n",
        "    conf_mat = confusion_matrix(y_val, y_pred)\n",
        "    sum_conf_mat += conf_mat\n",
        "  \n",
        "# Average the interpolated precision values\n",
        "mean_precision /= len(precisions)\n",
        "\n",
        "# Plot ROC curve\n",
        "ax1.plot([0, 1], [0, 1], linestyle='--', lw=2, color='r', alpha=0.8)\n",
        "mean_tpr = np.mean(tprs, axis=0)\n",
        "ax1.plot(mean_fpr, mean_tpr, color='b', lw=2, alpha=0.8)\n",
        "ax1.set_xlabel('False Positive Rate')\n",
        "ax1.set_ylabel('True Positive Rate')\n",
        "ax1.set_title('ROC curve')\n",
        "\n",
        "\n",
        "# Plot Precision-Recall curve\n",
        "ax2.plot(recall_grid, mean_precision, color='g', lw=2, alpha=0.8)\n",
        "ax2.set_xlabel('Recall')\n",
        "ax2.set_ylabel('Precision')\n",
        "ax2.set_title('Precision-Recall curve')\n",
        "\n",
        "# Plot confusion matrix\n",
        "ConfusionMatrixDisplay(sum_conf_mat, display_labels=['Non-Fraud', 'Fraud']).plot(ax=ax3)\n",
        "ax3.set_title('Confusion Matrix')\n",
        "\n",
        "plt.show()\n",
        "\n",
        "\n",
        "\n"
      ]
    },
    {
      "cell_type": "code",
      "execution_count": null,
      "metadata": {
        "colab": {
          "base_uri": "https://localhost:8080/"
        },
        "id": "aGm-KZ0bUR2y",
        "outputId": "d2909f26-43a7-401d-cfd8-0d23b6972eca"
      },
      "outputs": [
        {
          "name": "stdout",
          "output_type": "stream",
          "text": [
            "Average accuracy: 0.99664\n",
            "Average precision: 0.06287\n",
            "Average recall: 0.04043\n",
            "Average F1-score: 0.04900\n",
            "Average ROC AUC score: 0.60744\n"
          ]
        }
      ],
      "source": [
        "# Calculate average scores\n",
        "average_accuracy = np.mean(accuracy_scores)\n",
        "average_precision = np.mean(precision_scores)\n",
        "average_recall = np.mean(recall_scores)\n",
        "average_f1 = np.mean(f1_scores)\n",
        "average_roc_auc = np.mean(roc_auc_scores)\n",
        "\n",
        "# Print average scores\n",
        "print(f\"Average accuracy: {average_accuracy:.5f}\")\n",
        "print(f\"Average precision: {average_precision:.5f}\")\n",
        "print(f\"Average recall: {average_recall:.5f}\")\n",
        "print(f\"Average F1-score: {average_f1:.5f}\")\n",
        "print(f\"Average ROC AUC score: {average_roc_auc:.5f}\")\n",
        "\n"
      ]
    },
    {
      "cell_type": "markdown",
      "metadata": {
        "id": "PmAdjErQrT4S"
      },
      "source": [
        "The Logistic Regression code was inspired by https://www.kaggle.com/code/soupmonster/simple-lgbm-baseline-optuna#Optuna. \n",
        "\\\n",
        "We follow a very similar framework as used in the LGBM model."
      ]
    },
    {
      "cell_type": "code",
      "execution_count": null,
      "metadata": {
        "id": "LCcRafBZlBuO"
      },
      "outputs": [],
      "source": [
        "# https://towardsdatascience.com/tuning-the-hyperparameters-of-your-machine-learning-model-using-gridsearchcv-7fc2bb76ff27\n",
        "# https://www.kaggle.com/code/yus002/logistic-regression-optuna-tuning\n",
        "\n",
        "def objective(trial):\n",
        "    param_grid = {\n",
        "        'tol' : trial.suggest_uniform('tol' , 1e-6 , 1e-3),\n",
        "        'C' : trial.suggest_loguniform(\"C\", 1e-2, 1),\n",
        "        'fit_intercept' : trial.suggest_categorical('fit_intercept' , [True, False]),\n",
        "         'random_state' : trial.suggest_categorical('random_state' , [0, 42, 2021, 555]),\n",
        "        'solver' : trial.suggest_categorical('solver' , ['lbfgs','liblinear']),\n",
        "        \"n_jobs\" : -1\n",
        "    }\n",
        "\n",
        "    cv = StratifiedKFold(n_splits=5, shuffle=True, random_state=42)\n",
        "\n",
        "    cv_scores = np.empty(5)\n",
        "    for idx, (train_idx, val_idx) in enumerate(cv.split(X[features], X[target])):\n",
        "        X_train, y_train = X.loc[train_idx, features], X.loc[train_idx, target]\n",
        "        X_val, y_val = X.loc[val_idx, features], X.loc[val_idx, target]\n",
        "\n",
        "        model = LogisticRegression(**param_grid)\n",
        "        model.fit(\n",
        "            X_train,\n",
        "            y_train)\n",
        "        \n",
        "    y_pred = model.predict_proba(X_val)[:,1]\n",
        "    score = roc_auc_score(y_val,y_pred)\n",
        "    all_scores.append(score)\n",
        "    \n",
        "    test_pred = model.predict_proba(test[features])[:,1]\n",
        "    test_preds.append(test_pred)\n",
        "\n",
        "    return np.mean(cv_scores)"
      ]
    },
    {
      "cell_type": "code",
      "execution_count": null,
      "metadata": {
        "colab": {
          "base_uri": "https://localhost:8080/"
        },
        "id": "o_V4AdX_lMZA",
        "outputId": "c2f1bcb4-29d0-44d4-df3c-d6399cc5ae08"
      },
      "outputs": [
        {
          "name": "stderr",
          "output_type": "stream",
          "text": [
            "\u001b[32m[I 2023-03-28 17:52:28,731]\u001b[0m A new study created in memory with name: no-name-5a1387b6-c666-4ea4-855b-0da66c1d9926\u001b[0m\n",
            "<ipython-input-19-9977d60e525c>:6: FutureWarning: suggest_uniform has been deprecated in v3.0.0. This feature will be removed in v6.0.0. See https://github.com/optuna/optuna/releases/tag/v3.0.0. Use :func:`~optuna.trial.Trial.suggest_float` instead.\n",
            "  'tol' : trial.suggest_uniform('tol' , 1e-6 , 1e-3),\n",
            "<ipython-input-19-9977d60e525c>:7: FutureWarning: suggest_loguniform has been deprecated in v3.0.0. This feature will be removed in v6.0.0. See https://github.com/optuna/optuna/releases/tag/v3.0.0. Use :func:`~optuna.trial.Trial.suggest_float` instead.\n",
            "  'C' : trial.suggest_loguniform(\"C\", 1e-2, 1),\n",
            "\u001b[32m[I 2023-03-28 17:53:03,642]\u001b[0m Trial 0 finished with value: 4.1 and parameters: {'tol': 0.0006802772458400531, 'C': 0.5982349364987448, 'fit_intercept': False, 'random_state': 42, 'solver': 'lbfgs'}. Best is trial 0 with value: 4.1.\u001b[0m\n",
            "<ipython-input-19-9977d60e525c>:6: FutureWarning: suggest_uniform has been deprecated in v3.0.0. This feature will be removed in v6.0.0. See https://github.com/optuna/optuna/releases/tag/v3.0.0. Use :func:`~optuna.trial.Trial.suggest_float` instead.\n",
            "  'tol' : trial.suggest_uniform('tol' , 1e-6 , 1e-3),\n",
            "<ipython-input-19-9977d60e525c>:7: FutureWarning: suggest_loguniform has been deprecated in v3.0.0. This feature will be removed in v6.0.0. See https://github.com/optuna/optuna/releases/tag/v3.0.0. Use :func:`~optuna.trial.Trial.suggest_float` instead.\n",
            "  'C' : trial.suggest_loguniform(\"C\", 1e-2, 1),\n",
            "/usr/local/lib/python3.9/dist-packages/sklearn/linear_model/_logistic.py:1211: UserWarning: 'n_jobs' > 1 does not have any effect when 'solver' is set to 'liblinear'. Got 'n_jobs' = 2.\n",
            "  warnings.warn(\n",
            "/usr/local/lib/python3.9/dist-packages/sklearn/linear_model/_logistic.py:1211: UserWarning: 'n_jobs' > 1 does not have any effect when 'solver' is set to 'liblinear'. Got 'n_jobs' = 2.\n",
            "  warnings.warn(\n",
            "/usr/local/lib/python3.9/dist-packages/sklearn/linear_model/_logistic.py:1211: UserWarning: 'n_jobs' > 1 does not have any effect when 'solver' is set to 'liblinear'. Got 'n_jobs' = 2.\n",
            "  warnings.warn(\n",
            "/usr/local/lib/python3.9/dist-packages/sklearn/linear_model/_logistic.py:1211: UserWarning: 'n_jobs' > 1 does not have any effect when 'solver' is set to 'liblinear'. Got 'n_jobs' = 2.\n",
            "  warnings.warn(\n",
            "/usr/local/lib/python3.9/dist-packages/sklearn/linear_model/_logistic.py:1211: UserWarning: 'n_jobs' > 1 does not have any effect when 'solver' is set to 'liblinear'. Got 'n_jobs' = 2.\n",
            "  warnings.warn(\n",
            "\u001b[32m[I 2023-03-28 17:53:14,048]\u001b[0m Trial 1 finished with value: 4.1 and parameters: {'tol': 0.00031924282164249413, 'C': 0.02395654537697551, 'fit_intercept': True, 'random_state': 42, 'solver': 'liblinear'}. Best is trial 0 with value: 4.1.\u001b[0m\n",
            "<ipython-input-19-9977d60e525c>:6: FutureWarning: suggest_uniform has been deprecated in v3.0.0. This feature will be removed in v6.0.0. See https://github.com/optuna/optuna/releases/tag/v3.0.0. Use :func:`~optuna.trial.Trial.suggest_float` instead.\n",
            "  'tol' : trial.suggest_uniform('tol' , 1e-6 , 1e-3),\n",
            "<ipython-input-19-9977d60e525c>:7: FutureWarning: suggest_loguniform has been deprecated in v3.0.0. This feature will be removed in v6.0.0. See https://github.com/optuna/optuna/releases/tag/v3.0.0. Use :func:`~optuna.trial.Trial.suggest_float` instead.\n",
            "  'C' : trial.suggest_loguniform(\"C\", 1e-2, 1),\n",
            "\u001b[32m[I 2023-03-28 17:53:43,768]\u001b[0m Trial 2 finished with value: 4.1 and parameters: {'tol': 0.0007541556368402139, 'C': 0.02603499351029427, 'fit_intercept': False, 'random_state': 555, 'solver': 'lbfgs'}. Best is trial 0 with value: 4.1.\u001b[0m\n",
            "<ipython-input-19-9977d60e525c>:6: FutureWarning: suggest_uniform has been deprecated in v3.0.0. This feature will be removed in v6.0.0. See https://github.com/optuna/optuna/releases/tag/v3.0.0. Use :func:`~optuna.trial.Trial.suggest_float` instead.\n",
            "  'tol' : trial.suggest_uniform('tol' , 1e-6 , 1e-3),\n",
            "<ipython-input-19-9977d60e525c>:7: FutureWarning: suggest_loguniform has been deprecated in v3.0.0. This feature will be removed in v6.0.0. See https://github.com/optuna/optuna/releases/tag/v3.0.0. Use :func:`~optuna.trial.Trial.suggest_float` instead.\n",
            "  'C' : trial.suggest_loguniform(\"C\", 1e-2, 1),\n",
            "/usr/local/lib/python3.9/dist-packages/sklearn/linear_model/_logistic.py:1211: UserWarning: 'n_jobs' > 1 does not have any effect when 'solver' is set to 'liblinear'. Got 'n_jobs' = 2.\n",
            "  warnings.warn(\n",
            "/usr/local/lib/python3.9/dist-packages/sklearn/linear_model/_logistic.py:1211: UserWarning: 'n_jobs' > 1 does not have any effect when 'solver' is set to 'liblinear'. Got 'n_jobs' = 2.\n",
            "  warnings.warn(\n",
            "/usr/local/lib/python3.9/dist-packages/sklearn/linear_model/_logistic.py:1211: UserWarning: 'n_jobs' > 1 does not have any effect when 'solver' is set to 'liblinear'. Got 'n_jobs' = 2.\n",
            "  warnings.warn(\n",
            "/usr/local/lib/python3.9/dist-packages/sklearn/linear_model/_logistic.py:1211: UserWarning: 'n_jobs' > 1 does not have any effect when 'solver' is set to 'liblinear'. Got 'n_jobs' = 2.\n",
            "  warnings.warn(\n",
            "/usr/local/lib/python3.9/dist-packages/sklearn/linear_model/_logistic.py:1211: UserWarning: 'n_jobs' > 1 does not have any effect when 'solver' is set to 'liblinear'. Got 'n_jobs' = 2.\n",
            "  warnings.warn(\n",
            "\u001b[32m[I 2023-03-28 17:53:52,600]\u001b[0m Trial 3 finished with value: 4.1 and parameters: {'tol': 0.0006272819379529288, 'C': 0.044652943587094526, 'fit_intercept': True, 'random_state': 555, 'solver': 'liblinear'}. Best is trial 0 with value: 4.1.\u001b[0m\n",
            "<ipython-input-19-9977d60e525c>:6: FutureWarning: suggest_uniform has been deprecated in v3.0.0. This feature will be removed in v6.0.0. See https://github.com/optuna/optuna/releases/tag/v3.0.0. Use :func:`~optuna.trial.Trial.suggest_float` instead.\n",
            "  'tol' : trial.suggest_uniform('tol' , 1e-6 , 1e-3),\n",
            "<ipython-input-19-9977d60e525c>:7: FutureWarning: suggest_loguniform has been deprecated in v3.0.0. This feature will be removed in v6.0.0. See https://github.com/optuna/optuna/releases/tag/v3.0.0. Use :func:`~optuna.trial.Trial.suggest_float` instead.\n",
            "  'C' : trial.suggest_loguniform(\"C\", 1e-2, 1),\n",
            "\u001b[32m[I 2023-03-28 17:54:23,196]\u001b[0m Trial 4 finished with value: 4.1 and parameters: {'tol': 0.0009962998933559933, 'C': 0.03734573530884205, 'fit_intercept': False, 'random_state': 42, 'solver': 'lbfgs'}. Best is trial 0 with value: 4.1.\u001b[0m\n",
            "<ipython-input-19-9977d60e525c>:6: FutureWarning: suggest_uniform has been deprecated in v3.0.0. This feature will be removed in v6.0.0. See https://github.com/optuna/optuna/releases/tag/v3.0.0. Use :func:`~optuna.trial.Trial.suggest_float` instead.\n",
            "  'tol' : trial.suggest_uniform('tol' , 1e-6 , 1e-3),\n",
            "<ipython-input-19-9977d60e525c>:7: FutureWarning: suggest_loguniform has been deprecated in v3.0.0. This feature will be removed in v6.0.0. See https://github.com/optuna/optuna/releases/tag/v3.0.0. Use :func:`~optuna.trial.Trial.suggest_float` instead.\n",
            "  'C' : trial.suggest_loguniform(\"C\", 1e-2, 1),\n",
            "/usr/local/lib/python3.9/dist-packages/sklearn/linear_model/_logistic.py:1211: UserWarning: 'n_jobs' > 1 does not have any effect when 'solver' is set to 'liblinear'. Got 'n_jobs' = 2.\n",
            "  warnings.warn(\n",
            "/usr/local/lib/python3.9/dist-packages/sklearn/linear_model/_logistic.py:1211: UserWarning: 'n_jobs' > 1 does not have any effect when 'solver' is set to 'liblinear'. Got 'n_jobs' = 2.\n",
            "  warnings.warn(\n",
            "/usr/local/lib/python3.9/dist-packages/sklearn/linear_model/_logistic.py:1211: UserWarning: 'n_jobs' > 1 does not have any effect when 'solver' is set to 'liblinear'. Got 'n_jobs' = 2.\n",
            "  warnings.warn(\n",
            "/usr/local/lib/python3.9/dist-packages/sklearn/linear_model/_logistic.py:1211: UserWarning: 'n_jobs' > 1 does not have any effect when 'solver' is set to 'liblinear'. Got 'n_jobs' = 2.\n",
            "  warnings.warn(\n",
            "/usr/local/lib/python3.9/dist-packages/sklearn/linear_model/_logistic.py:1211: UserWarning: 'n_jobs' > 1 does not have any effect when 'solver' is set to 'liblinear'. Got 'n_jobs' = 2.\n",
            "  warnings.warn(\n",
            "\u001b[32m[I 2023-03-28 17:54:43,668]\u001b[0m Trial 5 finished with value: 4.1 and parameters: {'tol': 2.707076515534625e-05, 'C': 0.015774277052024256, 'fit_intercept': False, 'random_state': 555, 'solver': 'liblinear'}. Best is trial 0 with value: 4.1.\u001b[0m\n",
            "<ipython-input-19-9977d60e525c>:6: FutureWarning: suggest_uniform has been deprecated in v3.0.0. This feature will be removed in v6.0.0. See https://github.com/optuna/optuna/releases/tag/v3.0.0. Use :func:`~optuna.trial.Trial.suggest_float` instead.\n",
            "  'tol' : trial.suggest_uniform('tol' , 1e-6 , 1e-3),\n",
            "<ipython-input-19-9977d60e525c>:7: FutureWarning: suggest_loguniform has been deprecated in v3.0.0. This feature will be removed in v6.0.0. See https://github.com/optuna/optuna/releases/tag/v3.0.0. Use :func:`~optuna.trial.Trial.suggest_float` instead.\n",
            "  'C' : trial.suggest_loguniform(\"C\", 1e-2, 1),\n",
            "\u001b[32m[I 2023-03-28 17:55:26,796]\u001b[0m Trial 6 finished with value: 4.1 and parameters: {'tol': 0.0004850907066605191, 'C': 0.20037365903689078, 'fit_intercept': True, 'random_state': 555, 'solver': 'lbfgs'}. Best is trial 0 with value: 4.1.\u001b[0m\n",
            "<ipython-input-19-9977d60e525c>:6: FutureWarning: suggest_uniform has been deprecated in v3.0.0. This feature will be removed in v6.0.0. See https://github.com/optuna/optuna/releases/tag/v3.0.0. Use :func:`~optuna.trial.Trial.suggest_float` instead.\n",
            "  'tol' : trial.suggest_uniform('tol' , 1e-6 , 1e-3),\n",
            "<ipython-input-19-9977d60e525c>:7: FutureWarning: suggest_loguniform has been deprecated in v3.0.0. This feature will be removed in v6.0.0. See https://github.com/optuna/optuna/releases/tag/v3.0.0. Use :func:`~optuna.trial.Trial.suggest_float` instead.\n",
            "  'C' : trial.suggest_loguniform(\"C\", 1e-2, 1),\n",
            "/usr/local/lib/python3.9/dist-packages/sklearn/linear_model/_logistic.py:1211: UserWarning: 'n_jobs' > 1 does not have any effect when 'solver' is set to 'liblinear'. Got 'n_jobs' = 2.\n",
            "  warnings.warn(\n",
            "/usr/local/lib/python3.9/dist-packages/sklearn/linear_model/_logistic.py:1211: UserWarning: 'n_jobs' > 1 does not have any effect when 'solver' is set to 'liblinear'. Got 'n_jobs' = 2.\n",
            "  warnings.warn(\n",
            "/usr/local/lib/python3.9/dist-packages/sklearn/linear_model/_logistic.py:1211: UserWarning: 'n_jobs' > 1 does not have any effect when 'solver' is set to 'liblinear'. Got 'n_jobs' = 2.\n",
            "  warnings.warn(\n",
            "/usr/local/lib/python3.9/dist-packages/sklearn/linear_model/_logistic.py:1211: UserWarning: 'n_jobs' > 1 does not have any effect when 'solver' is set to 'liblinear'. Got 'n_jobs' = 2.\n",
            "  warnings.warn(\n",
            "/usr/local/lib/python3.9/dist-packages/sklearn/linear_model/_logistic.py:1211: UserWarning: 'n_jobs' > 1 does not have any effect when 'solver' is set to 'liblinear'. Got 'n_jobs' = 2.\n",
            "  warnings.warn(\n",
            "\u001b[32m[I 2023-03-28 17:55:49,090]\u001b[0m Trial 7 finished with value: 4.1 and parameters: {'tol': 8.171841104393228e-05, 'C': 0.10580994690991156, 'fit_intercept': True, 'random_state': 555, 'solver': 'liblinear'}. Best is trial 0 with value: 4.1.\u001b[0m\n",
            "<ipython-input-19-9977d60e525c>:6: FutureWarning: suggest_uniform has been deprecated in v3.0.0. This feature will be removed in v6.0.0. See https://github.com/optuna/optuna/releases/tag/v3.0.0. Use :func:`~optuna.trial.Trial.suggest_float` instead.\n",
            "  'tol' : trial.suggest_uniform('tol' , 1e-6 , 1e-3),\n",
            "<ipython-input-19-9977d60e525c>:7: FutureWarning: suggest_loguniform has been deprecated in v3.0.0. This feature will be removed in v6.0.0. See https://github.com/optuna/optuna/releases/tag/v3.0.0. Use :func:`~optuna.trial.Trial.suggest_float` instead.\n",
            "  'C' : trial.suggest_loguniform(\"C\", 1e-2, 1),\n",
            "/usr/local/lib/python3.9/dist-packages/sklearn/linear_model/_logistic.py:1211: UserWarning: 'n_jobs' > 1 does not have any effect when 'solver' is set to 'liblinear'. Got 'n_jobs' = 2.\n",
            "  warnings.warn(\n",
            "/usr/local/lib/python3.9/dist-packages/sklearn/linear_model/_logistic.py:1211: UserWarning: 'n_jobs' > 1 does not have any effect when 'solver' is set to 'liblinear'. Got 'n_jobs' = 2.\n",
            "  warnings.warn(\n",
            "/usr/local/lib/python3.9/dist-packages/sklearn/linear_model/_logistic.py:1211: UserWarning: 'n_jobs' > 1 does not have any effect when 'solver' is set to 'liblinear'. Got 'n_jobs' = 2.\n",
            "  warnings.warn(\n",
            "/usr/local/lib/python3.9/dist-packages/sklearn/linear_model/_logistic.py:1211: UserWarning: 'n_jobs' > 1 does not have any effect when 'solver' is set to 'liblinear'. Got 'n_jobs' = 2.\n",
            "  warnings.warn(\n",
            "/usr/local/lib/python3.9/dist-packages/sklearn/linear_model/_logistic.py:1211: UserWarning: 'n_jobs' > 1 does not have any effect when 'solver' is set to 'liblinear'. Got 'n_jobs' = 2.\n",
            "  warnings.warn(\n",
            "\u001b[32m[I 2023-03-28 17:56:18,085]\u001b[0m Trial 8 finished with value: 4.1 and parameters: {'tol': 3.156797482477711e-05, 'C': 0.3994050594573582, 'fit_intercept': True, 'random_state': 2021, 'solver': 'liblinear'}. Best is trial 0 with value: 4.1.\u001b[0m\n",
            "<ipython-input-19-9977d60e525c>:6: FutureWarning: suggest_uniform has been deprecated in v3.0.0. This feature will be removed in v6.0.0. See https://github.com/optuna/optuna/releases/tag/v3.0.0. Use :func:`~optuna.trial.Trial.suggest_float` instead.\n",
            "  'tol' : trial.suggest_uniform('tol' , 1e-6 , 1e-3),\n",
            "<ipython-input-19-9977d60e525c>:7: FutureWarning: suggest_loguniform has been deprecated in v3.0.0. This feature will be removed in v6.0.0. See https://github.com/optuna/optuna/releases/tag/v3.0.0. Use :func:`~optuna.trial.Trial.suggest_float` instead.\n",
            "  'C' : trial.suggest_loguniform(\"C\", 1e-2, 1),\n",
            "\u001b[32m[I 2023-03-28 17:56:49,434]\u001b[0m Trial 9 finished with value: 4.1 and parameters: {'tol': 0.000603838071753352, 'C': 0.012356809066979038, 'fit_intercept': False, 'random_state': 0, 'solver': 'lbfgs'}. Best is trial 0 with value: 4.1.\u001b[0m\n",
            "<ipython-input-19-9977d60e525c>:6: FutureWarning: suggest_uniform has been deprecated in v3.0.0. This feature will be removed in v6.0.0. See https://github.com/optuna/optuna/releases/tag/v3.0.0. Use :func:`~optuna.trial.Trial.suggest_float` instead.\n",
            "  'tol' : trial.suggest_uniform('tol' , 1e-6 , 1e-3),\n",
            "<ipython-input-19-9977d60e525c>:7: FutureWarning: suggest_loguniform has been deprecated in v3.0.0. This feature will be removed in v6.0.0. See https://github.com/optuna/optuna/releases/tag/v3.0.0. Use :func:`~optuna.trial.Trial.suggest_float` instead.\n",
            "  'C' : trial.suggest_loguniform(\"C\", 1e-2, 1),\n",
            "\u001b[32m[I 2023-03-28 17:57:26,891]\u001b[0m Trial 10 finished with value: 4.1 and parameters: {'tol': 0.000880183891645511, 'C': 0.5390903284211206, 'fit_intercept': False, 'random_state': 42, 'solver': 'lbfgs'}. Best is trial 0 with value: 4.1.\u001b[0m\n",
            "<ipython-input-19-9977d60e525c>:6: FutureWarning: suggest_uniform has been deprecated in v3.0.0. This feature will be removed in v6.0.0. See https://github.com/optuna/optuna/releases/tag/v3.0.0. Use :func:`~optuna.trial.Trial.suggest_float` instead.\n",
            "  'tol' : trial.suggest_uniform('tol' , 1e-6 , 1e-3),\n",
            "<ipython-input-19-9977d60e525c>:7: FutureWarning: suggest_loguniform has been deprecated in v3.0.0. This feature will be removed in v6.0.0. See https://github.com/optuna/optuna/releases/tag/v3.0.0. Use :func:`~optuna.trial.Trial.suggest_float` instead.\n",
            "  'C' : trial.suggest_loguniform(\"C\", 1e-2, 1),\n",
            "/usr/local/lib/python3.9/dist-packages/sklearn/linear_model/_logistic.py:1211: UserWarning: 'n_jobs' > 1 does not have any effect when 'solver' is set to 'liblinear'. Got 'n_jobs' = 2.\n",
            "  warnings.warn(\n",
            "/usr/local/lib/python3.9/dist-packages/sklearn/linear_model/_logistic.py:1211: UserWarning: 'n_jobs' > 1 does not have any effect when 'solver' is set to 'liblinear'. Got 'n_jobs' = 2.\n",
            "  warnings.warn(\n",
            "/usr/local/lib/python3.9/dist-packages/sklearn/linear_model/_logistic.py:1211: UserWarning: 'n_jobs' > 1 does not have any effect when 'solver' is set to 'liblinear'. Got 'n_jobs' = 2.\n",
            "  warnings.warn(\n",
            "/usr/local/lib/python3.9/dist-packages/sklearn/linear_model/_logistic.py:1211: UserWarning: 'n_jobs' > 1 does not have any effect when 'solver' is set to 'liblinear'. Got 'n_jobs' = 2.\n",
            "  warnings.warn(\n",
            "/usr/local/lib/python3.9/dist-packages/sklearn/linear_model/_logistic.py:1211: UserWarning: 'n_jobs' > 1 does not have any effect when 'solver' is set to 'liblinear'. Got 'n_jobs' = 2.\n",
            "  warnings.warn(\n",
            "\u001b[32m[I 2023-03-28 17:57:38,295]\u001b[0m Trial 11 finished with value: 0.0166503914579573 and parameters: {'tol': 0.00035627462220489043, 'C': 0.9952187495360568, 'fit_intercept': True, 'random_state': 42, 'solver': 'liblinear'}. Best is trial 0 with value: 4.1.\u001b[0m\n",
            "<ipython-input-19-9977d60e525c>:6: FutureWarning: suggest_uniform has been deprecated in v3.0.0. This feature will be removed in v6.0.0. See https://github.com/optuna/optuna/releases/tag/v3.0.0. Use :func:`~optuna.trial.Trial.suggest_float` instead.\n",
            "  'tol' : trial.suggest_uniform('tol' , 1e-6 , 1e-3),\n",
            "<ipython-input-19-9977d60e525c>:7: FutureWarning: suggest_loguniform has been deprecated in v3.0.0. This feature will be removed in v6.0.0. See https://github.com/optuna/optuna/releases/tag/v3.0.0. Use :func:`~optuna.trial.Trial.suggest_float` instead.\n",
            "  'C' : trial.suggest_loguniform(\"C\", 1e-2, 1),\n",
            "\u001b[32m[I 2023-03-28 17:58:17,205]\u001b[0m Trial 12 finished with value: -2.2306081419657846 and parameters: {'tol': 0.00033063813321471835, 'C': 0.09606183404298263, 'fit_intercept': False, 'random_state': 42, 'solver': 'lbfgs'}. Best is trial 0 with value: 4.1.\u001b[0m\n",
            "<ipython-input-19-9977d60e525c>:6: FutureWarning: suggest_uniform has been deprecated in v3.0.0. This feature will be removed in v6.0.0. See https://github.com/optuna/optuna/releases/tag/v3.0.0. Use :func:`~optuna.trial.Trial.suggest_float` instead.\n",
            "  'tol' : trial.suggest_uniform('tol' , 1e-6 , 1e-3),\n",
            "<ipython-input-19-9977d60e525c>:7: FutureWarning: suggest_loguniform has been deprecated in v3.0.0. This feature will be removed in v6.0.0. See https://github.com/optuna/optuna/releases/tag/v3.0.0. Use :func:`~optuna.trial.Trial.suggest_float` instead.\n",
            "  'C' : trial.suggest_loguniform(\"C\", 1e-2, 1),\n",
            "/usr/local/lib/python3.9/dist-packages/sklearn/linear_model/_logistic.py:1211: UserWarning: 'n_jobs' > 1 does not have any effect when 'solver' is set to 'liblinear'. Got 'n_jobs' = 2.\n",
            "  warnings.warn(\n",
            "/usr/local/lib/python3.9/dist-packages/sklearn/linear_model/_logistic.py:1211: UserWarning: 'n_jobs' > 1 does not have any effect when 'solver' is set to 'liblinear'. Got 'n_jobs' = 2.\n",
            "  warnings.warn(\n",
            "/usr/local/lib/python3.9/dist-packages/sklearn/linear_model/_logistic.py:1211: UserWarning: 'n_jobs' > 1 does not have any effect when 'solver' is set to 'liblinear'. Got 'n_jobs' = 2.\n",
            "  warnings.warn(\n",
            "/usr/local/lib/python3.9/dist-packages/sklearn/linear_model/_logistic.py:1211: UserWarning: 'n_jobs' > 1 does not have any effect when 'solver' is set to 'liblinear'. Got 'n_jobs' = 2.\n",
            "  warnings.warn(\n",
            "/usr/local/lib/python3.9/dist-packages/sklearn/linear_model/_logistic.py:1211: UserWarning: 'n_jobs' > 1 does not have any effect when 'solver' is set to 'liblinear'. Got 'n_jobs' = 2.\n",
            "  warnings.warn(\n",
            "\u001b[32m[I 2023-03-28 17:58:28,594]\u001b[0m Trial 13 finished with value: -2.2306081419657846 and parameters: {'tol': 0.0002840481000447112, 'C': 0.07501962640236053, 'fit_intercept': True, 'random_state': 42, 'solver': 'liblinear'}. Best is trial 0 with value: 4.1.\u001b[0m\n",
            "<ipython-input-19-9977d60e525c>:6: FutureWarning: suggest_uniform has been deprecated in v3.0.0. This feature will be removed in v6.0.0. See https://github.com/optuna/optuna/releases/tag/v3.0.0. Use :func:`~optuna.trial.Trial.suggest_float` instead.\n",
            "  'tol' : trial.suggest_uniform('tol' , 1e-6 , 1e-3),\n",
            "<ipython-input-19-9977d60e525c>:7: FutureWarning: suggest_loguniform has been deprecated in v3.0.0. This feature will be removed in v6.0.0. See https://github.com/optuna/optuna/releases/tag/v3.0.0. Use :func:`~optuna.trial.Trial.suggest_float` instead.\n",
            "  'C' : trial.suggest_loguniform(\"C\", 1e-2, 1),\n",
            "\u001b[32m[I 2023-03-28 17:58:59,144]\u001b[0m Trial 14 finished with value: 0.0166503914579573 and parameters: {'tol': 0.0005052234219339812, 'C': 0.24168442701576562, 'fit_intercept': False, 'random_state': 2021, 'solver': 'lbfgs'}. Best is trial 0 with value: 4.1.\u001b[0m\n",
            "<ipython-input-19-9977d60e525c>:6: FutureWarning: suggest_uniform has been deprecated in v3.0.0. This feature will be removed in v6.0.0. See https://github.com/optuna/optuna/releases/tag/v3.0.0. Use :func:`~optuna.trial.Trial.suggest_float` instead.\n",
            "  'tol' : trial.suggest_uniform('tol' , 1e-6 , 1e-3),\n",
            "<ipython-input-19-9977d60e525c>:7: FutureWarning: suggest_loguniform has been deprecated in v3.0.0. This feature will be removed in v6.0.0. See https://github.com/optuna/optuna/releases/tag/v3.0.0. Use :func:`~optuna.trial.Trial.suggest_float` instead.\n",
            "  'C' : trial.suggest_loguniform(\"C\", 1e-2, 1),\n",
            "/usr/local/lib/python3.9/dist-packages/sklearn/linear_model/_logistic.py:1211: UserWarning: 'n_jobs' > 1 does not have any effect when 'solver' is set to 'liblinear'. Got 'n_jobs' = 2.\n",
            "  warnings.warn(\n",
            "/usr/local/lib/python3.9/dist-packages/sklearn/linear_model/_logistic.py:1211: UserWarning: 'n_jobs' > 1 does not have any effect when 'solver' is set to 'liblinear'. Got 'n_jobs' = 2.\n",
            "  warnings.warn(\n",
            "/usr/local/lib/python3.9/dist-packages/sklearn/linear_model/_logistic.py:1211: UserWarning: 'n_jobs' > 1 does not have any effect when 'solver' is set to 'liblinear'. Got 'n_jobs' = 2.\n",
            "  warnings.warn(\n",
            "/usr/local/lib/python3.9/dist-packages/sklearn/linear_model/_logistic.py:1211: UserWarning: 'n_jobs' > 1 does not have any effect when 'solver' is set to 'liblinear'. Got 'n_jobs' = 2.\n",
            "  warnings.warn(\n",
            "/usr/local/lib/python3.9/dist-packages/sklearn/linear_model/_logistic.py:1211: UserWarning: 'n_jobs' > 1 does not have any effect when 'solver' is set to 'liblinear'. Got 'n_jobs' = 2.\n",
            "  warnings.warn(\n",
            "\u001b[32m[I 2023-03-28 17:59:07,985]\u001b[0m Trial 15 finished with value: -2.2306081419657846 and parameters: {'tol': 0.0007245766350418573, 'C': 0.021205094802421314, 'fit_intercept': True, 'random_state': 0, 'solver': 'liblinear'}. Best is trial 0 with value: 4.1.\u001b[0m\n",
            "<ipython-input-19-9977d60e525c>:6: FutureWarning: suggest_uniform has been deprecated in v3.0.0. This feature will be removed in v6.0.0. See https://github.com/optuna/optuna/releases/tag/v3.0.0. Use :func:`~optuna.trial.Trial.suggest_float` instead.\n",
            "  'tol' : trial.suggest_uniform('tol' , 1e-6 , 1e-3),\n",
            "<ipython-input-19-9977d60e525c>:7: FutureWarning: suggest_loguniform has been deprecated in v3.0.0. This feature will be removed in v6.0.0. See https://github.com/optuna/optuna/releases/tag/v3.0.0. Use :func:`~optuna.trial.Trial.suggest_float` instead.\n",
            "  'C' : trial.suggest_loguniform(\"C\", 1e-2, 1),\n",
            "\u001b[32m[I 2023-03-28 17:59:39,265]\u001b[0m Trial 16 finished with value: -2.2306081419657846 and parameters: {'tol': 0.0001995271425856015, 'C': 0.05583867907161087, 'fit_intercept': False, 'random_state': 42, 'solver': 'lbfgs'}. Best is trial 0 with value: 4.1.\u001b[0m\n",
            "<ipython-input-19-9977d60e525c>:6: FutureWarning: suggest_uniform has been deprecated in v3.0.0. This feature will be removed in v6.0.0. See https://github.com/optuna/optuna/releases/tag/v3.0.0. Use :func:`~optuna.trial.Trial.suggest_float` instead.\n",
            "  'tol' : trial.suggest_uniform('tol' , 1e-6 , 1e-3),\n",
            "<ipython-input-19-9977d60e525c>:7: FutureWarning: suggest_loguniform has been deprecated in v3.0.0. This feature will be removed in v6.0.0. See https://github.com/optuna/optuna/releases/tag/v3.0.0. Use :func:`~optuna.trial.Trial.suggest_float` instead.\n",
            "  'C' : trial.suggest_loguniform(\"C\", 1e-2, 1),\n",
            "/usr/local/lib/python3.9/dist-packages/sklearn/linear_model/_logistic.py:1211: UserWarning: 'n_jobs' > 1 does not have any effect when 'solver' is set to 'liblinear'. Got 'n_jobs' = 2.\n",
            "  warnings.warn(\n",
            "/usr/local/lib/python3.9/dist-packages/sklearn/linear_model/_logistic.py:1211: UserWarning: 'n_jobs' > 1 does not have any effect when 'solver' is set to 'liblinear'. Got 'n_jobs' = 2.\n",
            "  warnings.warn(\n",
            "/usr/local/lib/python3.9/dist-packages/sklearn/linear_model/_logistic.py:1211: UserWarning: 'n_jobs' > 1 does not have any effect when 'solver' is set to 'liblinear'. Got 'n_jobs' = 2.\n",
            "  warnings.warn(\n",
            "/usr/local/lib/python3.9/dist-packages/sklearn/linear_model/_logistic.py:1211: UserWarning: 'n_jobs' > 1 does not have any effect when 'solver' is set to 'liblinear'. Got 'n_jobs' = 2.\n",
            "  warnings.warn(\n",
            "/usr/local/lib/python3.9/dist-packages/sklearn/linear_model/_logistic.py:1211: UserWarning: 'n_jobs' > 1 does not have any effect when 'solver' is set to 'liblinear'. Got 'n_jobs' = 2.\n",
            "  warnings.warn(\n",
            "\u001b[32m[I 2023-03-28 17:59:50,912]\u001b[0m Trial 17 finished with value: -2.2306081419657846 and parameters: {'tol': 0.0004495385059665279, 'C': 0.010254649489429649, 'fit_intercept': True, 'random_state': 42, 'solver': 'liblinear'}. Best is trial 0 with value: 4.1.\u001b[0m\n",
            "<ipython-input-19-9977d60e525c>:6: FutureWarning: suggest_uniform has been deprecated in v3.0.0. This feature will be removed in v6.0.0. See https://github.com/optuna/optuna/releases/tag/v3.0.0. Use :func:`~optuna.trial.Trial.suggest_float` instead.\n",
            "  'tol' : trial.suggest_uniform('tol' , 1e-6 , 1e-3),\n",
            "<ipython-input-19-9977d60e525c>:7: FutureWarning: suggest_loguniform has been deprecated in v3.0.0. This feature will be removed in v6.0.0. See https://github.com/optuna/optuna/releases/tag/v3.0.0. Use :func:`~optuna.trial.Trial.suggest_float` instead.\n",
            "  'C' : trial.suggest_loguniform(\"C\", 1e-2, 1),\n",
            "/usr/local/lib/python3.9/dist-packages/sklearn/linear_model/_logistic.py:1211: UserWarning: 'n_jobs' > 1 does not have any effect when 'solver' is set to 'liblinear'. Got 'n_jobs' = 2.\n",
            "  warnings.warn(\n",
            "/usr/local/lib/python3.9/dist-packages/sklearn/linear_model/_logistic.py:1211: UserWarning: 'n_jobs' > 1 does not have any effect when 'solver' is set to 'liblinear'. Got 'n_jobs' = 2.\n",
            "  warnings.warn(\n",
            "/usr/local/lib/python3.9/dist-packages/sklearn/linear_model/_logistic.py:1211: UserWarning: 'n_jobs' > 1 does not have any effect when 'solver' is set to 'liblinear'. Got 'n_jobs' = 2.\n",
            "  warnings.warn(\n",
            "/usr/local/lib/python3.9/dist-packages/sklearn/linear_model/_logistic.py:1211: UserWarning: 'n_jobs' > 1 does not have any effect when 'solver' is set to 'liblinear'. Got 'n_jobs' = 2.\n",
            "  warnings.warn(\n",
            "/usr/local/lib/python3.9/dist-packages/sklearn/linear_model/_logistic.py:1211: UserWarning: 'n_jobs' > 1 does not have any effect when 'solver' is set to 'liblinear'. Got 'n_jobs' = 2.\n",
            "  warnings.warn(\n",
            "\u001b[32m[I 2023-03-28 18:00:02,842]\u001b[0m Trial 18 finished with value: 0.03587723096514027 and parameters: {'tol': 0.00020842965957478682, 'C': 0.15524094583888723, 'fit_intercept': True, 'random_state': 42, 'solver': 'liblinear'}. Best is trial 0 with value: 4.1.\u001b[0m\n",
            "<ipython-input-19-9977d60e525c>:6: FutureWarning: suggest_uniform has been deprecated in v3.0.0. This feature will be removed in v6.0.0. See https://github.com/optuna/optuna/releases/tag/v3.0.0. Use :func:`~optuna.trial.Trial.suggest_float` instead.\n",
            "  'tol' : trial.suggest_uniform('tol' , 1e-6 , 1e-3),\n",
            "<ipython-input-19-9977d60e525c>:7: FutureWarning: suggest_loguniform has been deprecated in v3.0.0. This feature will be removed in v6.0.0. See https://github.com/optuna/optuna/releases/tag/v3.0.0. Use :func:`~optuna.trial.Trial.suggest_float` instead.\n",
            "  'C' : trial.suggest_loguniform(\"C\", 1e-2, 1),\n",
            "\u001b[32m[I 2023-03-28 18:00:37,305]\u001b[0m Trial 19 finished with value: -2.2306081419657846 and parameters: {'tol': 0.00039343367513371467, 'C': 0.03126417507803323, 'fit_intercept': False, 'random_state': 2021, 'solver': 'lbfgs'}. Best is trial 0 with value: 4.1.\u001b[0m\n"
          ]
        },
        {
          "data": {
            "text/plain": [
              "{'tol': 0.0006802772458400531,\n",
              " 'C': 0.5982349364987448,\n",
              " 'fit_intercept': False,\n",
              " 'random_state': 42,\n",
              " 'solver': 'lbfgs'}"
            ]
          },
          "execution_count": 20,
          "metadata": {},
          "output_type": "execute_result"
        }
      ],
      "source": [
        "study = optuna.create_study(direction=\"maximize\")\n",
        "study.optimize(objective, n_trials=20)\n",
        "study.best_params"
      ]
    },
    {
      "cell_type": "code",
      "execution_count": null,
      "metadata": {
        "colab": {
          "base_uri": "https://localhost:8080/"
        },
        "id": "PXbJ-SqdlQCE",
        "outputId": "e99c9204-4433-442e-a6c7-dea1e36deb5a"
      },
      "outputs": [
        {
          "name": "stdout",
          "output_type": "stream",
          "text": [
            "=== Fold 0 ROC AUC Score 0.5472627279113984 ===\n",
            "=== Fold 1 ROC AUC Score 0.510961348717819 ===\n",
            "=== Fold 2 ROC AUC Score 0.5324276881819827 ===\n",
            "=== Fold 3 ROC AUC Score 0.5559111493409569 ===\n",
            "=== Fold 4 ROC AUC Score 0.557071991686306 ===\n",
            "=== Fold 5 ROC AUC Score 0.52369947708577 ===\n",
            "=== Fold 6 ROC AUC Score 0.5703958929728656 ===\n",
            "=== Fold 7 ROC AUC Score 0.5963411572615407 ===\n",
            "=== Fold 8 ROC AUC Score 0.5708775501069375 ===\n",
            "=== Fold 9 ROC AUC Score 0.561432480046449 ===\n",
            "=== Average ROC AUC Score 0.5526381463312025 ===\n"
          ]
        }
      ],
      "source": [
        "n=10\n",
        "cv = StratifiedKFold(n,shuffle=True, random_state=42)\n",
        "test_preds = []\n",
        "\n",
        "all_scores = []\n",
        "for i,(train_idx,val_idx) in enumerate(cv.split(train[features],train[target])):\n",
        "    X_train, y_train = train.loc[train_idx, features],train.loc[train_idx, target]\n",
        "    X_val, y_val = train.loc[val_idx, features],train.loc[val_idx, target]   \n",
        "    params={'tol': 0.0005043467619224905,\n",
        "            'C': 0.03956628721486797,\n",
        "            'fit_intercept': False,\n",
        "            'random_state': 44,\n",
        "            'solver': 'liblinear'}\n",
        "    \n",
        "    model = LogisticRegression(**params)\n",
        "    model.fit(X_train,\n",
        "              y_train)\n",
        "    \n",
        "    y_pred = model.predict_proba(X_val)[:,1]\n",
        "    score = roc_auc_score(y_val,y_pred)\n",
        "    all_scores.append(score)\n",
        "    \n",
        "    test_pred = model.predict_proba(test[features])[:,1]\n",
        "    test_preds.append(test_pred)\n",
        "    print(f'=== Fold {i} ROC AUC Score {score} ===')\n",
        "print(f'=== Average ROC AUC Score {np.mean(all_scores)} ===')"
      ]
    },
    {
      "cell_type": "markdown",
      "metadata": {
        "id": "WBCVD2itswy6"
      },
      "source": [
        "Logistic Regression has an average ROC AUC Score 0.5526381463312025. This is lower than our LGBM model."
      ]
    },
    {
      "cell_type": "code",
      "execution_count": null,
      "metadata": {
        "colab": {
          "base_uri": "https://localhost:8080/"
        },
        "id": "c_cMbv35lV00",
        "outputId": "a58cc554-4be0-4412-8cfe-3ec8e9f8d6cf"
      },
      "outputs": [
        {
          "data": {
            "text/plain": [
              "array([8.68985511e-06, 6.44350929e-07, 1.08148853e-05, ...,\n",
              "       4.93152012e-06, 2.45819544e-08, 2.66223826e-06])"
            ]
          },
          "execution_count": 22,
          "metadata": {},
          "output_type": "execute_result"
        }
      ],
      "source": [
        "logreg_preds = np.array(test_preds).mean(axis =0)\n",
        "logreg_preds"
      ]
    },
    {
      "cell_type": "code",
      "execution_count": null,
      "metadata": {
        "colab": {
          "base_uri": "https://localhost:8080/",
          "height": 1000
        },
        "id": "2kkuVKJBhDra",
        "outputId": "a3182b8a-a5e6-4b6c-b0fe-754859eda2aa"
      },
      "outputs": [
        {
          "name": "stdout",
          "output_type": "stream",
          "text": [
            "[LightGBM] [Warning] Unknown parameter: fit_intercept\n",
            "[LightGBM] [Warning] Unknown parameter: C\n",
            "[LightGBM] [Warning] Unknown parameter: solver\n",
            "[LightGBM] [Warning] Unknown parameter: tol\n",
            "[LightGBM] [Warning] Unknown parameter: fit_intercept\n",
            "[LightGBM] [Warning] Unknown parameter: C\n",
            "[LightGBM] [Warning] Unknown parameter: solver\n",
            "[LightGBM] [Warning] Unknown parameter: tol\n",
            "[LightGBM] [Warning] Unknown parameter: fit_intercept\n",
            "[LightGBM] [Warning] Unknown parameter: C\n",
            "[LightGBM] [Warning] Unknown parameter: solver\n",
            "[LightGBM] [Warning] Unknown parameter: tol\n",
            "[LightGBM] [Warning] Unknown parameter: fit_intercept\n",
            "[LightGBM] [Warning] Unknown parameter: C\n",
            "[LightGBM] [Warning] Unknown parameter: solver\n",
            "[LightGBM] [Warning] Unknown parameter: tol\n",
            "[LightGBM] [Warning] Unknown parameter: fit_intercept\n",
            "[LightGBM] [Warning] Unknown parameter: C\n",
            "[LightGBM] [Warning] Unknown parameter: solver\n",
            "[LightGBM] [Warning] Unknown parameter: tol\n",
            "[LightGBM] [Warning] Unknown parameter: fit_intercept\n",
            "[LightGBM] [Warning] Unknown parameter: C\n",
            "[LightGBM] [Warning] Unknown parameter: solver\n",
            "[LightGBM] [Warning] Unknown parameter: tol\n",
            "[LightGBM] [Warning] Unknown parameter: fit_intercept\n",
            "[LightGBM] [Warning] Unknown parameter: C\n",
            "[LightGBM] [Warning] Unknown parameter: solver\n",
            "[LightGBM] [Warning] Unknown parameter: tol\n",
            "[LightGBM] [Warning] Unknown parameter: fit_intercept\n",
            "[LightGBM] [Warning] Unknown parameter: C\n",
            "[LightGBM] [Warning] Unknown parameter: solver\n",
            "[LightGBM] [Warning] Unknown parameter: tol\n",
            "[LightGBM] [Warning] Unknown parameter: fit_intercept\n",
            "[LightGBM] [Warning] Unknown parameter: C\n",
            "[LightGBM] [Warning] Unknown parameter: solver\n",
            "[LightGBM] [Warning] Unknown parameter: tol\n",
            "[LightGBM] [Warning] Unknown parameter: fit_intercept\n",
            "[LightGBM] [Warning] Unknown parameter: C\n",
            "[LightGBM] [Warning] Unknown parameter: solver\n",
            "[LightGBM] [Warning] Unknown parameter: tol\n"
          ]
        },
        {
          "data": {
            "image/png": "[encoded data removed]",
            "text/plain": [
              "<Figure size 1440x432 with 4 Axes>"
            ]
          },
          "metadata": {},
          "output_type": "display_data"
        }
      ],
      "source": [
        "from sklearn.metrics import ConfusionMatrixDisplay\n",
        "from scipy.interpolate import interp1d\n",
        "confusion_matrices = []\n",
        "\n",
        "fig, (ax1, ax2, ax3) = plt.subplots(1, 3, figsize=(20, 6))\n",
        "\n",
        "# ROC curve and Precision-Recall curve\n",
        "for i, (train_idx, val_idx) in enumerate(cv.split(train[features], train[target])):\n",
        "    X_train, y_train = train.loc[train_idx, features], train.loc[train_idx, target]\n",
        "    X_val, y_val = train.loc[val_idx, features], train.loc[val_idx, target]\n",
        "\n",
        "    model.fit(X_train, y_train)\n",
        "    \n",
        "    y_pred = model.predict(X_val)\n",
        "    y_pred_proba = model.predict_proba(X_val)[:, 1]\n",
        "\n",
        "    # Calculate metrics for each fold\n",
        "    accuracy_scores.append(accuracy_score(y_val, y_pred))\n",
        "    precision_scores.append(precision_score(y_val, y_pred))\n",
        "    recall_scores.append(recall_score(y_val, y_pred))\n",
        "    f1_scores.append(f1_score(y_val, y_pred))\n",
        "    roc_auc_scores.append(roc_auc_score(y_val, y_pred_proba))\n",
        "\n",
        "    # Compute ROC curve and area under the curve\n",
        "    fpr, tpr, _ = roc_curve(y_val, y_pred_proba)\n",
        "    tprs.append(np.interp(mean_fpr, fpr, tpr))\n",
        "    ax1.plot(fpr, tpr, lw=1, alpha=0.3)\n",
        "\n",
        "    # Compute Precision-Recall curve\n",
        "    precision, recall, _ = precision_recall_curve(y_val, y_pred_proba)\n",
        "    precisions.append(precision)\n",
        "    recalls.append(recall)\n",
        "    ax2.plot(recall, precision, lw=1, alpha=0.3)\n",
        "\n",
        "    cm = confusion_matrix(y_val, y_pred)\n",
        "    confusion_matrices.append(cm)\n",
        "\n",
        "mean_cm = np.mean(confusion_matrices, axis=0)\n",
        "\n",
        "\n",
        "# ROC curve\n",
        "ax1.plot([0, 1], [0, 1], linestyle='--', lw=2, color='r', alpha=0.8)\n",
        "mean_tpr = np.mean(tprs, axis=0)\n",
        "ax1.plot(mean_fpr, mean_tpr, color='b', lw=2, alpha=0.8)\n",
        "ax1.set_xlabel('False Positive Rate')\n",
        "ax1.set_ylabel('True Positive Rate')\n",
        "ax1.set_title('ROC Curve')\n",
        "\n",
        "# Precision-Recall curve\n",
        "interp_recall = np.linspace(0, 1, 100)\n",
        "interp_precisions = []\n",
        "\n",
        "for recall, precision in zip(recalls, precisions):\n",
        "    f = interp1d(recall, precision, kind='linear', fill_value=(0, 1), bounds_error=False)\n",
        "    interp_precisions.append(f(interp_recall))\n",
        "\n",
        "mean_precision = np.mean(interp_precisions, axis=0)\n",
        "ax2.plot(interp_recall, mean_precision, color='g', lw=2, alpha=0.8)\n",
        "ax2.set_xlabel('Recall')\n",
        "ax2.set_ylabel('Precision')\n",
        "ax2.set_title('Precision-Recall Curve')\n",
        "\n",
        "# Confusion Matrix\n",
        "# cm = confusion_matrix(y_val, y_pred)\n",
        "# disp = ConfusionMatrixDisplay(confusion_matrix=cm, display_labels=['Negative', 'Positive'])\n",
        "# disp.plot(ax=ax3)\n",
        "# ax3.set_title('Confusion Matrix')\n",
        "\n",
        "mean_disp = ConfusionMatrixDisplay(confusion_matrix=mean_cm, display_labels=['Negative', 'Positive'])\n",
        "mean_disp.plot(ax=ax3)\n",
        "ax3.set_title('Average Confusion Matrix')\n",
        "\n",
        "\n",
        "plt.tight_layout()\n",
        "plt.show()\n"
      ]
    },
    {
      "cell_type": "code",
      "execution_count": null,
      "metadata": {
        "colab": {
          "base_uri": "https://localhost:8080/"
        },
        "id": "ju73Mmc0hcoF",
        "outputId": "b6745c60-9a85-406f-84fb-69e9edd9e95a"
      },
      "outputs": [
        {
          "name": "stdout",
          "output_type": "stream",
          "text": [
            "Average Accuracy: 0.9936445382847338\n",
            "Average Precision: 0.026762254101897247\n",
            "Average Recall: 0.029108849830403946\n",
            "Average F1 Score: 0.02479324500914178\n",
            "Average ROC AUC Score: 0.6229143858287008\n"
          ]
        }
      ],
      "source": [
        "# Print average scores\n",
        "print('Average Accuracy:', np.mean(accuracy_scores))\n",
        "print('Average Precision:', np.mean(precision_scores))\n",
        "print('Average Recall:', np.mean(recall_scores))\n",
        "print('Average F1 Score:', np.mean(f1_scores))\n",
        "print('Average ROC AUC Score:', np.mean(roc_auc_scores))"
      ]
    },
    {
      "cell_type": "markdown",
      "metadata": {
        "id": "ybwEQT1PGTtk"
      },
      "source": [
        "### Modelling Decision Tree and Random Forest"
      ]
    },
    {
      "cell_type": "code",
      "execution_count": null,
      "metadata": {
        "id": "0J4_mAyCHKBt"
      },
      "outputs": [],
      "source": [
        "import pandas as pd\n",
        "import numpy as np\n",
        "import matplotlib.pyplot as plt\n",
        "from sklearn.tree import DecisionTreeClassifier\n",
        "from sklearn.model_selection import train_test_split\n",
        "import sklearn.tree as tree\n",
        "from sklearn.tree import export_graphviz\n",
        "import graphviz"
      ]
    },
    {
      "cell_type": "code",
      "execution_count": null,
      "metadata": {
        "id": "M-N48U5-Qvml"
      },
      "outputs": [],
      "source": []
    },
    {
      "cell_type": "code",
      "execution_count": null,
      "metadata": {
        "colab": {
          "base_uri": "https://localhost:8080/",
          "height": 487
        },
        "id": "DdCwV4mgIar6",
        "outputId": "d79e15c6-0c39-436a-8ed2-9e5b8fc2d358"
      },
      "outputs": [
        {
          "output_type": "display_data",
          "data": {
            "text/plain": [
              "            id      Time        V1        V2        V3        V4        V5  \\\n",
              "0            0       0.0  2.074329 -0.129425 -1.137418  0.412846 -0.192638   \n",
              "1            1       0.0  1.998827 -1.250891 -0.520969 -0.894539 -1.122528   \n",
              "2            2       0.0  0.091535  1.004517 -0.223445 -0.435249  0.667548   \n",
              "3            3       0.0  1.979649 -0.184949 -1.064206  0.120125 -0.215238   \n",
              "4            4       0.0  1.025898 -0.171827  1.203717  1.243900 -0.636572   \n",
              "...        ...       ...       ...       ...       ...       ...       ...   \n",
              "219124  219124  120580.0  1.891079 -1.272908 -3.783908 -1.388939  2.012789   \n",
              "219125  219125  120580.0  0.139724  0.948649 -2.913655 -2.184829  1.883716   \n",
              "219126  219126  120580.0  2.058343 -0.038993 -1.928553  0.330117  0.270127   \n",
              "219127  219127  120580.0  2.079227 -2.162389 -1.785833 -2.804889  0.552845   \n",
              "219128  219128  120580.0 -0.431758  1.299171 -0.571602 -1.161499  1.141765   \n",
              "\n",
              "              V6        V7        V8        V9       V10       V11       V12  \\\n",
              "0      -1.210144  0.110697 -0.263477  0.742144  0.108782 -1.070243 -0.234910   \n",
              "1      -0.270866 -1.029289  0.050198 -0.109948  0.908773  0.836798 -0.056580   \n",
              "2      -0.988351  0.948146 -0.084789 -0.042027 -0.818383 -0.376512 -0.226546   \n",
              "3      -0.648829 -0.087826 -0.035367  0.885838 -0.007527  0.637441  0.676960   \n",
              "4       1.099074 -0.938651  0.569239  0.692665 -0.097495  1.338869  1.391399   \n",
              "...          ...       ...       ...       ...       ...       ...       ...   \n",
              "219124  2.666080  0.151740  0.401934 -1.102824  0.858158 -0.280639  0.007976   \n",
              "219125 -1.056824  1.725624  0.018089 -0.823494 -0.257933 -0.457534  0.516146   \n",
              "219126 -0.735664 -0.173878  0.144823  0.849289 -0.136498  0.179926 -1.769641   \n",
              "219127  4.038013 -2.155900  1.023785 -0.865242  1.536193 -0.058879 -0.885949   \n",
              "219128 -1.258871  1.701553 -0.454580 -0.556978 -0.049454  1.374548  1.172926   \n",
              "\n",
              "             V13       V14       V15       V16       V17       V18       V19  \\\n",
              "0      -1.099360  0.502467  0.169318  0.065688 -0.306957 -0.323800  0.103348   \n",
              "1      -0.120990 -0.144028 -0.039582  1.653057 -0.253599 -0.814354  0.716784   \n",
              "2      -0.552869 -0.886466 -0.180890  0.230286  0.590579 -0.321590 -0.433959   \n",
              "3      -1.504823  0.554039 -0.824356 -0.527267 -0.095838 -0.312519  0.642659   \n",
              "4      -0.128167 -0.081836  0.100548 -0.338937  0.090864 -0.423645 -0.731939   \n",
              "...          ...       ...       ...       ...       ...       ...       ...   \n",
              "219124 -0.124950  0.914374 -0.073169 -2.309929 -0.041423  1.190526 -0.281848   \n",
              "219125 -0.071240  1.310799 -1.892909 -0.318780 -0.917395  0.098397 -0.195558   \n",
              "219126 -3.937694  0.031346  0.028100  0.883566  0.391801  1.007789  0.303376   \n",
              "219127 -0.254718 -0.425730  0.665556 -0.336634  0.301966  0.391249  0.037770   \n",
              "219128  0.722704  0.525669 -0.926260 -0.379812 -0.640176 -0.161739  0.034470   \n",
              "\n",
              "             V20       V21       V22       V23       V24       V25       V26  \\\n",
              "0      -0.292969 -0.334701 -0.887840  0.336701 -0.110835 -0.291459  0.207733   \n",
              "1       0.065717  0.054848 -0.038367  0.133518 -0.461928 -0.465491 -0.464655   \n",
              "2      -0.021375 -0.326725 -0.803736  0.154495  0.951233 -0.506919  0.085046   \n",
              "3      -0.340089 -0.095514 -0.079792  0.167701 -0.042939  0.000799 -0.096148   \n",
              "4      -0.203628  0.099157  0.608908  0.027901 -0.262813  0.257834 -0.252829   \n",
              "...          ...       ...       ...       ...       ...       ...       ...   \n",
              "219124 -0.195703 -0.181369 -0.456538 -0.069571  0.756765  0.244479 -0.147566   \n",
              "219125 -0.116538  0.491469  1.478823 -0.085398 -0.091409 -1.053488  0.467570   \n",
              "219126 -0.384830 -0.306640 -0.965783  0.307799 -0.021434 -0.343989  0.181065   \n",
              "219127 -0.190984  0.109909  0.590401  0.286621  0.675660 -0.510736 -0.090044   \n",
              "219128  0.058133  0.225629  0.988442 -0.224609  0.082977 -0.335529  0.042237   \n",
              "\n",
              "             V27       V28  Amount  Class  \n",
              "0      -0.076576 -0.059577    1.98      0  \n",
              "1      -0.009413 -0.038238   84.00      0  \n",
              "2       0.224458  0.087356    2.69      0  \n",
              "3      -0.057780 -0.073839    1.00      0  \n",
              "4       0.108338  0.021051    1.00      0  \n",
              "...          ...       ...     ...    ...  \n",
              "219124 -0.054725 -0.044588  198.65      0  \n",
              "219125  0.358918  0.294735   24.00      0  \n",
              "219126 -0.098387 -0.044064    1.79      0  \n",
              "219127  0.056749 -0.017126   88.00      0  \n",
              "219128  0.304965  0.240049    3.78      0  \n",
              "\n",
              "[219129 rows x 32 columns]"
            ],
            "text/html": [
              "\n",
              "  <div id=\"df-247102d3-9ce8-445f-9fe5-e98e6431b3b9\">\n",
              "    <div class=\"colab-df-container\">\n",
              "      <div>\n",
              "<style scoped>\n",
              "    .dataframe tbody tr th:only-of-type {\n",
              "        vertical-align: middle;\n",
              "    }\n",
              "\n",
              "    .dataframe tbody tr th {\n",
              "        vertical-align: top;\n",
              "    }\n",
              "\n",
              "    .dataframe thead th {\n",
              "        text-align: right;\n",
              "    }\n",
              "</style>\n",
              "<table border=\"1\" class=\"dataframe\">\n",
              "  <thead>\n",
              "    <tr style=\"text-align: right;\">\n",
              "      <th></th>\n",
              "      <th>id</th>\n",
              "      <th>Time</th>\n",
              "      <th>V1</th>\n",
              "      <th>V2</th>\n",
              "      <th>V3</th>\n",
              "      <th>V4</th>\n",
              "      <th>V5</th>\n",
              "      <th>V6</th>\n",
              "      <th>V7</th>\n",
              "      <th>V8</th>\n",
              "      <th>V9</th>\n",
              "      <th>V10</th>\n",
              "      <th>V11</th>\n",
              "      <th>V12</th>\n",
              "      <th>V13</th>\n",
              "      <th>V14</th>\n",
              "      <th>V15</th>\n",
              "      <th>V16</th>\n",
              "      <th>V17</th>\n",
              "      <th>V18</th>\n",
              "      <th>V19</th>\n",
              "      <th>V20</th>\n",
              "      <th>V21</th>\n",
              "      <th>V22</th>\n",
              "      <th>V23</th>\n",
              "      <th>V24</th>\n",
              "      <th>V25</th>\n",
              "      <th>V26</th>\n",
              "      <th>V27</th>\n",
              "      <th>V28</th>\n",
              "      <th>Amount</th>\n",
              "      <th>Class</th>\n",
              "    </tr>\n",
              "  </thead>\n",
              "  <tbody>\n",
              "    <tr>\n",
              "      <th>0</th>\n",
              "      <td>0</td>\n",
              "      <td>0.0</td>\n",
              "      <td>2.074329</td>\n",
              "      <td>-0.129425</td>\n",
              "      <td>-1.137418</td>\n",
              "      <td>0.412846</td>\n",
              "      <td>-0.192638</td>\n",
              "      <td>-1.210144</td>\n",
              "      <td>0.110697</td>\n",
              "      <td>-0.263477</td>\n",
              "      <td>0.742144</td>\n",
              "      <td>0.108782</td>\n",
              "      <td>-1.070243</td>\n",
              "      <td>-0.234910</td>\n",
              "      <td>-1.099360</td>\n",
              "      <td>0.502467</td>\n",
              "      <td>0.169318</td>\n",
              "      <td>0.065688</td>\n",
              "      <td>-0.306957</td>\n",
              "      <td>-0.323800</td>\n",
              "      <td>0.103348</td>\n",
              "      <td>-0.292969</td>\n",
              "      <td>-0.334701</td>\n",
              "      <td>-0.887840</td>\n",
              "      <td>0.336701</td>\n",
              "      <td>-0.110835</td>\n",
              "      <td>-0.291459</td>\n",
              "      <td>0.207733</td>\n",
              "      <td>-0.076576</td>\n",
              "      <td>-0.059577</td>\n",
              "      <td>1.98</td>\n",
              "      <td>0</td>\n",
              "    </tr>\n",
              "    <tr>\n",
              "      <th>1</th>\n",
              "      <td>1</td>\n",
              "      <td>0.0</td>\n",
              "      <td>1.998827</td>\n",
              "      <td>-1.250891</td>\n",
              "      <td>-0.520969</td>\n",
              "      <td>-0.894539</td>\n",
              "      <td>-1.122528</td>\n",
              "      <td>-0.270866</td>\n",
              "      <td>-1.029289</td>\n",
              "      <td>0.050198</td>\n",
              "      <td>-0.109948</td>\n",
              "      <td>0.908773</td>\n",
              "      <td>0.836798</td>\n",
              "      <td>-0.056580</td>\n",
              "      <td>-0.120990</td>\n",
              "      <td>-0.144028</td>\n",
              "      <td>-0.039582</td>\n",
              "      <td>1.653057</td>\n",
              "      <td>-0.253599</td>\n",
              "      <td>-0.814354</td>\n",
              "      <td>0.716784</td>\n",
              "      <td>0.065717</td>\n",
              "      <td>0.054848</td>\n",
              "      <td>-0.038367</td>\n",
              "      <td>0.133518</td>\n",
              "      <td>-0.461928</td>\n",
              "      <td>-0.465491</td>\n",
              "      <td>-0.464655</td>\n",
              "      <td>-0.009413</td>\n",
              "      <td>-0.038238</td>\n",
              "      <td>84.00</td>\n",
              "      <td>0</td>\n",
              "    </tr>\n",
              "    <tr>\n",
              "      <th>2</th>\n",
              "      <td>2</td>\n",
              "      <td>0.0</td>\n",
              "      <td>0.091535</td>\n",
              "      <td>1.004517</td>\n",
              "      <td>-0.223445</td>\n",
              "      <td>-0.435249</td>\n",
              "      <td>0.667548</td>\n",
              "      <td>-0.988351</td>\n",
              "      <td>0.948146</td>\n",
              "      <td>-0.084789</td>\n",
              "      <td>-0.042027</td>\n",
              "      <td>-0.818383</td>\n",
              "      <td>-0.376512</td>\n",
              "      <td>-0.226546</td>\n",
              "      <td>-0.552869</td>\n",
              "      <td>-0.886466</td>\n",
              "      <td>-0.180890</td>\n",
              "      <td>0.230286</td>\n",
              "      <td>0.590579</td>\n",
              "      <td>-0.321590</td>\n",
              "      <td>-0.433959</td>\n",
              "      <td>-0.021375</td>\n",
              "      <td>-0.326725</td>\n",
              "      <td>-0.803736</td>\n",
              "      <td>0.154495</td>\n",
              "      <td>0.951233</td>\n",
              "      <td>-0.506919</td>\n",
              "      <td>0.085046</td>\n",
              "      <td>0.224458</td>\n",
              "      <td>0.087356</td>\n",
              "      <td>2.69</td>\n",
              "      <td>0</td>\n",
              "    </tr>\n",
              "    <tr>\n",
              "      <th>3</th>\n",
              "      <td>3</td>\n",
              "      <td>0.0</td>\n",
              "      <td>1.979649</td>\n",
              "      <td>-0.184949</td>\n",
              "      <td>-1.064206</td>\n",
              "      <td>0.120125</td>\n",
              "      <td>-0.215238</td>\n",
              "      <td>-0.648829</td>\n",
              "      <td>-0.087826</td>\n",
              "      <td>-0.035367</td>\n",
              "      <td>0.885838</td>\n",
              "      <td>-0.007527</td>\n",
              "      <td>0.637441</td>\n",
              "      <td>0.676960</td>\n",
              "      <td>-1.504823</td>\n",
              "      <td>0.554039</td>\n",
              "      <td>-0.824356</td>\n",
              "      <td>-0.527267</td>\n",
              "      <td>-0.095838</td>\n",
              "      <td>-0.312519</td>\n",
              "      <td>0.642659</td>\n",
              "      <td>-0.340089</td>\n",
              "      <td>-0.095514</td>\n",
              "      <td>-0.079792</td>\n",
              "      <td>0.167701</td>\n",
              "      <td>-0.042939</td>\n",
              "      <td>0.000799</td>\n",
              "      <td>-0.096148</td>\n",
              "      <td>-0.057780</td>\n",
              "      <td>-0.073839</td>\n",
              "      <td>1.00</td>\n",
              "      <td>0</td>\n",
              "    </tr>\n",
              "    <tr>\n",
              "      <th>4</th>\n",
              "      <td>4</td>\n",
              "      <td>0.0</td>\n",
              "      <td>1.025898</td>\n",
              "      <td>-0.171827</td>\n",
              "      <td>1.203717</td>\n",
              "      <td>1.243900</td>\n",
              "      <td>-0.636572</td>\n",
              "      <td>1.099074</td>\n",
              "      <td>-0.938651</td>\n",
              "      <td>0.569239</td>\n",
              "      <td>0.692665</td>\n",
              "      <td>-0.097495</td>\n",
              "      <td>1.338869</td>\n",
              "      <td>1.391399</td>\n",
              "      <td>-0.128167</td>\n",
              "      <td>-0.081836</td>\n",
              "      <td>0.100548</td>\n",
              "      <td>-0.338937</td>\n",
              "      <td>0.090864</td>\n",
              "      <td>-0.423645</td>\n",
              "      <td>-0.731939</td>\n",
              "      <td>-0.203628</td>\n",
              "      <td>0.099157</td>\n",
              "      <td>0.608908</td>\n",
              "      <td>0.027901</td>\n",
              "      <td>-0.262813</td>\n",
              "      <td>0.257834</td>\n",
              "      <td>-0.252829</td>\n",
              "      <td>0.108338</td>\n",
              "      <td>0.021051</td>\n",
              "      <td>1.00</td>\n",
              "      <td>0</td>\n",
              "    </tr>\n",
              "    <tr>\n",
              "      <th>...</th>\n",
              "      <td>...</td>\n",
              "      <td>...</td>\n",
              "      <td>...</td>\n",
              "      <td>...</td>\n",
              "      <td>...</td>\n",
              "      <td>...</td>\n",
              "      <td>...</td>\n",
              "      <td>...</td>\n",
              "      <td>...</td>\n",
              "      <td>...</td>\n",
              "      <td>...</td>\n",
              "      <td>...</td>\n",
              "      <td>...</td>\n",
              "      <td>...</td>\n",
              "      <td>...</td>\n",
              "      <td>...</td>\n",
              "      <td>...</td>\n",
              "      <td>...</td>\n",
              "      <td>...</td>\n",
              "      <td>...</td>\n",
              "      <td>...</td>\n",
              "      <td>...</td>\n",
              "      <td>...</td>\n",
              "      <td>...</td>\n",
              "      <td>...</td>\n",
              "      <td>...</td>\n",
              "      <td>...</td>\n",
              "      <td>...</td>\n",
              "      <td>...</td>\n",
              "      <td>...</td>\n",
              "      <td>...</td>\n",
              "      <td>...</td>\n",
              "    </tr>\n",
              "    <tr>\n",
              "      <th>219124</th>\n",
              "      <td>219124</td>\n",
              "      <td>120580.0</td>\n",
              "      <td>1.891079</td>\n",
              "      <td>-1.272908</td>\n",
              "      <td>-3.783908</td>\n",
              "      <td>-1.388939</td>\n",
              "      <td>2.012789</td>\n",
              "      <td>2.666080</td>\n",
              "      <td>0.151740</td>\n",
              "      <td>0.401934</td>\n",
              "      <td>-1.102824</td>\n",
              "      <td>0.858158</td>\n",
              "      <td>-0.280639</td>\n",
              "      <td>0.007976</td>\n",
              "      <td>-0.124950</td>\n",
              "      <td>0.914374</td>\n",
              "      <td>-0.073169</td>\n",
              "      <td>-2.309929</td>\n",
              "      <td>-0.041423</td>\n",
              "      <td>1.190526</td>\n",
              "      <td>-0.281848</td>\n",
              "      <td>-0.195703</td>\n",
              "      <td>-0.181369</td>\n",
              "      <td>-0.456538</td>\n",
              "      <td>-0.069571</td>\n",
              "      <td>0.756765</td>\n",
              "      <td>0.244479</td>\n",
              "      <td>-0.147566</td>\n",
              "      <td>-0.054725</td>\n",
              "      <td>-0.044588</td>\n",
              "      <td>198.65</td>\n",
              "      <td>0</td>\n",
              "    </tr>\n",
              "    <tr>\n",
              "      <th>219125</th>\n",
              "      <td>219125</td>\n",
              "      <td>120580.0</td>\n",
              "      <td>0.139724</td>\n",
              "      <td>0.948649</td>\n",
              "      <td>-2.913655</td>\n",
              "      <td>-2.184829</td>\n",
              "      <td>1.883716</td>\n",
              "      <td>-1.056824</td>\n",
              "      <td>1.725624</td>\n",
              "      <td>0.018089</td>\n",
              "      <td>-0.823494</td>\n",
              "      <td>-0.257933</td>\n",
              "      <td>-0.457534</td>\n",
              "      <td>0.516146</td>\n",
              "      <td>-0.071240</td>\n",
              "      <td>1.310799</td>\n",
              "      <td>-1.892909</td>\n",
              "      <td>-0.318780</td>\n",
              "      <td>-0.917395</td>\n",
              "      <td>0.098397</td>\n",
              "      <td>-0.195558</td>\n",
              "      <td>-0.116538</td>\n",
              "      <td>0.491469</td>\n",
              "      <td>1.478823</td>\n",
              "      <td>-0.085398</td>\n",
              "      <td>-0.091409</td>\n",
              "      <td>-1.053488</td>\n",
              "      <td>0.467570</td>\n",
              "      <td>0.358918</td>\n",
              "      <td>0.294735</td>\n",
              "      <td>24.00</td>\n",
              "      <td>0</td>\n",
              "    </tr>\n",
              "    <tr>\n",
              "      <th>219126</th>\n",
              "      <td>219126</td>\n",
              "      <td>120580.0</td>\n",
              "      <td>2.058343</td>\n",
              "      <td>-0.038993</td>\n",
              "      <td>-1.928553</td>\n",
              "      <td>0.330117</td>\n",
              "      <td>0.270127</td>\n",
              "      <td>-0.735664</td>\n",
              "      <td>-0.173878</td>\n",
              "      <td>0.144823</td>\n",
              "      <td>0.849289</td>\n",
              "      <td>-0.136498</td>\n",
              "      <td>0.179926</td>\n",
              "      <td>-1.769641</td>\n",
              "      <td>-3.937694</td>\n",
              "      <td>0.031346</td>\n",
              "      <td>0.028100</td>\n",
              "      <td>0.883566</td>\n",
              "      <td>0.391801</td>\n",
              "      <td>1.007789</td>\n",
              "      <td>0.303376</td>\n",
              "      <td>-0.384830</td>\n",
              "      <td>-0.306640</td>\n",
              "      <td>-0.965783</td>\n",
              "      <td>0.307799</td>\n",
              "      <td>-0.021434</td>\n",
              "      <td>-0.343989</td>\n",
              "      <td>0.181065</td>\n",
              "      <td>-0.098387</td>\n",
              "      <td>-0.044064</td>\n",
              "      <td>1.79</td>\n",
              "      <td>0</td>\n",
              "    </tr>\n",
              "    <tr>\n",
              "      <th>219127</th>\n",
              "      <td>219127</td>\n",
              "      <td>120580.0</td>\n",
              "      <td>2.079227</td>\n",
              "      <td>-2.162389</td>\n",
              "      <td>-1.785833</td>\n",
              "      <td>-2.804889</td>\n",
              "      <td>0.552845</td>\n",
              "      <td>4.038013</td>\n",
              "      <td>-2.155900</td>\n",
              "      <td>1.023785</td>\n",
              "      <td>-0.865242</td>\n",
              "      <td>1.536193</td>\n",
              "      <td>-0.058879</td>\n",
              "      <td>-0.885949</td>\n",
              "      <td>-0.254718</td>\n",
              "      <td>-0.425730</td>\n",
              "      <td>0.665556</td>\n",
              "      <td>-0.336634</td>\n",
              "      <td>0.301966</td>\n",
              "      <td>0.391249</td>\n",
              "      <td>0.037770</td>\n",
              "      <td>-0.190984</td>\n",
              "      <td>0.109909</td>\n",
              "      <td>0.590401</td>\n",
              "      <td>0.286621</td>\n",
              "      <td>0.675660</td>\n",
              "      <td>-0.510736</td>\n",
              "      <td>-0.090044</td>\n",
              "      <td>0.056749</td>\n",
              "      <td>-0.017126</td>\n",
              "      <td>88.00</td>\n",
              "      <td>0</td>\n",
              "    </tr>\n",
              "    <tr>\n",
              "      <th>219128</th>\n",
              "      <td>219128</td>\n",
              "      <td>120580.0</td>\n",
              "      <td>-0.431758</td>\n",
              "      <td>1.299171</td>\n",
              "      <td>-0.571602</td>\n",
              "      <td>-1.161499</td>\n",
              "      <td>1.141765</td>\n",
              "      <td>-1.258871</td>\n",
              "      <td>1.701553</td>\n",
              "      <td>-0.454580</td>\n",
              "      <td>-0.556978</td>\n",
              "      <td>-0.049454</td>\n",
              "      <td>1.374548</td>\n",
              "      <td>1.172926</td>\n",
              "      <td>0.722704</td>\n",
              "      <td>0.525669</td>\n",
              "      <td>-0.926260</td>\n",
              "      <td>-0.379812</td>\n",
              "      <td>-0.640176</td>\n",
              "      <td>-0.161739</td>\n",
              "      <td>0.034470</td>\n",
              "      <td>0.058133</td>\n",
              "      <td>0.225629</td>\n",
              "      <td>0.988442</td>\n",
              "      <td>-0.224609</td>\n",
              "      <td>0.082977</td>\n",
              "      <td>-0.335529</td>\n",
              "      <td>0.042237</td>\n",
              "      <td>0.304965</td>\n",
              "      <td>0.240049</td>\n",
              "      <td>3.78</td>\n",
              "      <td>0</td>\n",
              "    </tr>\n",
              "  </tbody>\n",
              "</table>\n",
              "<p>219129 rows × 32 columns</p>\n",
              "</div>\n",
              "      <button class=\"colab-df-convert\" onclick=\"convertToInteractive('df-247102d3-9ce8-445f-9fe5-e98e6431b3b9')\"\n",
              "              title=\"Convert this dataframe to an interactive table.\"\n",
              "              style=\"display:none;\">\n",
              "        \n",
              "  <svg xmlns=\"http://www.w3.org/2000/svg\" height=\"24px\"viewBox=\"0 0 24 24\"\n",
              "       width=\"24px\">\n",
              "    <path d=\"M0 0h24v24H0V0z\" fill=\"none\"/>\n",
              "    <path d=\"M18.56 5.44l.94 2.06.94-2.06 2.06-.94-2.06-.94-.94-2.06-.94 2.06-2.06.94zm-11 1L8.5 8.5l.94-2.06 2.06-.94-2.06-.94L8.5 2.5l-.94 2.06-2.06.94zm10 10l.94 2.06.94-2.06 2.06-.94-2.06-.94-.94-2.06-.94 2.06-2.06.94z\"/><path d=\"M17.41 7.96l-1.37-1.37c-.4-.4-.92-.59-1.43-.59-.52 0-1.04.2-1.43.59L10.3 9.45l-7.72 7.72c-.78.78-.78 2.05 0 2.83L4 21.41c.39.39.9.59 1.41.59.51 0 1.02-.2 1.41-.59l7.78-7.78 2.81-2.81c.8-.78.8-2.07 0-2.86zM5.41 20L4 18.59l7.72-7.72 1.47 1.35L5.41 20z\"/>\n",
              "  </svg>\n",
              "      </button>\n",
              "      \n",
              "  <style>\n",
              "    .colab-df-container {\n",
              "      display:flex;\n",
              "      flex-wrap:wrap;\n",
              "      gap: 12px;\n",
              "    }\n",
              "\n",
              "    .colab-df-convert {\n",
              "      background-color: #E8F0FE;\n",
              "      border: none;\n",
              "      border-radius: 50%;\n",
              "      cursor: pointer;\n",
              "      display: none;\n",
              "      fill: #1967D2;\n",
              "      height: 32px;\n",
              "      padding: 0 0 0 0;\n",
              "      width: 32px;\n",
              "    }\n",
              "\n",
              "    .colab-df-convert:hover {\n",
              "      background-color: #E2EBFA;\n",
              "      box-shadow: 0px 1px 2px rgba(60, 64, 67, 0.3), 0px 1px 3px 1px rgba(60, 64, 67, 0.15);\n",
              "      fill: #174EA6;\n",
              "    }\n",
              "\n",
              "    [theme=dark] .colab-df-convert {\n",
              "      background-color: #3B4455;\n",
              "      fill: #D2E3FC;\n",
              "    }\n",
              "\n",
              "    [theme=dark] .colab-df-convert:hover {\n",
              "      background-color: #434B5C;\n",
              "      box-shadow: 0px 1px 3px 1px rgba(0, 0, 0, 0.15);\n",
              "      filter: drop-shadow(0px 1px 2px rgba(0, 0, 0, 0.3));\n",
              "      fill: #FFFFFF;\n",
              "    }\n",
              "  </style>\n",
              "\n",
              "      <script>\n",
              "        const buttonEl =\n",
              "          document.querySelector('#df-247102d3-9ce8-445f-9fe5-e98e6431b3b9 button.colab-df-convert');\n",
              "        buttonEl.style.display =\n",
              "          google.colab.kernel.accessAllowed ? 'block' : 'none';\n",
              "\n",
              "        async function convertToInteractive(key) {\n",
              "          const element = document.querySelector('#df-247102d3-9ce8-445f-9fe5-e98e6431b3b9');\n",
              "          const dataTable =\n",
              "            await google.colab.kernel.invokeFunction('convertToInteractive',\n",
              "                                                     [key], {});\n",
              "          if (!dataTable) return;\n",
              "\n",
              "          const docLinkHtml = 'Like what you see? Visit the ' +\n",
              "            '<a target=\"_blank\" href=https://colab.research.google.com/notebooks/data_table.ipynb>data table notebook</a>'\n",
              "            + ' to learn more about interactive tables.';\n",
              "          element.innerHTML = '';\n",
              "          dataTable['output_type'] = 'display_data';\n",
              "          await google.colab.output.renderOutput(dataTable, element);\n",
              "          const docLink = document.createElement('div');\n",
              "          docLink.innerHTML = docLinkHtml;\n",
              "          element.appendChild(docLink);\n",
              "        }\n",
              "      </script>\n",
              "    </div>\n",
              "  </div>\n",
              "  "
            ]
          },
          "metadata": {}
        }
      ],
      "source": [
        "# Read the data\n",
        "train = pd.read_csv('train.csv')\n",
        "test = pd.read_csv('test.csv')\n",
        "\n",
        "# Clear the maximum number of columns to be displayed, so that all will be visible.\n",
        "pd.set_option('display.max_columns', None)\n",
        "display(train)"
      ]
    },
    {
      "cell_type": "code",
      "execution_count": null,
      "metadata": {
        "id": "a-9nawk-RZa-"
      },
      "outputs": [],
      "source": [
        "# Generate our feature set and target set, and get rid of id from feature set\n",
        "X = train.loc[:, 'Time':'Amount']\n",
        "y = train.loc[:, 'Class']"
      ]
    },
    {
      "cell_type": "code",
      "execution_count": null,
      "metadata": {
        "colab": {
          "base_uri": "https://localhost:8080/"
        },
        "id": "B1lfVpDzRwoa",
        "outputId": "4214ddc0-0c71-460a-daba-59f12298f7c3"
      },
      "outputs": [
        {
          "output_type": "stream",
          "name": "stdout",
          "text": [
            "Shape of X training set (219129, 30) & Size of y training set (219129,)\n"
          ]
        }
      ],
      "source": [
        "print('Shape of X training set {}'.format(X.shape), '&','Size of y training set {}'.format(y.shape))"
      ]
    },
    {
      "cell_type": "code",
      "execution_count": null,
      "metadata": {
        "id": "48X8G5lhR0Y-"
      },
      "outputs": [],
      "source": [
        "# In order to test accuracy score, split the train set further. \n",
        "# If it is good enough we apply it to our assigned test set\n",
        "X_train, X_test, y_train, y_test = train_test_split(X, y, test_size=0.8, random_state=42)"
      ]
    },
    {
      "cell_type": "code",
      "execution_count": null,
      "metadata": {
        "colab": {
          "base_uri": "https://localhost:8080/",
          "height": 74
        },
        "id": "Y5xOY_ObSPzw",
        "outputId": "e41b9214-952e-41fc-bc61-5a59a6374a50"
      },
      "outputs": [
        {
          "output_type": "execute_result",
          "data": {
            "text/plain": [
              "DecisionTreeClassifier(max_depth=3, min_samples_leaf=5, random_state=42)"
            ],
            "text/html": [
              "<style>#sk-container-id-1 {color: black;background-color: white;}#sk-container-id-1 pre{padding: 0;}#sk-container-id-1 div.sk-toggleable {background-color: white;}#sk-container-id-1 label.sk-toggleable__label {cursor: pointer;display: block;width: 100%;margin-bottom: 0;padding: 0.3em;box-sizing: border-box;text-align: center;}#sk-container-id-1 label.sk-toggleable__label-arrow:before {content: \"▸\";float: left;margin-right: 0.25em;color: #696969;}#sk-container-id-1 label.sk-toggleable__label-arrow:hover:before {color: black;}#sk-container-id-1 div.sk-estimator:hover label.sk-toggleable__label-arrow:before {color: black;}#sk-container-id-1 div.sk-toggleable__content {max-height: 0;max-width: 0;overflow: hidden;text-align: left;background-color: #f0f8ff;}#sk-container-id-1 div.sk-toggleable__content pre {margin: 0.2em;color: black;border-radius: 0.25em;background-color: #f0f8ff;}#sk-container-id-1 input.sk-toggleable__control:checked~div.sk-toggleable__content {max-height: 200px;max-width: 100%;overflow: auto;}#sk-container-id-1 input.sk-toggleable__control:checked~label.sk-toggleable__label-arrow:before {content: \"▾\";}#sk-container-id-1 div.sk-estimator input.sk-toggleable__control:checked~label.sk-toggleable__label {background-color: #d4ebff;}#sk-container-id-1 div.sk-label input.sk-toggleable__control:checked~label.sk-toggleable__label {background-color: #d4ebff;}#sk-container-id-1 input.sk-hidden--visually {border: 0;clip: rect(1px 1px 1px 1px);clip: rect(1px, 1px, 1px, 1px);height: 1px;margin: -1px;overflow: hidden;padding: 0;position: absolute;width: 1px;}#sk-container-id-1 div.sk-estimator {font-family: monospace;background-color: #f0f8ff;border: 1px dotted black;border-radius: 0.25em;box-sizing: border-box;margin-bottom: 0.5em;}#sk-container-id-1 div.sk-estimator:hover {background-color: #d4ebff;}#sk-container-id-1 div.sk-parallel-item::after {content: \"\";width: 100%;border-bottom: 1px solid gray;flex-grow: 1;}#sk-container-id-1 div.sk-label:hover label.sk-toggleable__label {background-color: #d4ebff;}#sk-container-id-1 div.sk-serial::before {content: \"\";position: absolute;border-left: 1px solid gray;box-sizing: border-box;top: 0;bottom: 0;left: 50%;z-index: 0;}#sk-container-id-1 div.sk-serial {display: flex;flex-direction: column;align-items: center;background-color: white;padding-right: 0.2em;padding-left: 0.2em;position: relative;}#sk-container-id-1 div.sk-item {position: relative;z-index: 1;}#sk-container-id-1 div.sk-parallel {display: flex;align-items: stretch;justify-content: center;background-color: white;position: relative;}#sk-container-id-1 div.sk-item::before, #sk-container-id-1 div.sk-parallel-item::before {content: \"\";position: absolute;border-left: 1px solid gray;box-sizing: border-box;top: 0;bottom: 0;left: 50%;z-index: -1;}#sk-container-id-1 div.sk-parallel-item {display: flex;flex-direction: column;z-index: 1;position: relative;background-color: white;}#sk-container-id-1 div.sk-parallel-item:first-child::after {align-self: flex-end;width: 50%;}#sk-container-id-1 div.sk-parallel-item:last-child::after {align-self: flex-start;width: 50%;}#sk-container-id-1 div.sk-parallel-item:only-child::after {width: 0;}#sk-container-id-1 div.sk-dashed-wrapped {border: 1px dashed gray;margin: 0 0.4em 0.5em 0.4em;box-sizing: border-box;padding-bottom: 0.4em;background-color: white;}#sk-container-id-1 div.sk-label label {font-family: monospace;font-weight: bold;display: inline-block;line-height: 1.2em;}#sk-container-id-1 div.sk-label-container {text-align: center;}#sk-container-id-1 div.sk-container {/* jupyter's `normalize.less` sets `[hidden] { display: none; }` but bootstrap.min.css set `[hidden] { display: none !important; }` so we also need the `!important` here to be able to override the default hidden behavior on the sphinx rendered scikit-learn.org. See: https://github.com/scikit-learn/scikit-learn/issues/21755 */display: inline-block !important;position: relative;}#sk-container-id-1 div.sk-text-repr-fallback {display: none;}</style><div id=\"sk-container-id-1\" class=\"sk-top-container\"><div class=\"sk-text-repr-fallback\"><pre>DecisionTreeClassifier(max_depth=3, min_samples_leaf=5, random_state=42)</pre><b>In a Jupyter environment, please rerun this cell to show the HTML representation or trust the notebook. <br />On GitHub, the HTML representation is unable to render, please try loading this page with nbviewer.org.</b></div><div class=\"sk-container\" hidden><div class=\"sk-item\"><div class=\"sk-estimator sk-toggleable\"><input class=\"sk-toggleable__control sk-hidden--visually\" id=\"sk-estimator-id-1\" type=\"checkbox\" checked><label for=\"sk-estimator-id-1\" class=\"sk-toggleable__label sk-toggleable__label-arrow\">DecisionTreeClassifier</label><div class=\"sk-toggleable__content\"><pre>DecisionTreeClassifier(max_depth=3, min_samples_leaf=5, random_state=42)</pre></div></div></div></div></div>"
            ]
          },
          "metadata": {},
          "execution_count": 8
        }
      ],
      "source": [
        "from sklearn.tree import DecisionTreeClassifier\n",
        "clf = DecisionTreeClassifier(random_state=42, max_depth = 3, min_samples_leaf = 5)\n",
        "clf.fit(X_train, y_train)"
      ]
    },
    {
      "cell_type": "code",
      "execution_count": null,
      "metadata": {
        "id": "ZseGwXRfdT91"
      },
      "outputs": [],
      "source": [
        "y_pred = clf.predict(X_test)"
      ]
    },
    {
      "cell_type": "code",
      "execution_count": null,
      "metadata": {
        "colab": {
          "base_uri": "https://localhost:8080/"
        },
        "id": "AfQHRVAfSX5d",
        "outputId": "c9f5305c-7252-49d1-fd52-786e8b2bdef8"
      },
      "outputs": [
        {
          "output_type": "stream",
          "name": "stdout",
          "text": [
            "Accuracy: 0.9975357093962488\n"
          ]
        }
      ],
      "source": [
        "from sklearn.metrics import accuracy_score\n",
        "accuracy = accuracy_score(y_test, y_pred)\n",
        "print(\"Accuracy:\", accuracy)"
      ]
    },
    {
      "cell_type": "markdown",
      "metadata": {
        "id": "LGf3cuWAqZV9"
      },
      "source": [
        "The accuracy score is too high, and it might be because the classes are imbalanced. When a classifier that always predicts the majority class, it can achieve high accuracy even if it fails to correctly predict any examples from the minority class. In this case, other metrics such as precision, recall, F1-score or ROC AUC score may be more appropriate."
      ]
    },
    {
      "cell_type": "code",
      "execution_count": null,
      "metadata": {
        "colab": {
          "base_uri": "https://localhost:8080/"
        },
        "id": "ixxUw53Tn036",
        "outputId": "ae1c9774-fb2a-4928-c3e2-96ae53341331"
      },
      "outputs": [
        {
          "output_type": "stream",
          "name": "stdout",
          "text": [
            "ROC AUC score: 0.5269740492921959\n"
          ]
        }
      ],
      "source": [
        "# Compute ROC AOC score\n",
        "from sklearn.metrics import roc_auc_score\n",
        "y_pred_prob = clf.predict_proba(X_test)[:,1]\n",
        "roc_auc = roc_auc_score(y_test, y_pred_prob)\n",
        "print(\"ROC AUC score:\", roc_auc)"
      ]
    },
    {
      "cell_type": "markdown",
      "metadata": {
        "id": "uMtExiDFrc5H"
      },
      "source": [
        "The ROC AUC score ranges from 0.0 to 1.0, with a score of 1.0 indicating perfect classification performance and a score of 0.5 indicating random guessing. In this case, oue ROC AUC score indicates our classification performance is not efficient."
      ]
    },
    {
      "cell_type": "code",
      "execution_count": null,
      "metadata": {
        "id": "LzhP4iwESQEl"
      },
      "outputs": [],
      "source": [
        "# Predict Assigned Testing Set\n",
        "X_AssignedTest = test.loc[:, 'Time':'Amount']"
      ]
    },
    {
      "cell_type": "code",
      "execution_count": null,
      "metadata": {
        "id": "SVCNBnMPTTP-"
      },
      "outputs": [],
      "source": [
        "# y_predAssigned is our result for the real test set.\n",
        "y_predAssigned = clf.predict(X_test)"
      ]
    },
    {
      "cell_type": "code",
      "execution_count": null,
      "metadata": {
        "colab": {
          "base_uri": "https://localhost:8080/"
        },
        "id": "ItBU8ynYVQIf",
        "outputId": "2cf33949-317e-4f1d-837e-f7ae515b572c"
      },
      "outputs": [
        {
          "output_type": "stream",
          "name": "stdout",
          "text": [
            "Precision: 0.17333333333333334\n",
            "Recall: 0.033942558746736295\n",
            "F1 Score: 0.056768558951965066\n"
          ]
        }
      ],
      "source": [
        "from sklearn.metrics import precision_score, recall_score, f1_score\n",
        "\n",
        "precision = precision_score(y_test, y_pred)\n",
        "recall = recall_score(y_test, y_pred)\n",
        "f1 = f1_score(y_test, y_pred)\n",
        "\n",
        "print(\"Precision:\", precision)\n",
        "print(\"Recall:\", recall)\n",
        "print(\"F1 Score:\", f1)\n"
      ]
    },
    {
      "cell_type": "code",
      "execution_count": null,
      "metadata": {
        "colab": {
          "base_uri": "https://localhost:8080/",
          "height": 472
        },
        "id": "c3bcdcSLVxro",
        "outputId": "add89db5-074c-469c-ee84-aae0413b8a28"
      },
      "outputs": [
        {
          "output_type": "display_data",
          "data": {
            "text/plain": [
              "<Figure size 640x480 with 1 Axes>"
            ],
            "image/png": "[encoded data removed]"
          },
          "metadata": {}
        }
      ],
      "source": [
        "from sklearn.metrics import roc_curve, auc\n",
        "import matplotlib.pyplot as plt\n",
        "\n",
        "fpr, tpr, _ = roc_curve(y_test, y_pred_prob)\n",
        "roc_auc = auc(fpr, tpr)\n",
        "\n",
        "plt.figure()\n",
        "lw = 2\n",
        "plt.plot(fpr, tpr, color='darkorange',\n",
        "         lw=lw, label='ROC curve (area = %0.2f)' % roc_auc)\n",
        "plt.plot([0, 1], [0, 1], color='navy', lw=lw, linestyle='--')\n",
        "plt.xlim([0.0, 1.0])\n",
        "plt.ylim([0.0, 1.05])\n",
        "plt.xlabel('False Positive Rate')\n",
        "plt.ylabel('True Positive Rate')\n",
        "plt.title('Receiver Operating Characteristic')\n",
        "plt.legend(loc=\"lower right\")\n",
        "plt.show()\n"
      ]
    },
    {
      "cell_type": "code",
      "execution_count": null,
      "metadata": {
        "colab": {
          "base_uri": "https://localhost:8080/",
          "height": 449
        },
        "id": "Mz3KJqSaV9J7",
        "outputId": "2b4843fd-a157-4909-c254-a6a6494f1602"
      },
      "outputs": [
        {
          "output_type": "display_data",
          "data": {
            "text/plain": [
              "<Figure size 640x480 with 1 Axes>"
            ],
            "image/png": "[encoded data removed]"
          },
          "metadata": {}
        }
      ],
      "source": [
        "from sklearn.metrics import confusion_matrix\n",
        "import seaborn as sns\n",
        "\n",
        "cm = confusion_matrix(y_test, y_pred)\n",
        "sns.heatmap(cm, annot=True, fmt='d', cmap='Blues', cbar=False)\n",
        "plt.xlabel('Predicted')\n",
        "plt.ylabel('True')\n",
        "plt.show()\n"
      ]
    },
    {
      "cell_type": "markdown",
      "metadata": {
        "id": "WiDNgEHYU5fm"
      },
      "source": [
        "Modelling Random Forest\n",
        "\n",
        "\n"
      ]
    },
    {
      "cell_type": "code",
      "execution_count": null,
      "metadata": {
        "id": "vF_Zt_HPVc40"
      },
      "outputs": [],
      "source": [
        "from sklearn.ensemble import RandomForestClassifier\n",
        "import matplotlib.pyplot as plt"
      ]
    },
    {
      "cell_type": "code",
      "execution_count": null,
      "metadata": {
        "id": "O6Rrfja2VhOw"
      },
      "outputs": [],
      "source": [
        "# Deifine the random forest classifier\n",
        "rf = RandomForestClassifier(n_estimators = 100, random_state = 42)"
      ]
    },
    {
      "cell_type": "code",
      "execution_count": null,
      "metadata": {
        "colab": {
          "base_uri": "https://localhost:8080/",
          "height": 74
        },
        "id": "PCXUOXpEVode",
        "outputId": "eaf1164a-83b5-465a-da0a-45fe9893d9e9"
      },
      "outputs": [
        {
          "output_type": "execute_result",
          "data": {
            "text/plain": [
              "RandomForestClassifier(random_state=42)"
            ],
            "text/html": [
              "<style>#sk-container-id-2 {color: black;background-color: white;}#sk-container-id-2 pre{padding: 0;}#sk-container-id-2 div.sk-toggleable {background-color: white;}#sk-container-id-2 label.sk-toggleable__label {cursor: pointer;display: block;width: 100%;margin-bottom: 0;padding: 0.3em;box-sizing: border-box;text-align: center;}#sk-container-id-2 label.sk-toggleable__label-arrow:before {content: \"▸\";float: left;margin-right: 0.25em;color: #696969;}#sk-container-id-2 label.sk-toggleable__label-arrow:hover:before {color: black;}#sk-container-id-2 div.sk-estimator:hover label.sk-toggleable__label-arrow:before {color: black;}#sk-container-id-2 div.sk-toggleable__content {max-height: 0;max-width: 0;overflow: hidden;text-align: left;background-color: #f0f8ff;}#sk-container-id-2 div.sk-toggleable__content pre {margin: 0.2em;color: black;border-radius: 0.25em;background-color: #f0f8ff;}#sk-container-id-2 input.sk-toggleable__control:checked~div.sk-toggleable__content {max-height: 200px;max-width: 100%;overflow: auto;}#sk-container-id-2 input.sk-toggleable__control:checked~label.sk-toggleable__label-arrow:before {content: \"▾\";}#sk-container-id-2 div.sk-estimator input.sk-toggleable__control:checked~label.sk-toggleable__label {background-color: #d4ebff;}#sk-container-id-2 div.sk-label input.sk-toggleable__control:checked~label.sk-toggleable__label {background-color: #d4ebff;}#sk-container-id-2 input.sk-hidden--visually {border: 0;clip: rect(1px 1px 1px 1px);clip: rect(1px, 1px, 1px, 1px);height: 1px;margin: -1px;overflow: hidden;padding: 0;position: absolute;width: 1px;}#sk-container-id-2 div.sk-estimator {font-family: monospace;background-color: #f0f8ff;border: 1px dotted black;border-radius: 0.25em;box-sizing: border-box;margin-bottom: 0.5em;}#sk-container-id-2 div.sk-estimator:hover {background-color: #d4ebff;}#sk-container-id-2 div.sk-parallel-item::after {content: \"\";width: 100%;border-bottom: 1px solid gray;flex-grow: 1;}#sk-container-id-2 div.sk-label:hover label.sk-toggleable__label {background-color: #d4ebff;}#sk-container-id-2 div.sk-serial::before {content: \"\";position: absolute;border-left: 1px solid gray;box-sizing: border-box;top: 0;bottom: 0;left: 50%;z-index: 0;}#sk-container-id-2 div.sk-serial {display: flex;flex-direction: column;align-items: center;background-color: white;padding-right: 0.2em;padding-left: 0.2em;position: relative;}#sk-container-id-2 div.sk-item {position: relative;z-index: 1;}#sk-container-id-2 div.sk-parallel {display: flex;align-items: stretch;justify-content: center;background-color: white;position: relative;}#sk-container-id-2 div.sk-item::before, #sk-container-id-2 div.sk-parallel-item::before {content: \"\";position: absolute;border-left: 1px solid gray;box-sizing: border-box;top: 0;bottom: 0;left: 50%;z-index: -1;}#sk-container-id-2 div.sk-parallel-item {display: flex;flex-direction: column;z-index: 1;position: relative;background-color: white;}#sk-container-id-2 div.sk-parallel-item:first-child::after {align-self: flex-end;width: 50%;}#sk-container-id-2 div.sk-parallel-item:last-child::after {align-self: flex-start;width: 50%;}#sk-container-id-2 div.sk-parallel-item:only-child::after {width: 0;}#sk-container-id-2 div.sk-dashed-wrapped {border: 1px dashed gray;margin: 0 0.4em 0.5em 0.4em;box-sizing: border-box;padding-bottom: 0.4em;background-color: white;}#sk-container-id-2 div.sk-label label {font-family: monospace;font-weight: bold;display: inline-block;line-height: 1.2em;}#sk-container-id-2 div.sk-label-container {text-align: center;}#sk-container-id-2 div.sk-container {/* jupyter's `normalize.less` sets `[hidden] { display: none; }` but bootstrap.min.css set `[hidden] { display: none !important; }` so we also need the `!important` here to be able to override the default hidden behavior on the sphinx rendered scikit-learn.org. See: https://github.com/scikit-learn/scikit-learn/issues/21755 */display: inline-block !important;position: relative;}#sk-container-id-2 div.sk-text-repr-fallback {display: none;}</style><div id=\"sk-container-id-2\" class=\"sk-top-container\"><div class=\"sk-text-repr-fallback\"><pre>RandomForestClassifier(random_state=42)</pre><b>In a Jupyter environment, please rerun this cell to show the HTML representation or trust the notebook. <br />On GitHub, the HTML representation is unable to render, please try loading this page with nbviewer.org.</b></div><div class=\"sk-container\" hidden><div class=\"sk-item\"><div class=\"sk-estimator sk-toggleable\"><input class=\"sk-toggleable__control sk-hidden--visually\" id=\"sk-estimator-id-2\" type=\"checkbox\" checked><label for=\"sk-estimator-id-2\" class=\"sk-toggleable__label sk-toggleable__label-arrow\">RandomForestClassifier</label><div class=\"sk-toggleable__content\"><pre>RandomForestClassifier(random_state=42)</pre></div></div></div></div></div>"
            ]
          },
          "metadata": {},
          "execution_count": 19
        }
      ],
      "source": [
        "# Fit the random forest to the training data\n",
        "rf.fit(X_train, y_train)"
      ]
    },
    {
      "cell_type": "code",
      "execution_count": null,
      "metadata": {
        "colab": {
          "base_uri": "https://localhost:8080/"
        },
        "id": "Bb1DWq78Vsba",
        "outputId": "b95f8ca4-b91f-4cd3-8ad0-1e676b16aa99"
      },
      "outputs": [
        {
          "output_type": "stream",
          "name": "stdout",
          "text": [
            "Test score: 0.9978152238397299\n"
          ]
        }
      ],
      "source": [
        "# Evaluate the random forest on the test data\n",
        "score = rf.score(X_test, y_test)\n",
        "print(\"Test score:\", score)"
      ]
    },
    {
      "cell_type": "code",
      "execution_count": null,
      "metadata": {
        "colab": {
          "base_uri": "https://localhost:8080/"
        },
        "id": "FLS-Vmokotl4",
        "outputId": "9c29a204-1875-4fa6-eaaa-8126d910a9c7"
      },
      "outputs": [
        {
          "output_type": "stream",
          "name": "stdout",
          "text": [
            "ROC AUC score: 0.6879169384976968\n"
          ]
        }
      ],
      "source": [
        "# Compute ROC AOC score\n",
        "from sklearn.metrics import roc_auc_score\n",
        "y_pred_prob = rf.predict_proba(X_test)[:,1]\n",
        "roc_auc = roc_auc_score(y_test, y_pred_prob)\n",
        "print(\"ROC AUC score:\", roc_auc)"
      ]
    },
    {
      "cell_type": "markdown",
      "metadata": {
        "id": "ZTJcoCpqpOJr"
      },
      "source": [
        "The ROC AUC score is exactly same with the once obtained through decision tree.\n",
        "It might suggest that decision tree and random forest are essentially similar mechanisms for classification. "
      ]
    },
    {
      "cell_type": "code",
      "execution_count": null,
      "metadata": {
        "id": "rGh0xf08V40H"
      },
      "outputs": [],
      "source": [
        "# Obtain feature importances\n",
        "importances = rf.feature_importances_"
      ]
    },
    {
      "cell_type": "code",
      "execution_count": null,
      "metadata": {
        "id": "2iafW8LgV8Uc"
      },
      "outputs": [],
      "source": [
        "# Sort the feature importances in descending order\n",
        "indices = np.argsort(importances)[::-1]"
      ]
    },
    {
      "cell_type": "code",
      "execution_count": null,
      "metadata": {
        "colab": {
          "base_uri": "https://localhost:8080/"
        },
        "id": "_PIFljSPV9R2",
        "outputId": "edbd9e53-b738-4d43-a472-42e52fa998dd"
      },
      "outputs": [
        {
          "output_type": "stream",
          "name": "stdout",
          "text": [
            "Feature ranking\n",
            "1.feature 17 (0.053526)\n",
            "2.feature 14 (0.045437)\n",
            "3.feature 16 (0.040509)\n",
            "4.feature 26 (0.040349)\n",
            "5.feature 9 (0.039922)\n",
            "6.feature 10 (0.039351)\n",
            "7.feature 8 (0.038587)\n",
            "8.feature 6 (0.038475)\n",
            "9.feature 12 (0.035266)\n",
            "10.feature 19 (0.034523)\n",
            "11.feature 21 (0.033882)\n",
            "12.feature 22 (0.033074)\n",
            "13.feature 1 (0.033058)\n",
            "14.feature 15 (0.032987)\n",
            "15.feature 25 (0.032730)\n",
            "16.feature 13 (0.032501)\n",
            "17.feature 0 (0.032478)\n",
            "18.feature 2 (0.031333)\n",
            "19.feature 4 (0.031330)\n",
            "20.feature 24 (0.031127)\n",
            "21.feature 3 (0.030804)\n",
            "22.feature 18 (0.030032)\n",
            "23.feature 5 (0.030029)\n",
            "24.feature 11 (0.028907)\n",
            "25.feature 28 (0.028712)\n",
            "26.feature 7 (0.027684)\n",
            "27.feature 29 (0.025738)\n",
            "28.feature 20 (0.025437)\n",
            "29.feature 23 (0.021759)\n",
            "30.feature 27 (0.020455)\n"
          ]
        }
      ],
      "source": [
        "# Print the feature ranking\n",
        "print(\"Feature ranking\")\n",
        "for f in range(X_train.shape[1]):\n",
        "    print(\"%d.feature %d (%f)\" % (f + 1, indices[f], importances[indices[f]]))"
      ]
    },
    {
      "cell_type": "code",
      "execution_count": null,
      "metadata": {
        "colab": {
          "base_uri": "https://localhost:8080/",
          "height": 452
        },
        "id": "wm8tqTyIWME5",
        "outputId": "8280a136-4b6f-4d12-bf9b-cc3f718bea50"
      },
      "outputs": [
        {
          "output_type": "display_data",
          "data": {
            "text/plain": [
              "<Figure size 640x480 with 1 Axes>"
            ],
            "image/png": "[encoded data removed]"
          },
          "metadata": {}
        }
      ],
      "source": [
        "# Sort the feature importances in descending order\n",
        "plt.figure()\n",
        "plt.title(\"Feature importances\")\n",
        "plt.bar(range(X_train.shape[1]), importances[indices], color=\"g\", align=\"center\")\n",
        "plt.xlim([-1, X_train.shape[1]])\n",
        "plt.show()"
      ]
    },
    {
      "cell_type": "code",
      "execution_count": null,
      "metadata": {
        "colab": {
          "base_uri": "https://localhost:8080/"
        },
        "id": "6J05G7Y5hkNh",
        "outputId": "c7da9d2f-5195-4c7c-b739-38754301451a"
      },
      "outputs": [
        {
          "output_type": "stream",
          "name": "stdout",
          "text": [
            "ROC AUC score: 0.6879169384976968\n"
          ]
        }
      ],
      "source": [
        "# Compute ROC AUC score\n",
        "from sklearn.metrics import roc_auc_score\n",
        "y_pred_prob = rf.predict_proba(X_test)[:,1]\n",
        "roc_auc = roc_auc_score(y_test, y_pred_prob)\n",
        "print(\"ROC AUC score:\", roc_auc)\n"
      ]
    },
    {
      "cell_type": "code",
      "execution_count": null,
      "metadata": {
        "colab": {
          "base_uri": "https://localhost:8080/"
        },
        "id": "y3348zCDhoUF",
        "outputId": "80ff0e7a-25f6-4094-db4d-c9cb295e320f"
      },
      "outputs": [
        {
          "output_type": "stream",
          "name": "stdout",
          "text": [
            "Accuracy: 0.9978152238397299\n",
            "Precision: 0.0\n",
            "Recall: 0.0\n",
            "F1-score: 0.0\n"
          ]
        },
        {
          "output_type": "stream",
          "name": "stderr",
          "text": [
            "/usr/local/lib/python3.9/dist-packages/sklearn/metrics/_classification.py:1344: UndefinedMetricWarning: Precision is ill-defined and being set to 0.0 due to no predicted samples. Use `zero_division` parameter to control this behavior.\n",
            "  _warn_prf(average, modifier, msg_start, len(result))\n"
          ]
        }
      ],
      "source": [
        "from sklearn.metrics import accuracy_score, precision_score, recall_score, f1_score\n",
        "\n",
        "# Make predictions\n",
        "y_pred = rf.predict(X_test)\n",
        "\n",
        "# Calculate metrics\n",
        "accuracy = accuracy_score(y_test, y_pred)\n",
        "precision = precision_score(y_test, y_pred)\n",
        "recall = recall_score(y_test, y_pred)\n",
        "f1 = f1_score(y_test, y_pred)\n",
        "\n",
        "# Print the metrics\n",
        "print(\"Accuracy:\", accuracy)\n",
        "print(\"Precision:\", precision)\n",
        "print(\"Recall:\", recall)\n",
        "print(\"F1-score:\", f1)\n"
      ]
    },
    {
      "cell_type": "code",
      "execution_count": null,
      "metadata": {
        "colab": {
          "base_uri": "https://localhost:8080/",
          "height": 472
        },
        "id": "gfMm8N7lXslZ",
        "outputId": "03edddf6-e534-4edf-e35c-3571a65f926c"
      },
      "outputs": [
        {
          "output_type": "display_data",
          "data": {
            "text/plain": [
              "<Figure size 640x480 with 1 Axes>"
            ],
            "image/png": "[encoded data removed]"
          },
          "metadata": {}
        }
      ],
      "source": [
        "from sklearn.metrics import roc_curve, auc\n",
        "\n",
        "fpr, tpr, _ = roc_curve(y_test, y_pred_prob)\n",
        "roc_auc = auc(fpr, tpr)\n",
        "\n",
        "plt.figure()\n",
        "lw = 2\n",
        "plt.plot(fpr, tpr, color='darkorange',\n",
        "         lw=lw, label='ROC curve (area = %0.2f)' % roc_auc)\n",
        "plt.plot([0, 1], [0, 1], color='navy', lw=lw, linestyle='--')\n",
        "plt.xlim([0.0, 1.0])\n",
        "plt.ylim([0.0, 1.05])\n",
        "plt.xlabel('False Positive Rate')\n",
        "plt.ylabel('True Positive Rate')\n",
        "plt.title('Receiver Operating Characteristic')\n",
        "plt.legend(loc=\"lower right\")\n",
        "plt.show()\n",
        "\n"
      ]
    },
    {
      "cell_type": "code",
      "execution_count": null,
      "metadata": {
        "colab": {
          "base_uri": "https://localhost:8080/",
          "height": 449
        },
        "id": "umiUeqnJX15s",
        "outputId": "d70dbebb-2436-4586-ae70-a905d66a3542"
      },
      "outputs": [
        {
          "output_type": "display_data",
          "data": {
            "text/plain": [
              "<Figure size 640x480 with 1 Axes>"
            ],
            "image/png": "[encoded data removed]"
          },
          "metadata": {}
        }
      ],
      "source": [
        "from sklearn.metrics import confusion_matrix\n",
        "import seaborn as sns\n",
        "\n",
        "cm = confusion_matrix(y_test, y_pred)\n",
        "sns.heatmap(cm, annot=True, fmt='d', cmap='Blues', cbar=False)\n",
        "plt.xlabel('Predicted')\n",
        "plt.ylabel('True')\n",
        "plt.show()\n",
        "\n"
      ]
    },
    {
      "cell_type": "code",
      "execution_count": null,
      "metadata": {
        "colab": {
          "base_uri": "https://localhost:8080/",
          "height": 472
        },
        "id": "Sg1UxDnQZP9v",
        "outputId": "5601fc57-0797-40e1-d1ec-91e87d542334"
      },
      "outputs": [
        {
          "output_type": "display_data",
          "data": {
            "text/plain": [
              "<Figure size 640x480 with 1 Axes>"
            ],
            "image/png": "[encoded data removed]"
          },
          "metadata": {}
        }
      ],
      "source": [
        "from sklearn.metrics import precision_recall_curve, average_precision_score\n",
        "\n",
        "precision, recall, _ = precision_recall_curve(y_test, y_pred_prob)\n",
        "average_precision = average_precision_score(y_test, y_pred_prob)\n",
        "\n",
        "plt.figure()\n",
        "plt.step(recall, precision, where='post')\n",
        "plt.xlabel('Recall')\n",
        "plt.ylabel('Precision')\n",
        "plt.title('Precision-Recall curve: AP={0:0.2f}'.format(average_precision))\n",
        "plt.show()\n"
      ]
    }
  ],
  "metadata": {
    "colab": {
      "collapsed_sections": [
        "QnQ-tTJGRGfR"
      ],
      "provenance": []
    },
    "kernelspec": {
      "display_name": "Python 3",
      "language": "python",
      "name": "python3"
    },
    "language_info": {
      "codemirror_mode": {
        "name": "ipython",
        "version": 3
      },
      "file_extension": ".py",
      "mimetype": "text/x-python",
      "name": "python",
      "nbconvert_exporter": "python",
      "pygments_lexer": "ipython3",
      "version": "3.7.3"
    }
  },
  "nbformat": 4,
  "nbformat_minor": 0
}